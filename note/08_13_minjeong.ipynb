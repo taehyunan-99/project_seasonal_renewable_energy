{
 "cells": [
  {
   "cell_type": "markdown",
   "id": "6586578f",
   "metadata": {},
   "source": [
    "### 풍력 에너지 발전량"
   ]
  },
  {
   "cell_type": "code",
   "execution_count": 2,
   "id": "8e3b6ad1",
   "metadata": {},
   "outputs": [],
   "source": [
    "import numpy as np\n",
    "import pandas as pd\n",
    "import matplotlib.pyplot as plt\n",
    "import seaborn as sns"
   ]
  },
  {
   "cell_type": "code",
   "execution_count": 3,
   "id": "62f8c483",
   "metadata": {},
   "outputs": [],
   "source": [
    "# 폰트 깨짐 방지\n",
    "plt.rcParams['font.family'] = 'Malgun Gothic'  # '맑은 고딕'이 설치되어 있을 경우\n",
    "plt.rcParams['axes.unicode_minus'] = False     # 마이너스(-) 부호 깨짐 방지"
   ]
  },
  {
   "cell_type": "code",
   "execution_count": 4,
   "id": "244df81f",
   "metadata": {},
   "outputs": [
    {
     "name": "stdout",
     "output_type": "stream",
     "text": [
      "   신재생에너지현황별(1)     2019     2020     2021     2022     2023\n",
      "0  신재생에너지현황별(1)       전국       전국       전국       전국       전국\n",
      "1  에너지생산량 (toe)   570816   671072   677507   717864   722687\n",
      "2     발전량 (MWh)  2679158  3149798  3180017  3369458  3392165\n"
     ]
    }
   ],
   "source": [
    "# 풍력 데이터 불러오기\n",
    "df = pd.read_csv('Wind_Power_generation_2025_08_13_minj.csv')\n",
    "# 데이터 앞에서 (최대 5개) 나타내기\n",
    "print(df.head())"
   ]
  },
  {
   "cell_type": "code",
   "execution_count": null,
   "id": "a53065b1",
   "metadata": {},
   "outputs": [
    {
     "name": "stdout",
     "output_type": "stream",
     "text": [
      "신재생에너지현황별(1)    에너지생산량 (toe)\n",
      "2019                  570816\n",
      "2020                  671072\n",
      "2021                  677507\n",
      "2022                  717864\n",
      "2023                  722687\n",
      "Name: 1, dtype: object\n"
     ]
    }
   ],
   "source": [
    "# x를 년도로 놓고 y1는 에너지 생산량의 년도별 총량, y2는 빌전량의 총량 \n",
    "df = pd.read_csv('Wind_Power_generation_2025_08_13_minj.csv')\n",
    "x=[]\n",
    "for i in df.columns:\n",
    "    x.append(i)\n",
    "y1 = df.loc[1]\n",
    "y2 =  \n",
    "print(y)"
   ]
  },
  {
   "cell_type": "code",
   "execution_count": null,
   "id": "597e6460",
   "metadata": {},
   "outputs": [],
   "source": [
    "sun_2019 = df.iloc[:,:19]\n",
    "sun_2020 = df.iloc[:,19:37]\n",
    "sun_2021 = df.iloc[:,37:55]\n",
    "sun_2022 = df.iloc[:,55:73]\n",
    "sun_2023 = df.iloc[:,73:91]"
   ]
  }
 ],
 "metadata": {
  "kernelspec": {
   "display_name": "data_analysis",
   "language": "python",
   "name": "python3"
  },
  "language_info": {
   "codemirror_mode": {
    "name": "ipython",
    "version": 3
   },
   "file_extension": ".py",
   "mimetype": "text/x-python",
   "name": "python",
   "nbconvert_exporter": "python",
   "pygments_lexer": "ipython3",
   "version": "3.13.5"
  }
 },
 "nbformat": 4,
 "nbformat_minor": 5
}
