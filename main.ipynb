{
 "cells": [
  {
   "cell_type": "code",
   "execution_count": 1,
   "id": "e7544437",
   "metadata": {},
   "outputs": [],
   "source": [
    "# 라이브러리 모음\n",
    "import numpy as np\n",
    "import pandas as pd\n",
    "import matplotlib\n",
    "import matplotlib.pyplot as plt\n",
    "import seaborn as sns\n",
    "import folium\n",
    "\n",
    "# 모듈 모음\n",
    "import modules as mds"
   ]
  },
  {
   "cell_type": "code",
   "execution_count": 8,
   "id": "00df1a89",
   "metadata": {},
   "outputs": [],
   "source": [
    "# 누적 설비용량 데이터 정리\n",
    "\n",
    "# 누적 / 연도별 데이터 불러오기\n",
    "data_total = pd.read_excel(\"dataset/지역별_누적_설비용량.xlsx\")\n",
    "data_2024 = pd.read_excel(\"dataset/2024년도_신규_설비용량.xlsx\")\n",
    "data_2023 = pd.read_excel(\"dataset/2023년도_신규_설비용량.xlsx\")\n",
    "data_2022 = pd.read_excel(\"dataset/2022년도_신규_설비용량.xlsx\")\n",
    "data_2021 = pd.read_excel(\"dataset/2021년도_신규_설비용량.xlsx\")\n",
    "\n",
    "# 데이터프레임으로 변환\n",
    "# ic = Installed Capacity = 설비용량\n",
    "ic_total = pd.DataFrame(data_total)\n",
    "ic_2024 = pd.DataFrame(data_2024)\n",
    "ic_2023 = pd.DataFrame(data_2023)\n",
    "ic_2022 = pd.DataFrame(data_2022)\n",
    "ic_2021 = pd.DataFrame(data_2021)\n",
    "\n",
    "# 숫자의 ',' 때문에 object 값이었던 데이터들을 int 값으로 변환\n",
    "mds.delete_comma(ic_total)\n",
    "mds.delete_comma(ic_2024)\n",
    "mds.delete_comma(ic_2023)\n",
    "mds.delete_comma(ic_2022)\n",
    "mds.delete_comma(ic_2021)\n",
    "\n",
    "# 컴럼 통일화를 위해 capacity_total에 \"합계\" 컬럼 추가\n",
    "ic_total[\"합계\"] = ic_total.sum(axis=1, numeric_only=True)\n",
    "\n",
    "# 하나의 DataFrame으로 병합\n",
    "ic_total = pd.concat([ic_total, ic_2024, ic_2023, ic_2022, ic_2021], ignore_index=True)\n",
    "\n",
    "# 각 연도별 누적값 계산\n",
    "for i in range(1, len(ic_total)):\n",
    "    ic_total.iloc[i, 1:] = ic_total.iloc[i-1, 1:] - ic_total.iloc[i, 1:]\n",
    "\n",
    "# 연도 정리\n",
    "ic_total.rename(columns={\"Unnamed: 0\": \"연도\"}, inplace=True)\n",
    "ic_total[\"연도\"] = [2024, 2023, 2022, 2021, 2020]\n",
    "\n",
    "# 오름차순 정렬 (주석 처리 시 내림차순)\n",
    "# ic_total.sort_values(by=\"연도\", inplace=True)\n",
    "# ic_total.reset_index(drop=True, inplace=True)\n",
    "\n",
    "# 2020~2024 각 연도의 지역별 누적 설비용량\n",
    "ic_total.head()\n",
    "\n",
    "ic_total.to_excel(\"dataset/지역별_연도별_설비용량.xlsx\", index=False, engine=\"openpyxl\")\n"
   ]
  },
  {
   "cell_type": "code",
   "execution_count": 9,
   "id": "33295105",
   "metadata": {},
   "outputs": [],
   "source": [
    "# 누적 발전량 데이터 정리\n",
    "\n",
    "# 누적 / 연도별 데이터 불러오기\n",
    "data_total_2022 = pd.read_excel(\"dataset/지역별_누적_발전량.xlsx\")\n",
    "data_2024 = pd.read_excel(\"dataset/2024년_신규_발전량.xlsx\")\n",
    "data_2023 = pd.read_excel(\"dataset/2023년_신규_발전량.xlsx\")\n",
    "data_2022 = pd.read_excel(\"dataset/2022년_신규_발전량.xlsx\")\n",
    "data_2021 = pd.read_excel(\"dataset/2021년_신규_발전량.xlsx\")\n",
    "\n",
    "# 데이터프레임으로 변환\n",
    "# gen = Power Generation = 발전량\n",
    "gen_total_2022 = pd.DataFrame(data_total_2022)\n",
    "gen_2024 = pd.DataFrame(data_2024)\n",
    "gen_2023 = pd.DataFrame(data_2023)\n",
    "gen_2022 = pd.DataFrame(data_2022)\n",
    "gen_2021 = pd.DataFrame(data_2021)\n",
    "\n",
    "# 열과 행 전치\n",
    "gen_2024 = gen_2024.T.reset_index(drop=True)\n",
    "gen_2023 = gen_2023.T.reset_index(drop=True)\n",
    "gen_2022 = gen_2022.T.reset_index(drop=True)\n",
    "gen_2021 = gen_2021.T.reset_index(drop=True)\n",
    "\n",
    "# 컴럼 정리\n",
    "gen_2024.columns = gen_2024.iloc[0]\n",
    "gen_2024.drop(labels=gen_2024.index[0], axis=0, inplace=True)\n",
    "gen_2023.columns = gen_2023.iloc[0]\n",
    "gen_2023.drop(labels=gen_2023.index[0], axis=0, inplace=True)\n",
    "gen_2022.columns = gen_2022.iloc[0]\n",
    "gen_2022.drop(labels=gen_2022.index[0], axis=0, inplace=True)\n",
    "gen_2021.columns = gen_2021.iloc[0]\n",
    "gen_2021.drop(labels=gen_2021.index[0], axis=0, inplace=True)\n",
    "\n",
    "\n",
    "# 연도 컬럼 추가\n",
    "gen_2024.insert(0, \"연도\", np.nan)\n",
    "gen_2023.insert(0, \"연도\", np.nan)\n",
    "gen_2022.insert(0, \"연도\", np.nan)\n",
    "gen_2021.insert(0, \"연도\", np.nan)\n",
    "\n",
    "# 숫자의 ',' 때문에 object 값이었던 데이터들을 int 값으로 변환\n",
    "mds.delete_comma(gen_total_2022)\n",
    "mds.delete_comma(gen_2024)\n",
    "mds.delete_comma(gen_2023)\n",
    "mds.delete_comma(gen_2022)\n",
    "mds.delete_comma(gen_2021)\n",
    "\n",
    "# 월별 데이터 연도별 데이터로 변환\n",
    "gen_2024 = pd.DataFrame(gen_2024.sum()).T\n",
    "gen_2023 = pd.DataFrame(gen_2023.sum()).T\n",
    "gen_2022 = pd.DataFrame(gen_2022.sum()).T\n",
    "gen_2021 = pd.DataFrame(gen_2021.sum()).T\n",
    "\n",
    "# \"합계\" 컬럼 추가\n",
    "gen_2024[\"합계\"] = gen_2024.sum(axis=1, numeric_only=True)\n",
    "gen_2023[\"합계\"] = gen_2023.sum(axis=1, numeric_only=True)\n",
    "gen_2022[\"합계\"] = gen_2022.sum(axis=1, numeric_only=True)\n",
    "gen_2021[\"합계\"] = gen_2021.sum(axis=1, numeric_only=True)\n",
    "\n",
    "# # 하나의 DataFrame으로 병합\n",
    "gen_total = pd.concat([gen_2024, gen_2023, gen_total_2022, gen_2022, gen_2021], ignore_index=True)\n",
    "\n",
    "# 연도 정리\n",
    "gen_total = gen_total.drop(gen_total.columns[-1], axis=1)\n",
    "gen_total.rename(columns={\"지역\": \"연도\"}, inplace=True)\n",
    "gen_total[\"연도\"] = [2024, 2023, 2022, 2021, 2020]\n",
    "\n",
    "# 소수점 제거\n",
    "gen_total = gen_total.astype(int)\n",
    "\n",
    "# # 각 연도별 누적값 계산\n",
    "gen_total.iloc[1, 1:] = gen_total.iloc[2, 1:] + gen_total.iloc[1, 1:] # 2023 계산\n",
    "gen_total.iloc[0, 1:] = gen_total.iloc[1, 1:] + gen_total.iloc[0, 1:] # 2024 계산\n",
    "gen_total.iloc[3, 1:] = gen_total.iloc[2, 1:] - gen_total.iloc[3, 1:] # 2021 계산\n",
    "gen_total.iloc[4, 1:] = gen_total.iloc[3, 1:] - gen_total.iloc[4, 1:] # 2020 계산\n",
    "\n",
    "\n",
    "# # 오름차순 정렬 (주석 처리 시 내림차순)\n",
    "# # gen_total.sort_values(by=\"연도\", inplace=True)\n",
    "# # gen_total.reset_index(drop=True, inplace=True)\n",
    "\n",
    "# # 2020~2024 각 연도의 지역별 누적 발전량\n",
    "gen_total.head()\n",
    "\n",
    "gen_total.to_excel(\"dataset/지역별_연도별_발전량.xlsx\", index=False, engine=\"openpyxl\")"
   ]
  },
  {
   "cell_type": "code",
   "execution_count": 76,
   "id": "d44570ab",
   "metadata": {},
   "outputs": [
    {
     "data": {
      "application/vnd.plotly.v1+json": {
       "config": {
        "plotlyServerURL": "https://plot.ly"
       },
       "data": [
        {
         "hovertemplate": "연도=%{x}<br>평균 발전량(MWh)=%{text}<extra></extra>",
         "legendgroup": "",
         "marker": {
          "color": "#636efa",
          "pattern": {
           "shape": ""
          }
         },
         "name": "",
         "orientation": "v",
         "showlegend": false,
         "text": {
          "bdata": "AAAAgMOyRUEAAACAQgFPQQAAAEArTVVBAAAAAMGbW0EAAABg9F5hQQ==",
          "dtype": "f8"
         },
         "textposition": "outside",
         "texttemplate": "%{text:,.0f}",
         "type": "bar",
         "x": {
          "bdata": "5AflB+YH5wfoBw==",
          "dtype": "i2"
         },
         "xaxis": "x",
         "y": {
          "bdata": "AAAAgMOyRUEAAACAQgFPQQAAAEArTVVBAAAAAMGbW0EAAABg9F5hQQ==",
          "dtype": "f8"
         },
         "yaxis": "y"
        }
       ],
       "layout": {
        "barmode": "relative",
        "height": 800,
        "legend": {
         "tracegroupgap": 0
        },
        "margin": {
         "b": 60,
         "l": 40,
         "r": 40,
         "t": 80
        },
        "template": {
         "data": {
          "bar": [
           {
            "error_x": {
             "color": "#2a3f5f"
            },
            "error_y": {
             "color": "#2a3f5f"
            },
            "marker": {
             "line": {
              "color": "white",
              "width": 0.5
             },
             "pattern": {
              "fillmode": "overlay",
              "size": 10,
              "solidity": 0.2
             }
            },
            "type": "bar"
           }
          ],
          "barpolar": [
           {
            "marker": {
             "line": {
              "color": "white",
              "width": 0.5
             },
             "pattern": {
              "fillmode": "overlay",
              "size": 10,
              "solidity": 0.2
             }
            },
            "type": "barpolar"
           }
          ],
          "carpet": [
           {
            "aaxis": {
             "endlinecolor": "#2a3f5f",
             "gridcolor": "#C8D4E3",
             "linecolor": "#C8D4E3",
             "minorgridcolor": "#C8D4E3",
             "startlinecolor": "#2a3f5f"
            },
            "baxis": {
             "endlinecolor": "#2a3f5f",
             "gridcolor": "#C8D4E3",
             "linecolor": "#C8D4E3",
             "minorgridcolor": "#C8D4E3",
             "startlinecolor": "#2a3f5f"
            },
            "type": "carpet"
           }
          ],
          "choropleth": [
           {
            "colorbar": {
             "outlinewidth": 0,
             "ticks": ""
            },
            "type": "choropleth"
           }
          ],
          "contour": [
           {
            "colorbar": {
             "outlinewidth": 0,
             "ticks": ""
            },
            "colorscale": [
             [
              0,
              "#0d0887"
             ],
             [
              0.1111111111111111,
              "#46039f"
             ],
             [
              0.2222222222222222,
              "#7201a8"
             ],
             [
              0.3333333333333333,
              "#9c179e"
             ],
             [
              0.4444444444444444,
              "#bd3786"
             ],
             [
              0.5555555555555556,
              "#d8576b"
             ],
             [
              0.6666666666666666,
              "#ed7953"
             ],
             [
              0.7777777777777778,
              "#fb9f3a"
             ],
             [
              0.8888888888888888,
              "#fdca26"
             ],
             [
              1,
              "#f0f921"
             ]
            ],
            "type": "contour"
           }
          ],
          "contourcarpet": [
           {
            "colorbar": {
             "outlinewidth": 0,
             "ticks": ""
            },
            "type": "contourcarpet"
           }
          ],
          "heatmap": [
           {
            "colorbar": {
             "outlinewidth": 0,
             "ticks": ""
            },
            "colorscale": [
             [
              0,
              "#0d0887"
             ],
             [
              0.1111111111111111,
              "#46039f"
             ],
             [
              0.2222222222222222,
              "#7201a8"
             ],
             [
              0.3333333333333333,
              "#9c179e"
             ],
             [
              0.4444444444444444,
              "#bd3786"
             ],
             [
              0.5555555555555556,
              "#d8576b"
             ],
             [
              0.6666666666666666,
              "#ed7953"
             ],
             [
              0.7777777777777778,
              "#fb9f3a"
             ],
             [
              0.8888888888888888,
              "#fdca26"
             ],
             [
              1,
              "#f0f921"
             ]
            ],
            "type": "heatmap"
           }
          ],
          "histogram": [
           {
            "marker": {
             "pattern": {
              "fillmode": "overlay",
              "size": 10,
              "solidity": 0.2
             }
            },
            "type": "histogram"
           }
          ],
          "histogram2d": [
           {
            "colorbar": {
             "outlinewidth": 0,
             "ticks": ""
            },
            "colorscale": [
             [
              0,
              "#0d0887"
             ],
             [
              0.1111111111111111,
              "#46039f"
             ],
             [
              0.2222222222222222,
              "#7201a8"
             ],
             [
              0.3333333333333333,
              "#9c179e"
             ],
             [
              0.4444444444444444,
              "#bd3786"
             ],
             [
              0.5555555555555556,
              "#d8576b"
             ],
             [
              0.6666666666666666,
              "#ed7953"
             ],
             [
              0.7777777777777778,
              "#fb9f3a"
             ],
             [
              0.8888888888888888,
              "#fdca26"
             ],
             [
              1,
              "#f0f921"
             ]
            ],
            "type": "histogram2d"
           }
          ],
          "histogram2dcontour": [
           {
            "colorbar": {
             "outlinewidth": 0,
             "ticks": ""
            },
            "colorscale": [
             [
              0,
              "#0d0887"
             ],
             [
              0.1111111111111111,
              "#46039f"
             ],
             [
              0.2222222222222222,
              "#7201a8"
             ],
             [
              0.3333333333333333,
              "#9c179e"
             ],
             [
              0.4444444444444444,
              "#bd3786"
             ],
             [
              0.5555555555555556,
              "#d8576b"
             ],
             [
              0.6666666666666666,
              "#ed7953"
             ],
             [
              0.7777777777777778,
              "#fb9f3a"
             ],
             [
              0.8888888888888888,
              "#fdca26"
             ],
             [
              1,
              "#f0f921"
             ]
            ],
            "type": "histogram2dcontour"
           }
          ],
          "mesh3d": [
           {
            "colorbar": {
             "outlinewidth": 0,
             "ticks": ""
            },
            "type": "mesh3d"
           }
          ],
          "parcoords": [
           {
            "line": {
             "colorbar": {
              "outlinewidth": 0,
              "ticks": ""
             }
            },
            "type": "parcoords"
           }
          ],
          "pie": [
           {
            "automargin": true,
            "type": "pie"
           }
          ],
          "scatter": [
           {
            "fillpattern": {
             "fillmode": "overlay",
             "size": 10,
             "solidity": 0.2
            },
            "type": "scatter"
           }
          ],
          "scatter3d": [
           {
            "line": {
             "colorbar": {
              "outlinewidth": 0,
              "ticks": ""
             }
            },
            "marker": {
             "colorbar": {
              "outlinewidth": 0,
              "ticks": ""
             }
            },
            "type": "scatter3d"
           }
          ],
          "scattercarpet": [
           {
            "marker": {
             "colorbar": {
              "outlinewidth": 0,
              "ticks": ""
             }
            },
            "type": "scattercarpet"
           }
          ],
          "scattergeo": [
           {
            "marker": {
             "colorbar": {
              "outlinewidth": 0,
              "ticks": ""
             }
            },
            "type": "scattergeo"
           }
          ],
          "scattergl": [
           {
            "marker": {
             "colorbar": {
              "outlinewidth": 0,
              "ticks": ""
             }
            },
            "type": "scattergl"
           }
          ],
          "scattermap": [
           {
            "marker": {
             "colorbar": {
              "outlinewidth": 0,
              "ticks": ""
             }
            },
            "type": "scattermap"
           }
          ],
          "scattermapbox": [
           {
            "marker": {
             "colorbar": {
              "outlinewidth": 0,
              "ticks": ""
             }
            },
            "type": "scattermapbox"
           }
          ],
          "scatterpolar": [
           {
            "marker": {
             "colorbar": {
              "outlinewidth": 0,
              "ticks": ""
             }
            },
            "type": "scatterpolar"
           }
          ],
          "scatterpolargl": [
           {
            "marker": {
             "colorbar": {
              "outlinewidth": 0,
              "ticks": ""
             }
            },
            "type": "scatterpolargl"
           }
          ],
          "scatterternary": [
           {
            "marker": {
             "colorbar": {
              "outlinewidth": 0,
              "ticks": ""
             }
            },
            "type": "scatterternary"
           }
          ],
          "surface": [
           {
            "colorbar": {
             "outlinewidth": 0,
             "ticks": ""
            },
            "colorscale": [
             [
              0,
              "#0d0887"
             ],
             [
              0.1111111111111111,
              "#46039f"
             ],
             [
              0.2222222222222222,
              "#7201a8"
             ],
             [
              0.3333333333333333,
              "#9c179e"
             ],
             [
              0.4444444444444444,
              "#bd3786"
             ],
             [
              0.5555555555555556,
              "#d8576b"
             ],
             [
              0.6666666666666666,
              "#ed7953"
             ],
             [
              0.7777777777777778,
              "#fb9f3a"
             ],
             [
              0.8888888888888888,
              "#fdca26"
             ],
             [
              1,
              "#f0f921"
             ]
            ],
            "type": "surface"
           }
          ],
          "table": [
           {
            "cells": {
             "fill": {
              "color": "#EBF0F8"
             },
             "line": {
              "color": "white"
             }
            },
            "header": {
             "fill": {
              "color": "#C8D4E3"
             },
             "line": {
              "color": "white"
             }
            },
            "type": "table"
           }
          ]
         },
         "layout": {
          "annotationdefaults": {
           "arrowcolor": "#2a3f5f",
           "arrowhead": 0,
           "arrowwidth": 1
          },
          "autotypenumbers": "strict",
          "coloraxis": {
           "colorbar": {
            "outlinewidth": 0,
            "ticks": ""
           }
          },
          "colorscale": {
           "diverging": [
            [
             0,
             "#8e0152"
            ],
            [
             0.1,
             "#c51b7d"
            ],
            [
             0.2,
             "#de77ae"
            ],
            [
             0.3,
             "#f1b6da"
            ],
            [
             0.4,
             "#fde0ef"
            ],
            [
             0.5,
             "#f7f7f7"
            ],
            [
             0.6,
             "#e6f5d0"
            ],
            [
             0.7,
             "#b8e186"
            ],
            [
             0.8,
             "#7fbc41"
            ],
            [
             0.9,
             "#4d9221"
            ],
            [
             1,
             "#276419"
            ]
           ],
           "sequential": [
            [
             0,
             "#0d0887"
            ],
            [
             0.1111111111111111,
             "#46039f"
            ],
            [
             0.2222222222222222,
             "#7201a8"
            ],
            [
             0.3333333333333333,
             "#9c179e"
            ],
            [
             0.4444444444444444,
             "#bd3786"
            ],
            [
             0.5555555555555556,
             "#d8576b"
            ],
            [
             0.6666666666666666,
             "#ed7953"
            ],
            [
             0.7777777777777778,
             "#fb9f3a"
            ],
            [
             0.8888888888888888,
             "#fdca26"
            ],
            [
             1,
             "#f0f921"
            ]
           ],
           "sequentialminus": [
            [
             0,
             "#0d0887"
            ],
            [
             0.1111111111111111,
             "#46039f"
            ],
            [
             0.2222222222222222,
             "#7201a8"
            ],
            [
             0.3333333333333333,
             "#9c179e"
            ],
            [
             0.4444444444444444,
             "#bd3786"
            ],
            [
             0.5555555555555556,
             "#d8576b"
            ],
            [
             0.6666666666666666,
             "#ed7953"
            ],
            [
             0.7777777777777778,
             "#fb9f3a"
            ],
            [
             0.8888888888888888,
             "#fdca26"
            ],
            [
             1,
             "#f0f921"
            ]
           ]
          },
          "colorway": [
           "#636efa",
           "#EF553B",
           "#00cc96",
           "#ab63fa",
           "#FFA15A",
           "#19d3f3",
           "#FF6692",
           "#B6E880",
           "#FF97FF",
           "#FECB52"
          ],
          "font": {
           "color": "#2a3f5f"
          },
          "geo": {
           "bgcolor": "white",
           "lakecolor": "white",
           "landcolor": "white",
           "showlakes": true,
           "showland": true,
           "subunitcolor": "#C8D4E3"
          },
          "hoverlabel": {
           "align": "left"
          },
          "hovermode": "closest",
          "mapbox": {
           "style": "light"
          },
          "paper_bgcolor": "white",
          "plot_bgcolor": "white",
          "polar": {
           "angularaxis": {
            "gridcolor": "#EBF0F8",
            "linecolor": "#EBF0F8",
            "ticks": ""
           },
           "bgcolor": "white",
           "radialaxis": {
            "gridcolor": "#EBF0F8",
            "linecolor": "#EBF0F8",
            "ticks": ""
           }
          },
          "scene": {
           "xaxis": {
            "backgroundcolor": "white",
            "gridcolor": "#DFE8F3",
            "gridwidth": 2,
            "linecolor": "#EBF0F8",
            "showbackground": true,
            "ticks": "",
            "zerolinecolor": "#EBF0F8"
           },
           "yaxis": {
            "backgroundcolor": "white",
            "gridcolor": "#DFE8F3",
            "gridwidth": 2,
            "linecolor": "#EBF0F8",
            "showbackground": true,
            "ticks": "",
            "zerolinecolor": "#EBF0F8"
           },
           "zaxis": {
            "backgroundcolor": "white",
            "gridcolor": "#DFE8F3",
            "gridwidth": 2,
            "linecolor": "#EBF0F8",
            "showbackground": true,
            "ticks": "",
            "zerolinecolor": "#EBF0F8"
           }
          },
          "shapedefaults": {
           "line": {
            "color": "#2a3f5f"
           }
          },
          "ternary": {
           "aaxis": {
            "gridcolor": "#DFE8F3",
            "linecolor": "#A2B1C6",
            "ticks": ""
           },
           "baxis": {
            "gridcolor": "#DFE8F3",
            "linecolor": "#A2B1C6",
            "ticks": ""
           },
           "bgcolor": "white",
           "caxis": {
            "gridcolor": "#DFE8F3",
            "linecolor": "#A2B1C6",
            "ticks": ""
           }
          },
          "title": {
           "x": 0.05
          },
          "xaxis": {
           "automargin": true,
           "gridcolor": "#EBF0F8",
           "linecolor": "#EBF0F8",
           "ticks": "",
           "title": {
            "standoff": 15
           },
           "zerolinecolor": "#EBF0F8",
           "zerolinewidth": 2
          },
          "yaxis": {
           "automargin": true,
           "gridcolor": "#EBF0F8",
           "linecolor": "#EBF0F8",
           "ticks": "",
           "title": {
            "standoff": 15
           },
           "zerolinecolor": "#EBF0F8",
           "zerolinewidth": 2
          }
         }
        },
        "title": {
         "font": {
          "color": "black",
          "size": 25
         },
         "text": "연도별 평균 태양광 발전량(MWh)",
         "x": 0.5,
         "y": 0.96
        },
        "width": 1200,
        "xaxis": {
         "anchor": "y",
         "domain": [
          0,
          1
         ],
         "title": {
          "text": "연도"
         }
        },
        "yaxis": {
         "anchor": "x",
         "domain": [
          0,
          1
         ],
         "tickformat": ",.0f",
         "title": {
          "text": "평균 발전량(MWh)"
         }
        }
       }
      }
     },
     "metadata": {},
     "output_type": "display_data"
    }
   ],
   "source": [
    "import pandas as pd\n",
    "import numpy as np\n",
    "import plotly.express as px\n",
    "\n",
    "# === 0) 데이터 정리: '연도' + 지역 컬럼들만 평균 ===\n",
    "df = gen_total.copy()\n",
    "if df.columns[0] != \"연도\":\n",
    "    df = df.rename(columns={df.columns[0]: \"연도\"})\n",
    "\n",
    "# '합계'가 있으면 제외\n",
    "area_cols = [c for c in df.columns if c not in [\"연도\", \"합계\"]]\n",
    "\n",
    "# 숫자형 보정\n",
    "for c in area_cols:\n",
    "    df[c] = pd.to_numeric(df[c], errors=\"coerce\")\n",
    "\n",
    "# 연도별 지역 평균\n",
    "year_mean_df = pd.DataFrame({\n",
    "    \"연도\": df[\"연도\"],\n",
    "    \"평균 발전량(MWh)\": df[area_cols].mean(axis=1).round()\n",
    "}).sort_values(\"연도\")\n",
    "\n",
    "# === 1) Plotly 막대 ===\n",
    "fig = px.bar(\n",
    "    year_mean_df, x=\"연도\", y=\"평균 발전량(MWh)\",\n",
    "    title=\"연도별 평균 태양광 발전량(MWh)\",\n",
    "    text=\"평균 발전량(MWh)\",\n",
    "    template=\"plotly_white\"\n",
    ")\n",
    "\n",
    "# 보기 좋게 라벨/축/크기\n",
    "fig.update_traces(texttemplate=\"%{text:,.0f}\", textposition=\"outside\")\n",
    "fig.update_layout(\n",
    "    width=1200, height=800,\n",
    "    title_x=0.5, title_y=0.96,\n",
    "    title_font_size=25, title_font_color=\"black\",\n",
    "    margin=dict(l=40, r=40, t=80, b=60)\n",
    ")\n",
    "fig.update_yaxes(title_text=\"평균 발전량(MWh)\", tickformat=\",.0f\")\n",
    "fig.update_xaxes(title_text=\"연도\")\n",
    "\n",
    "fig.show()\n",
    "# fig.write_html(\"year_mean_bar.html\", include_plotlyjs=\"cdn\")\n"
   ]
  },
  {
   "cell_type": "code",
   "execution_count": null,
   "id": "67da65f4",
   "metadata": {},
   "outputs": [
    {
     "data": {
      "application/vnd.plotly.v1+json": {
       "config": {
        "plotlyServerURL": "https://plot.ly"
       },
       "data": [
        {
         "hovertemplate": "지역=%{x}<br>발전량(MWh)=%{marker.color}<br>text=%{text}<extra></extra>",
         "legendgroup": "",
         "marker": {
          "color": {
           "bdata": "1q0FAFDxBgA6AggAnvgJAGLjDQBsLhgATfEdAHZYHwDupDgAZ1p+AHCIjAB0jKYAmWeqAFp4JgE5xTMBLrC3AbUSEgI=",
           "dtype": "i4"
          },
          "coloraxis": "coloraxis",
          "pattern": {
           "shape": ""
          }
         },
         "name": "",
         "orientation": "v",
         "showlegend": false,
         "text": [
          "372,182",
          "454,992",
          "524,858",
          "653,470",
          "910,178",
          "1,584,748",
          "1,962,317",
          "2,054,262",
          "3,712,238",
          "8,280,679",
          "9,209,968",
          "10,914,932",
          "11,167,641",
          "19,298,394",
          "20,170,041",
          "28,815,406",
          "34,738,869"
         ],
         "textposition": "outside",
         "type": "bar",
         "x": [
          "대전",
          "서울",
          "세종",
          "울산",
          "인천",
          "부산",
          "대구",
          "광주",
          "제주",
          "충북",
          "경기",
          "경남",
          "강원",
          "경북",
          "충남",
          "전북",
          "전남"
         ],
         "xaxis": "x",
         "y": {
          "bdata": "1q0FAFDxBgA6AggAnvgJAGLjDQBsLhgATfEdAHZYHwDupDgAZ1p+AHCIjAB0jKYAmWeqAFp4JgE5xTMBLrC3AbUSEgI=",
          "dtype": "i4"
         },
         "yaxis": "y"
        }
       ],
       "layout": {
        "barmode": "relative",
        "coloraxis": {
         "colorbar": {
          "title": {
           "text": "MWh"
          }
         },
         "colorscale": [
          [
           0,
           "rgb(247,251,255)"
          ],
          [
           0.125,
           "rgb(222,235,247)"
          ],
          [
           0.25,
           "rgb(198,219,239)"
          ],
          [
           0.375,
           "rgb(158,202,225)"
          ],
          [
           0.5,
           "rgb(107,174,214)"
          ],
          [
           0.625,
           "rgb(66,146,198)"
          ],
          [
           0.75,
           "rgb(33,113,181)"
          ],
          [
           0.875,
           "rgb(8,81,156)"
          ],
          [
           1,
           "rgb(8,48,107)"
          ]
         ]
        },
        "height": 800,
        "legend": {
         "tracegroupgap": 0
        },
        "margin": {
         "b": 60,
         "l": 40,
         "r": 40,
         "t": 80
        },
        "template": {
         "data": {
          "bar": [
           {
            "error_x": {
             "color": "#2a3f5f"
            },
            "error_y": {
             "color": "#2a3f5f"
            },
            "marker": {
             "line": {
              "color": "white",
              "width": 0.5
             },
             "pattern": {
              "fillmode": "overlay",
              "size": 10,
              "solidity": 0.2
             }
            },
            "type": "bar"
           }
          ],
          "barpolar": [
           {
            "marker": {
             "line": {
              "color": "white",
              "width": 0.5
             },
             "pattern": {
              "fillmode": "overlay",
              "size": 10,
              "solidity": 0.2
             }
            },
            "type": "barpolar"
           }
          ],
          "carpet": [
           {
            "aaxis": {
             "endlinecolor": "#2a3f5f",
             "gridcolor": "#C8D4E3",
             "linecolor": "#C8D4E3",
             "minorgridcolor": "#C8D4E3",
             "startlinecolor": "#2a3f5f"
            },
            "baxis": {
             "endlinecolor": "#2a3f5f",
             "gridcolor": "#C8D4E3",
             "linecolor": "#C8D4E3",
             "minorgridcolor": "#C8D4E3",
             "startlinecolor": "#2a3f5f"
            },
            "type": "carpet"
           }
          ],
          "choropleth": [
           {
            "colorbar": {
             "outlinewidth": 0,
             "ticks": ""
            },
            "type": "choropleth"
           }
          ],
          "contour": [
           {
            "colorbar": {
             "outlinewidth": 0,
             "ticks": ""
            },
            "colorscale": [
             [
              0,
              "#0d0887"
             ],
             [
              0.1111111111111111,
              "#46039f"
             ],
             [
              0.2222222222222222,
              "#7201a8"
             ],
             [
              0.3333333333333333,
              "#9c179e"
             ],
             [
              0.4444444444444444,
              "#bd3786"
             ],
             [
              0.5555555555555556,
              "#d8576b"
             ],
             [
              0.6666666666666666,
              "#ed7953"
             ],
             [
              0.7777777777777778,
              "#fb9f3a"
             ],
             [
              0.8888888888888888,
              "#fdca26"
             ],
             [
              1,
              "#f0f921"
             ]
            ],
            "type": "contour"
           }
          ],
          "contourcarpet": [
           {
            "colorbar": {
             "outlinewidth": 0,
             "ticks": ""
            },
            "type": "contourcarpet"
           }
          ],
          "heatmap": [
           {
            "colorbar": {
             "outlinewidth": 0,
             "ticks": ""
            },
            "colorscale": [
             [
              0,
              "#0d0887"
             ],
             [
              0.1111111111111111,
              "#46039f"
             ],
             [
              0.2222222222222222,
              "#7201a8"
             ],
             [
              0.3333333333333333,
              "#9c179e"
             ],
             [
              0.4444444444444444,
              "#bd3786"
             ],
             [
              0.5555555555555556,
              "#d8576b"
             ],
             [
              0.6666666666666666,
              "#ed7953"
             ],
             [
              0.7777777777777778,
              "#fb9f3a"
             ],
             [
              0.8888888888888888,
              "#fdca26"
             ],
             [
              1,
              "#f0f921"
             ]
            ],
            "type": "heatmap"
           }
          ],
          "histogram": [
           {
            "marker": {
             "pattern": {
              "fillmode": "overlay",
              "size": 10,
              "solidity": 0.2
             }
            },
            "type": "histogram"
           }
          ],
          "histogram2d": [
           {
            "colorbar": {
             "outlinewidth": 0,
             "ticks": ""
            },
            "colorscale": [
             [
              0,
              "#0d0887"
             ],
             [
              0.1111111111111111,
              "#46039f"
             ],
             [
              0.2222222222222222,
              "#7201a8"
             ],
             [
              0.3333333333333333,
              "#9c179e"
             ],
             [
              0.4444444444444444,
              "#bd3786"
             ],
             [
              0.5555555555555556,
              "#d8576b"
             ],
             [
              0.6666666666666666,
              "#ed7953"
             ],
             [
              0.7777777777777778,
              "#fb9f3a"
             ],
             [
              0.8888888888888888,
              "#fdca26"
             ],
             [
              1,
              "#f0f921"
             ]
            ],
            "type": "histogram2d"
           }
          ],
          "histogram2dcontour": [
           {
            "colorbar": {
             "outlinewidth": 0,
             "ticks": ""
            },
            "colorscale": [
             [
              0,
              "#0d0887"
             ],
             [
              0.1111111111111111,
              "#46039f"
             ],
             [
              0.2222222222222222,
              "#7201a8"
             ],
             [
              0.3333333333333333,
              "#9c179e"
             ],
             [
              0.4444444444444444,
              "#bd3786"
             ],
             [
              0.5555555555555556,
              "#d8576b"
             ],
             [
              0.6666666666666666,
              "#ed7953"
             ],
             [
              0.7777777777777778,
              "#fb9f3a"
             ],
             [
              0.8888888888888888,
              "#fdca26"
             ],
             [
              1,
              "#f0f921"
             ]
            ],
            "type": "histogram2dcontour"
           }
          ],
          "mesh3d": [
           {
            "colorbar": {
             "outlinewidth": 0,
             "ticks": ""
            },
            "type": "mesh3d"
           }
          ],
          "parcoords": [
           {
            "line": {
             "colorbar": {
              "outlinewidth": 0,
              "ticks": ""
             }
            },
            "type": "parcoords"
           }
          ],
          "pie": [
           {
            "automargin": true,
            "type": "pie"
           }
          ],
          "scatter": [
           {
            "fillpattern": {
             "fillmode": "overlay",
             "size": 10,
             "solidity": 0.2
            },
            "type": "scatter"
           }
          ],
          "scatter3d": [
           {
            "line": {
             "colorbar": {
              "outlinewidth": 0,
              "ticks": ""
             }
            },
            "marker": {
             "colorbar": {
              "outlinewidth": 0,
              "ticks": ""
             }
            },
            "type": "scatter3d"
           }
          ],
          "scattercarpet": [
           {
            "marker": {
             "colorbar": {
              "outlinewidth": 0,
              "ticks": ""
             }
            },
            "type": "scattercarpet"
           }
          ],
          "scattergeo": [
           {
            "marker": {
             "colorbar": {
              "outlinewidth": 0,
              "ticks": ""
             }
            },
            "type": "scattergeo"
           }
          ],
          "scattergl": [
           {
            "marker": {
             "colorbar": {
              "outlinewidth": 0,
              "ticks": ""
             }
            },
            "type": "scattergl"
           }
          ],
          "scattermap": [
           {
            "marker": {
             "colorbar": {
              "outlinewidth": 0,
              "ticks": ""
             }
            },
            "type": "scattermap"
           }
          ],
          "scattermapbox": [
           {
            "marker": {
             "colorbar": {
              "outlinewidth": 0,
              "ticks": ""
             }
            },
            "type": "scattermapbox"
           }
          ],
          "scatterpolar": [
           {
            "marker": {
             "colorbar": {
              "outlinewidth": 0,
              "ticks": ""
             }
            },
            "type": "scatterpolar"
           }
          ],
          "scatterpolargl": [
           {
            "marker": {
             "colorbar": {
              "outlinewidth": 0,
              "ticks": ""
             }
            },
            "type": "scatterpolargl"
           }
          ],
          "scatterternary": [
           {
            "marker": {
             "colorbar": {
              "outlinewidth": 0,
              "ticks": ""
             }
            },
            "type": "scatterternary"
           }
          ],
          "surface": [
           {
            "colorbar": {
             "outlinewidth": 0,
             "ticks": ""
            },
            "colorscale": [
             [
              0,
              "#0d0887"
             ],
             [
              0.1111111111111111,
              "#46039f"
             ],
             [
              0.2222222222222222,
              "#7201a8"
             ],
             [
              0.3333333333333333,
              "#9c179e"
             ],
             [
              0.4444444444444444,
              "#bd3786"
             ],
             [
              0.5555555555555556,
              "#d8576b"
             ],
             [
              0.6666666666666666,
              "#ed7953"
             ],
             [
              0.7777777777777778,
              "#fb9f3a"
             ],
             [
              0.8888888888888888,
              "#fdca26"
             ],
             [
              1,
              "#f0f921"
             ]
            ],
            "type": "surface"
           }
          ],
          "table": [
           {
            "cells": {
             "fill": {
              "color": "#EBF0F8"
             },
             "line": {
              "color": "white"
             }
            },
            "header": {
             "fill": {
              "color": "#C8D4E3"
             },
             "line": {
              "color": "white"
             }
            },
            "type": "table"
           }
          ]
         },
         "layout": {
          "annotationdefaults": {
           "arrowcolor": "#2a3f5f",
           "arrowhead": 0,
           "arrowwidth": 1
          },
          "autotypenumbers": "strict",
          "coloraxis": {
           "colorbar": {
            "outlinewidth": 0,
            "ticks": ""
           }
          },
          "colorscale": {
           "diverging": [
            [
             0,
             "#8e0152"
            ],
            [
             0.1,
             "#c51b7d"
            ],
            [
             0.2,
             "#de77ae"
            ],
            [
             0.3,
             "#f1b6da"
            ],
            [
             0.4,
             "#fde0ef"
            ],
            [
             0.5,
             "#f7f7f7"
            ],
            [
             0.6,
             "#e6f5d0"
            ],
            [
             0.7,
             "#b8e186"
            ],
            [
             0.8,
             "#7fbc41"
            ],
            [
             0.9,
             "#4d9221"
            ],
            [
             1,
             "#276419"
            ]
           ],
           "sequential": [
            [
             0,
             "#0d0887"
            ],
            [
             0.1111111111111111,
             "#46039f"
            ],
            [
             0.2222222222222222,
             "#7201a8"
            ],
            [
             0.3333333333333333,
             "#9c179e"
            ],
            [
             0.4444444444444444,
             "#bd3786"
            ],
            [
             0.5555555555555556,
             "#d8576b"
            ],
            [
             0.6666666666666666,
             "#ed7953"
            ],
            [
             0.7777777777777778,
             "#fb9f3a"
            ],
            [
             0.8888888888888888,
             "#fdca26"
            ],
            [
             1,
             "#f0f921"
            ]
           ],
           "sequentialminus": [
            [
             0,
             "#0d0887"
            ],
            [
             0.1111111111111111,
             "#46039f"
            ],
            [
             0.2222222222222222,
             "#7201a8"
            ],
            [
             0.3333333333333333,
             "#9c179e"
            ],
            [
             0.4444444444444444,
             "#bd3786"
            ],
            [
             0.5555555555555556,
             "#d8576b"
            ],
            [
             0.6666666666666666,
             "#ed7953"
            ],
            [
             0.7777777777777778,
             "#fb9f3a"
            ],
            [
             0.8888888888888888,
             "#fdca26"
            ],
            [
             1,
             "#f0f921"
            ]
           ]
          },
          "colorway": [
           "#636efa",
           "#EF553B",
           "#00cc96",
           "#ab63fa",
           "#FFA15A",
           "#19d3f3",
           "#FF6692",
           "#B6E880",
           "#FF97FF",
           "#FECB52"
          ],
          "font": {
           "color": "#2a3f5f"
          },
          "geo": {
           "bgcolor": "white",
           "lakecolor": "white",
           "landcolor": "white",
           "showlakes": true,
           "showland": true,
           "subunitcolor": "#C8D4E3"
          },
          "hoverlabel": {
           "align": "left"
          },
          "hovermode": "closest",
          "mapbox": {
           "style": "light"
          },
          "paper_bgcolor": "white",
          "plot_bgcolor": "white",
          "polar": {
           "angularaxis": {
            "gridcolor": "#EBF0F8",
            "linecolor": "#EBF0F8",
            "ticks": ""
           },
           "bgcolor": "white",
           "radialaxis": {
            "gridcolor": "#EBF0F8",
            "linecolor": "#EBF0F8",
            "ticks": ""
           }
          },
          "scene": {
           "xaxis": {
            "backgroundcolor": "white",
            "gridcolor": "#DFE8F3",
            "gridwidth": 2,
            "linecolor": "#EBF0F8",
            "showbackground": true,
            "ticks": "",
            "zerolinecolor": "#EBF0F8"
           },
           "yaxis": {
            "backgroundcolor": "white",
            "gridcolor": "#DFE8F3",
            "gridwidth": 2,
            "linecolor": "#EBF0F8",
            "showbackground": true,
            "ticks": "",
            "zerolinecolor": "#EBF0F8"
           },
           "zaxis": {
            "backgroundcolor": "white",
            "gridcolor": "#DFE8F3",
            "gridwidth": 2,
            "linecolor": "#EBF0F8",
            "showbackground": true,
            "ticks": "",
            "zerolinecolor": "#EBF0F8"
           }
          },
          "shapedefaults": {
           "line": {
            "color": "#2a3f5f"
           }
          },
          "ternary": {
           "aaxis": {
            "gridcolor": "#DFE8F3",
            "linecolor": "#A2B1C6",
            "ticks": ""
           },
           "baxis": {
            "gridcolor": "#DFE8F3",
            "linecolor": "#A2B1C6",
            "ticks": ""
           },
           "bgcolor": "white",
           "caxis": {
            "gridcolor": "#DFE8F3",
            "linecolor": "#A2B1C6",
            "ticks": ""
           }
          },
          "title": {
           "x": 0.05
          },
          "xaxis": {
           "automargin": true,
           "gridcolor": "#EBF0F8",
           "linecolor": "#EBF0F8",
           "ticks": "",
           "title": {
            "standoff": 15
           },
           "zerolinecolor": "#EBF0F8",
           "zerolinewidth": 2
          },
          "yaxis": {
           "automargin": true,
           "gridcolor": "#EBF0F8",
           "linecolor": "#EBF0F8",
           "ticks": "",
           "title": {
            "standoff": 15
           },
           "zerolinecolor": "#EBF0F8",
           "zerolinewidth": 2
          }
         }
        },
        "title": {
         "font": {
          "size": 25
         },
         "text": "2024년도 지역별 태양광 발전량",
         "x": 0.5
        },
        "width": 1200,
        "xaxis": {
         "anchor": "y",
         "categoryarray": [
          "대전",
          "서울",
          "세종",
          "울산",
          "인천",
          "부산",
          "대구",
          "광주",
          "제주",
          "충북",
          "경기",
          "경남",
          "강원",
          "경북",
          "충남",
          "전북",
          "전남"
         ],
         "categoryorder": "array",
         "domain": [
          0,
          1
         ],
         "title": {
          "text": "지역"
         }
        },
        "yaxis": {
         "anchor": "x",
         "domain": [
          0,
          1
         ],
         "tickformat": ",.0f",
         "title": {
          "text": "발전량(MWh)"
         }
        }
       }
      }
     },
     "metadata": {},
     "output_type": "display_data"
    }
   ],
   "source": [
    "import pandas as pd\n",
    "import numpy as np\n",
    "import plotly.express as px\n",
    "\n",
    "# 0) 데이터 준비: '연도' 컬럼 보정 + 2024 행 선택 + 지역 컬럼만 사용(합계 제외)\n",
    "df = gen_total.copy()\n",
    "if df.columns[0] != \"연도\":\n",
    "    df = df.rename(columns={df.columns[0]: \"연도\"})\n",
    "\n",
    "area_cols = [c for c in df.columns if c not in [\"연도\", \"합계\"]]\n",
    "row_2024 = df.loc[df[\"연도\"] == 2024].iloc[0]  # 첫 행이 2024가 아닐 수 있으니 안전 선택\n",
    "\n",
    "area_2024_df = pd.DataFrame({\n",
    "    \"지역\": area_cols,\n",
    "    \"발전량(MWh)\": pd.to_numeric(row_2024[area_cols].values, errors=\"coerce\")\n",
    "}).sort_values(\"발전량(MWh)\", ascending=True)\n",
    "\n",
    "# ===== A) 세로 막대 =====\n",
    "fig = px.bar(\n",
    "    area_2024_df,\n",
    "    x=\"지역\", y=\"발전량(MWh)\",\n",
    "    text=area_2024_df[\"발전량(MWh)\"].round().map(lambda v: f\"{v:,.0f}\"),\n",
    "    color=\"발전량(MWh)\",                 # 값에 따라 그라데이션\n",
    "    color_continuous_scale=\"Blues\",\n",
    "    title=\"2024년도 지역별 태양광 발전량\",\n",
    "    template=\"plotly_white\"\n",
    ")\n",
    "\n",
    "fig.update_layout(\n",
    "    width=1200, height=800,\n",
    "    title_x=0.5, title_font_size=25,\n",
    "    margin=dict(l=40, r=40, t=80, b=60),\n",
    "    coloraxis_colorbar=dict(title=\"MWh\")\n",
    ")\n",
    "fig.update_traces(textposition=\"outside\")\n",
    "# 정렬 유지\n",
    "fig.update_xaxes(title_text=\"지역\", categoryorder=\"array\", categoryarray=area_2024_df[\"지역\"])\n",
    "fig.update_yaxes(title_text=\"발전량(MWh)\", tickformat=\",.0f\")\n",
    "fig.show()\n",
    "\n",
    "\n",
    "# 저장하고 싶으면:\n",
    "# fig.write_html(\"area_2024_bar.html\", include_plotlyjs=\"cdn\")\n"
   ]
  },
  {
   "cell_type": "code",
   "execution_count": 74,
   "id": "54d14119",
   "metadata": {},
   "outputs": [
    {
     "data": {
      "application/vnd.plotly.v1+json": {
       "config": {
        "plotlyServerURL": "https://plot.ly"
       },
       "data": [
        {
         "hovertemplate": "<b>%{x}</b><br>설비용량: %{y:,.0f} MW<extra></extra>",
         "mode": "lines+markers",
         "name": "2024",
         "type": "scatter",
         "x": [
          "서울",
          "부산",
          "대구",
          "인천",
          "광주",
          "대전",
          "울산",
          "세종",
          "경기",
          "충북",
          "충남",
          "전남",
          "경북",
          "경남",
          "제주",
          "강원",
          "전북"
         ],
         "y": {
          "bdata": "MgATAaQBowBhAUEAmABYANwHTQa8DocXAg/gB20ClwfuEQ==",
          "dtype": "i2"
         }
        }
       ],
       "layout": {
        "template": {
         "data": {
          "bar": [
           {
            "error_x": {
             "color": "#2a3f5f"
            },
            "error_y": {
             "color": "#2a3f5f"
            },
            "marker": {
             "line": {
              "color": "white",
              "width": 0.5
             },
             "pattern": {
              "fillmode": "overlay",
              "size": 10,
              "solidity": 0.2
             }
            },
            "type": "bar"
           }
          ],
          "barpolar": [
           {
            "marker": {
             "line": {
              "color": "white",
              "width": 0.5
             },
             "pattern": {
              "fillmode": "overlay",
              "size": 10,
              "solidity": 0.2
             }
            },
            "type": "barpolar"
           }
          ],
          "carpet": [
           {
            "aaxis": {
             "endlinecolor": "#2a3f5f",
             "gridcolor": "#C8D4E3",
             "linecolor": "#C8D4E3",
             "minorgridcolor": "#C8D4E3",
             "startlinecolor": "#2a3f5f"
            },
            "baxis": {
             "endlinecolor": "#2a3f5f",
             "gridcolor": "#C8D4E3",
             "linecolor": "#C8D4E3",
             "minorgridcolor": "#C8D4E3",
             "startlinecolor": "#2a3f5f"
            },
            "type": "carpet"
           }
          ],
          "choropleth": [
           {
            "colorbar": {
             "outlinewidth": 0,
             "ticks": ""
            },
            "type": "choropleth"
           }
          ],
          "contour": [
           {
            "colorbar": {
             "outlinewidth": 0,
             "ticks": ""
            },
            "colorscale": [
             [
              0,
              "#0d0887"
             ],
             [
              0.1111111111111111,
              "#46039f"
             ],
             [
              0.2222222222222222,
              "#7201a8"
             ],
             [
              0.3333333333333333,
              "#9c179e"
             ],
             [
              0.4444444444444444,
              "#bd3786"
             ],
             [
              0.5555555555555556,
              "#d8576b"
             ],
             [
              0.6666666666666666,
              "#ed7953"
             ],
             [
              0.7777777777777778,
              "#fb9f3a"
             ],
             [
              0.8888888888888888,
              "#fdca26"
             ],
             [
              1,
              "#f0f921"
             ]
            ],
            "type": "contour"
           }
          ],
          "contourcarpet": [
           {
            "colorbar": {
             "outlinewidth": 0,
             "ticks": ""
            },
            "type": "contourcarpet"
           }
          ],
          "heatmap": [
           {
            "colorbar": {
             "outlinewidth": 0,
             "ticks": ""
            },
            "colorscale": [
             [
              0,
              "#0d0887"
             ],
             [
              0.1111111111111111,
              "#46039f"
             ],
             [
              0.2222222222222222,
              "#7201a8"
             ],
             [
              0.3333333333333333,
              "#9c179e"
             ],
             [
              0.4444444444444444,
              "#bd3786"
             ],
             [
              0.5555555555555556,
              "#d8576b"
             ],
             [
              0.6666666666666666,
              "#ed7953"
             ],
             [
              0.7777777777777778,
              "#fb9f3a"
             ],
             [
              0.8888888888888888,
              "#fdca26"
             ],
             [
              1,
              "#f0f921"
             ]
            ],
            "type": "heatmap"
           }
          ],
          "histogram": [
           {
            "marker": {
             "pattern": {
              "fillmode": "overlay",
              "size": 10,
              "solidity": 0.2
             }
            },
            "type": "histogram"
           }
          ],
          "histogram2d": [
           {
            "colorbar": {
             "outlinewidth": 0,
             "ticks": ""
            },
            "colorscale": [
             [
              0,
              "#0d0887"
             ],
             [
              0.1111111111111111,
              "#46039f"
             ],
             [
              0.2222222222222222,
              "#7201a8"
             ],
             [
              0.3333333333333333,
              "#9c179e"
             ],
             [
              0.4444444444444444,
              "#bd3786"
             ],
             [
              0.5555555555555556,
              "#d8576b"
             ],
             [
              0.6666666666666666,
              "#ed7953"
             ],
             [
              0.7777777777777778,
              "#fb9f3a"
             ],
             [
              0.8888888888888888,
              "#fdca26"
             ],
             [
              1,
              "#f0f921"
             ]
            ],
            "type": "histogram2d"
           }
          ],
          "histogram2dcontour": [
           {
            "colorbar": {
             "outlinewidth": 0,
             "ticks": ""
            },
            "colorscale": [
             [
              0,
              "#0d0887"
             ],
             [
              0.1111111111111111,
              "#46039f"
             ],
             [
              0.2222222222222222,
              "#7201a8"
             ],
             [
              0.3333333333333333,
              "#9c179e"
             ],
             [
              0.4444444444444444,
              "#bd3786"
             ],
             [
              0.5555555555555556,
              "#d8576b"
             ],
             [
              0.6666666666666666,
              "#ed7953"
             ],
             [
              0.7777777777777778,
              "#fb9f3a"
             ],
             [
              0.8888888888888888,
              "#fdca26"
             ],
             [
              1,
              "#f0f921"
             ]
            ],
            "type": "histogram2dcontour"
           }
          ],
          "mesh3d": [
           {
            "colorbar": {
             "outlinewidth": 0,
             "ticks": ""
            },
            "type": "mesh3d"
           }
          ],
          "parcoords": [
           {
            "line": {
             "colorbar": {
              "outlinewidth": 0,
              "ticks": ""
             }
            },
            "type": "parcoords"
           }
          ],
          "pie": [
           {
            "automargin": true,
            "type": "pie"
           }
          ],
          "scatter": [
           {
            "fillpattern": {
             "fillmode": "overlay",
             "size": 10,
             "solidity": 0.2
            },
            "type": "scatter"
           }
          ],
          "scatter3d": [
           {
            "line": {
             "colorbar": {
              "outlinewidth": 0,
              "ticks": ""
             }
            },
            "marker": {
             "colorbar": {
              "outlinewidth": 0,
              "ticks": ""
             }
            },
            "type": "scatter3d"
           }
          ],
          "scattercarpet": [
           {
            "marker": {
             "colorbar": {
              "outlinewidth": 0,
              "ticks": ""
             }
            },
            "type": "scattercarpet"
           }
          ],
          "scattergeo": [
           {
            "marker": {
             "colorbar": {
              "outlinewidth": 0,
              "ticks": ""
             }
            },
            "type": "scattergeo"
           }
          ],
          "scattergl": [
           {
            "marker": {
             "colorbar": {
              "outlinewidth": 0,
              "ticks": ""
             }
            },
            "type": "scattergl"
           }
          ],
          "scattermap": [
           {
            "marker": {
             "colorbar": {
              "outlinewidth": 0,
              "ticks": ""
             }
            },
            "type": "scattermap"
           }
          ],
          "scattermapbox": [
           {
            "marker": {
             "colorbar": {
              "outlinewidth": 0,
              "ticks": ""
             }
            },
            "type": "scattermapbox"
           }
          ],
          "scatterpolar": [
           {
            "marker": {
             "colorbar": {
              "outlinewidth": 0,
              "ticks": ""
             }
            },
            "type": "scatterpolar"
           }
          ],
          "scatterpolargl": [
           {
            "marker": {
             "colorbar": {
              "outlinewidth": 0,
              "ticks": ""
             }
            },
            "type": "scatterpolargl"
           }
          ],
          "scatterternary": [
           {
            "marker": {
             "colorbar": {
              "outlinewidth": 0,
              "ticks": ""
             }
            },
            "type": "scatterternary"
           }
          ],
          "surface": [
           {
            "colorbar": {
             "outlinewidth": 0,
             "ticks": ""
            },
            "colorscale": [
             [
              0,
              "#0d0887"
             ],
             [
              0.1111111111111111,
              "#46039f"
             ],
             [
              0.2222222222222222,
              "#7201a8"
             ],
             [
              0.3333333333333333,
              "#9c179e"
             ],
             [
              0.4444444444444444,
              "#bd3786"
             ],
             [
              0.5555555555555556,
              "#d8576b"
             ],
             [
              0.6666666666666666,
              "#ed7953"
             ],
             [
              0.7777777777777778,
              "#fb9f3a"
             ],
             [
              0.8888888888888888,
              "#fdca26"
             ],
             [
              1,
              "#f0f921"
             ]
            ],
            "type": "surface"
           }
          ],
          "table": [
           {
            "cells": {
             "fill": {
              "color": "#EBF0F8"
             },
             "line": {
              "color": "white"
             }
            },
            "header": {
             "fill": {
              "color": "#C8D4E3"
             },
             "line": {
              "color": "white"
             }
            },
            "type": "table"
           }
          ]
         },
         "layout": {
          "annotationdefaults": {
           "arrowcolor": "#2a3f5f",
           "arrowhead": 0,
           "arrowwidth": 1
          },
          "autotypenumbers": "strict",
          "coloraxis": {
           "colorbar": {
            "outlinewidth": 0,
            "ticks": ""
           }
          },
          "colorscale": {
           "diverging": [
            [
             0,
             "#8e0152"
            ],
            [
             0.1,
             "#c51b7d"
            ],
            [
             0.2,
             "#de77ae"
            ],
            [
             0.3,
             "#f1b6da"
            ],
            [
             0.4,
             "#fde0ef"
            ],
            [
             0.5,
             "#f7f7f7"
            ],
            [
             0.6,
             "#e6f5d0"
            ],
            [
             0.7,
             "#b8e186"
            ],
            [
             0.8,
             "#7fbc41"
            ],
            [
             0.9,
             "#4d9221"
            ],
            [
             1,
             "#276419"
            ]
           ],
           "sequential": [
            [
             0,
             "#0d0887"
            ],
            [
             0.1111111111111111,
             "#46039f"
            ],
            [
             0.2222222222222222,
             "#7201a8"
            ],
            [
             0.3333333333333333,
             "#9c179e"
            ],
            [
             0.4444444444444444,
             "#bd3786"
            ],
            [
             0.5555555555555556,
             "#d8576b"
            ],
            [
             0.6666666666666666,
             "#ed7953"
            ],
            [
             0.7777777777777778,
             "#fb9f3a"
            ],
            [
             0.8888888888888888,
             "#fdca26"
            ],
            [
             1,
             "#f0f921"
            ]
           ],
           "sequentialminus": [
            [
             0,
             "#0d0887"
            ],
            [
             0.1111111111111111,
             "#46039f"
            ],
            [
             0.2222222222222222,
             "#7201a8"
            ],
            [
             0.3333333333333333,
             "#9c179e"
            ],
            [
             0.4444444444444444,
             "#bd3786"
            ],
            [
             0.5555555555555556,
             "#d8576b"
            ],
            [
             0.6666666666666666,
             "#ed7953"
            ],
            [
             0.7777777777777778,
             "#fb9f3a"
            ],
            [
             0.8888888888888888,
             "#fdca26"
            ],
            [
             1,
             "#f0f921"
            ]
           ]
          },
          "colorway": [
           "#636efa",
           "#EF553B",
           "#00cc96",
           "#ab63fa",
           "#FFA15A",
           "#19d3f3",
           "#FF6692",
           "#B6E880",
           "#FF97FF",
           "#FECB52"
          ],
          "font": {
           "color": "#2a3f5f"
          },
          "geo": {
           "bgcolor": "white",
           "lakecolor": "white",
           "landcolor": "white",
           "showlakes": true,
           "showland": true,
           "subunitcolor": "#C8D4E3"
          },
          "hoverlabel": {
           "align": "left"
          },
          "hovermode": "closest",
          "mapbox": {
           "style": "light"
          },
          "paper_bgcolor": "white",
          "plot_bgcolor": "white",
          "polar": {
           "angularaxis": {
            "gridcolor": "#EBF0F8",
            "linecolor": "#EBF0F8",
            "ticks": ""
           },
           "bgcolor": "white",
           "radialaxis": {
            "gridcolor": "#EBF0F8",
            "linecolor": "#EBF0F8",
            "ticks": ""
           }
          },
          "scene": {
           "xaxis": {
            "backgroundcolor": "white",
            "gridcolor": "#DFE8F3",
            "gridwidth": 2,
            "linecolor": "#EBF0F8",
            "showbackground": true,
            "ticks": "",
            "zerolinecolor": "#EBF0F8"
           },
           "yaxis": {
            "backgroundcolor": "white",
            "gridcolor": "#DFE8F3",
            "gridwidth": 2,
            "linecolor": "#EBF0F8",
            "showbackground": true,
            "ticks": "",
            "zerolinecolor": "#EBF0F8"
           },
           "zaxis": {
            "backgroundcolor": "white",
            "gridcolor": "#DFE8F3",
            "gridwidth": 2,
            "linecolor": "#EBF0F8",
            "showbackground": true,
            "ticks": "",
            "zerolinecolor": "#EBF0F8"
           }
          },
          "shapedefaults": {
           "line": {
            "color": "#2a3f5f"
           }
          },
          "ternary": {
           "aaxis": {
            "gridcolor": "#DFE8F3",
            "linecolor": "#A2B1C6",
            "ticks": ""
           },
           "baxis": {
            "gridcolor": "#DFE8F3",
            "linecolor": "#A2B1C6",
            "ticks": ""
           },
           "bgcolor": "white",
           "caxis": {
            "gridcolor": "#DFE8F3",
            "linecolor": "#A2B1C6",
            "ticks": ""
           }
          },
          "title": {
           "x": 0.05
          },
          "xaxis": {
           "automargin": true,
           "gridcolor": "#EBF0F8",
           "linecolor": "#EBF0F8",
           "ticks": "",
           "title": {
            "standoff": 15
           },
           "zerolinecolor": "#EBF0F8",
           "zerolinewidth": 2
          },
          "yaxis": {
           "automargin": true,
           "gridcolor": "#EBF0F8",
           "linecolor": "#EBF0F8",
           "ticks": "",
           "title": {
            "standoff": 15
           },
           "zerolinecolor": "#EBF0F8",
           "zerolinewidth": 2
          }
         }
        },
        "title": {
         "text": "2024년 지역별 설비용량"
        },
        "xaxis": {
         "tickangle": -45,
         "title": {
          "text": "지역"
         }
        },
        "yaxis": {
         "tickformat": ",.0f",
         "title": {
          "text": "설비용량 (MW)"
         }
        }
       }
      }
     },
     "metadata": {},
     "output_type": "display_data"
    }
   ],
   "source": [
    "import pandas as pd\n",
    "import plotly.graph_objects as go\n",
    "\n",
    "# 엑셀 로드\n",
    "df = pd.read_excel(\"dataset/지역별_연도별_설비용량.xlsx\")\n",
    "\n",
    "# x=지역(열 이름), y=2024행(첫 행 가정) — 필요 시 df[df['연도']==2024]로 바꿔도 됨\n",
    "regions = df.columns[1:18]\n",
    "y = pd.to_numeric(df.iloc[0, 1:18], errors=\"coerce\")\n",
    "\n",
    "fig = go.Figure()\n",
    "fig.add_trace(go.Scatter(\n",
    "    x=regions,\n",
    "    y=y,\n",
    "    mode=\"lines+markers\",\n",
    "    name=\"2024\",\n",
    "    hovertemplate=\"<b>%{x}</b><br>설비용량: %{y:,.0f} MW<extra></extra>\"\n",
    "))\n",
    "\n",
    "fig.update_layout(\n",
    "    title=\"2024년 지역별 설비용량\",\n",
    "    xaxis_title=\"지역\",\n",
    "    yaxis_title=\"설비용량 (MW)\",\n",
    "    template=\"plotly_white\"\n",
    ")\n",
    "fig.update_xaxes(tickangle=-45)\n",
    "fig.update_yaxes(tickformat=\",.0f\")\n",
    "\n",
    "fig.show()\n",
    "\n",
    "# 파일로 저장하고 싶으면:\n",
    "# fig.write_html(\"capacity_2024_line.html\", include_plotlyjs=\"cdn\")\n"
   ]
  },
  {
   "cell_type": "code",
   "execution_count": 10,
   "id": "a23d57b0",
   "metadata": {},
   "outputs": [
    {
     "data": {
      "text/html": [
       "<div>\n",
       "<style scoped>\n",
       "    .dataframe tbody tr th:only-of-type {\n",
       "        vertical-align: middle;\n",
       "    }\n",
       "\n",
       "    .dataframe tbody tr th {\n",
       "        vertical-align: top;\n",
       "    }\n",
       "\n",
       "    .dataframe thead th {\n",
       "        text-align: right;\n",
       "    }\n",
       "</style>\n",
       "<table border=\"1\" class=\"dataframe\">\n",
       "  <thead>\n",
       "    <tr style=\"text-align: right;\">\n",
       "      <th></th>\n",
       "      <th>연도</th>\n",
       "      <th>서울</th>\n",
       "      <th>부산</th>\n",
       "      <th>대구</th>\n",
       "      <th>인천</th>\n",
       "      <th>광주</th>\n",
       "      <th>대전</th>\n",
       "      <th>울산</th>\n",
       "      <th>세종</th>\n",
       "      <th>경기</th>\n",
       "      <th>충북</th>\n",
       "      <th>충남</th>\n",
       "      <th>전남</th>\n",
       "      <th>경북</th>\n",
       "      <th>경남</th>\n",
       "      <th>제주</th>\n",
       "      <th>강원</th>\n",
       "      <th>전북</th>\n",
       "      <th>합계</th>\n",
       "    </tr>\n",
       "  </thead>\n",
       "  <tbody>\n",
       "    <tr>\n",
       "      <th>0</th>\n",
       "      <td>2024</td>\n",
       "      <td>50</td>\n",
       "      <td>275</td>\n",
       "      <td>420</td>\n",
       "      <td>163</td>\n",
       "      <td>353</td>\n",
       "      <td>65</td>\n",
       "      <td>152</td>\n",
       "      <td>88</td>\n",
       "      <td>2012</td>\n",
       "      <td>1613</td>\n",
       "      <td>3772</td>\n",
       "      <td>6023</td>\n",
       "      <td>3842</td>\n",
       "      <td>2016</td>\n",
       "      <td>621</td>\n",
       "      <td>1943</td>\n",
       "      <td>4590</td>\n",
       "      <td>27998</td>\n",
       "    </tr>\n",
       "    <tr>\n",
       "      <th>1</th>\n",
       "      <td>2023</td>\n",
       "      <td>50</td>\n",
       "      <td>234</td>\n",
       "      <td>339</td>\n",
       "      <td>139</td>\n",
       "      <td>303</td>\n",
       "      <td>55</td>\n",
       "      <td>122</td>\n",
       "      <td>78</td>\n",
       "      <td>1672</td>\n",
       "      <td>1408</td>\n",
       "      <td>3072</td>\n",
       "      <td>5410</td>\n",
       "      <td>3324</td>\n",
       "      <td>1745</td>\n",
       "      <td>610</td>\n",
       "      <td>1760</td>\n",
       "      <td>4304</td>\n",
       "      <td>24625</td>\n",
       "    </tr>\n",
       "    <tr>\n",
       "      <th>2</th>\n",
       "      <td>2022</td>\n",
       "      <td>48</td>\n",
       "      <td>202</td>\n",
       "      <td>297</td>\n",
       "      <td>124</td>\n",
       "      <td>274</td>\n",
       "      <td>50</td>\n",
       "      <td>99</td>\n",
       "      <td>70</td>\n",
       "      <td>1459</td>\n",
       "      <td>1240</td>\n",
       "      <td>2798</td>\n",
       "      <td>4568</td>\n",
       "      <td>2886</td>\n",
       "      <td>1564</td>\n",
       "      <td>587</td>\n",
       "      <td>1612</td>\n",
       "      <td>3995</td>\n",
       "      <td>21873</td>\n",
       "    </tr>\n",
       "    <tr>\n",
       "      <th>3</th>\n",
       "      <td>2021</td>\n",
       "      <td>44</td>\n",
       "      <td>170</td>\n",
       "      <td>265</td>\n",
       "      <td>110</td>\n",
       "      <td>249</td>\n",
       "      <td>46</td>\n",
       "      <td>87</td>\n",
       "      <td>62</td>\n",
       "      <td>1278</td>\n",
       "      <td>1065</td>\n",
       "      <td>2522</td>\n",
       "      <td>3911</td>\n",
       "      <td>2409</td>\n",
       "      <td>1347</td>\n",
       "      <td>549</td>\n",
       "      <td>1408</td>\n",
       "      <td>3357</td>\n",
       "      <td>18879</td>\n",
       "    </tr>\n",
       "    <tr>\n",
       "      <th>4</th>\n",
       "      <td>2020</td>\n",
       "      <td>41</td>\n",
       "      <td>144</td>\n",
       "      <td>200</td>\n",
       "      <td>100</td>\n",
       "      <td>215</td>\n",
       "      <td>39</td>\n",
       "      <td>69</td>\n",
       "      <td>55</td>\n",
       "      <td>1056</td>\n",
       "      <td>846</td>\n",
       "      <td>2038</td>\n",
       "      <td>3054</td>\n",
       "      <td>1771</td>\n",
       "      <td>1085</td>\n",
       "      <td>425</td>\n",
       "      <td>1105</td>\n",
       "      <td>2559</td>\n",
       "      <td>14802</td>\n",
       "    </tr>\n",
       "  </tbody>\n",
       "</table>\n",
       "</div>"
      ],
      "text/plain": [
       "     연도  서울   부산   대구   인천   광주  대전   울산  세종    경기    충북    충남    전남    경북  \\\n",
       "0  2024  50  275  420  163  353  65  152  88  2012  1613  3772  6023  3842   \n",
       "1  2023  50  234  339  139  303  55  122  78  1672  1408  3072  5410  3324   \n",
       "2  2022  48  202  297  124  274  50   99  70  1459  1240  2798  4568  2886   \n",
       "3  2021  44  170  265  110  249  46   87  62  1278  1065  2522  3911  2409   \n",
       "4  2020  41  144  200  100  215  39   69  55  1056   846  2038  3054  1771   \n",
       "\n",
       "     경남   제주    강원    전북     합계  \n",
       "0  2016  621  1943  4590  27998  \n",
       "1  1745  610  1760  4304  24625  \n",
       "2  1564  587  1612  3995  21873  \n",
       "3  1347  549  1408  3357  18879  \n",
       "4  1085  425  1105  2559  14802  "
      ]
     },
     "execution_count": 10,
     "metadata": {},
     "output_type": "execute_result"
    }
   ],
   "source": [
    "pd.read_excel(\"dataset/지역별_연도별_설비용량.xlsx\")"
   ]
  },
  {
   "cell_type": "code",
   "execution_count": 11,
   "id": "76478dad",
   "metadata": {},
   "outputs": [
    {
     "data": {
      "text/html": [
       "<div>\n",
       "<style scoped>\n",
       "    .dataframe tbody tr th:only-of-type {\n",
       "        vertical-align: middle;\n",
       "    }\n",
       "\n",
       "    .dataframe tbody tr th {\n",
       "        vertical-align: top;\n",
       "    }\n",
       "\n",
       "    .dataframe thead th {\n",
       "        text-align: right;\n",
       "    }\n",
       "</style>\n",
       "<table border=\"1\" class=\"dataframe\">\n",
       "  <thead>\n",
       "    <tr style=\"text-align: right;\">\n",
       "      <th></th>\n",
       "      <th>연도</th>\n",
       "      <th>서울</th>\n",
       "      <th>부산</th>\n",
       "      <th>대구</th>\n",
       "      <th>인천</th>\n",
       "      <th>광주</th>\n",
       "      <th>대전</th>\n",
       "      <th>울산</th>\n",
       "      <th>세종</th>\n",
       "      <th>경기</th>\n",
       "      <th>충북</th>\n",
       "      <th>충남</th>\n",
       "      <th>전남</th>\n",
       "      <th>경북</th>\n",
       "      <th>경남</th>\n",
       "      <th>제주</th>\n",
       "      <th>강원</th>\n",
       "      <th>전북</th>\n",
       "      <th>합계</th>\n",
       "    </tr>\n",
       "  </thead>\n",
       "  <tbody>\n",
       "    <tr>\n",
       "      <th>0</th>\n",
       "      <td>2024</td>\n",
       "      <td>454992</td>\n",
       "      <td>1584748</td>\n",
       "      <td>1962317</td>\n",
       "      <td>910178</td>\n",
       "      <td>2054262</td>\n",
       "      <td>372182</td>\n",
       "      <td>653470</td>\n",
       "      <td>524858</td>\n",
       "      <td>9209968</td>\n",
       "      <td>8280679</td>\n",
       "      <td>20170041</td>\n",
       "      <td>34738869</td>\n",
       "      <td>19298394</td>\n",
       "      <td>10914932</td>\n",
       "      <td>3712238</td>\n",
       "      <td>11167641</td>\n",
       "      <td>28815406</td>\n",
       "      <td>154825183</td>\n",
       "    </tr>\n",
       "    <tr>\n",
       "      <th>1</th>\n",
       "      <td>2023</td>\n",
       "      <td>397620</td>\n",
       "      <td>1296806</td>\n",
       "      <td>1518891</td>\n",
       "      <td>747103</td>\n",
       "      <td>1694113</td>\n",
       "      <td>305236</td>\n",
       "      <td>503506</td>\n",
       "      <td>437543</td>\n",
       "      <td>7143971</td>\n",
       "      <td>6533179</td>\n",
       "      <td>15870905</td>\n",
       "      <td>27619683</td>\n",
       "      <td>14957803</td>\n",
       "      <td>8711121</td>\n",
       "      <td>3077732</td>\n",
       "      <td>8984358</td>\n",
       "      <td>23235897</td>\n",
       "      <td>123035475</td>\n",
       "    </tr>\n",
       "    <tr>\n",
       "      <th>2</th>\n",
       "      <td>2022</td>\n",
       "      <td>341328</td>\n",
       "      <td>1056914</td>\n",
       "      <td>1166405</td>\n",
       "      <td>614164</td>\n",
       "      <td>1386507</td>\n",
       "      <td>249449</td>\n",
       "      <td>388527</td>\n",
       "      <td>358492</td>\n",
       "      <td>5478859</td>\n",
       "      <td>4990438</td>\n",
       "      <td>12385263</td>\n",
       "      <td>21236718</td>\n",
       "      <td>11154610</td>\n",
       "      <td>6771133</td>\n",
       "      <td>2429222</td>\n",
       "      <td>6964022</td>\n",
       "      <td>17956708</td>\n",
       "      <td>94928767</td>\n",
       "    </tr>\n",
       "    <tr>\n",
       "      <th>3</th>\n",
       "      <td>2021</td>\n",
       "      <td>284628</td>\n",
       "      <td>854401</td>\n",
       "      <td>851754</td>\n",
       "      <td>489619</td>\n",
       "      <td>1087788</td>\n",
       "      <td>196895</td>\n",
       "      <td>282818</td>\n",
       "      <td>287876</td>\n",
       "      <td>4001713</td>\n",
       "      <td>3603271</td>\n",
       "      <td>9087437</td>\n",
       "      <td>15534479</td>\n",
       "      <td>7826973</td>\n",
       "      <td>4971554</td>\n",
       "      <td>1763312</td>\n",
       "      <td>5086129</td>\n",
       "      <td>12875255</td>\n",
       "      <td>69085910</td>\n",
       "    </tr>\n",
       "    <tr>\n",
       "      <th>4</th>\n",
       "      <td>2020</td>\n",
       "      <td>232973</td>\n",
       "      <td>687334</td>\n",
       "      <td>598182</td>\n",
       "      <td>375544</td>\n",
       "      <td>837087</td>\n",
       "      <td>155021</td>\n",
       "      <td>195240</td>\n",
       "      <td>224741</td>\n",
       "      <td>2768139</td>\n",
       "      <td>2462795</td>\n",
       "      <td>6310846</td>\n",
       "      <td>10918067</td>\n",
       "      <td>5318784</td>\n",
       "      <td>3562221</td>\n",
       "      <td>1189794</td>\n",
       "      <td>3488999</td>\n",
       "      <td>9022902</td>\n",
       "      <td>48348677</td>\n",
       "    </tr>\n",
       "  </tbody>\n",
       "</table>\n",
       "</div>"
      ],
      "text/plain": [
       "     연도      서울       부산       대구      인천       광주      대전      울산      세종  \\\n",
       "0  2024  454992  1584748  1962317  910178  2054262  372182  653470  524858   \n",
       "1  2023  397620  1296806  1518891  747103  1694113  305236  503506  437543   \n",
       "2  2022  341328  1056914  1166405  614164  1386507  249449  388527  358492   \n",
       "3  2021  284628   854401   851754  489619  1087788  196895  282818  287876   \n",
       "4  2020  232973   687334   598182  375544   837087  155021  195240  224741   \n",
       "\n",
       "        경기       충북        충남        전남        경북        경남       제주  \\\n",
       "0  9209968  8280679  20170041  34738869  19298394  10914932  3712238   \n",
       "1  7143971  6533179  15870905  27619683  14957803   8711121  3077732   \n",
       "2  5478859  4990438  12385263  21236718  11154610   6771133  2429222   \n",
       "3  4001713  3603271   9087437  15534479   7826973   4971554  1763312   \n",
       "4  2768139  2462795   6310846  10918067   5318784   3562221  1189794   \n",
       "\n",
       "         강원        전북         합계  \n",
       "0  11167641  28815406  154825183  \n",
       "1   8984358  23235897  123035475  \n",
       "2   6964022  17956708   94928767  \n",
       "3   5086129  12875255   69085910  \n",
       "4   3488999   9022902   48348677  "
      ]
     },
     "execution_count": 11,
     "metadata": {},
     "output_type": "execute_result"
    }
   ],
   "source": [
    "pd.read_excel(\"dataset/지역별_연도별_발전량.xlsx\")"
   ]
  },
  {
   "cell_type": "code",
   "execution_count": 68,
   "id": "e23bf284",
   "metadata": {},
   "outputs": [
    {
     "name": "stdout",
     "output_type": "stream",
     "text": [
      "      연도  지역  설비용량(MW)  발전량(MWh)   설비이용률(%)\n",
      "0   2024  서울        50     57372  13.098630\n",
      "1   2024  대구       420    443426  12.052240\n",
      "2   2024  광주       353    360149  11.646714\n",
      "3   2024  경남      2016   2203811  12.478998\n",
      "4   2024  전남      6023   7119186  13.493151\n",
      "5   2024  울산       152    149964  11.262617\n",
      "6   2024  인천       163    163075  11.420778\n",
      "7   2024  제주       621    634506  11.663799\n",
      "8   2024  경북      3842   4340591  12.896961\n",
      "9   2024  충남      3772   4299136  13.010842\n",
      "10  2024  강원      1943   2183283  12.827237\n",
      "11  2024  세종        88     87315  11.326666\n",
      "12  2024  부산       275    287942  11.952760\n",
      "13  2024  전북      4590   5579509  13.876476\n",
      "14  2024  충북      1613   1747500  12.367409\n",
      "15  2024  경기      2012   2065997  11.721889\n",
      "16  2024  대전        65     66946  11.757288\n",
      "17  2023  충남      3072   3485642  12.952615\n",
      "18  2023  울산       122    114979  10.758571\n",
      "19  2023  세종        78     79051  11.569342\n"
     ]
    }
   ],
   "source": [
    "import pandas as pd\n",
    "\n",
    "# 엑셀 불러오기\n",
    "capacity = pd.read_excel(\"dataset/지역별_연도별_설비용량.xlsx\")\n",
    "generation = pd.read_excel(\"dataset/지역별_연도별_발전량.xlsx\")\n",
    "\n",
    "# 설비용량 long 변환 (합계 제외)\n",
    "cap_long = capacity.drop(columns=[\"합계\"]).melt(\n",
    "    id_vars=[\"연도\"], var_name=\"지역\", value_name=\"설비용량(MW)\"\n",
    ")\n",
    "\n",
    "# 발전량 long 변환 (합계 제외)\n",
    "gen_long = generation.drop(columns=[\"합계\"]).melt(\n",
    "    id_vars=[\"연도\"], var_name=\"지역\", value_name=\"발전량(MWh)\"\n",
    ")\n",
    "\n",
    "# 데이터 합치기\n",
    "merged = pd.merge(cap_long, gen_long, on=[\"연도\", \"지역\"])\n",
    "\n",
    "# 설비 이용률 계산\n",
    "merged[\"설비이용률(%)\"] = merged[\"발전량(MWh)\"] / (merged[\"설비용량(MW)\"] * 8760) * 100\n",
    "\n",
    "# 연도 기준 내림차순 (2024 → 2020)\n",
    "merged_sorted = merged.sort_values(by=\"연도\", ascending=False)\n",
    "\n",
    "# 인덱스 초기화\n",
    "merged_sorted = merged_sorted.reset_index(drop=True)\n",
    "\n",
    "print(merged_sorted.head(20))  # 상위 20개 확인\n",
    "\n",
    "merged_sorted.to_excel(\"dataset/합친데이터.xlsx\", index=False, engine=\"openpyxl\")\n"
   ]
  },
  {
   "cell_type": "code",
   "execution_count": 73,
   "id": "df539069",
   "metadata": {},
   "outputs": [
    {
     "data": {
      "application/vnd.plotly.v1+json": {
       "config": {
        "plotlyServerURL": "https://plot.ly"
       },
       "data": [
        {
         "customdata": [
          [
           57372,
           "확대 잠재력 (2사분면)"
          ],
          [
           1747500,
           "확대 잠재력 (2사분면)"
          ]
         ],
         "hovertemplate": "<b>%{hovertext}</b><br><br>구분=%{customdata[1]}<br>설비용량(MW)=%{x:,}<br>설비이용률(%)=%{y:.2f}<br>발전량(MWh)=%{customdata[0]:,}<br>지역=%{text}<extra></extra>",
         "hovertext": [
          "서울",
          "충북"
         ],
         "legendgroup": "확대 잠재력 (2사분면)",
         "marker": {
          "color": "#1f77b4",
          "size": {
           "bdata": "HOAAACyqGgA=",
           "dtype": "i4"
          },
          "sizemode": "area",
          "sizeref": 494.3879166666667,
          "symbol": "circle"
         },
         "mode": "markers+text",
         "name": "확대 잠재력 (2사분면)",
         "orientation": "v",
         "showlegend": true,
         "text": [
          "서울",
          "충북"
         ],
         "textfont": {
          "color": "white",
          "size": [
           8,
           8
          ]
         },
         "textposition": "middle center",
         "type": "scatter",
         "x": {
          "bdata": "MgBNBg==",
          "dtype": "i2"
         },
         "xaxis": "x",
         "y": {
          "bdata": "J4M5pn8yKkAcrz38HLwoQA==",
          "dtype": "f8"
         },
         "yaxis": "y"
        },
        {
         "customdata": [
          [
           443426,
           "관심 필요 (3사분면)"
          ],
          [
           360149,
           "관심 필요 (3사분면)"
          ],
          [
           149964,
           "관심 필요 (3사분면)"
          ],
          [
           163075,
           "관심 필요 (3사분면)"
          ],
          [
           634506,
           "관심 필요 (3사분면)"
          ],
          [
           87315,
           "관심 필요 (3사분면)"
          ],
          [
           287942,
           "관심 필요 (3사분면)"
          ],
          [
           66946,
           "관심 필요 (3사분면)"
          ]
         ],
         "hovertemplate": "<b>%{hovertext}</b><br><br>구분=%{customdata[1]}<br>설비용량(MW)=%{x:,}<br>설비이용률(%)=%{y:.2f}<br>발전량(MWh)=%{customdata[0]:,}<br>지역=%{text}<extra></extra>",
         "hovertext": [
          "대구",
          "광주",
          "울산",
          "인천",
          "제주",
          "세종",
          "부산",
          "대전"
         ],
         "legendgroup": "관심 필요 (3사분면)",
         "marker": {
          "color": "#9467bd",
          "size": {
           "bdata": "IsQGANV+BQDMSQIAA30CAIquCQATVQEAxmQEAIIFAQA=",
           "dtype": "i4"
          },
          "sizemode": "area",
          "sizeref": 494.3879166666667,
          "symbol": "circle"
         },
         "mode": "markers+text",
         "name": "관심 필요 (3사분면)",
         "orientation": "v",
         "showlegend": true,
         "text": [
          "대구",
          "광주",
          "울산",
          "인천",
          "제주",
          "세종",
          "부산",
          "대전"
         ],
         "textfont": {
          "color": "white",
          "size": [
           8,
           8,
           8,
           8,
           8,
           8,
           8,
           8
          ]
         },
         "textposition": "middle center",
         "type": "scatter",
         "x": {
          "bdata": "pAFhAZgAowBtAlgAEwFBAA==",
          "dtype": "i2"
         },
         "xaxis": "x",
         "y": {
          "bdata": "rMmvJr8aKECUjZoQHksnQGdwncF1hiZAzSBCK3DXJkAdilt23VMnQEaiobdApyZAICrKONDnJ0A8mD1Nu4MnQA==",
          "dtype": "f8"
         },
         "yaxis": "y"
        },
        {
         "customdata": [
          [
           2203811,
           "성과 우수 (1사분면)"
          ],
          [
           7119186,
           "성과 우수 (1사분면)"
          ],
          [
           4340591,
           "성과 우수 (1사분면)"
          ],
          [
           4299136,
           "성과 우수 (1사분면)"
          ],
          [
           2183283,
           "성과 우수 (1사분면)"
          ],
          [
           5579509,
           "성과 우수 (1사분면)"
          ]
         ],
         "hovertemplate": "<b>%{hovertext}</b><br><br>구분=%{customdata[1]}<br>설비용량(MW)=%{x:,}<br>설비이용률(%)=%{y:.2f}<br>발전량(MWh)=%{customdata[0]:,}<br>지역=%{text}<extra></extra>",
         "hovertext": [
          "경남",
          "전남",
          "경북",
          "충남",
          "강원",
          "전북"
         ],
         "legendgroup": "성과 우수 (1사분면)",
         "marker": {
          "color": "#2ca02c",
          "size": {
           "bdata": "o6AhAFKhbABvO0IAgJlBAHNQIQD1IlUA",
           "dtype": "i4"
          },
          "sizemode": "area",
          "sizeref": 494.3879166666667,
          "symbol": "circle"
         },
         "mode": "markers+text",
         "name": "성과 우수 (1사분면)",
         "orientation": "v",
         "showlegend": true,
         "text": [
          "경남",
          "전남",
          "경북",
          "충남",
          "강원",
          "전북"
         ],
         "textfont": {
          "color": "white",
          "size": [
           8,
           8,
           8,
           8,
           8,
           8
          ]
         },
         "textposition": "middle center",
         "type": "scatter",
         "x": {
          "bdata": "4AeHFwIPvA6XB+4R",
          "dtype": "i2"
         },
         "xaxis": "x",
         "y": {
          "bdata": "1M1PNz/1KEDIjx8/fvwqQEZQL4U+yylA1OjWC40FKkCG/Aiji6cpQD6GWHjBwCtA",
          "dtype": "f8"
         },
         "yaxis": "y"
        },
        {
         "customdata": [
          [
           2065997,
           "성능 개선 필요 (4사분면)"
          ]
         ],
         "hovertemplate": "<b>%{hovertext}</b><br><br>구분=%{customdata[1]}<br>설비용량(MW)=%{x:,}<br>설비이용률(%)=%{y:.2f}<br>발전량(MWh)=%{customdata[0]:,}<br>지역=%{text}<extra></extra>",
         "hovertext": [
          "경기"
         ],
         "legendgroup": "성능 개선 필요 (4사분면)",
         "marker": {
          "color": "#d62728",
          "size": {
           "bdata": "TYYfAA==",
           "dtype": "i4"
          },
          "sizemode": "area",
          "sizeref": 494.3879166666667,
          "symbol": "circle"
         },
         "mode": "markers+text",
         "name": "성능 개선 필요 (4사분면)",
         "orientation": "v",
         "showlegend": true,
         "text": [
          "경기"
         ],
         "textfont": {
          "color": "white",
          "size": [
           8
          ]
         },
         "textposition": "middle center",
         "type": "scatter",
         "x": {
          "bdata": "3Ac=",
          "dtype": "i2"
         },
         "xaxis": "x",
         "y": {
          "bdata": "9wXibptxJ0A=",
          "dtype": "f8"
         },
         "yaxis": "y"
        }
       ],
       "layout": {
        "annotations": [
         {
          "showarrow": false,
          "text": "평균 이용률 12.29%",
          "x": 1,
          "xanchor": "right",
          "xref": "x domain",
          "y": 12.285556141719603,
          "yanchor": "bottom",
          "yref": "y"
         },
         {
          "showarrow": false,
          "text": "평균 용량 1,647MW",
          "x": 1646.9411764705883,
          "xanchor": "left",
          "xref": "x",
          "y": 1,
          "yanchor": "top",
          "yref": "y domain"
         }
        ],
        "legend": {
         "itemsizing": "constant",
         "title": {
          "text": "구분"
         },
         "tracegroupgap": 0
        },
        "shapes": [
         {
          "line": {
           "dash": "dash"
          },
          "type": "line",
          "x0": 0,
          "x1": 1,
          "xref": "x domain",
          "y0": 12.285556141719603,
          "y1": 12.285556141719603,
          "yref": "y"
         },
         {
          "line": {
           "dash": "dash"
          },
          "type": "line",
          "x0": 1646.9411764705883,
          "x1": 1646.9411764705883,
          "xref": "x",
          "y0": 0,
          "y1": 1,
          "yref": "y domain"
         }
        ],
        "template": {
         "data": {
          "bar": [
           {
            "error_x": {
             "color": "#2a3f5f"
            },
            "error_y": {
             "color": "#2a3f5f"
            },
            "marker": {
             "line": {
              "color": "white",
              "width": 0.5
             },
             "pattern": {
              "fillmode": "overlay",
              "size": 10,
              "solidity": 0.2
             }
            },
            "type": "bar"
           }
          ],
          "barpolar": [
           {
            "marker": {
             "line": {
              "color": "white",
              "width": 0.5
             },
             "pattern": {
              "fillmode": "overlay",
              "size": 10,
              "solidity": 0.2
             }
            },
            "type": "barpolar"
           }
          ],
          "carpet": [
           {
            "aaxis": {
             "endlinecolor": "#2a3f5f",
             "gridcolor": "#C8D4E3",
             "linecolor": "#C8D4E3",
             "minorgridcolor": "#C8D4E3",
             "startlinecolor": "#2a3f5f"
            },
            "baxis": {
             "endlinecolor": "#2a3f5f",
             "gridcolor": "#C8D4E3",
             "linecolor": "#C8D4E3",
             "minorgridcolor": "#C8D4E3",
             "startlinecolor": "#2a3f5f"
            },
            "type": "carpet"
           }
          ],
          "choropleth": [
           {
            "colorbar": {
             "outlinewidth": 0,
             "ticks": ""
            },
            "type": "choropleth"
           }
          ],
          "contour": [
           {
            "colorbar": {
             "outlinewidth": 0,
             "ticks": ""
            },
            "colorscale": [
             [
              0,
              "#0d0887"
             ],
             [
              0.1111111111111111,
              "#46039f"
             ],
             [
              0.2222222222222222,
              "#7201a8"
             ],
             [
              0.3333333333333333,
              "#9c179e"
             ],
             [
              0.4444444444444444,
              "#bd3786"
             ],
             [
              0.5555555555555556,
              "#d8576b"
             ],
             [
              0.6666666666666666,
              "#ed7953"
             ],
             [
              0.7777777777777778,
              "#fb9f3a"
             ],
             [
              0.8888888888888888,
              "#fdca26"
             ],
             [
              1,
              "#f0f921"
             ]
            ],
            "type": "contour"
           }
          ],
          "contourcarpet": [
           {
            "colorbar": {
             "outlinewidth": 0,
             "ticks": ""
            },
            "type": "contourcarpet"
           }
          ],
          "heatmap": [
           {
            "colorbar": {
             "outlinewidth": 0,
             "ticks": ""
            },
            "colorscale": [
             [
              0,
              "#0d0887"
             ],
             [
              0.1111111111111111,
              "#46039f"
             ],
             [
              0.2222222222222222,
              "#7201a8"
             ],
             [
              0.3333333333333333,
              "#9c179e"
             ],
             [
              0.4444444444444444,
              "#bd3786"
             ],
             [
              0.5555555555555556,
              "#d8576b"
             ],
             [
              0.6666666666666666,
              "#ed7953"
             ],
             [
              0.7777777777777778,
              "#fb9f3a"
             ],
             [
              0.8888888888888888,
              "#fdca26"
             ],
             [
              1,
              "#f0f921"
             ]
            ],
            "type": "heatmap"
           }
          ],
          "histogram": [
           {
            "marker": {
             "pattern": {
              "fillmode": "overlay",
              "size": 10,
              "solidity": 0.2
             }
            },
            "type": "histogram"
           }
          ],
          "histogram2d": [
           {
            "colorbar": {
             "outlinewidth": 0,
             "ticks": ""
            },
            "colorscale": [
             [
              0,
              "#0d0887"
             ],
             [
              0.1111111111111111,
              "#46039f"
             ],
             [
              0.2222222222222222,
              "#7201a8"
             ],
             [
              0.3333333333333333,
              "#9c179e"
             ],
             [
              0.4444444444444444,
              "#bd3786"
             ],
             [
              0.5555555555555556,
              "#d8576b"
             ],
             [
              0.6666666666666666,
              "#ed7953"
             ],
             [
              0.7777777777777778,
              "#fb9f3a"
             ],
             [
              0.8888888888888888,
              "#fdca26"
             ],
             [
              1,
              "#f0f921"
             ]
            ],
            "type": "histogram2d"
           }
          ],
          "histogram2dcontour": [
           {
            "colorbar": {
             "outlinewidth": 0,
             "ticks": ""
            },
            "colorscale": [
             [
              0,
              "#0d0887"
             ],
             [
              0.1111111111111111,
              "#46039f"
             ],
             [
              0.2222222222222222,
              "#7201a8"
             ],
             [
              0.3333333333333333,
              "#9c179e"
             ],
             [
              0.4444444444444444,
              "#bd3786"
             ],
             [
              0.5555555555555556,
              "#d8576b"
             ],
             [
              0.6666666666666666,
              "#ed7953"
             ],
             [
              0.7777777777777778,
              "#fb9f3a"
             ],
             [
              0.8888888888888888,
              "#fdca26"
             ],
             [
              1,
              "#f0f921"
             ]
            ],
            "type": "histogram2dcontour"
           }
          ],
          "mesh3d": [
           {
            "colorbar": {
             "outlinewidth": 0,
             "ticks": ""
            },
            "type": "mesh3d"
           }
          ],
          "parcoords": [
           {
            "line": {
             "colorbar": {
              "outlinewidth": 0,
              "ticks": ""
             }
            },
            "type": "parcoords"
           }
          ],
          "pie": [
           {
            "automargin": true,
            "type": "pie"
           }
          ],
          "scatter": [
           {
            "fillpattern": {
             "fillmode": "overlay",
             "size": 10,
             "solidity": 0.2
            },
            "type": "scatter"
           }
          ],
          "scatter3d": [
           {
            "line": {
             "colorbar": {
              "outlinewidth": 0,
              "ticks": ""
             }
            },
            "marker": {
             "colorbar": {
              "outlinewidth": 0,
              "ticks": ""
             }
            },
            "type": "scatter3d"
           }
          ],
          "scattercarpet": [
           {
            "marker": {
             "colorbar": {
              "outlinewidth": 0,
              "ticks": ""
             }
            },
            "type": "scattercarpet"
           }
          ],
          "scattergeo": [
           {
            "marker": {
             "colorbar": {
              "outlinewidth": 0,
              "ticks": ""
             }
            },
            "type": "scattergeo"
           }
          ],
          "scattergl": [
           {
            "marker": {
             "colorbar": {
              "outlinewidth": 0,
              "ticks": ""
             }
            },
            "type": "scattergl"
           }
          ],
          "scattermap": [
           {
            "marker": {
             "colorbar": {
              "outlinewidth": 0,
              "ticks": ""
             }
            },
            "type": "scattermap"
           }
          ],
          "scattermapbox": [
           {
            "marker": {
             "colorbar": {
              "outlinewidth": 0,
              "ticks": ""
             }
            },
            "type": "scattermapbox"
           }
          ],
          "scatterpolar": [
           {
            "marker": {
             "colorbar": {
              "outlinewidth": 0,
              "ticks": ""
             }
            },
            "type": "scatterpolar"
           }
          ],
          "scatterpolargl": [
           {
            "marker": {
             "colorbar": {
              "outlinewidth": 0,
              "ticks": ""
             }
            },
            "type": "scatterpolargl"
           }
          ],
          "scatterternary": [
           {
            "marker": {
             "colorbar": {
              "outlinewidth": 0,
              "ticks": ""
             }
            },
            "type": "scatterternary"
           }
          ],
          "surface": [
           {
            "colorbar": {
             "outlinewidth": 0,
             "ticks": ""
            },
            "colorscale": [
             [
              0,
              "#0d0887"
             ],
             [
              0.1111111111111111,
              "#46039f"
             ],
             [
              0.2222222222222222,
              "#7201a8"
             ],
             [
              0.3333333333333333,
              "#9c179e"
             ],
             [
              0.4444444444444444,
              "#bd3786"
             ],
             [
              0.5555555555555556,
              "#d8576b"
             ],
             [
              0.6666666666666666,
              "#ed7953"
             ],
             [
              0.7777777777777778,
              "#fb9f3a"
             ],
             [
              0.8888888888888888,
              "#fdca26"
             ],
             [
              1,
              "#f0f921"
             ]
            ],
            "type": "surface"
           }
          ],
          "table": [
           {
            "cells": {
             "fill": {
              "color": "#EBF0F8"
             },
             "line": {
              "color": "white"
             }
            },
            "header": {
             "fill": {
              "color": "#C8D4E3"
             },
             "line": {
              "color": "white"
             }
            },
            "type": "table"
           }
          ]
         },
         "layout": {
          "annotationdefaults": {
           "arrowcolor": "#2a3f5f",
           "arrowhead": 0,
           "arrowwidth": 1
          },
          "autotypenumbers": "strict",
          "coloraxis": {
           "colorbar": {
            "outlinewidth": 0,
            "ticks": ""
           }
          },
          "colorscale": {
           "diverging": [
            [
             0,
             "#8e0152"
            ],
            [
             0.1,
             "#c51b7d"
            ],
            [
             0.2,
             "#de77ae"
            ],
            [
             0.3,
             "#f1b6da"
            ],
            [
             0.4,
             "#fde0ef"
            ],
            [
             0.5,
             "#f7f7f7"
            ],
            [
             0.6,
             "#e6f5d0"
            ],
            [
             0.7,
             "#b8e186"
            ],
            [
             0.8,
             "#7fbc41"
            ],
            [
             0.9,
             "#4d9221"
            ],
            [
             1,
             "#276419"
            ]
           ],
           "sequential": [
            [
             0,
             "#0d0887"
            ],
            [
             0.1111111111111111,
             "#46039f"
            ],
            [
             0.2222222222222222,
             "#7201a8"
            ],
            [
             0.3333333333333333,
             "#9c179e"
            ],
            [
             0.4444444444444444,
             "#bd3786"
            ],
            [
             0.5555555555555556,
             "#d8576b"
            ],
            [
             0.6666666666666666,
             "#ed7953"
            ],
            [
             0.7777777777777778,
             "#fb9f3a"
            ],
            [
             0.8888888888888888,
             "#fdca26"
            ],
            [
             1,
             "#f0f921"
            ]
           ],
           "sequentialminus": [
            [
             0,
             "#0d0887"
            ],
            [
             0.1111111111111111,
             "#46039f"
            ],
            [
             0.2222222222222222,
             "#7201a8"
            ],
            [
             0.3333333333333333,
             "#9c179e"
            ],
            [
             0.4444444444444444,
             "#bd3786"
            ],
            [
             0.5555555555555556,
             "#d8576b"
            ],
            [
             0.6666666666666666,
             "#ed7953"
            ],
            [
             0.7777777777777778,
             "#fb9f3a"
            ],
            [
             0.8888888888888888,
             "#fdca26"
            ],
            [
             1,
             "#f0f921"
            ]
           ]
          },
          "colorway": [
           "#636efa",
           "#EF553B",
           "#00cc96",
           "#ab63fa",
           "#FFA15A",
           "#19d3f3",
           "#FF6692",
           "#B6E880",
           "#FF97FF",
           "#FECB52"
          ],
          "font": {
           "color": "#2a3f5f"
          },
          "geo": {
           "bgcolor": "white",
           "lakecolor": "white",
           "landcolor": "white",
           "showlakes": true,
           "showland": true,
           "subunitcolor": "#C8D4E3"
          },
          "hoverlabel": {
           "align": "left"
          },
          "hovermode": "closest",
          "mapbox": {
           "style": "light"
          },
          "paper_bgcolor": "white",
          "plot_bgcolor": "white",
          "polar": {
           "angularaxis": {
            "gridcolor": "#EBF0F8",
            "linecolor": "#EBF0F8",
            "ticks": ""
           },
           "bgcolor": "white",
           "radialaxis": {
            "gridcolor": "#EBF0F8",
            "linecolor": "#EBF0F8",
            "ticks": ""
           }
          },
          "scene": {
           "xaxis": {
            "backgroundcolor": "white",
            "gridcolor": "#DFE8F3",
            "gridwidth": 2,
            "linecolor": "#EBF0F8",
            "showbackground": true,
            "ticks": "",
            "zerolinecolor": "#EBF0F8"
           },
           "yaxis": {
            "backgroundcolor": "white",
            "gridcolor": "#DFE8F3",
            "gridwidth": 2,
            "linecolor": "#EBF0F8",
            "showbackground": true,
            "ticks": "",
            "zerolinecolor": "#EBF0F8"
           },
           "zaxis": {
            "backgroundcolor": "white",
            "gridcolor": "#DFE8F3",
            "gridwidth": 2,
            "linecolor": "#EBF0F8",
            "showbackground": true,
            "ticks": "",
            "zerolinecolor": "#EBF0F8"
           }
          },
          "shapedefaults": {
           "line": {
            "color": "#2a3f5f"
           }
          },
          "ternary": {
           "aaxis": {
            "gridcolor": "#DFE8F3",
            "linecolor": "#A2B1C6",
            "ticks": ""
           },
           "baxis": {
            "gridcolor": "#DFE8F3",
            "linecolor": "#A2B1C6",
            "ticks": ""
           },
           "bgcolor": "white",
           "caxis": {
            "gridcolor": "#DFE8F3",
            "linecolor": "#A2B1C6",
            "ticks": ""
           }
          },
          "title": {
           "x": 0.05
          },
          "xaxis": {
           "automargin": true,
           "gridcolor": "#EBF0F8",
           "linecolor": "#EBF0F8",
           "ticks": "",
           "title": {
            "standoff": 15
           },
           "zerolinecolor": "#EBF0F8",
           "zerolinewidth": 2
          },
          "yaxis": {
           "automargin": true,
           "gridcolor": "#EBF0F8",
           "linecolor": "#EBF0F8",
           "ticks": "",
           "title": {
            "standoff": 15
           },
           "zerolinecolor": "#EBF0F8",
           "zerolinewidth": 2
          }
         }
        },
        "title": {
         "text": "2024년 지역별 설비용량 vs 설비이용률 (버블=발전량, 사분면 구분)"
        },
        "xaxis": {
         "anchor": "y",
         "domain": [
          0,
          1
         ],
         "title": {
          "text": "설비용량 (MW)"
         }
        },
        "yaxis": {
         "anchor": "x",
         "domain": [
          0,
          1
         ],
         "title": {
          "text": "설비이용률 (%)"
         }
        }
       }
      }
     },
     "metadata": {},
     "output_type": "display_data"
    }
   ],
   "source": [
    "import numpy as np\n",
    "import pandas as pd\n",
    "import plotly.express as px\n",
    "\n",
    "# ===== 0) 2024 데이터 준비 =====\n",
    "df_2024 = merged_sorted[merged_sorted[\"연도\"] == 2024].copy()\n",
    "for col in [\"설비용량(MW)\", \"발전량(MWh)\", \"설비이용률(%)\"]:\n",
    "    df_2024[col] = pd.to_numeric(df_2024[col], errors=\"coerce\")\n",
    "df_2024 = df_2024.dropna(subset=[\"설비용량(MW)\", \"발전량(MWh)\", \"설비이용률(%)\"])\n",
    "\n",
    "mean_cap = df_2024[\"설비용량(MW)\"].mean()\n",
    "mean_cf  = df_2024[\"설비이용률(%)\"].mean()\n",
    "\n",
    "# ===== 1) 사분면 구분 =====\n",
    "def quadrant(row):\n",
    "    cap, cf = row[\"설비용량(MW)\"], row[\"설비이용률(%)\"]\n",
    "    if cap >= mean_cap and cf >= mean_cf:\n",
    "        return \"성과 우수 (1사분면)\"\n",
    "    elif cap < mean_cap and cf >= mean_cf:\n",
    "        return \"확대 잠재력 (2사분면)\"\n",
    "    elif cap >= mean_cap and cf < mean_cf:\n",
    "        return \"성능 개선 필요 (4사분면)\"\n",
    "    else:\n",
    "        return \"관심 필요 (3사분면)\"\n",
    "\n",
    "df_2024[\"구분\"] = df_2024.apply(quadrant, axis=1)\n",
    "\n",
    "colors = {\n",
    "    \"성과 우수 (1사분면)\": \"#2ca02c\",\n",
    "    \"확대 잠재력 (2사분면)\": \"#1f77b4\",\n",
    "    \"성능 개선 필요 (4사분면)\": \"#d62728\",\n",
    "    \"관심 필요 (3사분면)\": \"#9467bd\",\n",
    "}\n",
    "\n",
    "# ===== 2) 버블 차트 생성 (텍스트=지역, 중앙 배치) =====\n",
    "fig = px.scatter(\n",
    "    df_2024,\n",
    "    x=\"설비용량(MW)\",\n",
    "    y=\"설비이용률(%)\",\n",
    "    size=\"발전량(MWh)\",\n",
    "    color=\"구분\",\n",
    "    text=\"지역\",                  # 버블 안에 지역명\n",
    "    hover_name=\"지역\",\n",
    "    hover_data={\n",
    "        \"설비용량(MW)\": \":,\",\n",
    "        \"발전량(MWh)\": \":,\",\n",
    "        \"설비이용률(%)\": \":.2f\",\n",
    "        \"구분\": True\n",
    "    },\n",
    "    size_max=120,\n",
    "    color_discrete_map=colors,\n",
    "    title=\"2024년 지역별 설비용량 vs 설비이용률 (버블=발전량, 사분면 구분)\"\n",
    ")\n",
    "\n",
    "# 평균선(사분면 경계)\n",
    "fig.add_hline(y=mean_cf, line_dash=\"dash\", annotation_text=f\"평균 이용률 {mean_cf:.2f}%\")\n",
    "fig.add_vline(x=mean_cap, line_dash=\"dash\", annotation_text=f\"평균 용량 {mean_cap:,.0f}MW\")\n",
    "\n",
    "fig.update_layout(\n",
    "    template=\"plotly_white\",\n",
    "    xaxis_title=\"설비용량 (MW)\",\n",
    "    yaxis_title=\"설비이용률 (%)\",\n",
    "    legend_title=\"구분\",\n",
    ")\n",
    "\n",
    "# ===== 3) 실제 마커 '픽셀 크기'에 비례해 글자 크기 스케일링 =====\n",
    "# - Plotly Express는 trace를 색상별로 나누므로, 각 trace의 marker.size(픽셀 단위)를 사용\n",
    "# - 경험상 \"지름 * 0.38\" 정도가 보기 좋음. 최소/최대 글씨 크기 클리핑으로 가독성 보장.\n",
    "\n",
    "SCALE = 0.38   # 글씨크기 = (마커지름 px) * SCALE\n",
    "MIN_F = 8      # 최소 글씨 pt\n",
    "MAX_F = 8     # 최대 글씨 pt\n",
    "\n",
    "for tr in fig.data:\n",
    "    # tr.marker.size: 이 trace에 해당하는 각 점의 '지름(px)'로 환산된 값 배열\n",
    "    sizes_px = np.array(tr.marker.size, dtype=float)\n",
    "\n",
    "    # 지름(px) -> 글씨 크기(pt)\n",
    "    text_sizes = sizes_px * SCALE\n",
    "    text_sizes = np.clip(text_sizes, MIN_F, MAX_F)\n",
    "\n",
    "    # 가운데 배치 + 색상(흰색) 적용\n",
    "    tr.textposition = \"middle center\"\n",
    "    tr.textfont = dict(size=text_sizes.tolist(), color=\"white\")\n",
    "\n",
    "# (선택) 버블이 아주 작아 글씨가 안 보이면 size_max를 키우거나 MIN_F를 줄이세요.\n",
    "fig.show()\n",
    "\n",
    "fig.write_html(\"설비이용률.html\", include_plotlyjs=\"cdn\")\n"
   ]
  },
  {
   "cell_type": "code",
   "execution_count": 83,
   "id": "4a62089f",
   "metadata": {},
   "outputs": [
    {
     "name": "stdout",
     "output_type": "stream",
     "text": [
      "[OK] C:\\Users\\jk316\\project_renewable\\project_seasonal_renewable_energy\\renewable_dashboard.html 생성 완료! 브라우저로 열어보세요.\n"
     ]
    },
    {
     "data": {
      "text/plain": [
       "True"
      ]
     },
     "execution_count": 83,
     "metadata": {},
     "output_type": "execute_result"
    }
   ],
   "source": [
    "import re\n",
    "from pathlib import Path\n",
    "import webbrowser\n",
    "import plotly.io as pio\n",
    "from plotly.basedatatypes import BaseFigure\n",
    "\n",
    "# === 지도(fig_map) 제외한 피겨 목록 ===\n",
    "candidates = [\n",
    "    (\"성과/규모 버블 (2024)\", \"fig_bubble\"),\n",
    "    (\"2024 지역별 발전량\", \"area_2024_fig\"),\n",
    "    (\"연도별 평균 발전량\", \"year_mean_fig\"),\n",
    "    (\"연도별 평균 발전량 & YoY(%)\", \"fig_year_yoy\"),\n",
    "]\n",
    "\n",
    "def slugify(text: str) -> str:\n",
    "    return re.sub(r\"[^a-zA-Z0-9_-]+\", \"-\", text).strip(\"-\").lower()\n",
    "\n",
    "# 현재 네임스페이스에서 피겨 수집\n",
    "ns = {}\n",
    "ns.update(globals())\n",
    "try:\n",
    "    ns.update(locals())\n",
    "except Exception:\n",
    "    pass\n",
    "\n",
    "sections = []\n",
    "included_titles = []\n",
    "common_config = {\"displaylogo\": False}\n",
    "\n",
    "for title, var_name in candidates:\n",
    "    fig_obj = ns.get(var_name)\n",
    "    if not isinstance(fig_obj, BaseFigure):\n",
    "        continue\n",
    "    div_id = slugify(title)\n",
    "    snippet = pio.to_html(\n",
    "        fig_obj,\n",
    "        include_plotlyjs=False,      # plotly.js는 head에서 한 번만 로드\n",
    "        full_html=False,\n",
    "        div_id=div_id,\n",
    "        config=common_config,\n",
    "    )\n",
    "    sections.append(f\"\"\"\n",
    "    <section class=\"chart\">\n",
    "        <h2 id=\"{div_id}\">{title}</h2>\n",
    "        {snippet}\n",
    "    </section>\n",
    "    \"\"\")\n",
    "    included_titles.append(title)\n",
    "\n",
    "page_html = f\"\"\"<!doctype html>\n",
    "<html lang=\"ko\">\n",
    "<head>\n",
    "    <meta charset=\"utf-8\"/>\n",
    "    <title>재생에너지 대시보드</title>\n",
    "    <meta name=\"viewport\" content=\"width=device-width, initial-scale=1\"/>\n",
    "    <script src=\"https://cdn.plot.ly/plotly-latest.min.js\"></script>\n",
    "    <style>\n",
    "        body {{ font-family: -apple-system, BlinkMacSystemFont, \"Segoe UI\", Roboto, \"Noto Sans KR\", Arial, \"Apple SD Gothic Neo\", sans-serif; margin: 0; padding: 0 80px 80px; background: #fafafa; }}\n",
    "        header {{ position: sticky; top: 0; background: #ffffffcc; backdrop-filter: blur(6px); border-bottom: 1px solid #eee; }}\n",
    "        .container {{ max-width: 1280px; margin: 0 auto; padding: 16px 20px; }}\n",
    "        h1 {{ font-size: 20px; margin: 8px 0; }}\n",
    "        nav ul {{ display: flex; gap: 12px; list-style: none; padding: 0; margin: 8px 0 0; flex-wrap: wrap; }}\n",
    "        nav a {{ text-decoration: none; color: #0366d6; font-size: 14px; }}\n",
    "        .chart {{ max-width: 1200px; margin: 28px auto; background: #fff; padding: 16px; border-radius: 12px; box-shadow: 0 2px 12px rgba(0,0,0,.06); }}\n",
    "        .chart h2 {{ margin: 8px 6px 12px; font-size: 18px; }}\n",
    "        footer {{ text-align:center; color:#777; margin-top: 40px; }}\n",
    "    </style>\n",
    "    </head>\n",
    "    <body>\n",
    "    <header>\n",
    "        <div class=\"container\">\n",
    "        <h1>재생에너지 대시보드</h1>\n",
    "        <nav>\n",
    "            <ul>\n",
    "            { \"\".join([f'<li><a href=\"#{slugify(t)}\">{t}</a></li>' for t in included_titles]) }\n",
    "            </ul>\n",
    "        </nav>\n",
    "    </div>\n",
    "    </header>\n",
    "\n",
    "    <main class=\"container\">\n",
    "        { \"\".join(sections) if sections else \"<p>표시할 차트가 없습니다. 피겨 변수를 확인하세요.</p>\" }\n",
    "        <footer>© 대시보드</footer>\n",
    "    </main>\n",
    "</body>\n",
    "</html>\n",
    "\"\"\"\n",
    "\n",
    "output_path = Path(\"renewable_dashboard.html\").resolve()\n",
    "with open(output_path, \"w\", encoding=\"utf-8\") as f:\n",
    "    f.write(page_html)\n",
    "\n",
    "print(f\"[OK] {output_path} 생성 완료! 브라우저로 열어보세요.\")\n",
    "webbrowser.open(output_path.as_uri())\n"
   ]
  },
  {
   "cell_type": "code",
   "execution_count": 44,
   "id": "900b1b33",
   "metadata": {},
   "outputs": [
    {
     "name": "stdout",
     "output_type": "stream",
     "text": [
      "HTML saved -> tables_2024.html\n"
     ]
    },
    {
     "data": {
      "text/plain": [
       "True"
      ]
     },
     "execution_count": 44,
     "metadata": {},
     "output_type": "execute_result"
    }
   ],
   "source": [
    "import pandas as pd\n",
    "import numpy as np\n",
    "from datetime import date\n",
    "\n",
    "# === 전제: merged DataFrame 사용 (연도, 지역, 설비용량(MW), 발전량(MWh), 설비이용률(%)) ===\n",
    "df = merged.copy()\n",
    "\n",
    "# 숫자형 정리\n",
    "for col in [\"설비용량(MW)\", \"발전량(MWh)\", \"설비이용률(%)\"]:\n",
    "    df[col] = (\n",
    "        df[col].astype(str).str.replace(\",\", \"\", regex=False).str.strip()\n",
    "        .replace({\"\": np.nan, \"-\": np.nan})\n",
    "    )\n",
    "    df[col] = pd.to_numeric(df[col], errors=\"coerce\")\n",
    "\n",
    "# 설비이용률이 비어 있으면 재계산\n",
    "need_cf = df[\"설비이용률(%)\"].isna()\n",
    "df.loc[need_cf, \"설비이용률(%)\"] = df[\"발전량(MWh)\"] / (df[\"설비용량(MW)\"] * 8760) * 100\n",
    "\n",
    "# 2024만 필터 + 안전처리\n",
    "df_2024 = (\n",
    "    df[(df[\"연도\"] == 2024)]\n",
    "    .replace([np.inf, -np.inf], np.nan)\n",
    "    .dropna(subset=[\"설비용량(MW)\", \"발전량(MWh)\", \"설비이용률(%)\"])\n",
    ")\n",
    "df_2024 = df_2024[df_2024[\"설비용량(MW)\"] > 0].copy()\n",
    "\n",
    "# 평균값 및 2사분면 마스크\n",
    "mean_cap = df_2024[\"설비용량(MW)\"].mean()\n",
    "mean_cf  = df_2024[\"설비이용률(%)\"].mean()\n",
    "mask_q2  = (df_2024[\"설비용량(MW)\"] < mean_cap) & (df_2024[\"설비이용률(%)\"] >= mean_cf)\n",
    "\n",
    "cols = [\"지역\", \"설비용량(MW)\", \"발전량(MWh)\", \"설비이용률(%)\"]\n",
    "\n",
    "# 4개 표\n",
    "t1 = df_2024[cols].sort_values(\"지역\")  # 전체\n",
    "t2 = df_2024.loc[mask_q2, cols].sort_values(\"설비이용률(%)\", ascending=False)  # 2사분면\n",
    "t3 = df_2024[cols].sort_values(\"설비이용률(%)\", ascending=False).head(10)  # 상위 10\n",
    "t4 = df_2024[cols].sort_values(\"설비이용률(%)\", ascending=True).head(10)   # 하위 10\n",
    "\n",
    "# 표 스타일 함수\n",
    "def style(df, caption):\n",
    "    sty = (\n",
    "        df.reset_index(drop=True)      # 인덱스 재지정(0..)\n",
    "            .style\n",
    "            .hide(axis=\"index\")          # ← 인덱스 숨김 (pandas>=1.4)\n",
    "            # .hide_index()              # (구버전 pandas라면 이 줄 사용)\n",
    "            .format({\n",
    "                \"설비용량(MW)\": \"{:,.0f}\",\n",
    "                \"발전량(MWh)\": \"{:,.0f}\",\n",
    "                \"설비이용률(%)\": \"{:.2f}\"\n",
    "            })\n",
    "            .set_table_attributes('class=\"tbl\"')\n",
    "            .set_caption(caption)\n",
    "    )\n",
    "    return sty.to_html()\n",
    "\n",
    "\n",
    "# HTML 조립\n",
    "html = f\"\"\"<!doctype html>\n",
    "<html lang=\"ko\">\n",
    "<head>\n",
    "<meta charset=\"utf-8\">\n",
    "<meta name=\"viewport\" content=\"width=device-width, initial-scale=1\">\n",
    "<title>지역별 4개 표 (2024)</title>\n",
    "<style>\n",
    ":root {{\n",
    "    --bg:#0b1020; --card:#141a2a; --text:#e8ecf1; --muted:#9aa4b2; --accent:#3b82f6; --border:#263042;\n",
    "}}\n",
    "body {{ margin:0; padding:24px; background:var(--bg); color:var(--text); font-family: Inter, -apple-system, BlinkMacSystemFont, \"Segoe UI\", Roboto, Helvetica, Arial, sans-serif; }}\n",
    "h1 {{ margin:0 0 8px 0; font-size:24px; }}\n",
    ".subtitle {{ color:var(--muted); margin-bottom:20px; font-size:13px; }}\n",
    ".grid {{ display:grid; grid-template-columns: repeat(2, minmax(0,1fr)); gap:16px; }}\n",
    ".card {{ background:var(--card); border:1px solid var(--border); border-radius:16px; padding:14px 14px 8px; box-shadow:0 6px 20px rgba(0,0,0,.25); }}\n",
    ".tbl {{ width:100%; border-collapse:collapse; font-size:13px; }}\n",
    ".tbl caption {{ caption-side: top; text-align:left; font-weight:600; padding:4px 0 8px; color:var(--accent); }}\n",
    ".tbl th, .tbl td {{ border-bottom:1px solid var(--border); padding:8px 10px; text-align:right; }}\n",
    ".tbl th:first-child, .tbl td:first-child {{ text-align:left; }}\n",
    ".tbl thead th {{ position:sticky; top:0; background:#1b2336; z-index:1; }}\n",
    ".badge {{ display:inline-block; background:#1b2336; color:var(--muted); padding:4px 8px; border-radius:999px; font-size:12px; margin-left:8px; }}\n",
    "@media (max-width: 900px) {{ .grid {{ grid-template-columns:1fr; }} }}\n",
    "</style>\n",
    "</head>\n",
    "<body>\n",
    "    <h1>지역별 지표 표 (2024) <span class=\"badge\">생성일: {date.today().isoformat()}</span></h1>\n",
    "    <div class=\"subtitle\">설비이용률 평균 {mean_cf:.2f}% · 설비용량 평균 {mean_cap:,.0f} MW · 2사분면(효율≥평균 & 용량&lt;평균) 강조</div>\n",
    "    <div class=\"grid\">\n",
    "    <div class=\"card\">{style(t1, \"① 2024 전체 지역\")}</div>\n",
    "    <div class=\"card\">{style(t2, \"② 2사분면(투자유망) 지역\")}</div>\n",
    "    <div class=\"card\">{style(t3, \"③ 설비이용률 상위 10\")}</div>\n",
    "    <div class=\"card\">{style(t4, \"④ 설비이용률 하위 10\")}</div>\n",
    "    </div>\n",
    "</body>\n",
    "</html>\"\"\"\n",
    "\n",
    "# 파일 저장\n",
    "out_path = \"tables_2024.html\"\n",
    "with open(out_path, \"w\", encoding=\"utf-8\") as f:\n",
    "    f.write(html)\n",
    "print(f\"HTML saved -> {out_path}\")\n",
    "\n",
    "from pathlib import Path\n",
    "import webbrowser\n",
    "\n",
    "out = Path(\"tables_2024.html\").resolve()\n",
    "webbrowser.open(out.as_uri())"
   ]
  }
 ],
 "metadata": {
  "kernelspec": {
   "display_name": "data_analysis",
   "language": "python",
   "name": "python3"
  },
  "language_info": {
   "codemirror_mode": {
    "name": "ipython",
    "version": 3
   },
   "file_extension": ".py",
   "mimetype": "text/x-python",
   "name": "python",
   "nbconvert_exporter": "python",
   "pygments_lexer": "ipython3",
   "version": "3.13.5"
  }
 },
 "nbformat": 4,
 "nbformat_minor": 5
}
