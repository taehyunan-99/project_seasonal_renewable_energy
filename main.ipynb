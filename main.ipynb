{
 "cells": [
  {
   "cell_type": "code",
   "execution_count": 1,
   "id": "e7544437",
   "metadata": {},
   "outputs": [],
   "source": [
    "# 라이브러리 모음\n",
    "import numpy as np\n",
    "import pandas as pd\n",
    "import matplotlib\n",
    "import matplotlib.pyplot as plt\n",
    "import seaborn as sns\n",
    "import folium\n",
    "\n",
    "# 모듈 모음\n",
    "import modules as mds"
   ]
  },
  {
   "cell_type": "code",
   "execution_count": 8,
   "id": "00df1a89",
   "metadata": {},
   "outputs": [],
   "source": [
    "# 누적 설비용량 데이터 정리\n",
    "\n",
    "# 누적 / 연도별 데이터 불러오기\n",
    "data_total = pd.read_excel(\"dataset/지역별_누적_설비용량.xlsx\")\n",
    "data_2024 = pd.read_excel(\"dataset/2024년도_신규_설비용량.xlsx\")\n",
    "data_2023 = pd.read_excel(\"dataset/2023년도_신규_설비용량.xlsx\")\n",
    "data_2022 = pd.read_excel(\"dataset/2022년도_신규_설비용량.xlsx\")\n",
    "data_2021 = pd.read_excel(\"dataset/2021년도_신규_설비용량.xlsx\")\n",
    "\n",
    "# 데이터프레임으로 변환\n",
    "# ic = Installed Capacity = 설비용량\n",
    "ic_total = pd.DataFrame(data_total)\n",
    "ic_2024 = pd.DataFrame(data_2024)\n",
    "ic_2023 = pd.DataFrame(data_2023)\n",
    "ic_2022 = pd.DataFrame(data_2022)\n",
    "ic_2021 = pd.DataFrame(data_2021)\n",
    "\n",
    "# 숫자의 ',' 때문에 object 값이었던 데이터들을 int 값으로 변환\n",
    "mds.delete_comma(ic_total)\n",
    "mds.delete_comma(ic_2024)\n",
    "mds.delete_comma(ic_2023)\n",
    "mds.delete_comma(ic_2022)\n",
    "mds.delete_comma(ic_2021)\n",
    "\n",
    "# 컴럼 통일화를 위해 capacity_total에 \"합계\" 컬럼 추가\n",
    "ic_total[\"합계\"] = ic_total.sum(axis=1, numeric_only=True)\n",
    "\n",
    "# 하나의 DataFrame으로 병합\n",
    "ic_total = pd.concat([ic_total, ic_2024, ic_2023, ic_2022, ic_2021], ignore_index=True)\n",
    "\n",
    "# 각 연도별 누적값 계산\n",
    "for i in range(1, len(ic_total)):\n",
    "    ic_total.iloc[i, 1:] = ic_total.iloc[i-1, 1:] - ic_total.iloc[i, 1:]\n",
    "\n",
    "# 연도 정리\n",
    "ic_total.rename(columns={\"Unnamed: 0\": \"연도\"}, inplace=True)\n",
    "ic_total[\"연도\"] = [2024, 2023, 2022, 2021, 2020]\n",
    "\n",
    "# 오름차순 정렬 (주석 처리 시 내림차순)\n",
    "# ic_total.sort_values(by=\"연도\", inplace=True)\n",
    "# ic_total.reset_index(drop=True, inplace=True)\n",
    "\n",
    "# 2020~2024 각 연도의 지역별 누적 설비용량\n",
    "ic_total.head()\n",
    "\n",
    "ic_total.to_excel(\"dataset/지역별_연도별_설비용량.xlsx\", index=False, engine=\"openpyxl\")\n"
   ]
  },
  {
   "cell_type": "code",
   "execution_count": 9,
   "id": "33295105",
   "metadata": {},
   "outputs": [],
   "source": [
    "# 누적 발전량 데이터 정리\n",
    "\n",
    "# 누적 / 연도별 데이터 불러오기\n",
    "data_total_2022 = pd.read_excel(\"dataset/지역별_누적_발전량.xlsx\")\n",
    "data_2024 = pd.read_excel(\"dataset/2024년_신규_발전량.xlsx\")\n",
    "data_2023 = pd.read_excel(\"dataset/2023년_신규_발전량.xlsx\")\n",
    "data_2022 = pd.read_excel(\"dataset/2022년_신규_발전량.xlsx\")\n",
    "data_2021 = pd.read_excel(\"dataset/2021년_신규_발전량.xlsx\")\n",
    "\n",
    "# 데이터프레임으로 변환\n",
    "# gen = Power Generation = 발전량\n",
    "gen_total_2022 = pd.DataFrame(data_total_2022)\n",
    "gen_2024 = pd.DataFrame(data_2024)\n",
    "gen_2023 = pd.DataFrame(data_2023)\n",
    "gen_2022 = pd.DataFrame(data_2022)\n",
    "gen_2021 = pd.DataFrame(data_2021)\n",
    "\n",
    "# 열과 행 전치\n",
    "gen_2024 = gen_2024.T.reset_index(drop=True)\n",
    "gen_2023 = gen_2023.T.reset_index(drop=True)\n",
    "gen_2022 = gen_2022.T.reset_index(drop=True)\n",
    "gen_2021 = gen_2021.T.reset_index(drop=True)\n",
    "\n",
    "# 컴럼 정리\n",
    "gen_2024.columns = gen_2024.iloc[0]\n",
    "gen_2024.drop(labels=gen_2024.index[0], axis=0, inplace=True)\n",
    "gen_2023.columns = gen_2023.iloc[0]\n",
    "gen_2023.drop(labels=gen_2023.index[0], axis=0, inplace=True)\n",
    "gen_2022.columns = gen_2022.iloc[0]\n",
    "gen_2022.drop(labels=gen_2022.index[0], axis=0, inplace=True)\n",
    "gen_2021.columns = gen_2021.iloc[0]\n",
    "gen_2021.drop(labels=gen_2021.index[0], axis=0, inplace=True)\n",
    "\n",
    "\n",
    "# 연도 컬럼 추가\n",
    "gen_2024.insert(0, \"연도\", np.nan)\n",
    "gen_2023.insert(0, \"연도\", np.nan)\n",
    "gen_2022.insert(0, \"연도\", np.nan)\n",
    "gen_2021.insert(0, \"연도\", np.nan)\n",
    "\n",
    "# 숫자의 ',' 때문에 object 값이었던 데이터들을 int 값으로 변환\n",
    "mds.delete_comma(gen_total_2022)\n",
    "mds.delete_comma(gen_2024)\n",
    "mds.delete_comma(gen_2023)\n",
    "mds.delete_comma(gen_2022)\n",
    "mds.delete_comma(gen_2021)\n",
    "\n",
    "# 월별 데이터 연도별 데이터로 변환\n",
    "gen_2024 = pd.DataFrame(gen_2024.sum()).T\n",
    "gen_2023 = pd.DataFrame(gen_2023.sum()).T\n",
    "gen_2022 = pd.DataFrame(gen_2022.sum()).T\n",
    "gen_2021 = pd.DataFrame(gen_2021.sum()).T\n",
    "\n",
    "# \"합계\" 컬럼 추가\n",
    "gen_2024[\"합계\"] = gen_2024.sum(axis=1, numeric_only=True)\n",
    "gen_2023[\"합계\"] = gen_2023.sum(axis=1, numeric_only=True)\n",
    "gen_2022[\"합계\"] = gen_2022.sum(axis=1, numeric_only=True)\n",
    "gen_2021[\"합계\"] = gen_2021.sum(axis=1, numeric_only=True)\n",
    "\n",
    "# # 하나의 DataFrame으로 병합\n",
    "gen_total = pd.concat([gen_2024, gen_2023, gen_total_2022, gen_2022, gen_2021], ignore_index=True)\n",
    "\n",
    "# 연도 정리\n",
    "gen_total = gen_total.drop(gen_total.columns[-1], axis=1)\n",
    "gen_total.rename(columns={\"지역\": \"연도\"}, inplace=True)\n",
    "gen_total[\"연도\"] = [2024, 2023, 2022, 2021, 2020]\n",
    "\n",
    "# 소수점 제거\n",
    "gen_total = gen_total.astype(int)\n",
    "\n",
    "# # 각 연도별 누적값 계산\n",
    "gen_total.iloc[1, 1:] = gen_total.iloc[2, 1:] + gen_total.iloc[1, 1:] # 2023 계산\n",
    "gen_total.iloc[0, 1:] = gen_total.iloc[1, 1:] + gen_total.iloc[0, 1:] # 2024 계산\n",
    "gen_total.iloc[3, 1:] = gen_total.iloc[2, 1:] - gen_total.iloc[3, 1:] # 2021 계산\n",
    "gen_total.iloc[4, 1:] = gen_total.iloc[3, 1:] - gen_total.iloc[4, 1:] # 2020 계산\n",
    "\n",
    "\n",
    "# # 오름차순 정렬 (주석 처리 시 내림차순)\n",
    "# # gen_total.sort_values(by=\"연도\", inplace=True)\n",
    "# # gen_total.reset_index(drop=True, inplace=True)\n",
    "\n",
    "# # 2020~2024 각 연도의 지역별 누적 발전량\n",
    "gen_total.head()\n",
    "\n",
    "gen_total.to_excel(\"dataset/지역별_연도별_발전량.xlsx\", index=False, engine=\"openpyxl\")"
   ]
  },
  {
   "cell_type": "code",
   "execution_count": 10,
   "id": "a23d57b0",
   "metadata": {},
   "outputs": [
    {
     "data": {
      "text/html": [
       "<div>\n",
       "<style scoped>\n",
       "    .dataframe tbody tr th:only-of-type {\n",
       "        vertical-align: middle;\n",
       "    }\n",
       "\n",
       "    .dataframe tbody tr th {\n",
       "        vertical-align: top;\n",
       "    }\n",
       "\n",
       "    .dataframe thead th {\n",
       "        text-align: right;\n",
       "    }\n",
       "</style>\n",
       "<table border=\"1\" class=\"dataframe\">\n",
       "  <thead>\n",
       "    <tr style=\"text-align: right;\">\n",
       "      <th></th>\n",
       "      <th>연도</th>\n",
       "      <th>서울</th>\n",
       "      <th>부산</th>\n",
       "      <th>대구</th>\n",
       "      <th>인천</th>\n",
       "      <th>광주</th>\n",
       "      <th>대전</th>\n",
       "      <th>울산</th>\n",
       "      <th>세종</th>\n",
       "      <th>경기</th>\n",
       "      <th>충북</th>\n",
       "      <th>충남</th>\n",
       "      <th>전남</th>\n",
       "      <th>경북</th>\n",
       "      <th>경남</th>\n",
       "      <th>제주</th>\n",
       "      <th>강원</th>\n",
       "      <th>전북</th>\n",
       "      <th>합계</th>\n",
       "    </tr>\n",
       "  </thead>\n",
       "  <tbody>\n",
       "    <tr>\n",
       "      <th>0</th>\n",
       "      <td>2024</td>\n",
       "      <td>50</td>\n",
       "      <td>275</td>\n",
       "      <td>420</td>\n",
       "      <td>163</td>\n",
       "      <td>353</td>\n",
       "      <td>65</td>\n",
       "      <td>152</td>\n",
       "      <td>88</td>\n",
       "      <td>2012</td>\n",
       "      <td>1613</td>\n",
       "      <td>3772</td>\n",
       "      <td>6023</td>\n",
       "      <td>3842</td>\n",
       "      <td>2016</td>\n",
       "      <td>621</td>\n",
       "      <td>1943</td>\n",
       "      <td>4590</td>\n",
       "      <td>27998</td>\n",
       "    </tr>\n",
       "    <tr>\n",
       "      <th>1</th>\n",
       "      <td>2023</td>\n",
       "      <td>50</td>\n",
       "      <td>234</td>\n",
       "      <td>339</td>\n",
       "      <td>139</td>\n",
       "      <td>303</td>\n",
       "      <td>55</td>\n",
       "      <td>122</td>\n",
       "      <td>78</td>\n",
       "      <td>1672</td>\n",
       "      <td>1408</td>\n",
       "      <td>3072</td>\n",
       "      <td>5410</td>\n",
       "      <td>3324</td>\n",
       "      <td>1745</td>\n",
       "      <td>610</td>\n",
       "      <td>1760</td>\n",
       "      <td>4304</td>\n",
       "      <td>24625</td>\n",
       "    </tr>\n",
       "    <tr>\n",
       "      <th>2</th>\n",
       "      <td>2022</td>\n",
       "      <td>48</td>\n",
       "      <td>202</td>\n",
       "      <td>297</td>\n",
       "      <td>124</td>\n",
       "      <td>274</td>\n",
       "      <td>50</td>\n",
       "      <td>99</td>\n",
       "      <td>70</td>\n",
       "      <td>1459</td>\n",
       "      <td>1240</td>\n",
       "      <td>2798</td>\n",
       "      <td>4568</td>\n",
       "      <td>2886</td>\n",
       "      <td>1564</td>\n",
       "      <td>587</td>\n",
       "      <td>1612</td>\n",
       "      <td>3995</td>\n",
       "      <td>21873</td>\n",
       "    </tr>\n",
       "    <tr>\n",
       "      <th>3</th>\n",
       "      <td>2021</td>\n",
       "      <td>44</td>\n",
       "      <td>170</td>\n",
       "      <td>265</td>\n",
       "      <td>110</td>\n",
       "      <td>249</td>\n",
       "      <td>46</td>\n",
       "      <td>87</td>\n",
       "      <td>62</td>\n",
       "      <td>1278</td>\n",
       "      <td>1065</td>\n",
       "      <td>2522</td>\n",
       "      <td>3911</td>\n",
       "      <td>2409</td>\n",
       "      <td>1347</td>\n",
       "      <td>549</td>\n",
       "      <td>1408</td>\n",
       "      <td>3357</td>\n",
       "      <td>18879</td>\n",
       "    </tr>\n",
       "    <tr>\n",
       "      <th>4</th>\n",
       "      <td>2020</td>\n",
       "      <td>41</td>\n",
       "      <td>144</td>\n",
       "      <td>200</td>\n",
       "      <td>100</td>\n",
       "      <td>215</td>\n",
       "      <td>39</td>\n",
       "      <td>69</td>\n",
       "      <td>55</td>\n",
       "      <td>1056</td>\n",
       "      <td>846</td>\n",
       "      <td>2038</td>\n",
       "      <td>3054</td>\n",
       "      <td>1771</td>\n",
       "      <td>1085</td>\n",
       "      <td>425</td>\n",
       "      <td>1105</td>\n",
       "      <td>2559</td>\n",
       "      <td>14802</td>\n",
       "    </tr>\n",
       "  </tbody>\n",
       "</table>\n",
       "</div>"
      ],
      "text/plain": [
       "     연도  서울   부산   대구   인천   광주  대전   울산  세종    경기    충북    충남    전남    경북  \\\n",
       "0  2024  50  275  420  163  353  65  152  88  2012  1613  3772  6023  3842   \n",
       "1  2023  50  234  339  139  303  55  122  78  1672  1408  3072  5410  3324   \n",
       "2  2022  48  202  297  124  274  50   99  70  1459  1240  2798  4568  2886   \n",
       "3  2021  44  170  265  110  249  46   87  62  1278  1065  2522  3911  2409   \n",
       "4  2020  41  144  200  100  215  39   69  55  1056   846  2038  3054  1771   \n",
       "\n",
       "     경남   제주    강원    전북     합계  \n",
       "0  2016  621  1943  4590  27998  \n",
       "1  1745  610  1760  4304  24625  \n",
       "2  1564  587  1612  3995  21873  \n",
       "3  1347  549  1408  3357  18879  \n",
       "4  1085  425  1105  2559  14802  "
      ]
     },
     "execution_count": 10,
     "metadata": {},
     "output_type": "execute_result"
    }
   ],
   "source": [
    "pd.read_excel(\"dataset/지역별_연도별_설비용량.xlsx\")"
   ]
  },
  {
   "cell_type": "code",
   "execution_count": 11,
   "id": "76478dad",
   "metadata": {},
   "outputs": [
    {
     "data": {
      "text/html": [
       "<div>\n",
       "<style scoped>\n",
       "    .dataframe tbody tr th:only-of-type {\n",
       "        vertical-align: middle;\n",
       "    }\n",
       "\n",
       "    .dataframe tbody tr th {\n",
       "        vertical-align: top;\n",
       "    }\n",
       "\n",
       "    .dataframe thead th {\n",
       "        text-align: right;\n",
       "    }\n",
       "</style>\n",
       "<table border=\"1\" class=\"dataframe\">\n",
       "  <thead>\n",
       "    <tr style=\"text-align: right;\">\n",
       "      <th></th>\n",
       "      <th>연도</th>\n",
       "      <th>서울</th>\n",
       "      <th>부산</th>\n",
       "      <th>대구</th>\n",
       "      <th>인천</th>\n",
       "      <th>광주</th>\n",
       "      <th>대전</th>\n",
       "      <th>울산</th>\n",
       "      <th>세종</th>\n",
       "      <th>경기</th>\n",
       "      <th>충북</th>\n",
       "      <th>충남</th>\n",
       "      <th>전남</th>\n",
       "      <th>경북</th>\n",
       "      <th>경남</th>\n",
       "      <th>제주</th>\n",
       "      <th>강원</th>\n",
       "      <th>전북</th>\n",
       "      <th>합계</th>\n",
       "    </tr>\n",
       "  </thead>\n",
       "  <tbody>\n",
       "    <tr>\n",
       "      <th>0</th>\n",
       "      <td>2024</td>\n",
       "      <td>454992</td>\n",
       "      <td>1584748</td>\n",
       "      <td>1962317</td>\n",
       "      <td>910178</td>\n",
       "      <td>2054262</td>\n",
       "      <td>372182</td>\n",
       "      <td>653470</td>\n",
       "      <td>524858</td>\n",
       "      <td>9209968</td>\n",
       "      <td>8280679</td>\n",
       "      <td>20170041</td>\n",
       "      <td>34738869</td>\n",
       "      <td>19298394</td>\n",
       "      <td>10914932</td>\n",
       "      <td>3712238</td>\n",
       "      <td>11167641</td>\n",
       "      <td>28815406</td>\n",
       "      <td>154825183</td>\n",
       "    </tr>\n",
       "    <tr>\n",
       "      <th>1</th>\n",
       "      <td>2023</td>\n",
       "      <td>397620</td>\n",
       "      <td>1296806</td>\n",
       "      <td>1518891</td>\n",
       "      <td>747103</td>\n",
       "      <td>1694113</td>\n",
       "      <td>305236</td>\n",
       "      <td>503506</td>\n",
       "      <td>437543</td>\n",
       "      <td>7143971</td>\n",
       "      <td>6533179</td>\n",
       "      <td>15870905</td>\n",
       "      <td>27619683</td>\n",
       "      <td>14957803</td>\n",
       "      <td>8711121</td>\n",
       "      <td>3077732</td>\n",
       "      <td>8984358</td>\n",
       "      <td>23235897</td>\n",
       "      <td>123035475</td>\n",
       "    </tr>\n",
       "    <tr>\n",
       "      <th>2</th>\n",
       "      <td>2022</td>\n",
       "      <td>341328</td>\n",
       "      <td>1056914</td>\n",
       "      <td>1166405</td>\n",
       "      <td>614164</td>\n",
       "      <td>1386507</td>\n",
       "      <td>249449</td>\n",
       "      <td>388527</td>\n",
       "      <td>358492</td>\n",
       "      <td>5478859</td>\n",
       "      <td>4990438</td>\n",
       "      <td>12385263</td>\n",
       "      <td>21236718</td>\n",
       "      <td>11154610</td>\n",
       "      <td>6771133</td>\n",
       "      <td>2429222</td>\n",
       "      <td>6964022</td>\n",
       "      <td>17956708</td>\n",
       "      <td>94928767</td>\n",
       "    </tr>\n",
       "    <tr>\n",
       "      <th>3</th>\n",
       "      <td>2021</td>\n",
       "      <td>284628</td>\n",
       "      <td>854401</td>\n",
       "      <td>851754</td>\n",
       "      <td>489619</td>\n",
       "      <td>1087788</td>\n",
       "      <td>196895</td>\n",
       "      <td>282818</td>\n",
       "      <td>287876</td>\n",
       "      <td>4001713</td>\n",
       "      <td>3603271</td>\n",
       "      <td>9087437</td>\n",
       "      <td>15534479</td>\n",
       "      <td>7826973</td>\n",
       "      <td>4971554</td>\n",
       "      <td>1763312</td>\n",
       "      <td>5086129</td>\n",
       "      <td>12875255</td>\n",
       "      <td>69085910</td>\n",
       "    </tr>\n",
       "    <tr>\n",
       "      <th>4</th>\n",
       "      <td>2020</td>\n",
       "      <td>232973</td>\n",
       "      <td>687334</td>\n",
       "      <td>598182</td>\n",
       "      <td>375544</td>\n",
       "      <td>837087</td>\n",
       "      <td>155021</td>\n",
       "      <td>195240</td>\n",
       "      <td>224741</td>\n",
       "      <td>2768139</td>\n",
       "      <td>2462795</td>\n",
       "      <td>6310846</td>\n",
       "      <td>10918067</td>\n",
       "      <td>5318784</td>\n",
       "      <td>3562221</td>\n",
       "      <td>1189794</td>\n",
       "      <td>3488999</td>\n",
       "      <td>9022902</td>\n",
       "      <td>48348677</td>\n",
       "    </tr>\n",
       "  </tbody>\n",
       "</table>\n",
       "</div>"
      ],
      "text/plain": [
       "     연도      서울       부산       대구      인천       광주      대전      울산      세종  \\\n",
       "0  2024  454992  1584748  1962317  910178  2054262  372182  653470  524858   \n",
       "1  2023  397620  1296806  1518891  747103  1694113  305236  503506  437543   \n",
       "2  2022  341328  1056914  1166405  614164  1386507  249449  388527  358492   \n",
       "3  2021  284628   854401   851754  489619  1087788  196895  282818  287876   \n",
       "4  2020  232973   687334   598182  375544   837087  155021  195240  224741   \n",
       "\n",
       "        경기       충북        충남        전남        경북        경남       제주  \\\n",
       "0  9209968  8280679  20170041  34738869  19298394  10914932  3712238   \n",
       "1  7143971  6533179  15870905  27619683  14957803   8711121  3077732   \n",
       "2  5478859  4990438  12385263  21236718  11154610   6771133  2429222   \n",
       "3  4001713  3603271   9087437  15534479   7826973   4971554  1763312   \n",
       "4  2768139  2462795   6310846  10918067   5318784   3562221  1189794   \n",
       "\n",
       "         강원        전북         합계  \n",
       "0  11167641  28815406  154825183  \n",
       "1   8984358  23235897  123035475  \n",
       "2   6964022  17956708   94928767  \n",
       "3   5086129  12875255   69085910  \n",
       "4   3488999   9022902   48348677  "
      ]
     },
     "execution_count": 11,
     "metadata": {},
     "output_type": "execute_result"
    }
   ],
   "source": [
    "pd.read_excel(\"dataset/지역별_연도별_발전량.xlsx\")"
   ]
  },
  {
   "cell_type": "code",
   "execution_count": null,
   "id": "e23bf284",
   "metadata": {},
   "outputs": [
    {
     "name": "stdout",
     "output_type": "stream",
     "text": [
      "      연도  지역  설비용량(MW)  발전량(MWh)    설비이용률(%)\n",
      "0   2024  서울        50    454992  103.879452\n",
      "1   2024  대구       420   1962317   53.335426\n",
      "2   2024  광주       353   2054262   66.431953\n",
      "3   2024  경남      2016  10914932   61.805397\n",
      "4   2024  전남      6023  34738869   65.841347\n",
      "5   2024  울산       152    653470   49.076995\n",
      "6   2024  인천       163    910178   63.743312\n",
      "7   2024  제주       621   3712238   68.240171\n",
      "8   2024  경북      3842  19298394   57.340266\n",
      "9   2024  충남      3772  20170041   61.042314\n",
      "10  2024  강원      1943  11167641   65.612191\n",
      "11  2024  세종        88    524858   68.085565\n",
      "12  2024  부산       275   1584748   65.784475\n",
      "13  2024  전북      4590  28815406   71.665140\n",
      "14  2024  충북      1613   8280679   58.604029\n",
      "15  2024  경기      2012   9209968   52.254782\n",
      "16  2024  대전        65    372182   65.363892\n",
      "17  2023  충남      3072  15870905   58.976144\n",
      "18  2023  울산       122    503506   47.112995\n",
      "19  2023  세종        78    437543   64.035681\n"
     ]
    }
   ],
   "source": [
    "import pandas as pd\n",
    "\n",
    "# 엑셀 불러오기\n",
    "capacity = pd.read_excel(\"dataset/지역별_연도별_설비용량.xlsx\")\n",
    "generation = pd.read_excel(\"dataset/지역별_연도별_발전량.xlsx\")\n",
    "\n",
    "# 설비용량 long 변환 (합계 제외)\n",
    "cap_long = capacity.drop(columns=[\"합계\"]).melt(\n",
    "    id_vars=[\"연도\"], var_name=\"지역\", value_name=\"설비용량(MW)\"\n",
    ")\n",
    "\n",
    "# 발전량 long 변환 (합계 제외)\n",
    "gen_long = generation.drop(columns=[\"합계\"]).melt(\n",
    "    id_vars=[\"연도\"], var_name=\"지역\", value_name=\"발전량(MWh)\"\n",
    ")\n",
    "\n",
    "# 데이터 합치기\n",
    "merged = pd.merge(cap_long, gen_long, on=[\"연도\", \"지역\"])\n",
    "\n",
    "# 설비 이용률 계산\n",
    "merged[\"설비이용률(%)\"] = merged[\"발전량(MWh)\"] / (merged[\"설비용량(MW)\"] * 8760) * 100\n",
    "\n",
    "# 연도 기준 내림차순 (2024 → 2020)\n",
    "merged_sorted = merged.sort_values(by=\"연도\", ascending=False)\n",
    "\n",
    "# 인덱스 초기화\n",
    "merged_sorted = merged_sorted.reset_index(drop=True)\n",
    "\n",
    "print(merged_sorted.head(20))  # 상위 20개 확인\n"
   ]
  },
  {
   "cell_type": "code",
   "execution_count": 17,
   "id": "2ea8768b",
   "metadata": {},
   "outputs": [
    {
     "data": {
      "application/vnd.plotly.v1+json": {
       "config": {
        "plotlyServerURL": "https://plot.ly"
       },
       "data": [
        {
         "customdata": {
          "bdata": "UPEGAGwuGABN8R0AYuMNAHZYHwDWrQUAnvgJADoCCABwiIwAZ1p+ADnFMwG1EhICWngmAXSMpgDupDgAmWeqAC6wtwE=",
          "dtype": "i4"
         },
         "hovertemplate": "<b>%{text}</b><br>설비용량: %{x:.0f} MW<br>설비이용률: %{y:.2f} %<br>발전량: %{customdata:,} MWh<extra></extra>",
         "marker": {
          "color": {
           "bdata": "hW9F8Uj4WUAjzybWNHJQQK/Puz7vqkpA5i0A1yTfT0CQELUepZtQQHQx5gBKV1BAnb129tqJSEA1kLvjeQVRQBrSvbCcIEpAM9Ec1FBNTUB3eS+OaoVOQEWYD6DYdVBAAGjG1I2rTEDyz8U/F+dOQHSjsvVeD1FA7nNoIS5nUECVjMelkepRQA==",
           "dtype": "f8"
          },
          "colorbar": {
           "title": {
            "text": "설비이용률 (%)"
           }
          },
          "colorscale": [
           [
            0,
            "#440154"
           ],
           [
            0.1111111111111111,
            "#482878"
           ],
           [
            0.2222222222222222,
            "#3e4989"
           ],
           [
            0.3333333333333333,
            "#31688e"
           ],
           [
            0.4444444444444444,
            "#26828e"
           ],
           [
            0.5555555555555556,
            "#1f9e89"
           ],
           [
            0.6666666666666666,
            "#35b779"
           ],
           [
            0.7777777777777778,
            "#6ece58"
           ],
           [
            0.8888888888888888,
            "#b5de2b"
           ],
           [
            1,
            "#fde725"
           ]
          ],
          "line": {
           "color": "white",
           "width": 0.8
          },
          "opacity": 0.7,
          "size": {
           "bdata": "gMZ/K93dMkDYRhJVrdA4QIB4bpahQjpANdM2kEK2NUBkZKeMLZc6QIyHfzPeNTJAzgkSJKs6NEB/7vSOAmAzQFKyzbNqckVAE+RHu5ylRED5MYN4CNxMQAAAAAAAAFJArAs1ZDBcTEB5EgmD6NBGQGA/Or4gnT9AW7KxPnUCR0BSdbq3UqlQQA==",
           "dtype": "f8"
          },
          "sizemode": "diameter"
         },
         "mode": "markers",
         "name": "지역",
         "text": [
          "서울",
          "부산",
          "대구",
          "인천",
          "광주",
          "대전",
          "울산",
          "세종",
          "경기",
          "충북",
          "충남",
          "전남",
          "경북",
          "경남",
          "제주",
          "강원",
          "전북"
         ],
         "type": "scatter",
         "x": {
          "bdata": "MgATAaQBowBhAUEAmABYANwHTQa8DocXAg/gB20ClwfuEQ==",
          "dtype": "i2"
         },
         "y": {
          "bdata": "hW9F8Uj4WUAjzybWNHJQQK/Puz7vqkpA5i0A1yTfT0CQELUepZtQQHQx5gBKV1BAnb129tqJSEA1kLvjeQVRQBrSvbCcIEpAM9Ec1FBNTUB3eS+OaoVOQEWYD6DYdVBAAGjG1I2rTEDyz8U/F+dOQHSjsvVeD1FA7nNoIS5nUECVjMelkepRQA==",
          "dtype": "f8"
         }
        }
       ],
       "layout": {
        "annotations": [
         {
          "showarrow": false,
          "text": "평균 이용률",
          "x": 0,
          "xanchor": "left",
          "xref": "x domain",
          "y": 64.59451206432942,
          "yanchor": "bottom",
          "yref": "y"
         },
         {
          "showarrow": false,
          "text": "평균 설비용량",
          "x": 1646.9411764705883,
          "xanchor": "right",
          "xref": "x",
          "y": 1,
          "yanchor": "top",
          "yref": "y domain"
         },
         {
          "font": {
           "size": 11
          },
          "showarrow": false,
          "text": "서울",
          "x": 50,
          "y": 103.87945205479453
         },
         {
          "font": {
           "size": 11
          },
          "showarrow": false,
          "text": "부산",
          "x": 275,
          "y": 65.78447488584474
         },
         {
          "font": {
           "size": 11
          },
          "showarrow": false,
          "text": "광주",
          "x": 353,
          "y": 66.43195312196826
         },
         {
          "font": {
           "size": 11
          },
          "showarrow": false,
          "text": "대전",
          "x": 65,
          "y": 65.3638918159466
         },
         {
          "font": {
           "size": 11
          },
          "showarrow": false,
          "text": "세종",
          "x": 88,
          "y": 68.08556454960565
         },
         {
          "font": {
           "size": 11
          },
          "showarrow": false,
          "text": "제주",
          "x": 621,
          "y": 68.24017088360944
         },
         {
          "font": {
           "size": 10
          },
          "showarrow": false,
          "text": "좌상: 효율↑·용량↓ → 투자유망",
          "x": 109.73,
          "xanchor": "left",
          "y": 65.69056121116913
         },
         {
          "font": {
           "size": 10
          },
          "showarrow": false,
          "text": "좌하: 효율↓·용량↓",
          "x": 109.73,
          "xanchor": "left",
          "y": 50.17304385964912
         },
         {
          "font": {
           "size": 10
          },
          "showarrow": false,
          "text": "우상: 효율↑·용량↑",
          "x": 1706.6711764705883,
          "xanchor": "left",
          "y": 65.69056121116913
         },
         {
          "font": {
           "size": 10
          },
          "showarrow": false,
          "text": "우하: 효율↓·용량↑",
          "x": 1706.6711764705883,
          "xanchor": "left",
          "y": 50.17304385964912
         }
        ],
        "hovermode": "closest",
        "shapes": [
         {
          "line": {
           "dash": "dash"
          },
          "type": "line",
          "x0": 0,
          "x1": 1,
          "xref": "x domain",
          "y0": 64.59451206432942,
          "y1": 64.59451206432942,
          "yref": "y"
         },
         {
          "line": {
           "dash": "dash"
          },
          "type": "line",
          "x0": 1646.9411764705883,
          "x1": 1646.9411764705883,
          "xref": "x",
          "y0": 0,
          "y1": 1,
          "yref": "y domain"
         }
        ],
        "template": {
         "data": {
          "bar": [
           {
            "error_x": {
             "color": "#2a3f5f"
            },
            "error_y": {
             "color": "#2a3f5f"
            },
            "marker": {
             "line": {
              "color": "white",
              "width": 0.5
             },
             "pattern": {
              "fillmode": "overlay",
              "size": 10,
              "solidity": 0.2
             }
            },
            "type": "bar"
           }
          ],
          "barpolar": [
           {
            "marker": {
             "line": {
              "color": "white",
              "width": 0.5
             },
             "pattern": {
              "fillmode": "overlay",
              "size": 10,
              "solidity": 0.2
             }
            },
            "type": "barpolar"
           }
          ],
          "carpet": [
           {
            "aaxis": {
             "endlinecolor": "#2a3f5f",
             "gridcolor": "#C8D4E3",
             "linecolor": "#C8D4E3",
             "minorgridcolor": "#C8D4E3",
             "startlinecolor": "#2a3f5f"
            },
            "baxis": {
             "endlinecolor": "#2a3f5f",
             "gridcolor": "#C8D4E3",
             "linecolor": "#C8D4E3",
             "minorgridcolor": "#C8D4E3",
             "startlinecolor": "#2a3f5f"
            },
            "type": "carpet"
           }
          ],
          "choropleth": [
           {
            "colorbar": {
             "outlinewidth": 0,
             "ticks": ""
            },
            "type": "choropleth"
           }
          ],
          "contour": [
           {
            "colorbar": {
             "outlinewidth": 0,
             "ticks": ""
            },
            "colorscale": [
             [
              0,
              "#0d0887"
             ],
             [
              0.1111111111111111,
              "#46039f"
             ],
             [
              0.2222222222222222,
              "#7201a8"
             ],
             [
              0.3333333333333333,
              "#9c179e"
             ],
             [
              0.4444444444444444,
              "#bd3786"
             ],
             [
              0.5555555555555556,
              "#d8576b"
             ],
             [
              0.6666666666666666,
              "#ed7953"
             ],
             [
              0.7777777777777778,
              "#fb9f3a"
             ],
             [
              0.8888888888888888,
              "#fdca26"
             ],
             [
              1,
              "#f0f921"
             ]
            ],
            "type": "contour"
           }
          ],
          "contourcarpet": [
           {
            "colorbar": {
             "outlinewidth": 0,
             "ticks": ""
            },
            "type": "contourcarpet"
           }
          ],
          "heatmap": [
           {
            "colorbar": {
             "outlinewidth": 0,
             "ticks": ""
            },
            "colorscale": [
             [
              0,
              "#0d0887"
             ],
             [
              0.1111111111111111,
              "#46039f"
             ],
             [
              0.2222222222222222,
              "#7201a8"
             ],
             [
              0.3333333333333333,
              "#9c179e"
             ],
             [
              0.4444444444444444,
              "#bd3786"
             ],
             [
              0.5555555555555556,
              "#d8576b"
             ],
             [
              0.6666666666666666,
              "#ed7953"
             ],
             [
              0.7777777777777778,
              "#fb9f3a"
             ],
             [
              0.8888888888888888,
              "#fdca26"
             ],
             [
              1,
              "#f0f921"
             ]
            ],
            "type": "heatmap"
           }
          ],
          "histogram": [
           {
            "marker": {
             "pattern": {
              "fillmode": "overlay",
              "size": 10,
              "solidity": 0.2
             }
            },
            "type": "histogram"
           }
          ],
          "histogram2d": [
           {
            "colorbar": {
             "outlinewidth": 0,
             "ticks": ""
            },
            "colorscale": [
             [
              0,
              "#0d0887"
             ],
             [
              0.1111111111111111,
              "#46039f"
             ],
             [
              0.2222222222222222,
              "#7201a8"
             ],
             [
              0.3333333333333333,
              "#9c179e"
             ],
             [
              0.4444444444444444,
              "#bd3786"
             ],
             [
              0.5555555555555556,
              "#d8576b"
             ],
             [
              0.6666666666666666,
              "#ed7953"
             ],
             [
              0.7777777777777778,
              "#fb9f3a"
             ],
             [
              0.8888888888888888,
              "#fdca26"
             ],
             [
              1,
              "#f0f921"
             ]
            ],
            "type": "histogram2d"
           }
          ],
          "histogram2dcontour": [
           {
            "colorbar": {
             "outlinewidth": 0,
             "ticks": ""
            },
            "colorscale": [
             [
              0,
              "#0d0887"
             ],
             [
              0.1111111111111111,
              "#46039f"
             ],
             [
              0.2222222222222222,
              "#7201a8"
             ],
             [
              0.3333333333333333,
              "#9c179e"
             ],
             [
              0.4444444444444444,
              "#bd3786"
             ],
             [
              0.5555555555555556,
              "#d8576b"
             ],
             [
              0.6666666666666666,
              "#ed7953"
             ],
             [
              0.7777777777777778,
              "#fb9f3a"
             ],
             [
              0.8888888888888888,
              "#fdca26"
             ],
             [
              1,
              "#f0f921"
             ]
            ],
            "type": "histogram2dcontour"
           }
          ],
          "mesh3d": [
           {
            "colorbar": {
             "outlinewidth": 0,
             "ticks": ""
            },
            "type": "mesh3d"
           }
          ],
          "parcoords": [
           {
            "line": {
             "colorbar": {
              "outlinewidth": 0,
              "ticks": ""
             }
            },
            "type": "parcoords"
           }
          ],
          "pie": [
           {
            "automargin": true,
            "type": "pie"
           }
          ],
          "scatter": [
           {
            "fillpattern": {
             "fillmode": "overlay",
             "size": 10,
             "solidity": 0.2
            },
            "type": "scatter"
           }
          ],
          "scatter3d": [
           {
            "line": {
             "colorbar": {
              "outlinewidth": 0,
              "ticks": ""
             }
            },
            "marker": {
             "colorbar": {
              "outlinewidth": 0,
              "ticks": ""
             }
            },
            "type": "scatter3d"
           }
          ],
          "scattercarpet": [
           {
            "marker": {
             "colorbar": {
              "outlinewidth": 0,
              "ticks": ""
             }
            },
            "type": "scattercarpet"
           }
          ],
          "scattergeo": [
           {
            "marker": {
             "colorbar": {
              "outlinewidth": 0,
              "ticks": ""
             }
            },
            "type": "scattergeo"
           }
          ],
          "scattergl": [
           {
            "marker": {
             "colorbar": {
              "outlinewidth": 0,
              "ticks": ""
             }
            },
            "type": "scattergl"
           }
          ],
          "scattermap": [
           {
            "marker": {
             "colorbar": {
              "outlinewidth": 0,
              "ticks": ""
             }
            },
            "type": "scattermap"
           }
          ],
          "scattermapbox": [
           {
            "marker": {
             "colorbar": {
              "outlinewidth": 0,
              "ticks": ""
             }
            },
            "type": "scattermapbox"
           }
          ],
          "scatterpolar": [
           {
            "marker": {
             "colorbar": {
              "outlinewidth": 0,
              "ticks": ""
             }
            },
            "type": "scatterpolar"
           }
          ],
          "scatterpolargl": [
           {
            "marker": {
             "colorbar": {
              "outlinewidth": 0,
              "ticks": ""
             }
            },
            "type": "scatterpolargl"
           }
          ],
          "scatterternary": [
           {
            "marker": {
             "colorbar": {
              "outlinewidth": 0,
              "ticks": ""
             }
            },
            "type": "scatterternary"
           }
          ],
          "surface": [
           {
            "colorbar": {
             "outlinewidth": 0,
             "ticks": ""
            },
            "colorscale": [
             [
              0,
              "#0d0887"
             ],
             [
              0.1111111111111111,
              "#46039f"
             ],
             [
              0.2222222222222222,
              "#7201a8"
             ],
             [
              0.3333333333333333,
              "#9c179e"
             ],
             [
              0.4444444444444444,
              "#bd3786"
             ],
             [
              0.5555555555555556,
              "#d8576b"
             ],
             [
              0.6666666666666666,
              "#ed7953"
             ],
             [
              0.7777777777777778,
              "#fb9f3a"
             ],
             [
              0.8888888888888888,
              "#fdca26"
             ],
             [
              1,
              "#f0f921"
             ]
            ],
            "type": "surface"
           }
          ],
          "table": [
           {
            "cells": {
             "fill": {
              "color": "#EBF0F8"
             },
             "line": {
              "color": "white"
             }
            },
            "header": {
             "fill": {
              "color": "#C8D4E3"
             },
             "line": {
              "color": "white"
             }
            },
            "type": "table"
           }
          ]
         },
         "layout": {
          "annotationdefaults": {
           "arrowcolor": "#2a3f5f",
           "arrowhead": 0,
           "arrowwidth": 1
          },
          "autotypenumbers": "strict",
          "coloraxis": {
           "colorbar": {
            "outlinewidth": 0,
            "ticks": ""
           }
          },
          "colorscale": {
           "diverging": [
            [
             0,
             "#8e0152"
            ],
            [
             0.1,
             "#c51b7d"
            ],
            [
             0.2,
             "#de77ae"
            ],
            [
             0.3,
             "#f1b6da"
            ],
            [
             0.4,
             "#fde0ef"
            ],
            [
             0.5,
             "#f7f7f7"
            ],
            [
             0.6,
             "#e6f5d0"
            ],
            [
             0.7,
             "#b8e186"
            ],
            [
             0.8,
             "#7fbc41"
            ],
            [
             0.9,
             "#4d9221"
            ],
            [
             1,
             "#276419"
            ]
           ],
           "sequential": [
            [
             0,
             "#0d0887"
            ],
            [
             0.1111111111111111,
             "#46039f"
            ],
            [
             0.2222222222222222,
             "#7201a8"
            ],
            [
             0.3333333333333333,
             "#9c179e"
            ],
            [
             0.4444444444444444,
             "#bd3786"
            ],
            [
             0.5555555555555556,
             "#d8576b"
            ],
            [
             0.6666666666666666,
             "#ed7953"
            ],
            [
             0.7777777777777778,
             "#fb9f3a"
            ],
            [
             0.8888888888888888,
             "#fdca26"
            ],
            [
             1,
             "#f0f921"
            ]
           ],
           "sequentialminus": [
            [
             0,
             "#0d0887"
            ],
            [
             0.1111111111111111,
             "#46039f"
            ],
            [
             0.2222222222222222,
             "#7201a8"
            ],
            [
             0.3333333333333333,
             "#9c179e"
            ],
            [
             0.4444444444444444,
             "#bd3786"
            ],
            [
             0.5555555555555556,
             "#d8576b"
            ],
            [
             0.6666666666666666,
             "#ed7953"
            ],
            [
             0.7777777777777778,
             "#fb9f3a"
            ],
            [
             0.8888888888888888,
             "#fdca26"
            ],
            [
             1,
             "#f0f921"
            ]
           ]
          },
          "colorway": [
           "#636efa",
           "#EF553B",
           "#00cc96",
           "#ab63fa",
           "#FFA15A",
           "#19d3f3",
           "#FF6692",
           "#B6E880",
           "#FF97FF",
           "#FECB52"
          ],
          "font": {
           "color": "#2a3f5f"
          },
          "geo": {
           "bgcolor": "white",
           "lakecolor": "white",
           "landcolor": "white",
           "showlakes": true,
           "showland": true,
           "subunitcolor": "#C8D4E3"
          },
          "hoverlabel": {
           "align": "left"
          },
          "hovermode": "closest",
          "mapbox": {
           "style": "light"
          },
          "paper_bgcolor": "white",
          "plot_bgcolor": "white",
          "polar": {
           "angularaxis": {
            "gridcolor": "#EBF0F8",
            "linecolor": "#EBF0F8",
            "ticks": ""
           },
           "bgcolor": "white",
           "radialaxis": {
            "gridcolor": "#EBF0F8",
            "linecolor": "#EBF0F8",
            "ticks": ""
           }
          },
          "scene": {
           "xaxis": {
            "backgroundcolor": "white",
            "gridcolor": "#DFE8F3",
            "gridwidth": 2,
            "linecolor": "#EBF0F8",
            "showbackground": true,
            "ticks": "",
            "zerolinecolor": "#EBF0F8"
           },
           "yaxis": {
            "backgroundcolor": "white",
            "gridcolor": "#DFE8F3",
            "gridwidth": 2,
            "linecolor": "#EBF0F8",
            "showbackground": true,
            "ticks": "",
            "zerolinecolor": "#EBF0F8"
           },
           "zaxis": {
            "backgroundcolor": "white",
            "gridcolor": "#DFE8F3",
            "gridwidth": 2,
            "linecolor": "#EBF0F8",
            "showbackground": true,
            "ticks": "",
            "zerolinecolor": "#EBF0F8"
           }
          },
          "shapedefaults": {
           "line": {
            "color": "#2a3f5f"
           }
          },
          "ternary": {
           "aaxis": {
            "gridcolor": "#DFE8F3",
            "linecolor": "#A2B1C6",
            "ticks": ""
           },
           "baxis": {
            "gridcolor": "#DFE8F3",
            "linecolor": "#A2B1C6",
            "ticks": ""
           },
           "bgcolor": "white",
           "caxis": {
            "gridcolor": "#DFE8F3",
            "linecolor": "#A2B1C6",
            "ticks": ""
           }
          },
          "title": {
           "x": 0.05
          },
          "xaxis": {
           "automargin": true,
           "gridcolor": "#EBF0F8",
           "linecolor": "#EBF0F8",
           "ticks": "",
           "title": {
            "standoff": 15
           },
           "zerolinecolor": "#EBF0F8",
           "zerolinewidth": 2
          },
          "yaxis": {
           "automargin": true,
           "gridcolor": "#EBF0F8",
           "linecolor": "#EBF0F8",
           "ticks": "",
           "title": {
            "standoff": 15
           },
           "zerolinecolor": "#EBF0F8",
           "zerolinewidth": 2
          }
         }
        },
        "title": {
         "text": "지역별 설비이용률 버블 차트 (2024, 합친 데이터 사용)"
        },
        "xaxis": {
         "title": {
          "text": "설비용량 (MW)"
         }
        },
        "yaxis": {
         "title": {
          "text": "설비이용률 (%)"
         }
        }
       }
      }
     },
     "metadata": {},
     "output_type": "display_data"
    }
   ],
   "source": [
    "import numpy as np\n",
    "import plotly.graph_objects as go\n",
    "\n",
    "# 0) 합친 데이터프레임: merged (컬럼: 연도, 지역, 설비용량(MW), 발전량(MWh), 설비이용률(%))\n",
    "\n",
    "# 1) 2024년만 필터링 + 안전 전처리\n",
    "df = merged[merged[\"연도\"] == 2024].copy()\n",
    "\n",
    "# 숫자형 강제(혹시 문자열/콤마가 섞여 있을 수 있으므로)\n",
    "for col in [\"설비용량(MW)\", \"발전량(MWh)\", \"설비이용률(%)\"]:\n",
    "    df[col] = (\n",
    "        df[col].astype(str).str.replace(\",\", \"\", regex=False).str.strip()\n",
    "        .replace({\"\": np.nan, \"-\": np.nan})\n",
    "    )\n",
    "    df[col] = pd.to_numeric(df[col], errors=\"coerce\")\n",
    "\n",
    "# 0 또는 NaN 제거 (분모/분자 문제 방지)\n",
    "df = df.replace([np.inf, -np.inf], np.nan).dropna(subset=[\"설비용량(MW)\", \"발전량(MWh)\"])\n",
    "df = df[df[\"설비용량(MW)\"] > 0]\n",
    "\n",
    "# 2) 설비이용률이 비어 있으면 재계산 (있으면 그대로 사용)\n",
    "if df[\"설비이용률(%)\"].isna().any():\n",
    "    df.loc[df[\"설비이용률(%)\"].isna(), \"설비이용률(%)\"] = (\n",
    "        df[\"발전량(MWh)\"] / (df[\"설비용량(MW)\"] * 8760) * 100\n",
    "    )\n",
    "\n",
    "# 3) 평균선/라벨 등 보조 계산\n",
    "mean_cap = df[\"설비용량(MW)\"].mean()\n",
    "mean_cf  = df[\"설비이용률(%)\"].mean()\n",
    "\n",
    "# 좌상(효율↑, 용량↓) = 투자유망 가이드 마스크\n",
    "mask_opportunity = (df[\"설비이용률(%)\"] >= mean_cf) & (df[\"설비용량(MW)\"] < mean_cap)\n",
    "\n",
    "# 버블 크기(발전량 면적 비례, sqrt 스케일)\n",
    "mwh = df[\"발전량(MWh)\"].clip(lower=0)\n",
    "size_px = (np.sqrt(mwh / mwh.max()) * 60) + 12   # 필요 시 60/12 조정\n",
    "\n",
    "# 4) Plotly 버블차트\n",
    "xmin, xmax = float(df[\"설비용량(MW)\"].min()), float(df[\"설비용량(MW)\"].max())\n",
    "ymin, ymax = float(df[\"설비이용률(%)\"].min()), float(df[\"설비이용률(%)\"].max())\n",
    "\n",
    "fig = go.Figure()\n",
    "\n",
    "# 버블\n",
    "fig.add_trace(go.Scatter(\n",
    "    x=df[\"설비용량(MW)\"],\n",
    "    y=df[\"설비이용률(%)\"],\n",
    "    mode=\"markers\",\n",
    "    marker=dict(\n",
    "        size=size_px,\n",
    "        color=df[\"설비이용률(%)\"],      # 색상 = 이용률\n",
    "        colorscale=\"Viridis\",\n",
    "        colorbar=dict(title=\"설비이용률 (%)\"),\n",
    "        line=dict(color=\"white\", width=0.8),\n",
    "        opacity=0.7,\n",
    "        sizemode=\"diameter\",\n",
    "    ),\n",
    "    text=df[\"지역\"],\n",
    "    hovertemplate=(\n",
    "        \"<b>%{text}</b><br>\" +\n",
    "        \"설비용량: %{x:.0f} MW<br>\" +\n",
    "        \"설비이용률: %{y:.2f} %<br>\" +\n",
    "        \"발전량: %{customdata:,} MWh<extra></extra>\"\n",
    "    ),\n",
    "    customdata=np.array(df[\"발전량(MWh)\"]),\n",
    "    name=\"지역\"\n",
    "))\n",
    "\n",
    "# 평균선\n",
    "fig.add_hline(y=float(mean_cf),  line_dash=\"dash\", annotation_text=\"평균 이용률\",   annotation_position=\"top left\")\n",
    "fig.add_vline(x=float(mean_cap), line_dash=\"dash\", annotation_text=\"평균 설비용량\", annotation_position=\"top left\")\n",
    "\n",
    "# 좌상 사분면(투자유망) 라벨\n",
    "for _, r in df[mask_opportunity].iterrows():\n",
    "    fig.add_annotation(\n",
    "        x=float(r[\"설비용량(MW)\"]), y=float(r[\"설비이용률(%)\"]),\n",
    "        text=str(r[\"지역\"]), showarrow=False, font=dict(size=11)\n",
    "    )\n",
    "\n",
    "# 사분면 가이드 텍스트\n",
    "dx, dy = xmax - xmin, ymax - ymin\n",
    "fig.add_annotation(x=xmin + dx*0.01, y=mean_cf + dy*0.02, text=\"좌상: 효율↑·용량↓ → 투자유망\", showarrow=False, font=dict(size=10), xanchor=\"left\")\n",
    "fig.add_annotation(x=xmin + dx*0.01, y=ymin + dy*0.02, text=\"좌하: 효율↓·용량↓\", showarrow=False, font=dict(size=10), xanchor=\"left\")\n",
    "fig.add_annotation(x=mean_cap + dx*0.01, y=mean_cf + dy*0.02, text=\"우상: 효율↑·용량↑\", showarrow=False, font=dict(size=10), xanchor=\"left\")\n",
    "fig.add_annotation(x=mean_cap + dx*0.01, y=ymin + dy*0.02, text=\"우하: 효율↓·용량↑\", showarrow=False, font=dict(size=10), xanchor=\"left\")\n",
    "\n",
    "fig.update_layout(\n",
    "    title=\"지역별 설비이용률 버블 차트 (2024, 합친 데이터 사용)\",\n",
    "    xaxis_title=\"설비용량 (MW)\",\n",
    "    yaxis_title=\"설비이용률 (%)\",\n",
    "    template=\"plotly_white\",\n",
    "    hovermode=\"closest\",\n",
    ")\n",
    "\n",
    "fig.show()\n"
   ]
  },
  {
   "cell_type": "code",
   "execution_count": null,
   "id": "3d8421d2",
   "metadata": {},
   "outputs": [],
   "source": [
    "# 데이터 불러오기\n",
    "df = pd.read_csv(\"\")\n",
    "df = pd.read_excel(\"\")\n",
    "\n",
    "# 연도별 전국 평균 설비 이용률 추세\n",
    "plt.figure(figsize=()) # widths, height 설정\n",
    "yearly_avg = df.groupby(\"연도\")[\"설비이용률(%)\"].mean().reset_index()\n",
    "sns.lineplot(data=yearly_avg, x=\"연도\", y=\"설비이용률(%)\", marker=\"o\")\n",
    "plt.title(\"연도별 전국 평균 설비 이용률 추세\", fontsize=14)\n",
    "plt.ylabel(\"설비 이용률 (%)\")\n",
    "plt.grid(True, alpha=0.3)\n",
    "plt.show()\n",
    "\n",
    "# 지역별 설비 이용률 순위(평균)\n",
    "plt.figure(figsize=()) # widths, height 살정\n",
    "region_avg = df.groupby(\"지역\")[\"설비이용률(%)\"].mean().reset_index()\n",
    "sns.barplot(data=region_avg.sort_values(\"설비이용률(%)\", ascending=False),\n",
    "            x=\"설비이용률(%)\", y=\"지역\")\n",
    "plt.title(\"지역별 평균 설비 이용률 순위\", fontsize=14)\n",
    "plt.xlabel(\"평균 설비 이용률 (%)\")\n",
    "plt.show()\n"
   ]
  }
 ],
 "metadata": {
  "kernelspec": {
   "display_name": "data_analysis",
   "language": "python",
   "name": "python3"
  },
  "language_info": {
   "codemirror_mode": {
    "name": "ipython",
    "version": 3
   },
   "file_extension": ".py",
   "mimetype": "text/x-python",
   "name": "python",
   "nbconvert_exporter": "python",
   "pygments_lexer": "ipython3",
   "version": "3.13.5"
  }
 },
 "nbformat": 4,
 "nbformat_minor": 5
}
