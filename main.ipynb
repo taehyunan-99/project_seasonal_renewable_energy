{
 "cells": [
  {
   "cell_type": "code",
   "execution_count": 1,
   "id": "e7544437",
   "metadata": {},
   "outputs": [],
   "source": [
    "# 라이브러리 모음\n",
    "import numpy as np\n",
    "import pandas as pd\n",
    "import matplotlib\n",
    "import matplotlib.pyplot as plt\n",
    "import seaborn as sns\n",
    "import folium\n",
    "\n",
    "# 모듈 모음\n",
    "import modules as mds"
   ]
  },
  {
   "cell_type": "code",
   "execution_count": 99,
   "id": "00df1a89",
   "metadata": {},
   "outputs": [],
   "source": [
    "# 누적 설비용량 데이터 정리\n",
    "\n",
    "# 누적 / 연도별 데이터 불러오기\n",
    "data_total = pd.read_excel(\"dataset/지역별_누적_설비용량.xlsx\")\n",
    "data_2024 = pd.read_excel(\"dataset/2024년도_신규_설비용량.xlsx\")\n",
    "data_2023 = pd.read_excel(\"dataset/2023년도_신규_설비용량.xlsx\")\n",
    "data_2022 = pd.read_excel(\"dataset/2022년도_신규_설비용량.xlsx\")\n",
    "data_2021 = pd.read_excel(\"dataset/2021년도_신규_설비용량.xlsx\")\n",
    "\n",
    "# 데이터프레임으로 변환\n",
    "# ic = Installed Capacity = 설비용량\n",
    "ic_total = pd.DataFrame(data_total)\n",
    "ic_2024 = pd.DataFrame(data_2024)\n",
    "ic_2023 = pd.DataFrame(data_2023)\n",
    "ic_2022 = pd.DataFrame(data_2022)\n",
    "ic_2021 = pd.DataFrame(data_2021)\n",
    "\n",
    "# 숫자의 ',' 때문에 object 값이었던 데이터들을 int 값으로 변환\n",
    "mds.delete_comma(ic_total)\n",
    "mds.delete_comma(ic_2024)\n",
    "mds.delete_comma(ic_2023)\n",
    "mds.delete_comma(ic_2022)\n",
    "mds.delete_comma(ic_2021)\n",
    "\n",
    "# 컴럼 통일화를 위해 capacity_total에 \"합계\" 컬럼 추가\n",
    "ic_total[\"합계\"] = ic_total.sum(axis=1, numeric_only=True)\n",
    "\n",
    "# 하나의 DataFrame으로 병합\n",
    "ic_total = pd.concat([ic_total, ic_2024, ic_2023, ic_2022, ic_2021], ignore_index=True)\n",
    "\n",
    "# 각 연도별 누적값 계산\n",
    "for i in range(1, len(ic_total)):\n",
    "    ic_total.iloc[i, 1:] = ic_total.iloc[i-1, 1:] - ic_total.iloc[i, 1:]\n",
    "\n",
    "# 연도 정리\n",
    "ic_total.rename(columns={\"Unnamed: 0\": \"연도\"}, inplace=True)\n",
    "ic_total[\"연도\"] = [2024, 2023, 2022, 2021, 2020]\n",
    "\n",
    "# 오름차순 정렬 (주석 처리 시 내림차순)\n",
    "# ic_total.sort_values(by=\"연도\", inplace=True)\n",
    "# ic_total.reset_index(drop=True, inplace=True)\n",
    "\n",
    "# 2020~2024 각 연도의 지역별 누적 설비용량\n",
    "ic_total.head()\n",
    "\n",
    "ic_total.to_excel(\"dataset/지역별_연도별_설비용량.xlsx\", index=False, engine=\"openpyxl\")\n"
   ]
  },
  {
   "cell_type": "code",
   "execution_count": 100,
   "id": "33295105",
   "metadata": {},
   "outputs": [],
   "source": [
    "# 누적 발전량 데이터 정리\n",
    "\n",
    "# 누적 / 연도별 데이터 불러오기\n",
    "data_total_2022 = pd.read_excel(\"dataset/지역별_누적_발전량.xlsx\")\n",
    "data_2024 = pd.read_excel(\"dataset/2024년_신규_발전량.xlsx\")\n",
    "data_2023 = pd.read_excel(\"dataset/2023년_신규_발전량.xlsx\")\n",
    "data_2022 = pd.read_excel(\"dataset/2022년_신규_발전량.xlsx\")\n",
    "data_2021 = pd.read_excel(\"dataset/2021년_신규_발전량.xlsx\")\n",
    "\n",
    "# 데이터프레임으로 변환\n",
    "# gen = Power Generation = 발전량\n",
    "gen_total_2022 = pd.DataFrame(data_total_2022)\n",
    "gen_2024 = pd.DataFrame(data_2024)\n",
    "gen_2023 = pd.DataFrame(data_2023)\n",
    "gen_2022 = pd.DataFrame(data_2022)\n",
    "gen_2021 = pd.DataFrame(data_2021)\n",
    "\n",
    "# 열과 행 전치\n",
    "gen_2024 = gen_2024.T.reset_index(drop=True)\n",
    "gen_2023 = gen_2023.T.reset_index(drop=True)\n",
    "gen_2022 = gen_2022.T.reset_index(drop=True)\n",
    "gen_2021 = gen_2021.T.reset_index(drop=True)\n",
    "\n",
    "# 컴럼 정리\n",
    "gen_2024.columns = gen_2024.iloc[0]\n",
    "gen_2024.drop(labels=gen_2024.index[0], axis=0, inplace=True)\n",
    "gen_2023.columns = gen_2023.iloc[0]\n",
    "gen_2023.drop(labels=gen_2023.index[0], axis=0, inplace=True)\n",
    "gen_2022.columns = gen_2022.iloc[0]\n",
    "gen_2022.drop(labels=gen_2022.index[0], axis=0, inplace=True)\n",
    "gen_2021.columns = gen_2021.iloc[0]\n",
    "gen_2021.drop(labels=gen_2021.index[0], axis=0, inplace=True)\n",
    "\n",
    "\n",
    "# 연도 컬럼 추가\n",
    "gen_2024.insert(0, \"연도\", np.nan)\n",
    "gen_2023.insert(0, \"연도\", np.nan)\n",
    "gen_2022.insert(0, \"연도\", np.nan)\n",
    "gen_2021.insert(0, \"연도\", np.nan)\n",
    "\n",
    "# 숫자의 ',' 때문에 object 값이었던 데이터들을 int 값으로 변환\n",
    "mds.delete_comma(gen_total_2022)\n",
    "mds.delete_comma(gen_2024)\n",
    "mds.delete_comma(gen_2023)\n",
    "mds.delete_comma(gen_2022)\n",
    "mds.delete_comma(gen_2021)\n",
    "\n",
    "# 월별 데이터 연도별 데이터로 변환\n",
    "gen_2024 = pd.DataFrame(gen_2024.sum()).T\n",
    "gen_2023 = pd.DataFrame(gen_2023.sum()).T\n",
    "gen_2022 = pd.DataFrame(gen_2022.sum()).T\n",
    "gen_2021 = pd.DataFrame(gen_2021.sum()).T\n",
    "\n",
    "# \"합계\" 컬럼 추가\n",
    "gen_2024[\"합계\"] = gen_2024.sum(axis=1, numeric_only=True)\n",
    "gen_2023[\"합계\"] = gen_2023.sum(axis=1, numeric_only=True)\n",
    "gen_2022[\"합계\"] = gen_2022.sum(axis=1, numeric_only=True)\n",
    "gen_2021[\"합계\"] = gen_2021.sum(axis=1, numeric_only=True)\n",
    "\n",
    "# # 하나의 DataFrame으로 병합\n",
    "gen_total = pd.concat([gen_2024, gen_2023, gen_total_2022, gen_2022, gen_2021], ignore_index=True)\n",
    "\n",
    "# 연도 정리\n",
    "gen_total = gen_total.drop(gen_total.columns[-1], axis=1)\n",
    "gen_total.rename(columns={\"지역\": \"연도\"}, inplace=True)\n",
    "gen_total[\"연도\"] = [2024, 2023, 2022, 2021, 2020]\n",
    "\n",
    "# 소수점 제거\n",
    "gen_total = gen_total.astype(int)\n",
    "\n",
    "# # 각 연도별 누적값 계산\n",
    "gen_total.iloc[1, 1:] = gen_total.iloc[2, 1:] + gen_total.iloc[1, 1:] # 2023 계산\n",
    "gen_total.iloc[0, 1:] = gen_total.iloc[1, 1:] + gen_total.iloc[0, 1:] # 2024 계산\n",
    "gen_total.iloc[3, 1:] = gen_total.iloc[2, 1:] - gen_total.iloc[3, 1:] # 2021 계산\n",
    "gen_total.iloc[4, 1:] = gen_total.iloc[3, 1:] - gen_total.iloc[4, 1:] # 2020 계산\n",
    "\n",
    "\n",
    "# # 오름차순 정렬 (주석 처리 시 내림차순)\n",
    "# # gen_total.sort_values(by=\"연도\", inplace=True)\n",
    "# # gen_total.reset_index(drop=True, inplace=True)\n",
    "\n",
    "# # 2020~2024 각 연도의 지역별 누적 발전량\n",
    "gen_total.head()\n",
    "\n",
    "gen_total.to_excel(\"dataset/지역별_연도별_발전량.xlsx\", index=False, engine=\"openpyxl\")"
   ]
  },
  {
   "cell_type": "code",
   "execution_count": 101,
   "id": "e23bf284",
   "metadata": {},
   "outputs": [
    {
     "name": "stdout",
     "output_type": "stream",
     "text": [
      "      연도  지역  설비용량(MW)  발전량(MWh)   설비이용률(%)\n",
      "0   2024  서울        50     57372  13.098630\n",
      "1   2024  강원      1943   2183283  12.827237\n",
      "2   2024  경남      2016   2203811  12.478998\n",
      "3   2024  경북      3842   4340591  12.896961\n",
      "4   2024  대전        65     66946  11.757288\n",
      "5   2024  인천       163    163075  11.420778\n",
      "6   2024  제주       621    634506  11.663799\n",
      "7   2024  전남      6023   7119186  13.493151\n",
      "8   2024  대구       420    443426  12.052240\n",
      "9   2024  경기      2012   2065997  11.721889\n",
      "10  2024  부산       275    287942  11.952760\n",
      "11  2024  전북      4590   5579509  13.876476\n",
      "12  2024  충남      3772   4299136  13.010842\n",
      "13  2024  충북      1613   1747500  12.367409\n",
      "14  2024  광주       353    360149  11.646714\n",
      "15  2023  광주       303    307606  11.589056\n",
      "16  2023  경기      1672   1665112  11.368498\n",
      "17  2023  전남      5410   6382965  13.468558\n",
      "18  2023  대전        55     55787  11.578871\n",
      "19  2023  충남      3072   3485642  12.952615\n"
     ]
    }
   ],
   "source": [
    "import pandas as pd\n",
    "\n",
    "# 엑셀 불러오기\n",
    "capacity = pd.read_excel(\"dataset/지역별_연도별_설비용량.xlsx\")\n",
    "generation = pd.read_excel(\"dataset/지역별_연도별_신규_발전량.xlsx\")\n",
    "\n",
    "# 설비용량 long 변환 (합계 제외)\n",
    "cap_long = capacity.drop(columns=[\"합계\"]).melt(\n",
    "    id_vars=[\"연도\"], var_name=\"지역\", value_name=\"설비용량(MW)\"\n",
    ")\n",
    "\n",
    "# 발전량 long 변환 (합계 제외)\n",
    "gen_long = generation.drop(columns=[\"합계\"]).melt(\n",
    "    id_vars=[\"연도\"], var_name=\"지역\", value_name=\"발전량(MWh)\"\n",
    ")\n",
    "\n",
    "# 데이터 합치기\n",
    "merged = pd.merge(cap_long, gen_long, on=[\"연도\", \"지역\"])\n",
    "\n",
    "# 설비 이용률 계산\n",
    "merged[\"설비이용률(%)\"] = merged[\"발전량(MWh)\"] / (merged[\"설비용량(MW)\"] * 8760) * 100\n",
    "\n",
    "# 연도 기준 내림차순 (2024 → 2020)\n",
    "merged_sorted = merged.sort_values(by=\"연도\", ascending=False)\n",
    "\n",
    "# 인덱스 초기화\n",
    "merged_sorted = merged_sorted.reset_index(drop=True)\n",
    "\n",
    "print(merged_sorted.head(20))  # 상위 20개 확인\n",
    "\n",
    "merged_sorted.to_excel(\"dataset/합친데이터.xlsx\", index=False, engine=\"openpyxl\")\n"
   ]
  },
  {
   "cell_type": "code",
   "execution_count": 102,
   "id": "d44570ab",
   "metadata": {},
   "outputs": [
    {
     "data": {
      "application/vnd.plotly.v1+json": {
       "config": {
        "plotlyServerURL": "https://plot.ly"
       },
       "data": [
        {
         "hovertemplate": "연도=%{x}<br>평균 발전량(MWh)=%{text}<extra></extra>",
         "legendgroup": "",
         "marker": {
          "color": "#636efa",
          "pattern": {
           "shape": ""
          }
         },
         "name": "",
         "orientation": "v",
         "showlegend": false,
         "text": {
          "bdata": "AAAAgMOyRUEAAACAQgFPQQAAAEArTVVBAAAAAMGbW0EAAABg9F5hQQ==",
          "dtype": "f8"
         },
         "textposition": "outside",
         "texttemplate": "%{text:,.0f}",
         "type": "bar",
         "x": {
          "bdata": "5AflB+YH5wfoBw==",
          "dtype": "i2"
         },
         "xaxis": "x",
         "y": {
          "bdata": "AAAAgMOyRUEAAACAQgFPQQAAAEArTVVBAAAAAMGbW0EAAABg9F5hQQ==",
          "dtype": "f8"
         },
         "yaxis": "y"
        }
       ],
       "layout": {
        "barmode": "relative",
        "height": 800,
        "legend": {
         "tracegroupgap": 0
        },
        "margin": {
         "b": 60,
         "l": 40,
         "r": 40,
         "t": 80
        },
        "template": {
         "data": {
          "bar": [
           {
            "error_x": {
             "color": "#2a3f5f"
            },
            "error_y": {
             "color": "#2a3f5f"
            },
            "marker": {
             "line": {
              "color": "white",
              "width": 0.5
             },
             "pattern": {
              "fillmode": "overlay",
              "size": 10,
              "solidity": 0.2
             }
            },
            "type": "bar"
           }
          ],
          "barpolar": [
           {
            "marker": {
             "line": {
              "color": "white",
              "width": 0.5
             },
             "pattern": {
              "fillmode": "overlay",
              "size": 10,
              "solidity": 0.2
             }
            },
            "type": "barpolar"
           }
          ],
          "carpet": [
           {
            "aaxis": {
             "endlinecolor": "#2a3f5f",
             "gridcolor": "#C8D4E3",
             "linecolor": "#C8D4E3",
             "minorgridcolor": "#C8D4E3",
             "startlinecolor": "#2a3f5f"
            },
            "baxis": {
             "endlinecolor": "#2a3f5f",
             "gridcolor": "#C8D4E3",
             "linecolor": "#C8D4E3",
             "minorgridcolor": "#C8D4E3",
             "startlinecolor": "#2a3f5f"
            },
            "type": "carpet"
           }
          ],
          "choropleth": [
           {
            "colorbar": {
             "outlinewidth": 0,
             "ticks": ""
            },
            "type": "choropleth"
           }
          ],
          "contour": [
           {
            "colorbar": {
             "outlinewidth": 0,
             "ticks": ""
            },
            "colorscale": [
             [
              0,
              "#0d0887"
             ],
             [
              0.1111111111111111,
              "#46039f"
             ],
             [
              0.2222222222222222,
              "#7201a8"
             ],
             [
              0.3333333333333333,
              "#9c179e"
             ],
             [
              0.4444444444444444,
              "#bd3786"
             ],
             [
              0.5555555555555556,
              "#d8576b"
             ],
             [
              0.6666666666666666,
              "#ed7953"
             ],
             [
              0.7777777777777778,
              "#fb9f3a"
             ],
             [
              0.8888888888888888,
              "#fdca26"
             ],
             [
              1,
              "#f0f921"
             ]
            ],
            "type": "contour"
           }
          ],
          "contourcarpet": [
           {
            "colorbar": {
             "outlinewidth": 0,
             "ticks": ""
            },
            "type": "contourcarpet"
           }
          ],
          "heatmap": [
           {
            "colorbar": {
             "outlinewidth": 0,
             "ticks": ""
            },
            "colorscale": [
             [
              0,
              "#0d0887"
             ],
             [
              0.1111111111111111,
              "#46039f"
             ],
             [
              0.2222222222222222,
              "#7201a8"
             ],
             [
              0.3333333333333333,
              "#9c179e"
             ],
             [
              0.4444444444444444,
              "#bd3786"
             ],
             [
              0.5555555555555556,
              "#d8576b"
             ],
             [
              0.6666666666666666,
              "#ed7953"
             ],
             [
              0.7777777777777778,
              "#fb9f3a"
             ],
             [
              0.8888888888888888,
              "#fdca26"
             ],
             [
              1,
              "#f0f921"
             ]
            ],
            "type": "heatmap"
           }
          ],
          "histogram": [
           {
            "marker": {
             "pattern": {
              "fillmode": "overlay",
              "size": 10,
              "solidity": 0.2
             }
            },
            "type": "histogram"
           }
          ],
          "histogram2d": [
           {
            "colorbar": {
             "outlinewidth": 0,
             "ticks": ""
            },
            "colorscale": [
             [
              0,
              "#0d0887"
             ],
             [
              0.1111111111111111,
              "#46039f"
             ],
             [
              0.2222222222222222,
              "#7201a8"
             ],
             [
              0.3333333333333333,
              "#9c179e"
             ],
             [
              0.4444444444444444,
              "#bd3786"
             ],
             [
              0.5555555555555556,
              "#d8576b"
             ],
             [
              0.6666666666666666,
              "#ed7953"
             ],
             [
              0.7777777777777778,
              "#fb9f3a"
             ],
             [
              0.8888888888888888,
              "#fdca26"
             ],
             [
              1,
              "#f0f921"
             ]
            ],
            "type": "histogram2d"
           }
          ],
          "histogram2dcontour": [
           {
            "colorbar": {
             "outlinewidth": 0,
             "ticks": ""
            },
            "colorscale": [
             [
              0,
              "#0d0887"
             ],
             [
              0.1111111111111111,
              "#46039f"
             ],
             [
              0.2222222222222222,
              "#7201a8"
             ],
             [
              0.3333333333333333,
              "#9c179e"
             ],
             [
              0.4444444444444444,
              "#bd3786"
             ],
             [
              0.5555555555555556,
              "#d8576b"
             ],
             [
              0.6666666666666666,
              "#ed7953"
             ],
             [
              0.7777777777777778,
              "#fb9f3a"
             ],
             [
              0.8888888888888888,
              "#fdca26"
             ],
             [
              1,
              "#f0f921"
             ]
            ],
            "type": "histogram2dcontour"
           }
          ],
          "mesh3d": [
           {
            "colorbar": {
             "outlinewidth": 0,
             "ticks": ""
            },
            "type": "mesh3d"
           }
          ],
          "parcoords": [
           {
            "line": {
             "colorbar": {
              "outlinewidth": 0,
              "ticks": ""
             }
            },
            "type": "parcoords"
           }
          ],
          "pie": [
           {
            "automargin": true,
            "type": "pie"
           }
          ],
          "scatter": [
           {
            "fillpattern": {
             "fillmode": "overlay",
             "size": 10,
             "solidity": 0.2
            },
            "type": "scatter"
           }
          ],
          "scatter3d": [
           {
            "line": {
             "colorbar": {
              "outlinewidth": 0,
              "ticks": ""
             }
            },
            "marker": {
             "colorbar": {
              "outlinewidth": 0,
              "ticks": ""
             }
            },
            "type": "scatter3d"
           }
          ],
          "scattercarpet": [
           {
            "marker": {
             "colorbar": {
              "outlinewidth": 0,
              "ticks": ""
             }
            },
            "type": "scattercarpet"
           }
          ],
          "scattergeo": [
           {
            "marker": {
             "colorbar": {
              "outlinewidth": 0,
              "ticks": ""
             }
            },
            "type": "scattergeo"
           }
          ],
          "scattergl": [
           {
            "marker": {
             "colorbar": {
              "outlinewidth": 0,
              "ticks": ""
             }
            },
            "type": "scattergl"
           }
          ],
          "scattermap": [
           {
            "marker": {
             "colorbar": {
              "outlinewidth": 0,
              "ticks": ""
             }
            },
            "type": "scattermap"
           }
          ],
          "scattermapbox": [
           {
            "marker": {
             "colorbar": {
              "outlinewidth": 0,
              "ticks": ""
             }
            },
            "type": "scattermapbox"
           }
          ],
          "scatterpolar": [
           {
            "marker": {
             "colorbar": {
              "outlinewidth": 0,
              "ticks": ""
             }
            },
            "type": "scatterpolar"
           }
          ],
          "scatterpolargl": [
           {
            "marker": {
             "colorbar": {
              "outlinewidth": 0,
              "ticks": ""
             }
            },
            "type": "scatterpolargl"
           }
          ],
          "scatterternary": [
           {
            "marker": {
             "colorbar": {
              "outlinewidth": 0,
              "ticks": ""
             }
            },
            "type": "scatterternary"
           }
          ],
          "surface": [
           {
            "colorbar": {
             "outlinewidth": 0,
             "ticks": ""
            },
            "colorscale": [
             [
              0,
              "#0d0887"
             ],
             [
              0.1111111111111111,
              "#46039f"
             ],
             [
              0.2222222222222222,
              "#7201a8"
             ],
             [
              0.3333333333333333,
              "#9c179e"
             ],
             [
              0.4444444444444444,
              "#bd3786"
             ],
             [
              0.5555555555555556,
              "#d8576b"
             ],
             [
              0.6666666666666666,
              "#ed7953"
             ],
             [
              0.7777777777777778,
              "#fb9f3a"
             ],
             [
              0.8888888888888888,
              "#fdca26"
             ],
             [
              1,
              "#f0f921"
             ]
            ],
            "type": "surface"
           }
          ],
          "table": [
           {
            "cells": {
             "fill": {
              "color": "#EBF0F8"
             },
             "line": {
              "color": "white"
             }
            },
            "header": {
             "fill": {
              "color": "#C8D4E3"
             },
             "line": {
              "color": "white"
             }
            },
            "type": "table"
           }
          ]
         },
         "layout": {
          "annotationdefaults": {
           "arrowcolor": "#2a3f5f",
           "arrowhead": 0,
           "arrowwidth": 1
          },
          "autotypenumbers": "strict",
          "coloraxis": {
           "colorbar": {
            "outlinewidth": 0,
            "ticks": ""
           }
          },
          "colorscale": {
           "diverging": [
            [
             0,
             "#8e0152"
            ],
            [
             0.1,
             "#c51b7d"
            ],
            [
             0.2,
             "#de77ae"
            ],
            [
             0.3,
             "#f1b6da"
            ],
            [
             0.4,
             "#fde0ef"
            ],
            [
             0.5,
             "#f7f7f7"
            ],
            [
             0.6,
             "#e6f5d0"
            ],
            [
             0.7,
             "#b8e186"
            ],
            [
             0.8,
             "#7fbc41"
            ],
            [
             0.9,
             "#4d9221"
            ],
            [
             1,
             "#276419"
            ]
           ],
           "sequential": [
            [
             0,
             "#0d0887"
            ],
            [
             0.1111111111111111,
             "#46039f"
            ],
            [
             0.2222222222222222,
             "#7201a8"
            ],
            [
             0.3333333333333333,
             "#9c179e"
            ],
            [
             0.4444444444444444,
             "#bd3786"
            ],
            [
             0.5555555555555556,
             "#d8576b"
            ],
            [
             0.6666666666666666,
             "#ed7953"
            ],
            [
             0.7777777777777778,
             "#fb9f3a"
            ],
            [
             0.8888888888888888,
             "#fdca26"
            ],
            [
             1,
             "#f0f921"
            ]
           ],
           "sequentialminus": [
            [
             0,
             "#0d0887"
            ],
            [
             0.1111111111111111,
             "#46039f"
            ],
            [
             0.2222222222222222,
             "#7201a8"
            ],
            [
             0.3333333333333333,
             "#9c179e"
            ],
            [
             0.4444444444444444,
             "#bd3786"
            ],
            [
             0.5555555555555556,
             "#d8576b"
            ],
            [
             0.6666666666666666,
             "#ed7953"
            ],
            [
             0.7777777777777778,
             "#fb9f3a"
            ],
            [
             0.8888888888888888,
             "#fdca26"
            ],
            [
             1,
             "#f0f921"
            ]
           ]
          },
          "colorway": [
           "#636efa",
           "#EF553B",
           "#00cc96",
           "#ab63fa",
           "#FFA15A",
           "#19d3f3",
           "#FF6692",
           "#B6E880",
           "#FF97FF",
           "#FECB52"
          ],
          "font": {
           "color": "#2a3f5f"
          },
          "geo": {
           "bgcolor": "white",
           "lakecolor": "white",
           "landcolor": "white",
           "showlakes": true,
           "showland": true,
           "subunitcolor": "#C8D4E3"
          },
          "hoverlabel": {
           "align": "left"
          },
          "hovermode": "closest",
          "mapbox": {
           "style": "light"
          },
          "paper_bgcolor": "white",
          "plot_bgcolor": "white",
          "polar": {
           "angularaxis": {
            "gridcolor": "#EBF0F8",
            "linecolor": "#EBF0F8",
            "ticks": ""
           },
           "bgcolor": "white",
           "radialaxis": {
            "gridcolor": "#EBF0F8",
            "linecolor": "#EBF0F8",
            "ticks": ""
           }
          },
          "scene": {
           "xaxis": {
            "backgroundcolor": "white",
            "gridcolor": "#DFE8F3",
            "gridwidth": 2,
            "linecolor": "#EBF0F8",
            "showbackground": true,
            "ticks": "",
            "zerolinecolor": "#EBF0F8"
           },
           "yaxis": {
            "backgroundcolor": "white",
            "gridcolor": "#DFE8F3",
            "gridwidth": 2,
            "linecolor": "#EBF0F8",
            "showbackground": true,
            "ticks": "",
            "zerolinecolor": "#EBF0F8"
           },
           "zaxis": {
            "backgroundcolor": "white",
            "gridcolor": "#DFE8F3",
            "gridwidth": 2,
            "linecolor": "#EBF0F8",
            "showbackground": true,
            "ticks": "",
            "zerolinecolor": "#EBF0F8"
           }
          },
          "shapedefaults": {
           "line": {
            "color": "#2a3f5f"
           }
          },
          "ternary": {
           "aaxis": {
            "gridcolor": "#DFE8F3",
            "linecolor": "#A2B1C6",
            "ticks": ""
           },
           "baxis": {
            "gridcolor": "#DFE8F3",
            "linecolor": "#A2B1C6",
            "ticks": ""
           },
           "bgcolor": "white",
           "caxis": {
            "gridcolor": "#DFE8F3",
            "linecolor": "#A2B1C6",
            "ticks": ""
           }
          },
          "title": {
           "x": 0.05
          },
          "xaxis": {
           "automargin": true,
           "gridcolor": "#EBF0F8",
           "linecolor": "#EBF0F8",
           "ticks": "",
           "title": {
            "standoff": 15
           },
           "zerolinecolor": "#EBF0F8",
           "zerolinewidth": 2
          },
          "yaxis": {
           "automargin": true,
           "gridcolor": "#EBF0F8",
           "linecolor": "#EBF0F8",
           "ticks": "",
           "title": {
            "standoff": 15
           },
           "zerolinecolor": "#EBF0F8",
           "zerolinewidth": 2
          }
         }
        },
        "title": {
         "font": {
          "color": "black",
          "size": 25
         },
         "text": "연도별 평균 태양광 발전량(MWh)",
         "x": 0.5,
         "y": 0.96
        },
        "width": 1200,
        "xaxis": {
         "anchor": "y",
         "domain": [
          0,
          1
         ],
         "title": {
          "text": "연도"
         }
        },
        "yaxis": {
         "anchor": "x",
         "domain": [
          0,
          1
         ],
         "tickformat": ",.0f",
         "title": {
          "text": "평균 발전량(MWh)"
         }
        }
       }
      }
     },
     "metadata": {},
     "output_type": "display_data"
    }
   ],
   "source": [
    "import pandas as pd\n",
    "import numpy as np\n",
    "import plotly.express as px\n",
    "\n",
    "# === 0) 데이터 정리: '연도' + 지역 컬럼들만 평균 ===\n",
    "df = gen_total.copy()\n",
    "if df.columns[0] != \"연도\":\n",
    "    df = df.rename(columns={df.columns[0]: \"연도\"})\n",
    "\n",
    "# '합계'가 있으면 제외\n",
    "area_cols = [c for c in df.columns if c not in [\"연도\", \"합계\"]]\n",
    "\n",
    "# 숫자형 보정\n",
    "for c in area_cols:\n",
    "    df[c] = pd.to_numeric(df[c], errors=\"coerce\")\n",
    "\n",
    "# 연도별 지역 평균\n",
    "year_mean_df = pd.DataFrame({\n",
    "    \"연도\": df[\"연도\"],\n",
    "    \"평균 발전량(MWh)\": df[area_cols].mean(axis=1).round()\n",
    "}).sort_values(\"연도\")\n",
    "\n",
    "# === 1) Plotly 막대 ===\n",
    "fig = px.bar(\n",
    "    year_mean_df, x=\"연도\", y=\"평균 발전량(MWh)\",\n",
    "    title=\"연도별 평균 태양광 발전량(MWh)\",\n",
    "    text=\"평균 발전량(MWh)\",\n",
    "    template=\"plotly_white\"\n",
    ")\n",
    "\n",
    "# 보기 좋게 라벨/축/크기\n",
    "fig.update_traces(texttemplate=\"%{text:,.0f}\", textposition=\"outside\")\n",
    "fig.update_layout(\n",
    "    width=1200, height=800,\n",
    "    title_x=0.5, title_y=0.96,\n",
    "    title_font_size=25, title_font_color=\"black\",\n",
    "    margin=dict(l=40, r=40, t=80, b=60)\n",
    ")\n",
    "fig.update_yaxes(title_text=\"평균 발전량(MWh)\", tickformat=\",.0f\")\n",
    "fig.update_xaxes(title_text=\"연도\")\n",
    "\n",
    "fig.show()\n",
    "# fig.write_html(\"year_mean_bar.html\", include_plotlyjs=\"cdn\")\n"
   ]
  },
  {
   "cell_type": "code",
   "execution_count": 173,
   "id": "527e59ed",
   "metadata": {},
   "outputs": [
    {
     "data": {
      "application/vnd.plotly.v1+json": {
       "config": {
        "plotlyServerURL": "https://plot.ly"
       },
       "data": [
        {
         "hovertemplate": "<b>%{x}</b><br>발전량: %{y:,.0f} MWh<extra></extra>",
         "marker": {
          "color": {
           "bdata": "HOAAACLEBgDVfgUAo6AhAFKhbADMSQIAA30CAIquCQBvO0IAgJlBAHNQIQATVQEAxmQEAPUiVQAsqhoATYYfAIIFAQA=",
           "dtype": "i4"
          },
          "colorbar": {
           "title": {
            "text": "MWh"
           }
          },
          "colorscale": [
           [
            0,
            "rgb(247,251,255)"
           ],
           [
            0.125,
            "rgb(222,235,247)"
           ],
           [
            0.25,
            "rgb(198,219,239)"
           ],
           [
            0.375,
            "rgb(158,202,225)"
           ],
           [
            0.5,
            "rgb(107,174,214)"
           ],
           [
            0.625,
            "rgb(66,146,198)"
           ],
           [
            0.75,
            "rgb(33,113,181)"
           ],
           [
            0.875,
            "rgb(8,81,156)"
           ],
           [
            1,
            "rgb(8,48,107)"
           ]
          ],
          "showscale": true
         },
         "text": [
          "57,372",
          "443,426",
          "360,149",
          "2,203,811",
          "7,119,186",
          "149,964",
          "163,075",
          "634,506",
          "4,340,591",
          "4,299,136",
          "2,183,283",
          "87,315",
          "287,942",
          "5,579,509",
          "1,747,500",
          "2,065,997",
          "66,946"
         ],
         "textposition": "outside",
         "type": "bar",
         "x": [
          "서울",
          "대구",
          "광주",
          "경남",
          "전남",
          "울산",
          "인천",
          "제주",
          "경북",
          "충남",
          "강원",
          "세종",
          "부산",
          "전북",
          "충북",
          "경기",
          "대전"
         ],
         "y": {
          "bdata": "HOAAACLEBgDVfgUAo6AhAFKhbADMSQIAA30CAIquCQBvO0IAgJlBAHNQIQATVQEAxmQEAPUiVQAsqhoATYYfAIIFAQA=",
          "dtype": "i4"
         }
        }
       ],
       "layout": {
        "margin": {
         "b": 100,
         "l": 40,
         "r": 40,
         "t": 60
        },
        "template": {
         "data": {
          "bar": [
           {
            "error_x": {
             "color": "#2a3f5f"
            },
            "error_y": {
             "color": "#2a3f5f"
            },
            "marker": {
             "line": {
              "color": "white",
              "width": 0.5
             },
             "pattern": {
              "fillmode": "overlay",
              "size": 10,
              "solidity": 0.2
             }
            },
            "type": "bar"
           }
          ],
          "barpolar": [
           {
            "marker": {
             "line": {
              "color": "white",
              "width": 0.5
             },
             "pattern": {
              "fillmode": "overlay",
              "size": 10,
              "solidity": 0.2
             }
            },
            "type": "barpolar"
           }
          ],
          "carpet": [
           {
            "aaxis": {
             "endlinecolor": "#2a3f5f",
             "gridcolor": "#C8D4E3",
             "linecolor": "#C8D4E3",
             "minorgridcolor": "#C8D4E3",
             "startlinecolor": "#2a3f5f"
            },
            "baxis": {
             "endlinecolor": "#2a3f5f",
             "gridcolor": "#C8D4E3",
             "linecolor": "#C8D4E3",
             "minorgridcolor": "#C8D4E3",
             "startlinecolor": "#2a3f5f"
            },
            "type": "carpet"
           }
          ],
          "choropleth": [
           {
            "colorbar": {
             "outlinewidth": 0,
             "ticks": ""
            },
            "type": "choropleth"
           }
          ],
          "contour": [
           {
            "colorbar": {
             "outlinewidth": 0,
             "ticks": ""
            },
            "colorscale": [
             [
              0,
              "#0d0887"
             ],
             [
              0.1111111111111111,
              "#46039f"
             ],
             [
              0.2222222222222222,
              "#7201a8"
             ],
             [
              0.3333333333333333,
              "#9c179e"
             ],
             [
              0.4444444444444444,
              "#bd3786"
             ],
             [
              0.5555555555555556,
              "#d8576b"
             ],
             [
              0.6666666666666666,
              "#ed7953"
             ],
             [
              0.7777777777777778,
              "#fb9f3a"
             ],
             [
              0.8888888888888888,
              "#fdca26"
             ],
             [
              1,
              "#f0f921"
             ]
            ],
            "type": "contour"
           }
          ],
          "contourcarpet": [
           {
            "colorbar": {
             "outlinewidth": 0,
             "ticks": ""
            },
            "type": "contourcarpet"
           }
          ],
          "heatmap": [
           {
            "colorbar": {
             "outlinewidth": 0,
             "ticks": ""
            },
            "colorscale": [
             [
              0,
              "#0d0887"
             ],
             [
              0.1111111111111111,
              "#46039f"
             ],
             [
              0.2222222222222222,
              "#7201a8"
             ],
             [
              0.3333333333333333,
              "#9c179e"
             ],
             [
              0.4444444444444444,
              "#bd3786"
             ],
             [
              0.5555555555555556,
              "#d8576b"
             ],
             [
              0.6666666666666666,
              "#ed7953"
             ],
             [
              0.7777777777777778,
              "#fb9f3a"
             ],
             [
              0.8888888888888888,
              "#fdca26"
             ],
             [
              1,
              "#f0f921"
             ]
            ],
            "type": "heatmap"
           }
          ],
          "histogram": [
           {
            "marker": {
             "pattern": {
              "fillmode": "overlay",
              "size": 10,
              "solidity": 0.2
             }
            },
            "type": "histogram"
           }
          ],
          "histogram2d": [
           {
            "colorbar": {
             "outlinewidth": 0,
             "ticks": ""
            },
            "colorscale": [
             [
              0,
              "#0d0887"
             ],
             [
              0.1111111111111111,
              "#46039f"
             ],
             [
              0.2222222222222222,
              "#7201a8"
             ],
             [
              0.3333333333333333,
              "#9c179e"
             ],
             [
              0.4444444444444444,
              "#bd3786"
             ],
             [
              0.5555555555555556,
              "#d8576b"
             ],
             [
              0.6666666666666666,
              "#ed7953"
             ],
             [
              0.7777777777777778,
              "#fb9f3a"
             ],
             [
              0.8888888888888888,
              "#fdca26"
             ],
             [
              1,
              "#f0f921"
             ]
            ],
            "type": "histogram2d"
           }
          ],
          "histogram2dcontour": [
           {
            "colorbar": {
             "outlinewidth": 0,
             "ticks": ""
            },
            "colorscale": [
             [
              0,
              "#0d0887"
             ],
             [
              0.1111111111111111,
              "#46039f"
             ],
             [
              0.2222222222222222,
              "#7201a8"
             ],
             [
              0.3333333333333333,
              "#9c179e"
             ],
             [
              0.4444444444444444,
              "#bd3786"
             ],
             [
              0.5555555555555556,
              "#d8576b"
             ],
             [
              0.6666666666666666,
              "#ed7953"
             ],
             [
              0.7777777777777778,
              "#fb9f3a"
             ],
             [
              0.8888888888888888,
              "#fdca26"
             ],
             [
              1,
              "#f0f921"
             ]
            ],
            "type": "histogram2dcontour"
           }
          ],
          "mesh3d": [
           {
            "colorbar": {
             "outlinewidth": 0,
             "ticks": ""
            },
            "type": "mesh3d"
           }
          ],
          "parcoords": [
           {
            "line": {
             "colorbar": {
              "outlinewidth": 0,
              "ticks": ""
             }
            },
            "type": "parcoords"
           }
          ],
          "pie": [
           {
            "automargin": true,
            "type": "pie"
           }
          ],
          "scatter": [
           {
            "fillpattern": {
             "fillmode": "overlay",
             "size": 10,
             "solidity": 0.2
            },
            "type": "scatter"
           }
          ],
          "scatter3d": [
           {
            "line": {
             "colorbar": {
              "outlinewidth": 0,
              "ticks": ""
             }
            },
            "marker": {
             "colorbar": {
              "outlinewidth": 0,
              "ticks": ""
             }
            },
            "type": "scatter3d"
           }
          ],
          "scattercarpet": [
           {
            "marker": {
             "colorbar": {
              "outlinewidth": 0,
              "ticks": ""
             }
            },
            "type": "scattercarpet"
           }
          ],
          "scattergeo": [
           {
            "marker": {
             "colorbar": {
              "outlinewidth": 0,
              "ticks": ""
             }
            },
            "type": "scattergeo"
           }
          ],
          "scattergl": [
           {
            "marker": {
             "colorbar": {
              "outlinewidth": 0,
              "ticks": ""
             }
            },
            "type": "scattergl"
           }
          ],
          "scattermap": [
           {
            "marker": {
             "colorbar": {
              "outlinewidth": 0,
              "ticks": ""
             }
            },
            "type": "scattermap"
           }
          ],
          "scattermapbox": [
           {
            "marker": {
             "colorbar": {
              "outlinewidth": 0,
              "ticks": ""
             }
            },
            "type": "scattermapbox"
           }
          ],
          "scatterpolar": [
           {
            "marker": {
             "colorbar": {
              "outlinewidth": 0,
              "ticks": ""
             }
            },
            "type": "scatterpolar"
           }
          ],
          "scatterpolargl": [
           {
            "marker": {
             "colorbar": {
              "outlinewidth": 0,
              "ticks": ""
             }
            },
            "type": "scatterpolargl"
           }
          ],
          "scatterternary": [
           {
            "marker": {
             "colorbar": {
              "outlinewidth": 0,
              "ticks": ""
             }
            },
            "type": "scatterternary"
           }
          ],
          "surface": [
           {
            "colorbar": {
             "outlinewidth": 0,
             "ticks": ""
            },
            "colorscale": [
             [
              0,
              "#0d0887"
             ],
             [
              0.1111111111111111,
              "#46039f"
             ],
             [
              0.2222222222222222,
              "#7201a8"
             ],
             [
              0.3333333333333333,
              "#9c179e"
             ],
             [
              0.4444444444444444,
              "#bd3786"
             ],
             [
              0.5555555555555556,
              "#d8576b"
             ],
             [
              0.6666666666666666,
              "#ed7953"
             ],
             [
              0.7777777777777778,
              "#fb9f3a"
             ],
             [
              0.8888888888888888,
              "#fdca26"
             ],
             [
              1,
              "#f0f921"
             ]
            ],
            "type": "surface"
           }
          ],
          "table": [
           {
            "cells": {
             "fill": {
              "color": "#EBF0F8"
             },
             "line": {
              "color": "white"
             }
            },
            "header": {
             "fill": {
              "color": "#C8D4E3"
             },
             "line": {
              "color": "white"
             }
            },
            "type": "table"
           }
          ]
         },
         "layout": {
          "annotationdefaults": {
           "arrowcolor": "#2a3f5f",
           "arrowhead": 0,
           "arrowwidth": 1
          },
          "autotypenumbers": "strict",
          "coloraxis": {
           "colorbar": {
            "outlinewidth": 0,
            "ticks": ""
           }
          },
          "colorscale": {
           "diverging": [
            [
             0,
             "#8e0152"
            ],
            [
             0.1,
             "#c51b7d"
            ],
            [
             0.2,
             "#de77ae"
            ],
            [
             0.3,
             "#f1b6da"
            ],
            [
             0.4,
             "#fde0ef"
            ],
            [
             0.5,
             "#f7f7f7"
            ],
            [
             0.6,
             "#e6f5d0"
            ],
            [
             0.7,
             "#b8e186"
            ],
            [
             0.8,
             "#7fbc41"
            ],
            [
             0.9,
             "#4d9221"
            ],
            [
             1,
             "#276419"
            ]
           ],
           "sequential": [
            [
             0,
             "#0d0887"
            ],
            [
             0.1111111111111111,
             "#46039f"
            ],
            [
             0.2222222222222222,
             "#7201a8"
            ],
            [
             0.3333333333333333,
             "#9c179e"
            ],
            [
             0.4444444444444444,
             "#bd3786"
            ],
            [
             0.5555555555555556,
             "#d8576b"
            ],
            [
             0.6666666666666666,
             "#ed7953"
            ],
            [
             0.7777777777777778,
             "#fb9f3a"
            ],
            [
             0.8888888888888888,
             "#fdca26"
            ],
            [
             1,
             "#f0f921"
            ]
           ],
           "sequentialminus": [
            [
             0,
             "#0d0887"
            ],
            [
             0.1111111111111111,
             "#46039f"
            ],
            [
             0.2222222222222222,
             "#7201a8"
            ],
            [
             0.3333333333333333,
             "#9c179e"
            ],
            [
             0.4444444444444444,
             "#bd3786"
            ],
            [
             0.5555555555555556,
             "#d8576b"
            ],
            [
             0.6666666666666666,
             "#ed7953"
            ],
            [
             0.7777777777777778,
             "#fb9f3a"
            ],
            [
             0.8888888888888888,
             "#fdca26"
            ],
            [
             1,
             "#f0f921"
            ]
           ]
          },
          "colorway": [
           "#636efa",
           "#EF553B",
           "#00cc96",
           "#ab63fa",
           "#FFA15A",
           "#19d3f3",
           "#FF6692",
           "#B6E880",
           "#FF97FF",
           "#FECB52"
          ],
          "font": {
           "color": "#2a3f5f"
          },
          "geo": {
           "bgcolor": "white",
           "lakecolor": "white",
           "landcolor": "white",
           "showlakes": true,
           "showland": true,
           "subunitcolor": "#C8D4E3"
          },
          "hoverlabel": {
           "align": "left"
          },
          "hovermode": "closest",
          "mapbox": {
           "style": "light"
          },
          "paper_bgcolor": "white",
          "plot_bgcolor": "white",
          "polar": {
           "angularaxis": {
            "gridcolor": "#EBF0F8",
            "linecolor": "#EBF0F8",
            "ticks": ""
           },
           "bgcolor": "white",
           "radialaxis": {
            "gridcolor": "#EBF0F8",
            "linecolor": "#EBF0F8",
            "ticks": ""
           }
          },
          "scene": {
           "xaxis": {
            "backgroundcolor": "white",
            "gridcolor": "#DFE8F3",
            "gridwidth": 2,
            "linecolor": "#EBF0F8",
            "showbackground": true,
            "ticks": "",
            "zerolinecolor": "#EBF0F8"
           },
           "yaxis": {
            "backgroundcolor": "white",
            "gridcolor": "#DFE8F3",
            "gridwidth": 2,
            "linecolor": "#EBF0F8",
            "showbackground": true,
            "ticks": "",
            "zerolinecolor": "#EBF0F8"
           },
           "zaxis": {
            "backgroundcolor": "white",
            "gridcolor": "#DFE8F3",
            "gridwidth": 2,
            "linecolor": "#EBF0F8",
            "showbackground": true,
            "ticks": "",
            "zerolinecolor": "#EBF0F8"
           }
          },
          "shapedefaults": {
           "line": {
            "color": "#2a3f5f"
           }
          },
          "ternary": {
           "aaxis": {
            "gridcolor": "#DFE8F3",
            "linecolor": "#A2B1C6",
            "ticks": ""
           },
           "baxis": {
            "gridcolor": "#DFE8F3",
            "linecolor": "#A2B1C6",
            "ticks": ""
           },
           "bgcolor": "white",
           "caxis": {
            "gridcolor": "#DFE8F3",
            "linecolor": "#A2B1C6",
            "ticks": ""
           }
          },
          "title": {
           "x": 0.05
          },
          "xaxis": {
           "automargin": true,
           "gridcolor": "#EBF0F8",
           "linecolor": "#EBF0F8",
           "ticks": "",
           "title": {
            "standoff": 15
           },
           "zerolinecolor": "#EBF0F8",
           "zerolinewidth": 2
          },
          "yaxis": {
           "automargin": true,
           "gridcolor": "#EBF0F8",
           "linecolor": "#EBF0F8",
           "ticks": "",
           "title": {
            "standoff": 15
           },
           "zerolinecolor": "#EBF0F8",
           "zerolinewidth": 2
          }
         }
        },
        "title": {
         "text": "2024년 지역별 발전량"
        },
        "xaxis": {
         "tickangle": -45,
         "title": {
          "text": "지역"
         }
        },
        "yaxis": {
         "tickformat": ",.0f",
         "title": {
          "text": "발전량 (MWh)"
         }
        }
       }
      }
     },
     "metadata": {},
     "output_type": "display_data"
    },
    {
     "data": {
      "application/vnd.plotly.v1+json": {
       "config": {
        "plotlyServerURL": "https://plot.ly"
       },
       "data": [
        {
         "hovertemplate": "<b>%{x}</b><br>설비용량: %{y:,.0f} MW<extra></extra>",
         "marker": {
          "color": {
           "bdata": "MgCkAWEB4AeHF5gAowBtAgIPvA6XB1gAEwHuEU0G3AdBAA==",
           "dtype": "i2"
          },
          "colorbar": {
           "title": {
            "text": "MW"
           }
          },
          "colorscale": [
           [
            0,
            "rgb(247,252,245)"
           ],
           [
            0.125,
            "rgb(229,245,224)"
           ],
           [
            0.25,
            "rgb(199,233,192)"
           ],
           [
            0.375,
            "rgb(161,217,155)"
           ],
           [
            0.5,
            "rgb(116,196,118)"
           ],
           [
            0.625,
            "rgb(65,171,93)"
           ],
           [
            0.75,
            "rgb(35,139,69)"
           ],
           [
            0.875,
            "rgb(0,109,44)"
           ],
           [
            1,
            "rgb(0,68,27)"
           ]
          ],
          "showscale": true
         },
         "text": [
          "50",
          "420",
          "353",
          "2,016",
          "6,023",
          "152",
          "163",
          "621",
          "3,842",
          "3,772",
          "1,943",
          "88",
          "275",
          "4,590",
          "1,613",
          "2,012",
          "65"
         ],
         "textposition": "outside",
         "type": "bar",
         "x": [
          "서울",
          "대구",
          "광주",
          "경남",
          "전남",
          "울산",
          "인천",
          "제주",
          "경북",
          "충남",
          "강원",
          "세종",
          "부산",
          "전북",
          "충북",
          "경기",
          "대전"
         ],
         "y": {
          "bdata": "MgCkAWEB4AeHF5gAowBtAgIPvA6XB1gAEwHuEU0G3AdBAA==",
          "dtype": "i2"
         }
        }
       ],
       "layout": {
        "margin": {
         "b": 100,
         "l": 40,
         "r": 40,
         "t": 60
        },
        "template": {
         "data": {
          "bar": [
           {
            "error_x": {
             "color": "#2a3f5f"
            },
            "error_y": {
             "color": "#2a3f5f"
            },
            "marker": {
             "line": {
              "color": "white",
              "width": 0.5
             },
             "pattern": {
              "fillmode": "overlay",
              "size": 10,
              "solidity": 0.2
             }
            },
            "type": "bar"
           }
          ],
          "barpolar": [
           {
            "marker": {
             "line": {
              "color": "white",
              "width": 0.5
             },
             "pattern": {
              "fillmode": "overlay",
              "size": 10,
              "solidity": 0.2
             }
            },
            "type": "barpolar"
           }
          ],
          "carpet": [
           {
            "aaxis": {
             "endlinecolor": "#2a3f5f",
             "gridcolor": "#C8D4E3",
             "linecolor": "#C8D4E3",
             "minorgridcolor": "#C8D4E3",
             "startlinecolor": "#2a3f5f"
            },
            "baxis": {
             "endlinecolor": "#2a3f5f",
             "gridcolor": "#C8D4E3",
             "linecolor": "#C8D4E3",
             "minorgridcolor": "#C8D4E3",
             "startlinecolor": "#2a3f5f"
            },
            "type": "carpet"
           }
          ],
          "choropleth": [
           {
            "colorbar": {
             "outlinewidth": 0,
             "ticks": ""
            },
            "type": "choropleth"
           }
          ],
          "contour": [
           {
            "colorbar": {
             "outlinewidth": 0,
             "ticks": ""
            },
            "colorscale": [
             [
              0,
              "#0d0887"
             ],
             [
              0.1111111111111111,
              "#46039f"
             ],
             [
              0.2222222222222222,
              "#7201a8"
             ],
             [
              0.3333333333333333,
              "#9c179e"
             ],
             [
              0.4444444444444444,
              "#bd3786"
             ],
             [
              0.5555555555555556,
              "#d8576b"
             ],
             [
              0.6666666666666666,
              "#ed7953"
             ],
             [
              0.7777777777777778,
              "#fb9f3a"
             ],
             [
              0.8888888888888888,
              "#fdca26"
             ],
             [
              1,
              "#f0f921"
             ]
            ],
            "type": "contour"
           }
          ],
          "contourcarpet": [
           {
            "colorbar": {
             "outlinewidth": 0,
             "ticks": ""
            },
            "type": "contourcarpet"
           }
          ],
          "heatmap": [
           {
            "colorbar": {
             "outlinewidth": 0,
             "ticks": ""
            },
            "colorscale": [
             [
              0,
              "#0d0887"
             ],
             [
              0.1111111111111111,
              "#46039f"
             ],
             [
              0.2222222222222222,
              "#7201a8"
             ],
             [
              0.3333333333333333,
              "#9c179e"
             ],
             [
              0.4444444444444444,
              "#bd3786"
             ],
             [
              0.5555555555555556,
              "#d8576b"
             ],
             [
              0.6666666666666666,
              "#ed7953"
             ],
             [
              0.7777777777777778,
              "#fb9f3a"
             ],
             [
              0.8888888888888888,
              "#fdca26"
             ],
             [
              1,
              "#f0f921"
             ]
            ],
            "type": "heatmap"
           }
          ],
          "histogram": [
           {
            "marker": {
             "pattern": {
              "fillmode": "overlay",
              "size": 10,
              "solidity": 0.2
             }
            },
            "type": "histogram"
           }
          ],
          "histogram2d": [
           {
            "colorbar": {
             "outlinewidth": 0,
             "ticks": ""
            },
            "colorscale": [
             [
              0,
              "#0d0887"
             ],
             [
              0.1111111111111111,
              "#46039f"
             ],
             [
              0.2222222222222222,
              "#7201a8"
             ],
             [
              0.3333333333333333,
              "#9c179e"
             ],
             [
              0.4444444444444444,
              "#bd3786"
             ],
             [
              0.5555555555555556,
              "#d8576b"
             ],
             [
              0.6666666666666666,
              "#ed7953"
             ],
             [
              0.7777777777777778,
              "#fb9f3a"
             ],
             [
              0.8888888888888888,
              "#fdca26"
             ],
             [
              1,
              "#f0f921"
             ]
            ],
            "type": "histogram2d"
           }
          ],
          "histogram2dcontour": [
           {
            "colorbar": {
             "outlinewidth": 0,
             "ticks": ""
            },
            "colorscale": [
             [
              0,
              "#0d0887"
             ],
             [
              0.1111111111111111,
              "#46039f"
             ],
             [
              0.2222222222222222,
              "#7201a8"
             ],
             [
              0.3333333333333333,
              "#9c179e"
             ],
             [
              0.4444444444444444,
              "#bd3786"
             ],
             [
              0.5555555555555556,
              "#d8576b"
             ],
             [
              0.6666666666666666,
              "#ed7953"
             ],
             [
              0.7777777777777778,
              "#fb9f3a"
             ],
             [
              0.8888888888888888,
              "#fdca26"
             ],
             [
              1,
              "#f0f921"
             ]
            ],
            "type": "histogram2dcontour"
           }
          ],
          "mesh3d": [
           {
            "colorbar": {
             "outlinewidth": 0,
             "ticks": ""
            },
            "type": "mesh3d"
           }
          ],
          "parcoords": [
           {
            "line": {
             "colorbar": {
              "outlinewidth": 0,
              "ticks": ""
             }
            },
            "type": "parcoords"
           }
          ],
          "pie": [
           {
            "automargin": true,
            "type": "pie"
           }
          ],
          "scatter": [
           {
            "fillpattern": {
             "fillmode": "overlay",
             "size": 10,
             "solidity": 0.2
            },
            "type": "scatter"
           }
          ],
          "scatter3d": [
           {
            "line": {
             "colorbar": {
              "outlinewidth": 0,
              "ticks": ""
             }
            },
            "marker": {
             "colorbar": {
              "outlinewidth": 0,
              "ticks": ""
             }
            },
            "type": "scatter3d"
           }
          ],
          "scattercarpet": [
           {
            "marker": {
             "colorbar": {
              "outlinewidth": 0,
              "ticks": ""
             }
            },
            "type": "scattercarpet"
           }
          ],
          "scattergeo": [
           {
            "marker": {
             "colorbar": {
              "outlinewidth": 0,
              "ticks": ""
             }
            },
            "type": "scattergeo"
           }
          ],
          "scattergl": [
           {
            "marker": {
             "colorbar": {
              "outlinewidth": 0,
              "ticks": ""
             }
            },
            "type": "scattergl"
           }
          ],
          "scattermap": [
           {
            "marker": {
             "colorbar": {
              "outlinewidth": 0,
              "ticks": ""
             }
            },
            "type": "scattermap"
           }
          ],
          "scattermapbox": [
           {
            "marker": {
             "colorbar": {
              "outlinewidth": 0,
              "ticks": ""
             }
            },
            "type": "scattermapbox"
           }
          ],
          "scatterpolar": [
           {
            "marker": {
             "colorbar": {
              "outlinewidth": 0,
              "ticks": ""
             }
            },
            "type": "scatterpolar"
           }
          ],
          "scatterpolargl": [
           {
            "marker": {
             "colorbar": {
              "outlinewidth": 0,
              "ticks": ""
             }
            },
            "type": "scatterpolargl"
           }
          ],
          "scatterternary": [
           {
            "marker": {
             "colorbar": {
              "outlinewidth": 0,
              "ticks": ""
             }
            },
            "type": "scatterternary"
           }
          ],
          "surface": [
           {
            "colorbar": {
             "outlinewidth": 0,
             "ticks": ""
            },
            "colorscale": [
             [
              0,
              "#0d0887"
             ],
             [
              0.1111111111111111,
              "#46039f"
             ],
             [
              0.2222222222222222,
              "#7201a8"
             ],
             [
              0.3333333333333333,
              "#9c179e"
             ],
             [
              0.4444444444444444,
              "#bd3786"
             ],
             [
              0.5555555555555556,
              "#d8576b"
             ],
             [
              0.6666666666666666,
              "#ed7953"
             ],
             [
              0.7777777777777778,
              "#fb9f3a"
             ],
             [
              0.8888888888888888,
              "#fdca26"
             ],
             [
              1,
              "#f0f921"
             ]
            ],
            "type": "surface"
           }
          ],
          "table": [
           {
            "cells": {
             "fill": {
              "color": "#EBF0F8"
             },
             "line": {
              "color": "white"
             }
            },
            "header": {
             "fill": {
              "color": "#C8D4E3"
             },
             "line": {
              "color": "white"
             }
            },
            "type": "table"
           }
          ]
         },
         "layout": {
          "annotationdefaults": {
           "arrowcolor": "#2a3f5f",
           "arrowhead": 0,
           "arrowwidth": 1
          },
          "autotypenumbers": "strict",
          "coloraxis": {
           "colorbar": {
            "outlinewidth": 0,
            "ticks": ""
           }
          },
          "colorscale": {
           "diverging": [
            [
             0,
             "#8e0152"
            ],
            [
             0.1,
             "#c51b7d"
            ],
            [
             0.2,
             "#de77ae"
            ],
            [
             0.3,
             "#f1b6da"
            ],
            [
             0.4,
             "#fde0ef"
            ],
            [
             0.5,
             "#f7f7f7"
            ],
            [
             0.6,
             "#e6f5d0"
            ],
            [
             0.7,
             "#b8e186"
            ],
            [
             0.8,
             "#7fbc41"
            ],
            [
             0.9,
             "#4d9221"
            ],
            [
             1,
             "#276419"
            ]
           ],
           "sequential": [
            [
             0,
             "#0d0887"
            ],
            [
             0.1111111111111111,
             "#46039f"
            ],
            [
             0.2222222222222222,
             "#7201a8"
            ],
            [
             0.3333333333333333,
             "#9c179e"
            ],
            [
             0.4444444444444444,
             "#bd3786"
            ],
            [
             0.5555555555555556,
             "#d8576b"
            ],
            [
             0.6666666666666666,
             "#ed7953"
            ],
            [
             0.7777777777777778,
             "#fb9f3a"
            ],
            [
             0.8888888888888888,
             "#fdca26"
            ],
            [
             1,
             "#f0f921"
            ]
           ],
           "sequentialminus": [
            [
             0,
             "#0d0887"
            ],
            [
             0.1111111111111111,
             "#46039f"
            ],
            [
             0.2222222222222222,
             "#7201a8"
            ],
            [
             0.3333333333333333,
             "#9c179e"
            ],
            [
             0.4444444444444444,
             "#bd3786"
            ],
            [
             0.5555555555555556,
             "#d8576b"
            ],
            [
             0.6666666666666666,
             "#ed7953"
            ],
            [
             0.7777777777777778,
             "#fb9f3a"
            ],
            [
             0.8888888888888888,
             "#fdca26"
            ],
            [
             1,
             "#f0f921"
            ]
           ]
          },
          "colorway": [
           "#636efa",
           "#EF553B",
           "#00cc96",
           "#ab63fa",
           "#FFA15A",
           "#19d3f3",
           "#FF6692",
           "#B6E880",
           "#FF97FF",
           "#FECB52"
          ],
          "font": {
           "color": "#2a3f5f"
          },
          "geo": {
           "bgcolor": "white",
           "lakecolor": "white",
           "landcolor": "white",
           "showlakes": true,
           "showland": true,
           "subunitcolor": "#C8D4E3"
          },
          "hoverlabel": {
           "align": "left"
          },
          "hovermode": "closest",
          "mapbox": {
           "style": "light"
          },
          "paper_bgcolor": "white",
          "plot_bgcolor": "white",
          "polar": {
           "angularaxis": {
            "gridcolor": "#EBF0F8",
            "linecolor": "#EBF0F8",
            "ticks": ""
           },
           "bgcolor": "white",
           "radialaxis": {
            "gridcolor": "#EBF0F8",
            "linecolor": "#EBF0F8",
            "ticks": ""
           }
          },
          "scene": {
           "xaxis": {
            "backgroundcolor": "white",
            "gridcolor": "#DFE8F3",
            "gridwidth": 2,
            "linecolor": "#EBF0F8",
            "showbackground": true,
            "ticks": "",
            "zerolinecolor": "#EBF0F8"
           },
           "yaxis": {
            "backgroundcolor": "white",
            "gridcolor": "#DFE8F3",
            "gridwidth": 2,
            "linecolor": "#EBF0F8",
            "showbackground": true,
            "ticks": "",
            "zerolinecolor": "#EBF0F8"
           },
           "zaxis": {
            "backgroundcolor": "white",
            "gridcolor": "#DFE8F3",
            "gridwidth": 2,
            "linecolor": "#EBF0F8",
            "showbackground": true,
            "ticks": "",
            "zerolinecolor": "#EBF0F8"
           }
          },
          "shapedefaults": {
           "line": {
            "color": "#2a3f5f"
           }
          },
          "ternary": {
           "aaxis": {
            "gridcolor": "#DFE8F3",
            "linecolor": "#A2B1C6",
            "ticks": ""
           },
           "baxis": {
            "gridcolor": "#DFE8F3",
            "linecolor": "#A2B1C6",
            "ticks": ""
           },
           "bgcolor": "white",
           "caxis": {
            "gridcolor": "#DFE8F3",
            "linecolor": "#A2B1C6",
            "ticks": ""
           }
          },
          "title": {
           "x": 0.05
          },
          "xaxis": {
           "automargin": true,
           "gridcolor": "#EBF0F8",
           "linecolor": "#EBF0F8",
           "ticks": "",
           "title": {
            "standoff": 15
           },
           "zerolinecolor": "#EBF0F8",
           "zerolinewidth": 2
          },
          "yaxis": {
           "automargin": true,
           "gridcolor": "#EBF0F8",
           "linecolor": "#EBF0F8",
           "ticks": "",
           "title": {
            "standoff": 15
           },
           "zerolinecolor": "#EBF0F8",
           "zerolinewidth": 2
          }
         }
        },
        "title": {
         "text": "2024년 지역별 설비용량"
        },
        "xaxis": {
         "tickangle": -45,
         "title": {
          "text": "지역"
         }
        },
        "yaxis": {
         "tickformat": ",.0f",
         "title": {
          "text": "설비용량 (MW)"
         }
        }
       }
      }
     },
     "metadata": {},
     "output_type": "display_data"
    }
   ],
   "source": [
    "import pandas as pd\n",
    "import plotly.graph_objects as go\n",
    "\n",
    "# 데이터 로드\n",
    "df = pd.read_excel(\"dataset/일사량합친데이터.xlsx\")\n",
    "\n",
    "# 2024년만 선택\n",
    "df_2024 = df[df[\"연도\"] == 2024].copy()\n",
    "\n",
    "# 발전량 그래프\n",
    "fig_gen = go.Figure()\n",
    "fig_gen.add_trace(go.Bar(\n",
    "    x=df_2024[\"지역\"],\n",
    "    y=df_2024[\"발전량(MWh)\"],\n",
    "    text=[f\"{v:,.0f}\" for v in df_2024[\"발전량(MWh)\"]],\n",
    "    textposition=\"outside\",\n",
    "    marker=dict(\n",
    "        color=df_2024[\"발전량(MWh)\"],\n",
    "        colorscale=\"Blues\",\n",
    "        showscale=True,\n",
    "        colorbar=dict(title=\"MWh\")\n",
    "    ),\n",
    "    hovertemplate=\"<b>%{x}</b><br>발전량: %{y:,.0f} MWh<extra></extra>\"\n",
    "))\n",
    "fig_gen.update_layout(\n",
    "    title=\"2024년 지역별 발전량\",\n",
    "    xaxis_title=\"지역\",\n",
    "    yaxis_title=\"발전량 (MWh)\",\n",
    "    template=\"plotly_white\",\n",
    "    margin=dict(l=40, r=40, t=60, b=100)\n",
    ")\n",
    "fig_gen.update_xaxes(tickangle=-45)\n",
    "fig_gen.update_yaxes(tickformat=\",.0f\")\n",
    "\n",
    "# 설비용량 그래프\n",
    "fig_cap = go.Figure()\n",
    "fig_cap.add_trace(go.Bar(\n",
    "    x=df_2024[\"지역\"],\n",
    "    y=df_2024[\"설비용량(MW)\"],\n",
    "    text=[f\"{v:,.0f}\" for v in df_2024[\"설비용량(MW)\"]],\n",
    "    textposition=\"outside\",\n",
    "    marker=dict(\n",
    "        color=df_2024[\"설비용량(MW)\"],\n",
    "        colorscale=\"Greens\",\n",
    "        showscale=True,\n",
    "        colorbar=dict(title=\"MW\")\n",
    "    ),\n",
    "    hovertemplate=\"<b>%{x}</b><br>설비용량: %{y:,.0f} MW<extra></extra>\"\n",
    "))\n",
    "fig_cap.update_layout(\n",
    "    title=\"2024년 지역별 설비용량\",\n",
    "    xaxis_title=\"지역\",\n",
    "    yaxis_title=\"설비용량 (MW)\",\n",
    "    template=\"plotly_white\",\n",
    "    margin=dict(l=40, r=40, t=60, b=100)\n",
    ")\n",
    "fig_cap.update_xaxes(tickangle=-45)\n",
    "fig_cap.update_yaxes(tickformat=\",.0f\")\n",
    "\n",
    "# 결과 출력\n",
    "fig_gen.show()\n",
    "fig_cap.show()"
   ]
  },
  {
   "cell_type": "code",
   "execution_count": 106,
   "id": "00bc5754",
   "metadata": {},
   "outputs": [
    {
     "name": "stdout",
     "output_type": "stream",
     "text": [
      "      연도  지역  설비용량(MW)  발전량(MWh)   설비이용률(%)  일사량(MJ/m2)\n",
      "0   2024  서울        50     57372  13.098630  436.333333\n",
      "1   2024  강원      1943   2183283  12.827237  408.083333\n",
      "2   2024  경남      2016   2203811  12.478998  465.833333\n",
      "3   2024  경북      3842   4340591  12.896961  462.583333\n",
      "4   2024  대전        65     66946  11.757288  451.916667\n",
      "..   ...  ..       ...       ...        ...         ...\n",
      "70  2020  광주       215    225188  11.956462  459.500000\n",
      "71  2020  대구       200    191816  10.948402  463.083333\n",
      "72  2020  경남      1085   1085723  11.423132  462.250000\n",
      "73  2020  충북       846    871117  11.754442  447.666667\n",
      "74  2020  전북      2559   2881921  12.856054  432.750000\n",
      "\n",
      "[75 rows x 6 columns]\n"
     ]
    }
   ],
   "source": [
    "import pandas as pd\n",
    "\n",
    "# === 1) 데이터 불러오기 ===\n",
    "df_main = pd.read_excel(\"dataset/합친데이터.xlsx\")\n",
    "df_solar = pd.read_excel(\"dataset/연도별 일사량 데이터.xlsx\")\n",
    "\n",
    "# === 2) 가로형 → 세로형 변환 ===\n",
    "df_solar_long = df_solar.melt(\n",
    "    id_vars=\"지역\", \n",
    "    var_name=\"연도\", \n",
    "    value_name=\"일사량(MJ/m2)\"\n",
    ")\n",
    "\n",
    "# 연도 숫자형으로 변환\n",
    "df_solar_long[\"연도\"] = df_solar_long[\"연도\"].astype(int)\n",
    "\n",
    "# === 3) 두 데이터 합치기 ===\n",
    "merged = pd.merge(\n",
    "    df_main,\n",
    "    df_solar_long,\n",
    "    on=[\"연도\", \"지역\"],\n",
    "    how=\"left\"\n",
    ")\n",
    "\n",
    "merged[\"일사량(MJ/m2)\"] = merged[\"일사량(MJ/m2)\"] / 12\n",
    "\n",
    "print(merged)\n",
    "\n",
    "merged.to_excel(\"dataset/최종일사량합친데이터.xlsx\", index=False, engine=\"openpyxl\")"
   ]
  },
  {
   "cell_type": "code",
   "execution_count": 170,
   "id": "ca17d44f",
   "metadata": {},
   "outputs": [
    {
     "data": {
      "application/vnd.plotly.v1+json": {
       "config": {
        "plotlyServerURL": "https://plot.ly"
       },
       "data": [
        {
         "line": {
          "color": "#d62728",
          "width": 3
         },
         "marker": {
          "size": 9,
          "symbol": "circle"
         },
         "mode": "lines+markers",
         "name": "경북",
         "type": "scatter",
         "x": {
          "bdata": "5AflB+YH5wfoBw==",
          "dtype": "i2"
         },
         "y": {
          "bdata": "LcUbAJ1FJgCVxjIAOQg6AG87QgA=",
          "dtype": "i4"
         }
        },
        {
         "line": {
          "color": "#1f77b4",
          "width": 3
         },
         "marker": {
          "size": 9,
          "symbol": "circle"
         },
         "mode": "lines+markers",
         "name": "경남",
         "type": "scatter",
         "x": {
          "bdata": "5AflB+YH5wfoBw==",
          "dtype": "i2"
         },
         "y": {
          "bdata": "G5EQADWBFQCbdRsAFJodAKOgIQA=",
          "dtype": "i4"
         }
        },
        {
         "line": {
          "color": "#2ca02c",
          "width": 3
         },
         "marker": {
          "size": 9,
          "symbol": "circle"
         },
         "mode": "lines+markers",
         "name": "충남",
         "type": "scatter",
         "x": {
          "bdata": "5AflB+YH5wfoBw==",
          "dtype": "i2"
         },
         "y": {
          "bdata": "MXohAA9eKgAiUjIAyi81AICZQQA=",
          "dtype": "i4"
         }
        }
       ],
       "layout": {
        "legend": {
         "bgcolor": "rgba(255,255,255,0.7)",
         "bordercolor": "lightgray",
         "borderwidth": 1,
         "title": {
          "text": "지역"
         }
        },
        "template": {
         "data": {
          "bar": [
           {
            "error_x": {
             "color": "#2a3f5f"
            },
            "error_y": {
             "color": "#2a3f5f"
            },
            "marker": {
             "line": {
              "color": "white",
              "width": 0.5
             },
             "pattern": {
              "fillmode": "overlay",
              "size": 10,
              "solidity": 0.2
             }
            },
            "type": "bar"
           }
          ],
          "barpolar": [
           {
            "marker": {
             "line": {
              "color": "white",
              "width": 0.5
             },
             "pattern": {
              "fillmode": "overlay",
              "size": 10,
              "solidity": 0.2
             }
            },
            "type": "barpolar"
           }
          ],
          "carpet": [
           {
            "aaxis": {
             "endlinecolor": "#2a3f5f",
             "gridcolor": "#C8D4E3",
             "linecolor": "#C8D4E3",
             "minorgridcolor": "#C8D4E3",
             "startlinecolor": "#2a3f5f"
            },
            "baxis": {
             "endlinecolor": "#2a3f5f",
             "gridcolor": "#C8D4E3",
             "linecolor": "#C8D4E3",
             "minorgridcolor": "#C8D4E3",
             "startlinecolor": "#2a3f5f"
            },
            "type": "carpet"
           }
          ],
          "choropleth": [
           {
            "colorbar": {
             "outlinewidth": 0,
             "ticks": ""
            },
            "type": "choropleth"
           }
          ],
          "contour": [
           {
            "colorbar": {
             "outlinewidth": 0,
             "ticks": ""
            },
            "colorscale": [
             [
              0,
              "#0d0887"
             ],
             [
              0.1111111111111111,
              "#46039f"
             ],
             [
              0.2222222222222222,
              "#7201a8"
             ],
             [
              0.3333333333333333,
              "#9c179e"
             ],
             [
              0.4444444444444444,
              "#bd3786"
             ],
             [
              0.5555555555555556,
              "#d8576b"
             ],
             [
              0.6666666666666666,
              "#ed7953"
             ],
             [
              0.7777777777777778,
              "#fb9f3a"
             ],
             [
              0.8888888888888888,
              "#fdca26"
             ],
             [
              1,
              "#f0f921"
             ]
            ],
            "type": "contour"
           }
          ],
          "contourcarpet": [
           {
            "colorbar": {
             "outlinewidth": 0,
             "ticks": ""
            },
            "type": "contourcarpet"
           }
          ],
          "heatmap": [
           {
            "colorbar": {
             "outlinewidth": 0,
             "ticks": ""
            },
            "colorscale": [
             [
              0,
              "#0d0887"
             ],
             [
              0.1111111111111111,
              "#46039f"
             ],
             [
              0.2222222222222222,
              "#7201a8"
             ],
             [
              0.3333333333333333,
              "#9c179e"
             ],
             [
              0.4444444444444444,
              "#bd3786"
             ],
             [
              0.5555555555555556,
              "#d8576b"
             ],
             [
              0.6666666666666666,
              "#ed7953"
             ],
             [
              0.7777777777777778,
              "#fb9f3a"
             ],
             [
              0.8888888888888888,
              "#fdca26"
             ],
             [
              1,
              "#f0f921"
             ]
            ],
            "type": "heatmap"
           }
          ],
          "histogram": [
           {
            "marker": {
             "pattern": {
              "fillmode": "overlay",
              "size": 10,
              "solidity": 0.2
             }
            },
            "type": "histogram"
           }
          ],
          "histogram2d": [
           {
            "colorbar": {
             "outlinewidth": 0,
             "ticks": ""
            },
            "colorscale": [
             [
              0,
              "#0d0887"
             ],
             [
              0.1111111111111111,
              "#46039f"
             ],
             [
              0.2222222222222222,
              "#7201a8"
             ],
             [
              0.3333333333333333,
              "#9c179e"
             ],
             [
              0.4444444444444444,
              "#bd3786"
             ],
             [
              0.5555555555555556,
              "#d8576b"
             ],
             [
              0.6666666666666666,
              "#ed7953"
             ],
             [
              0.7777777777777778,
              "#fb9f3a"
             ],
             [
              0.8888888888888888,
              "#fdca26"
             ],
             [
              1,
              "#f0f921"
             ]
            ],
            "type": "histogram2d"
           }
          ],
          "histogram2dcontour": [
           {
            "colorbar": {
             "outlinewidth": 0,
             "ticks": ""
            },
            "colorscale": [
             [
              0,
              "#0d0887"
             ],
             [
              0.1111111111111111,
              "#46039f"
             ],
             [
              0.2222222222222222,
              "#7201a8"
             ],
             [
              0.3333333333333333,
              "#9c179e"
             ],
             [
              0.4444444444444444,
              "#bd3786"
             ],
             [
              0.5555555555555556,
              "#d8576b"
             ],
             [
              0.6666666666666666,
              "#ed7953"
             ],
             [
              0.7777777777777778,
              "#fb9f3a"
             ],
             [
              0.8888888888888888,
              "#fdca26"
             ],
             [
              1,
              "#f0f921"
             ]
            ],
            "type": "histogram2dcontour"
           }
          ],
          "mesh3d": [
           {
            "colorbar": {
             "outlinewidth": 0,
             "ticks": ""
            },
            "type": "mesh3d"
           }
          ],
          "parcoords": [
           {
            "line": {
             "colorbar": {
              "outlinewidth": 0,
              "ticks": ""
             }
            },
            "type": "parcoords"
           }
          ],
          "pie": [
           {
            "automargin": true,
            "type": "pie"
           }
          ],
          "scatter": [
           {
            "fillpattern": {
             "fillmode": "overlay",
             "size": 10,
             "solidity": 0.2
            },
            "type": "scatter"
           }
          ],
          "scatter3d": [
           {
            "line": {
             "colorbar": {
              "outlinewidth": 0,
              "ticks": ""
             }
            },
            "marker": {
             "colorbar": {
              "outlinewidth": 0,
              "ticks": ""
             }
            },
            "type": "scatter3d"
           }
          ],
          "scattercarpet": [
           {
            "marker": {
             "colorbar": {
              "outlinewidth": 0,
              "ticks": ""
             }
            },
            "type": "scattercarpet"
           }
          ],
          "scattergeo": [
           {
            "marker": {
             "colorbar": {
              "outlinewidth": 0,
              "ticks": ""
             }
            },
            "type": "scattergeo"
           }
          ],
          "scattergl": [
           {
            "marker": {
             "colorbar": {
              "outlinewidth": 0,
              "ticks": ""
             }
            },
            "type": "scattergl"
           }
          ],
          "scattermap": [
           {
            "marker": {
             "colorbar": {
              "outlinewidth": 0,
              "ticks": ""
             }
            },
            "type": "scattermap"
           }
          ],
          "scattermapbox": [
           {
            "marker": {
             "colorbar": {
              "outlinewidth": 0,
              "ticks": ""
             }
            },
            "type": "scattermapbox"
           }
          ],
          "scatterpolar": [
           {
            "marker": {
             "colorbar": {
              "outlinewidth": 0,
              "ticks": ""
             }
            },
            "type": "scatterpolar"
           }
          ],
          "scatterpolargl": [
           {
            "marker": {
             "colorbar": {
              "outlinewidth": 0,
              "ticks": ""
             }
            },
            "type": "scatterpolargl"
           }
          ],
          "scatterternary": [
           {
            "marker": {
             "colorbar": {
              "outlinewidth": 0,
              "ticks": ""
             }
            },
            "type": "scatterternary"
           }
          ],
          "surface": [
           {
            "colorbar": {
             "outlinewidth": 0,
             "ticks": ""
            },
            "colorscale": [
             [
              0,
              "#0d0887"
             ],
             [
              0.1111111111111111,
              "#46039f"
             ],
             [
              0.2222222222222222,
              "#7201a8"
             ],
             [
              0.3333333333333333,
              "#9c179e"
             ],
             [
              0.4444444444444444,
              "#bd3786"
             ],
             [
              0.5555555555555556,
              "#d8576b"
             ],
             [
              0.6666666666666666,
              "#ed7953"
             ],
             [
              0.7777777777777778,
              "#fb9f3a"
             ],
             [
              0.8888888888888888,
              "#fdca26"
             ],
             [
              1,
              "#f0f921"
             ]
            ],
            "type": "surface"
           }
          ],
          "table": [
           {
            "cells": {
             "fill": {
              "color": "#EBF0F8"
             },
             "line": {
              "color": "white"
             }
            },
            "header": {
             "fill": {
              "color": "#C8D4E3"
             },
             "line": {
              "color": "white"
             }
            },
            "type": "table"
           }
          ]
         },
         "layout": {
          "annotationdefaults": {
           "arrowcolor": "#2a3f5f",
           "arrowhead": 0,
           "arrowwidth": 1
          },
          "autotypenumbers": "strict",
          "coloraxis": {
           "colorbar": {
            "outlinewidth": 0,
            "ticks": ""
           }
          },
          "colorscale": {
           "diverging": [
            [
             0,
             "#8e0152"
            ],
            [
             0.1,
             "#c51b7d"
            ],
            [
             0.2,
             "#de77ae"
            ],
            [
             0.3,
             "#f1b6da"
            ],
            [
             0.4,
             "#fde0ef"
            ],
            [
             0.5,
             "#f7f7f7"
            ],
            [
             0.6,
             "#e6f5d0"
            ],
            [
             0.7,
             "#b8e186"
            ],
            [
             0.8,
             "#7fbc41"
            ],
            [
             0.9,
             "#4d9221"
            ],
            [
             1,
             "#276419"
            ]
           ],
           "sequential": [
            [
             0,
             "#0d0887"
            ],
            [
             0.1111111111111111,
             "#46039f"
            ],
            [
             0.2222222222222222,
             "#7201a8"
            ],
            [
             0.3333333333333333,
             "#9c179e"
            ],
            [
             0.4444444444444444,
             "#bd3786"
            ],
            [
             0.5555555555555556,
             "#d8576b"
            ],
            [
             0.6666666666666666,
             "#ed7953"
            ],
            [
             0.7777777777777778,
             "#fb9f3a"
            ],
            [
             0.8888888888888888,
             "#fdca26"
            ],
            [
             1,
             "#f0f921"
            ]
           ],
           "sequentialminus": [
            [
             0,
             "#0d0887"
            ],
            [
             0.1111111111111111,
             "#46039f"
            ],
            [
             0.2222222222222222,
             "#7201a8"
            ],
            [
             0.3333333333333333,
             "#9c179e"
            ],
            [
             0.4444444444444444,
             "#bd3786"
            ],
            [
             0.5555555555555556,
             "#d8576b"
            ],
            [
             0.6666666666666666,
             "#ed7953"
            ],
            [
             0.7777777777777778,
             "#fb9f3a"
            ],
            [
             0.8888888888888888,
             "#fdca26"
            ],
            [
             1,
             "#f0f921"
            ]
           ]
          },
          "colorway": [
           "#636efa",
           "#EF553B",
           "#00cc96",
           "#ab63fa",
           "#FFA15A",
           "#19d3f3",
           "#FF6692",
           "#B6E880",
           "#FF97FF",
           "#FECB52"
          ],
          "font": {
           "color": "#2a3f5f"
          },
          "geo": {
           "bgcolor": "white",
           "lakecolor": "white",
           "landcolor": "white",
           "showlakes": true,
           "showland": true,
           "subunitcolor": "#C8D4E3"
          },
          "hoverlabel": {
           "align": "left"
          },
          "hovermode": "closest",
          "mapbox": {
           "style": "light"
          },
          "paper_bgcolor": "white",
          "plot_bgcolor": "white",
          "polar": {
           "angularaxis": {
            "gridcolor": "#EBF0F8",
            "linecolor": "#EBF0F8",
            "ticks": ""
           },
           "bgcolor": "white",
           "radialaxis": {
            "gridcolor": "#EBF0F8",
            "linecolor": "#EBF0F8",
            "ticks": ""
           }
          },
          "scene": {
           "xaxis": {
            "backgroundcolor": "white",
            "gridcolor": "#DFE8F3",
            "gridwidth": 2,
            "linecolor": "#EBF0F8",
            "showbackground": true,
            "ticks": "",
            "zerolinecolor": "#EBF0F8"
           },
           "yaxis": {
            "backgroundcolor": "white",
            "gridcolor": "#DFE8F3",
            "gridwidth": 2,
            "linecolor": "#EBF0F8",
            "showbackground": true,
            "ticks": "",
            "zerolinecolor": "#EBF0F8"
           },
           "zaxis": {
            "backgroundcolor": "white",
            "gridcolor": "#DFE8F3",
            "gridwidth": 2,
            "linecolor": "#EBF0F8",
            "showbackground": true,
            "ticks": "",
            "zerolinecolor": "#EBF0F8"
           }
          },
          "shapedefaults": {
           "line": {
            "color": "#2a3f5f"
           }
          },
          "ternary": {
           "aaxis": {
            "gridcolor": "#DFE8F3",
            "linecolor": "#A2B1C6",
            "ticks": ""
           },
           "baxis": {
            "gridcolor": "#DFE8F3",
            "linecolor": "#A2B1C6",
            "ticks": ""
           },
           "bgcolor": "white",
           "caxis": {
            "gridcolor": "#DFE8F3",
            "linecolor": "#A2B1C6",
            "ticks": ""
           }
          },
          "title": {
           "x": 0.05
          },
          "xaxis": {
           "automargin": true,
           "gridcolor": "#EBF0F8",
           "linecolor": "#EBF0F8",
           "ticks": "",
           "title": {
            "standoff": 15
           },
           "zerolinecolor": "#EBF0F8",
           "zerolinewidth": 2
          },
          "yaxis": {
           "automargin": true,
           "gridcolor": "#EBF0F8",
           "linecolor": "#EBF0F8",
           "ticks": "",
           "title": {
            "standoff": 15
           },
           "zerolinecolor": "#EBF0F8",
           "zerolinewidth": 2
          }
         }
        },
        "title": {
         "text": "경북·경남·충남 연도별 발전량 추이"
        },
        "xaxis": {
         "dtick": 1,
         "gridcolor": "lightgray",
         "showgrid": true,
         "title": {
          "text": "연도"
         }
        },
        "yaxis": {
         "gridcolor": "lightgray",
         "showgrid": true,
         "title": {
          "text": "발전량(MWh)"
         }
        }
       }
      }
     },
     "metadata": {},
     "output_type": "display_data"
    },
    {
     "data": {
      "application/vnd.plotly.v1+json": {
       "config": {
        "plotlyServerURL": "https://plot.ly"
       },
       "data": [
        {
         "line": {
          "color": "#d62728",
          "dash": "dot",
          "width": 3
         },
         "marker": {
          "size": 8,
          "symbol": "square"
         },
         "mode": "lines+markers",
         "name": "경북",
         "type": "scatter",
         "x": {
          "bdata": "5AflB+YH5wfoBw==",
          "dtype": "i2"
         },
         "y": {
          "bdata": "6wZpCUYL/AwCDw==",
          "dtype": "i2"
         }
        },
        {
         "line": {
          "color": "#1f77b4",
          "dash": "dot",
          "width": 3
         },
         "marker": {
          "size": 8,
          "symbol": "square"
         },
         "mode": "lines+markers",
         "name": "경남",
         "type": "scatter",
         "x": {
          "bdata": "5AflB+YH5wfoBw==",
          "dtype": "i2"
         },
         "y": {
          "bdata": "PQRDBRwG0QbgBw==",
          "dtype": "i2"
         }
        },
        {
         "line": {
          "color": "#2ca02c",
          "dash": "dot",
          "width": 3
         },
         "marker": {
          "size": 8,
          "symbol": "square"
         },
         "mode": "lines+markers",
         "name": "충남",
         "type": "scatter",
         "x": {
          "bdata": "5AflB+YH5wfoBw==",
          "dtype": "i2"
         },
         "y": {
          "bdata": "9gfaCe4KAAy8Dg==",
          "dtype": "i2"
         }
        }
       ],
       "layout": {
        "legend": {
         "bgcolor": "rgba(255,255,255,0.7)",
         "bordercolor": "lightgray",
         "borderwidth": 1,
         "title": {
          "text": "지역"
         }
        },
        "template": {
         "data": {
          "bar": [
           {
            "error_x": {
             "color": "#2a3f5f"
            },
            "error_y": {
             "color": "#2a3f5f"
            },
            "marker": {
             "line": {
              "color": "white",
              "width": 0.5
             },
             "pattern": {
              "fillmode": "overlay",
              "size": 10,
              "solidity": 0.2
             }
            },
            "type": "bar"
           }
          ],
          "barpolar": [
           {
            "marker": {
             "line": {
              "color": "white",
              "width": 0.5
             },
             "pattern": {
              "fillmode": "overlay",
              "size": 10,
              "solidity": 0.2
             }
            },
            "type": "barpolar"
           }
          ],
          "carpet": [
           {
            "aaxis": {
             "endlinecolor": "#2a3f5f",
             "gridcolor": "#C8D4E3",
             "linecolor": "#C8D4E3",
             "minorgridcolor": "#C8D4E3",
             "startlinecolor": "#2a3f5f"
            },
            "baxis": {
             "endlinecolor": "#2a3f5f",
             "gridcolor": "#C8D4E3",
             "linecolor": "#C8D4E3",
             "minorgridcolor": "#C8D4E3",
             "startlinecolor": "#2a3f5f"
            },
            "type": "carpet"
           }
          ],
          "choropleth": [
           {
            "colorbar": {
             "outlinewidth": 0,
             "ticks": ""
            },
            "type": "choropleth"
           }
          ],
          "contour": [
           {
            "colorbar": {
             "outlinewidth": 0,
             "ticks": ""
            },
            "colorscale": [
             [
              0,
              "#0d0887"
             ],
             [
              0.1111111111111111,
              "#46039f"
             ],
             [
              0.2222222222222222,
              "#7201a8"
             ],
             [
              0.3333333333333333,
              "#9c179e"
             ],
             [
              0.4444444444444444,
              "#bd3786"
             ],
             [
              0.5555555555555556,
              "#d8576b"
             ],
             [
              0.6666666666666666,
              "#ed7953"
             ],
             [
              0.7777777777777778,
              "#fb9f3a"
             ],
             [
              0.8888888888888888,
              "#fdca26"
             ],
             [
              1,
              "#f0f921"
             ]
            ],
            "type": "contour"
           }
          ],
          "contourcarpet": [
           {
            "colorbar": {
             "outlinewidth": 0,
             "ticks": ""
            },
            "type": "contourcarpet"
           }
          ],
          "heatmap": [
           {
            "colorbar": {
             "outlinewidth": 0,
             "ticks": ""
            },
            "colorscale": [
             [
              0,
              "#0d0887"
             ],
             [
              0.1111111111111111,
              "#46039f"
             ],
             [
              0.2222222222222222,
              "#7201a8"
             ],
             [
              0.3333333333333333,
              "#9c179e"
             ],
             [
              0.4444444444444444,
              "#bd3786"
             ],
             [
              0.5555555555555556,
              "#d8576b"
             ],
             [
              0.6666666666666666,
              "#ed7953"
             ],
             [
              0.7777777777777778,
              "#fb9f3a"
             ],
             [
              0.8888888888888888,
              "#fdca26"
             ],
             [
              1,
              "#f0f921"
             ]
            ],
            "type": "heatmap"
           }
          ],
          "histogram": [
           {
            "marker": {
             "pattern": {
              "fillmode": "overlay",
              "size": 10,
              "solidity": 0.2
             }
            },
            "type": "histogram"
           }
          ],
          "histogram2d": [
           {
            "colorbar": {
             "outlinewidth": 0,
             "ticks": ""
            },
            "colorscale": [
             [
              0,
              "#0d0887"
             ],
             [
              0.1111111111111111,
              "#46039f"
             ],
             [
              0.2222222222222222,
              "#7201a8"
             ],
             [
              0.3333333333333333,
              "#9c179e"
             ],
             [
              0.4444444444444444,
              "#bd3786"
             ],
             [
              0.5555555555555556,
              "#d8576b"
             ],
             [
              0.6666666666666666,
              "#ed7953"
             ],
             [
              0.7777777777777778,
              "#fb9f3a"
             ],
             [
              0.8888888888888888,
              "#fdca26"
             ],
             [
              1,
              "#f0f921"
             ]
            ],
            "type": "histogram2d"
           }
          ],
          "histogram2dcontour": [
           {
            "colorbar": {
             "outlinewidth": 0,
             "ticks": ""
            },
            "colorscale": [
             [
              0,
              "#0d0887"
             ],
             [
              0.1111111111111111,
              "#46039f"
             ],
             [
              0.2222222222222222,
              "#7201a8"
             ],
             [
              0.3333333333333333,
              "#9c179e"
             ],
             [
              0.4444444444444444,
              "#bd3786"
             ],
             [
              0.5555555555555556,
              "#d8576b"
             ],
             [
              0.6666666666666666,
              "#ed7953"
             ],
             [
              0.7777777777777778,
              "#fb9f3a"
             ],
             [
              0.8888888888888888,
              "#fdca26"
             ],
             [
              1,
              "#f0f921"
             ]
            ],
            "type": "histogram2dcontour"
           }
          ],
          "mesh3d": [
           {
            "colorbar": {
             "outlinewidth": 0,
             "ticks": ""
            },
            "type": "mesh3d"
           }
          ],
          "parcoords": [
           {
            "line": {
             "colorbar": {
              "outlinewidth": 0,
              "ticks": ""
             }
            },
            "type": "parcoords"
           }
          ],
          "pie": [
           {
            "automargin": true,
            "type": "pie"
           }
          ],
          "scatter": [
           {
            "fillpattern": {
             "fillmode": "overlay",
             "size": 10,
             "solidity": 0.2
            },
            "type": "scatter"
           }
          ],
          "scatter3d": [
           {
            "line": {
             "colorbar": {
              "outlinewidth": 0,
              "ticks": ""
             }
            },
            "marker": {
             "colorbar": {
              "outlinewidth": 0,
              "ticks": ""
             }
            },
            "type": "scatter3d"
           }
          ],
          "scattercarpet": [
           {
            "marker": {
             "colorbar": {
              "outlinewidth": 0,
              "ticks": ""
             }
            },
            "type": "scattercarpet"
           }
          ],
          "scattergeo": [
           {
            "marker": {
             "colorbar": {
              "outlinewidth": 0,
              "ticks": ""
             }
            },
            "type": "scattergeo"
           }
          ],
          "scattergl": [
           {
            "marker": {
             "colorbar": {
              "outlinewidth": 0,
              "ticks": ""
             }
            },
            "type": "scattergl"
           }
          ],
          "scattermap": [
           {
            "marker": {
             "colorbar": {
              "outlinewidth": 0,
              "ticks": ""
             }
            },
            "type": "scattermap"
           }
          ],
          "scattermapbox": [
           {
            "marker": {
             "colorbar": {
              "outlinewidth": 0,
              "ticks": ""
             }
            },
            "type": "scattermapbox"
           }
          ],
          "scatterpolar": [
           {
            "marker": {
             "colorbar": {
              "outlinewidth": 0,
              "ticks": ""
             }
            },
            "type": "scatterpolar"
           }
          ],
          "scatterpolargl": [
           {
            "marker": {
             "colorbar": {
              "outlinewidth": 0,
              "ticks": ""
             }
            },
            "type": "scatterpolargl"
           }
          ],
          "scatterternary": [
           {
            "marker": {
             "colorbar": {
              "outlinewidth": 0,
              "ticks": ""
             }
            },
            "type": "scatterternary"
           }
          ],
          "surface": [
           {
            "colorbar": {
             "outlinewidth": 0,
             "ticks": ""
            },
            "colorscale": [
             [
              0,
              "#0d0887"
             ],
             [
              0.1111111111111111,
              "#46039f"
             ],
             [
              0.2222222222222222,
              "#7201a8"
             ],
             [
              0.3333333333333333,
              "#9c179e"
             ],
             [
              0.4444444444444444,
              "#bd3786"
             ],
             [
              0.5555555555555556,
              "#d8576b"
             ],
             [
              0.6666666666666666,
              "#ed7953"
             ],
             [
              0.7777777777777778,
              "#fb9f3a"
             ],
             [
              0.8888888888888888,
              "#fdca26"
             ],
             [
              1,
              "#f0f921"
             ]
            ],
            "type": "surface"
           }
          ],
          "table": [
           {
            "cells": {
             "fill": {
              "color": "#EBF0F8"
             },
             "line": {
              "color": "white"
             }
            },
            "header": {
             "fill": {
              "color": "#C8D4E3"
             },
             "line": {
              "color": "white"
             }
            },
            "type": "table"
           }
          ]
         },
         "layout": {
          "annotationdefaults": {
           "arrowcolor": "#2a3f5f",
           "arrowhead": 0,
           "arrowwidth": 1
          },
          "autotypenumbers": "strict",
          "coloraxis": {
           "colorbar": {
            "outlinewidth": 0,
            "ticks": ""
           }
          },
          "colorscale": {
           "diverging": [
            [
             0,
             "#8e0152"
            ],
            [
             0.1,
             "#c51b7d"
            ],
            [
             0.2,
             "#de77ae"
            ],
            [
             0.3,
             "#f1b6da"
            ],
            [
             0.4,
             "#fde0ef"
            ],
            [
             0.5,
             "#f7f7f7"
            ],
            [
             0.6,
             "#e6f5d0"
            ],
            [
             0.7,
             "#b8e186"
            ],
            [
             0.8,
             "#7fbc41"
            ],
            [
             0.9,
             "#4d9221"
            ],
            [
             1,
             "#276419"
            ]
           ],
           "sequential": [
            [
             0,
             "#0d0887"
            ],
            [
             0.1111111111111111,
             "#46039f"
            ],
            [
             0.2222222222222222,
             "#7201a8"
            ],
            [
             0.3333333333333333,
             "#9c179e"
            ],
            [
             0.4444444444444444,
             "#bd3786"
            ],
            [
             0.5555555555555556,
             "#d8576b"
            ],
            [
             0.6666666666666666,
             "#ed7953"
            ],
            [
             0.7777777777777778,
             "#fb9f3a"
            ],
            [
             0.8888888888888888,
             "#fdca26"
            ],
            [
             1,
             "#f0f921"
            ]
           ],
           "sequentialminus": [
            [
             0,
             "#0d0887"
            ],
            [
             0.1111111111111111,
             "#46039f"
            ],
            [
             0.2222222222222222,
             "#7201a8"
            ],
            [
             0.3333333333333333,
             "#9c179e"
            ],
            [
             0.4444444444444444,
             "#bd3786"
            ],
            [
             0.5555555555555556,
             "#d8576b"
            ],
            [
             0.6666666666666666,
             "#ed7953"
            ],
            [
             0.7777777777777778,
             "#fb9f3a"
            ],
            [
             0.8888888888888888,
             "#fdca26"
            ],
            [
             1,
             "#f0f921"
            ]
           ]
          },
          "colorway": [
           "#636efa",
           "#EF553B",
           "#00cc96",
           "#ab63fa",
           "#FFA15A",
           "#19d3f3",
           "#FF6692",
           "#B6E880",
           "#FF97FF",
           "#FECB52"
          ],
          "font": {
           "color": "#2a3f5f"
          },
          "geo": {
           "bgcolor": "white",
           "lakecolor": "white",
           "landcolor": "white",
           "showlakes": true,
           "showland": true,
           "subunitcolor": "#C8D4E3"
          },
          "hoverlabel": {
           "align": "left"
          },
          "hovermode": "closest",
          "mapbox": {
           "style": "light"
          },
          "paper_bgcolor": "white",
          "plot_bgcolor": "white",
          "polar": {
           "angularaxis": {
            "gridcolor": "#EBF0F8",
            "linecolor": "#EBF0F8",
            "ticks": ""
           },
           "bgcolor": "white",
           "radialaxis": {
            "gridcolor": "#EBF0F8",
            "linecolor": "#EBF0F8",
            "ticks": ""
           }
          },
          "scene": {
           "xaxis": {
            "backgroundcolor": "white",
            "gridcolor": "#DFE8F3",
            "gridwidth": 2,
            "linecolor": "#EBF0F8",
            "showbackground": true,
            "ticks": "",
            "zerolinecolor": "#EBF0F8"
           },
           "yaxis": {
            "backgroundcolor": "white",
            "gridcolor": "#DFE8F3",
            "gridwidth": 2,
            "linecolor": "#EBF0F8",
            "showbackground": true,
            "ticks": "",
            "zerolinecolor": "#EBF0F8"
           },
           "zaxis": {
            "backgroundcolor": "white",
            "gridcolor": "#DFE8F3",
            "gridwidth": 2,
            "linecolor": "#EBF0F8",
            "showbackground": true,
            "ticks": "",
            "zerolinecolor": "#EBF0F8"
           }
          },
          "shapedefaults": {
           "line": {
            "color": "#2a3f5f"
           }
          },
          "ternary": {
           "aaxis": {
            "gridcolor": "#DFE8F3",
            "linecolor": "#A2B1C6",
            "ticks": ""
           },
           "baxis": {
            "gridcolor": "#DFE8F3",
            "linecolor": "#A2B1C6",
            "ticks": ""
           },
           "bgcolor": "white",
           "caxis": {
            "gridcolor": "#DFE8F3",
            "linecolor": "#A2B1C6",
            "ticks": ""
           }
          },
          "title": {
           "x": 0.05
          },
          "xaxis": {
           "automargin": true,
           "gridcolor": "#EBF0F8",
           "linecolor": "#EBF0F8",
           "ticks": "",
           "title": {
            "standoff": 15
           },
           "zerolinecolor": "#EBF0F8",
           "zerolinewidth": 2
          },
          "yaxis": {
           "automargin": true,
           "gridcolor": "#EBF0F8",
           "linecolor": "#EBF0F8",
           "ticks": "",
           "title": {
            "standoff": 15
           },
           "zerolinecolor": "#EBF0F8",
           "zerolinewidth": 2
          }
         }
        },
        "title": {
         "text": "경북·경남·충남 연도별 설비용량 추이"
        },
        "xaxis": {
         "dtick": 1,
         "gridcolor": "lightgray",
         "showgrid": true,
         "title": {
          "text": "연도"
         }
        },
        "yaxis": {
         "gridcolor": "lightgray",
         "showgrid": true,
         "title": {
          "text": "설비용량(MW)"
         }
        }
       }
      }
     },
     "metadata": {},
     "output_type": "display_data"
    }
   ],
   "source": [
    "import plotly.graph_objects as go\n",
    "\n",
    "# === 지역 필터링 & 정리 ===\n",
    "target_regions = [\"경북\", \"경남\", \"충남\"]\n",
    "df_filtered = merged[merged[\"지역\"].isin(target_regions)].copy()\n",
    "\n",
    "df_filtered[\"연도\"] = pd.to_numeric(df_filtered[\"연도\"], errors=\"coerce\")\n",
    "df_grouped = (\n",
    "    df_filtered.groupby([\"연도\", \"지역\"])[[\"발전량(MWh)\", \"설비용량(MW)\"]]\n",
    "    .sum()\n",
    "    .reset_index()\n",
    ")\n",
    "\n",
    "# === 색상 고정 ===\n",
    "color_map = {\n",
    "    \"경남\": \"#1f77b4\",  # 파랑\n",
    "    \"경북\": \"#d62728\",  # 빨강\n",
    "    \"충남\": \"#2ca02c\"   # 초록\n",
    "}\n",
    "\n",
    "# ====================================================\n",
    "# 1) 연도별 발전량 추이 (라인 차트)\n",
    "# ====================================================\n",
    "fig_gen = go.Figure()\n",
    "\n",
    "for region in target_regions:\n",
    "    df_region = df_grouped[df_grouped[\"지역\"] == region]\n",
    "    fig_gen.add_trace(\n",
    "        go.Scatter(\n",
    "            x=df_region[\"연도\"],\n",
    "            y=df_region[\"발전량(MWh)\"],\n",
    "            mode=\"lines+markers\",\n",
    "            name=region,\n",
    "            line=dict(color=color_map[region], width=3),\n",
    "            marker=dict(size=9, symbol=\"circle\")\n",
    "        )\n",
    "    )\n",
    "\n",
    "fig_gen.update_layout(\n",
    "    title=\"경북·경남·충남 연도별 발전량 추이\",\n",
    "    template=\"plotly_white\",\n",
    "    xaxis=dict(title=\"연도\", dtick=1, showgrid=True, gridcolor=\"lightgray\"),\n",
    "    yaxis=dict(title=\"발전량(MWh)\", showgrid=True, gridcolor=\"lightgray\"),\n",
    "    legend=dict(title=\"지역\", bgcolor=\"rgba(255,255,255,0.7)\",\n",
    "                bordercolor=\"lightgray\", borderwidth=1)\n",
    ")\n",
    "\n",
    "fig_gen.show()\n",
    "\n",
    "# ====================================================\n",
    "# 2) 연도별 설비용량 추이 (라인 차트)\n",
    "# ====================================================\n",
    "fig_cap = go.Figure()\n",
    "\n",
    "for region in target_regions:\n",
    "    df_region = df_grouped[df_grouped[\"지역\"] == region]\n",
    "    fig_cap.add_trace(\n",
    "        go.Scatter(\n",
    "            x=df_region[\"연도\"],\n",
    "            y=df_region[\"설비용량(MW)\"],\n",
    "            mode=\"lines+markers\",\n",
    "            name=region,\n",
    "            line=dict(color=color_map[region], width=3, dash=\"dot\"),  # 점선\n",
    "            marker=dict(size=8, symbol=\"square\")\n",
    "        )\n",
    "    )\n",
    "\n",
    "fig_cap.update_layout(\n",
    "    title=\"경북·경남·충남 연도별 설비용량 추이\",\n",
    "    template=\"plotly_white\",\n",
    "    xaxis=dict(title=\"연도\", dtick=1, showgrid=True, gridcolor=\"lightgray\"),\n",
    "    yaxis=dict(title=\"설비용량(MW)\", showgrid=True, gridcolor=\"lightgray\"),\n",
    "    legend=dict(title=\"지역\", bgcolor=\"rgba(255,255,255,0.7)\",\n",
    "                bordercolor=\"lightgray\", borderwidth=1)\n",
    ")\n",
    "\n",
    "fig_cap.show()\n"
   ]
  },
  {
   "cell_type": "code",
   "execution_count": 134,
   "id": "0cf1c493",
   "metadata": {},
   "outputs": [
    {
     "data": {
      "application/vnd.plotly.v1+json": {
       "config": {
        "plotlyServerURL": "https://plot.ly"
       },
       "data": [
        {
         "hovertemplate": "지역=경남<br>연도=%{x}<br>일사량(MJ/m2)=%{y}<extra></extra>",
         "legendgroup": "경남",
         "line": {
          "color": "#1f77b4",
          "dash": "solid",
          "width": 3
         },
         "marker": {
          "size": 9,
          "symbol": "circle"
         },
         "mode": "lines+markers",
         "name": "경남",
         "orientation": "v",
         "showlegend": true,
         "type": "scatter",
         "x": {
          "bdata": "5AflB+YH5wfoBw==",
          "dtype": "i2"
         },
         "xaxis": "x",
         "y": {
          "bdata": "AAAAAADkfECrqqqqqiJ9QFVVVVVVRX5AVVVVVVWVfEBVVVVVVR19QA==",
          "dtype": "f8"
         },
         "yaxis": "y"
        },
        {
         "hovertemplate": "지역=경북<br>연도=%{x}<br>일사량(MJ/m2)=%{y}<extra></extra>",
         "legendgroup": "경북",
         "line": {
          "color": "#d62728",
          "dash": "solid",
          "width": 3
         },
         "marker": {
          "size": 9,
          "symbol": "circle"
         },
         "mode": "lines+markers",
         "name": "경북",
         "orientation": "v",
         "showlegend": true,
         "type": "scatter",
         "x": {
          "bdata": "5AflB+YH5wfoBw==",
          "dtype": "i2"
         },
         "xaxis": "x",
         "y": {
          "bdata": "VVVVVVWVfECrqqqqqvZ7QAAAAAAA5H1AAAAAAABcfUBVVVVVVel8QA==",
          "dtype": "f8"
         },
         "yaxis": "y"
        },
        {
         "hovertemplate": "지역=충남<br>연도=%{x}<br>일사량(MJ/m2)=%{y}<extra></extra>",
         "legendgroup": "충남",
         "line": {
          "color": "#2ca02c",
          "dash": "solid",
          "width": 3
         },
         "marker": {
          "size": 9,
          "symbol": "circle"
         },
         "mode": "lines+markers",
         "name": "충남",
         "orientation": "v",
         "showlegend": true,
         "type": "scatter",
         "x": {
          "bdata": "5AflB+YH5wfoBw==",
          "dtype": "i2"
         },
         "xaxis": "x",
         "y": {
          "bdata": "VVVVVVXlekAAAAAAAOB6QKuqqqqqFnxAVVVVVVXdekBVVVVVVaV7QA==",
          "dtype": "f8"
         },
         "yaxis": "y"
        }
       ],
       "layout": {
        "legend": {
         "bgcolor": "rgba(255,255,255,0.7)",
         "bordercolor": "lightgray",
         "borderwidth": 1,
         "title": {
          "text": "지역"
         },
         "tracegroupgap": 0
        },
        "template": {
         "data": {
          "bar": [
           {
            "error_x": {
             "color": "#2a3f5f"
            },
            "error_y": {
             "color": "#2a3f5f"
            },
            "marker": {
             "line": {
              "color": "white",
              "width": 0.5
             },
             "pattern": {
              "fillmode": "overlay",
              "size": 10,
              "solidity": 0.2
             }
            },
            "type": "bar"
           }
          ],
          "barpolar": [
           {
            "marker": {
             "line": {
              "color": "white",
              "width": 0.5
             },
             "pattern": {
              "fillmode": "overlay",
              "size": 10,
              "solidity": 0.2
             }
            },
            "type": "barpolar"
           }
          ],
          "carpet": [
           {
            "aaxis": {
             "endlinecolor": "#2a3f5f",
             "gridcolor": "#C8D4E3",
             "linecolor": "#C8D4E3",
             "minorgridcolor": "#C8D4E3",
             "startlinecolor": "#2a3f5f"
            },
            "baxis": {
             "endlinecolor": "#2a3f5f",
             "gridcolor": "#C8D4E3",
             "linecolor": "#C8D4E3",
             "minorgridcolor": "#C8D4E3",
             "startlinecolor": "#2a3f5f"
            },
            "type": "carpet"
           }
          ],
          "choropleth": [
           {
            "colorbar": {
             "outlinewidth": 0,
             "ticks": ""
            },
            "type": "choropleth"
           }
          ],
          "contour": [
           {
            "colorbar": {
             "outlinewidth": 0,
             "ticks": ""
            },
            "colorscale": [
             [
              0,
              "#0d0887"
             ],
             [
              0.1111111111111111,
              "#46039f"
             ],
             [
              0.2222222222222222,
              "#7201a8"
             ],
             [
              0.3333333333333333,
              "#9c179e"
             ],
             [
              0.4444444444444444,
              "#bd3786"
             ],
             [
              0.5555555555555556,
              "#d8576b"
             ],
             [
              0.6666666666666666,
              "#ed7953"
             ],
             [
              0.7777777777777778,
              "#fb9f3a"
             ],
             [
              0.8888888888888888,
              "#fdca26"
             ],
             [
              1,
              "#f0f921"
             ]
            ],
            "type": "contour"
           }
          ],
          "contourcarpet": [
           {
            "colorbar": {
             "outlinewidth": 0,
             "ticks": ""
            },
            "type": "contourcarpet"
           }
          ],
          "heatmap": [
           {
            "colorbar": {
             "outlinewidth": 0,
             "ticks": ""
            },
            "colorscale": [
             [
              0,
              "#0d0887"
             ],
             [
              0.1111111111111111,
              "#46039f"
             ],
             [
              0.2222222222222222,
              "#7201a8"
             ],
             [
              0.3333333333333333,
              "#9c179e"
             ],
             [
              0.4444444444444444,
              "#bd3786"
             ],
             [
              0.5555555555555556,
              "#d8576b"
             ],
             [
              0.6666666666666666,
              "#ed7953"
             ],
             [
              0.7777777777777778,
              "#fb9f3a"
             ],
             [
              0.8888888888888888,
              "#fdca26"
             ],
             [
              1,
              "#f0f921"
             ]
            ],
            "type": "heatmap"
           }
          ],
          "histogram": [
           {
            "marker": {
             "pattern": {
              "fillmode": "overlay",
              "size": 10,
              "solidity": 0.2
             }
            },
            "type": "histogram"
           }
          ],
          "histogram2d": [
           {
            "colorbar": {
             "outlinewidth": 0,
             "ticks": ""
            },
            "colorscale": [
             [
              0,
              "#0d0887"
             ],
             [
              0.1111111111111111,
              "#46039f"
             ],
             [
              0.2222222222222222,
              "#7201a8"
             ],
             [
              0.3333333333333333,
              "#9c179e"
             ],
             [
              0.4444444444444444,
              "#bd3786"
             ],
             [
              0.5555555555555556,
              "#d8576b"
             ],
             [
              0.6666666666666666,
              "#ed7953"
             ],
             [
              0.7777777777777778,
              "#fb9f3a"
             ],
             [
              0.8888888888888888,
              "#fdca26"
             ],
             [
              1,
              "#f0f921"
             ]
            ],
            "type": "histogram2d"
           }
          ],
          "histogram2dcontour": [
           {
            "colorbar": {
             "outlinewidth": 0,
             "ticks": ""
            },
            "colorscale": [
             [
              0,
              "#0d0887"
             ],
             [
              0.1111111111111111,
              "#46039f"
             ],
             [
              0.2222222222222222,
              "#7201a8"
             ],
             [
              0.3333333333333333,
              "#9c179e"
             ],
             [
              0.4444444444444444,
              "#bd3786"
             ],
             [
              0.5555555555555556,
              "#d8576b"
             ],
             [
              0.6666666666666666,
              "#ed7953"
             ],
             [
              0.7777777777777778,
              "#fb9f3a"
             ],
             [
              0.8888888888888888,
              "#fdca26"
             ],
             [
              1,
              "#f0f921"
             ]
            ],
            "type": "histogram2dcontour"
           }
          ],
          "mesh3d": [
           {
            "colorbar": {
             "outlinewidth": 0,
             "ticks": ""
            },
            "type": "mesh3d"
           }
          ],
          "parcoords": [
           {
            "line": {
             "colorbar": {
              "outlinewidth": 0,
              "ticks": ""
             }
            },
            "type": "parcoords"
           }
          ],
          "pie": [
           {
            "automargin": true,
            "type": "pie"
           }
          ],
          "scatter": [
           {
            "fillpattern": {
             "fillmode": "overlay",
             "size": 10,
             "solidity": 0.2
            },
            "type": "scatter"
           }
          ],
          "scatter3d": [
           {
            "line": {
             "colorbar": {
              "outlinewidth": 0,
              "ticks": ""
             }
            },
            "marker": {
             "colorbar": {
              "outlinewidth": 0,
              "ticks": ""
             }
            },
            "type": "scatter3d"
           }
          ],
          "scattercarpet": [
           {
            "marker": {
             "colorbar": {
              "outlinewidth": 0,
              "ticks": ""
             }
            },
            "type": "scattercarpet"
           }
          ],
          "scattergeo": [
           {
            "marker": {
             "colorbar": {
              "outlinewidth": 0,
              "ticks": ""
             }
            },
            "type": "scattergeo"
           }
          ],
          "scattergl": [
           {
            "marker": {
             "colorbar": {
              "outlinewidth": 0,
              "ticks": ""
             }
            },
            "type": "scattergl"
           }
          ],
          "scattermap": [
           {
            "marker": {
             "colorbar": {
              "outlinewidth": 0,
              "ticks": ""
             }
            },
            "type": "scattermap"
           }
          ],
          "scattermapbox": [
           {
            "marker": {
             "colorbar": {
              "outlinewidth": 0,
              "ticks": ""
             }
            },
            "type": "scattermapbox"
           }
          ],
          "scatterpolar": [
           {
            "marker": {
             "colorbar": {
              "outlinewidth": 0,
              "ticks": ""
             }
            },
            "type": "scatterpolar"
           }
          ],
          "scatterpolargl": [
           {
            "marker": {
             "colorbar": {
              "outlinewidth": 0,
              "ticks": ""
             }
            },
            "type": "scatterpolargl"
           }
          ],
          "scatterternary": [
           {
            "marker": {
             "colorbar": {
              "outlinewidth": 0,
              "ticks": ""
             }
            },
            "type": "scatterternary"
           }
          ],
          "surface": [
           {
            "colorbar": {
             "outlinewidth": 0,
             "ticks": ""
            },
            "colorscale": [
             [
              0,
              "#0d0887"
             ],
             [
              0.1111111111111111,
              "#46039f"
             ],
             [
              0.2222222222222222,
              "#7201a8"
             ],
             [
              0.3333333333333333,
              "#9c179e"
             ],
             [
              0.4444444444444444,
              "#bd3786"
             ],
             [
              0.5555555555555556,
              "#d8576b"
             ],
             [
              0.6666666666666666,
              "#ed7953"
             ],
             [
              0.7777777777777778,
              "#fb9f3a"
             ],
             [
              0.8888888888888888,
              "#fdca26"
             ],
             [
              1,
              "#f0f921"
             ]
            ],
            "type": "surface"
           }
          ],
          "table": [
           {
            "cells": {
             "fill": {
              "color": "#EBF0F8"
             },
             "line": {
              "color": "white"
             }
            },
            "header": {
             "fill": {
              "color": "#C8D4E3"
             },
             "line": {
              "color": "white"
             }
            },
            "type": "table"
           }
          ]
         },
         "layout": {
          "annotationdefaults": {
           "arrowcolor": "#2a3f5f",
           "arrowhead": 0,
           "arrowwidth": 1
          },
          "autotypenumbers": "strict",
          "coloraxis": {
           "colorbar": {
            "outlinewidth": 0,
            "ticks": ""
           }
          },
          "colorscale": {
           "diverging": [
            [
             0,
             "#8e0152"
            ],
            [
             0.1,
             "#c51b7d"
            ],
            [
             0.2,
             "#de77ae"
            ],
            [
             0.3,
             "#f1b6da"
            ],
            [
             0.4,
             "#fde0ef"
            ],
            [
             0.5,
             "#f7f7f7"
            ],
            [
             0.6,
             "#e6f5d0"
            ],
            [
             0.7,
             "#b8e186"
            ],
            [
             0.8,
             "#7fbc41"
            ],
            [
             0.9,
             "#4d9221"
            ],
            [
             1,
             "#276419"
            ]
           ],
           "sequential": [
            [
             0,
             "#0d0887"
            ],
            [
             0.1111111111111111,
             "#46039f"
            ],
            [
             0.2222222222222222,
             "#7201a8"
            ],
            [
             0.3333333333333333,
             "#9c179e"
            ],
            [
             0.4444444444444444,
             "#bd3786"
            ],
            [
             0.5555555555555556,
             "#d8576b"
            ],
            [
             0.6666666666666666,
             "#ed7953"
            ],
            [
             0.7777777777777778,
             "#fb9f3a"
            ],
            [
             0.8888888888888888,
             "#fdca26"
            ],
            [
             1,
             "#f0f921"
            ]
           ],
           "sequentialminus": [
            [
             0,
             "#0d0887"
            ],
            [
             0.1111111111111111,
             "#46039f"
            ],
            [
             0.2222222222222222,
             "#7201a8"
            ],
            [
             0.3333333333333333,
             "#9c179e"
            ],
            [
             0.4444444444444444,
             "#bd3786"
            ],
            [
             0.5555555555555556,
             "#d8576b"
            ],
            [
             0.6666666666666666,
             "#ed7953"
            ],
            [
             0.7777777777777778,
             "#fb9f3a"
            ],
            [
             0.8888888888888888,
             "#fdca26"
            ],
            [
             1,
             "#f0f921"
            ]
           ]
          },
          "colorway": [
           "#636efa",
           "#EF553B",
           "#00cc96",
           "#ab63fa",
           "#FFA15A",
           "#19d3f3",
           "#FF6692",
           "#B6E880",
           "#FF97FF",
           "#FECB52"
          ],
          "font": {
           "color": "#2a3f5f"
          },
          "geo": {
           "bgcolor": "white",
           "lakecolor": "white",
           "landcolor": "white",
           "showlakes": true,
           "showland": true,
           "subunitcolor": "#C8D4E3"
          },
          "hoverlabel": {
           "align": "left"
          },
          "hovermode": "closest",
          "mapbox": {
           "style": "light"
          },
          "paper_bgcolor": "white",
          "plot_bgcolor": "white",
          "polar": {
           "angularaxis": {
            "gridcolor": "#EBF0F8",
            "linecolor": "#EBF0F8",
            "ticks": ""
           },
           "bgcolor": "white",
           "radialaxis": {
            "gridcolor": "#EBF0F8",
            "linecolor": "#EBF0F8",
            "ticks": ""
           }
          },
          "scene": {
           "xaxis": {
            "backgroundcolor": "white",
            "gridcolor": "#DFE8F3",
            "gridwidth": 2,
            "linecolor": "#EBF0F8",
            "showbackground": true,
            "ticks": "",
            "zerolinecolor": "#EBF0F8"
           },
           "yaxis": {
            "backgroundcolor": "white",
            "gridcolor": "#DFE8F3",
            "gridwidth": 2,
            "linecolor": "#EBF0F8",
            "showbackground": true,
            "ticks": "",
            "zerolinecolor": "#EBF0F8"
           },
           "zaxis": {
            "backgroundcolor": "white",
            "gridcolor": "#DFE8F3",
            "gridwidth": 2,
            "linecolor": "#EBF0F8",
            "showbackground": true,
            "ticks": "",
            "zerolinecolor": "#EBF0F8"
           }
          },
          "shapedefaults": {
           "line": {
            "color": "#2a3f5f"
           }
          },
          "ternary": {
           "aaxis": {
            "gridcolor": "#DFE8F3",
            "linecolor": "#A2B1C6",
            "ticks": ""
           },
           "baxis": {
            "gridcolor": "#DFE8F3",
            "linecolor": "#A2B1C6",
            "ticks": ""
           },
           "bgcolor": "white",
           "caxis": {
            "gridcolor": "#DFE8F3",
            "linecolor": "#A2B1C6",
            "ticks": ""
           }
          },
          "title": {
           "x": 0.05
          },
          "xaxis": {
           "automargin": true,
           "gridcolor": "#EBF0F8",
           "linecolor": "#EBF0F8",
           "ticks": "",
           "title": {
            "standoff": 15
           },
           "zerolinecolor": "#EBF0F8",
           "zerolinewidth": 2
          },
          "yaxis": {
           "automargin": true,
           "gridcolor": "#EBF0F8",
           "linecolor": "#EBF0F8",
           "ticks": "",
           "title": {
            "standoff": 15
           },
           "zerolinecolor": "#EBF0F8",
           "zerolinewidth": 2
          }
         }
        },
        "title": {
         "text": "경북·경남·충남 연도별 일사량 추이"
        },
        "xaxis": {
         "anchor": "y",
         "domain": [
          0,
          1
         ],
         "dtick": 1,
         "gridcolor": "lightgray",
         "showgrid": true,
         "title": {
          "text": "연도"
         }
        },
        "yaxis": {
         "anchor": "x",
         "domain": [
          0,
          1
         ],
         "gridcolor": "lightgray",
         "showgrid": true,
         "title": {
          "text": "일사량 (MJ/m²)"
         }
        }
       }
      }
     },
     "metadata": {},
     "output_type": "display_data"
    }
   ],
   "source": [
    "import plotly.express as px\n",
    "\n",
    "# === 1) 지역 필터링 ===\n",
    "target_regions = [\"경북\", \"경남\", \"충남\"]\n",
    "df_filtered = merged[merged[\"지역\"].isin(target_regions)].copy()\n",
    "\n",
    "# === 2) 연도 숫자형 변환 + 정렬 ===\n",
    "df_filtered[\"연도\"] = pd.to_numeric(df_filtered[\"연도\"], errors=\"coerce\")\n",
    "df_filtered = df_filtered.sort_values(\"연도\")\n",
    "\n",
    "# === 3) 연도별 일사량 평균 계산 (지역별) ===\n",
    "df_grouped = (\n",
    "    df_filtered.groupby([\"연도\", \"지역\"])[\"일사량(MJ/m2)\"]\n",
    "    .mean()\n",
    "    .reset_index()\n",
    ")\n",
    "\n",
    "# === 4) Plotly 선그래프 ===\n",
    "fig = px.line(\n",
    "    df_grouped,\n",
    "    x=\"연도\",\n",
    "    y=\"일사량(MJ/m2)\",\n",
    "    color=\"지역\",\n",
    "    markers=True,\n",
    "    title=\"경북·경남·충남 연도별 일사량 추이\",\n",
    "    color_discrete_map={\n",
    "        \"경북\": \"#d62728\",  # 빨강\n",
    "        \"경남\": \"#1f77b4\",  # 파랑\n",
    "        \"충남\": \"#2ca02c\"   # 초록\n",
    "    }\n",
    ")\n",
    "\n",
    "fig.update_traces(line=dict(width=3), marker=dict(size=9))\n",
    "\n",
    "fig.update_layout(\n",
    "    template=\"plotly_white\",\n",
    "    xaxis=dict(title=\"연도\", dtick=1, showgrid=True, gridcolor=\"lightgray\"),\n",
    "    yaxis=dict(title=\"일사량 (MJ/m²)\", showgrid=True, gridcolor=\"lightgray\"),\n",
    "    legend=dict(title=\"지역\", bgcolor=\"rgba(255,255,255,0.7)\", bordercolor=\"lightgray\", borderwidth=1)\n",
    ")\n",
    "\n",
    "fig.show()\n"
   ]
  },
  {
   "cell_type": "code",
   "execution_count": 135,
   "id": "14a34dd4",
   "metadata": {},
   "outputs": [
    {
     "data": {
      "text/html": [
       "<div>\n",
       "<style scoped>\n",
       "    .dataframe tbody tr th:only-of-type {\n",
       "        vertical-align: middle;\n",
       "    }\n",
       "\n",
       "    .dataframe tbody tr th {\n",
       "        vertical-align: top;\n",
       "    }\n",
       "\n",
       "    .dataframe thead th {\n",
       "        text-align: right;\n",
       "    }\n",
       "</style>\n",
       "<table border=\"1\" class=\"dataframe\">\n",
       "  <thead>\n",
       "    <tr style=\"text-align: right;\">\n",
       "      <th></th>\n",
       "      <th>지역</th>\n",
       "      <th>2015</th>\n",
       "      <th>2016</th>\n",
       "      <th>2017</th>\n",
       "      <th>2018</th>\n",
       "      <th>2019</th>\n",
       "      <th>2020</th>\n",
       "      <th>2021</th>\n",
       "      <th>2022</th>\n",
       "      <th>2023</th>\n",
       "      <th>2024</th>\n",
       "    </tr>\n",
       "  </thead>\n",
       "  <tbody>\n",
       "    <tr>\n",
       "      <th>0</th>\n",
       "      <td>충남</td>\n",
       "      <td>349</td>\n",
       "      <td>331</td>\n",
       "      <td>343</td>\n",
       "      <td>461</td>\n",
       "      <td>450</td>\n",
       "      <td>430</td>\n",
       "      <td>430</td>\n",
       "      <td>449</td>\n",
       "      <td>430</td>\n",
       "      <td>442</td>\n",
       "    </tr>\n",
       "    <tr>\n",
       "      <th>1</th>\n",
       "      <td>경북</td>\n",
       "      <td>441</td>\n",
       "      <td>432</td>\n",
       "      <td>459</td>\n",
       "      <td>483</td>\n",
       "      <td>467</td>\n",
       "      <td>457</td>\n",
       "      <td>447</td>\n",
       "      <td>478</td>\n",
       "      <td>470</td>\n",
       "      <td>463</td>\n",
       "    </tr>\n",
       "    <tr>\n",
       "      <th>2</th>\n",
       "      <td>경남</td>\n",
       "      <td>428</td>\n",
       "      <td>289</td>\n",
       "      <td>345</td>\n",
       "      <td>404</td>\n",
       "      <td>465</td>\n",
       "      <td>462</td>\n",
       "      <td>466</td>\n",
       "      <td>484</td>\n",
       "      <td>457</td>\n",
       "      <td>466</td>\n",
       "    </tr>\n",
       "  </tbody>\n",
       "</table>\n",
       "</div>"
      ],
      "text/plain": [
       "   지역  2015  2016  2017  2018  2019  2020  2021  2022  2023  2024\n",
       "0  충남   349   331   343   461   450   430   430   449   430   442\n",
       "1  경북   441   432   459   483   467   457   447   478   470   463\n",
       "2  경남   428   289   345   404   465   462   466   484   457   466"
      ]
     },
     "execution_count": 135,
     "metadata": {},
     "output_type": "execute_result"
    }
   ],
   "source": [
    "pd.read_excel(\"dataset/2015-2024_충남,경북,경남_평균_일사량.xlsx\")"
   ]
  },
  {
   "cell_type": "code",
   "execution_count": 137,
   "id": "a0a6841b",
   "metadata": {},
   "outputs": [
    {
     "data": {
      "application/vnd.plotly.v1+json": {
       "config": {
        "plotlyServerURL": "https://plot.ly"
       },
       "data": [
        {
         "hovertemplate": "지역=경북<br>연도=%{x}<br>일사량(MJ/m2)=%{y}<extra></extra>",
         "legendgroup": "경북",
         "line": {
          "color": "#d62728",
          "dash": "solid",
          "width": 3
         },
         "marker": {
          "size": 9,
          "symbol": "circle"
         },
         "mode": "lines+markers",
         "name": "경북",
         "orientation": "v",
         "showlegend": true,
         "type": "scatter",
         "x": {
          "bdata": "3wfgB+EH4gfjB+QH5QfmB+cH6Ac=",
          "dtype": "i2"
         },
         "xaxis": "x",
         "y": {
          "bdata": "uQGwAcsB4wHTAckBvwHeAdYBzwE=",
          "dtype": "i2"
         },
         "yaxis": "y"
        },
        {
         "hovertemplate": "지역=경남<br>연도=%{x}<br>일사량(MJ/m2)=%{y}<extra></extra>",
         "legendgroup": "경남",
         "line": {
          "color": "#1f77b4",
          "dash": "solid",
          "width": 3
         },
         "marker": {
          "size": 9,
          "symbol": "circle"
         },
         "mode": "lines+markers",
         "name": "경남",
         "orientation": "v",
         "showlegend": true,
         "type": "scatter",
         "x": {
          "bdata": "3wfgB+EH4gfjB+QH5QfmB+cH6Ac=",
          "dtype": "i2"
         },
         "xaxis": "x",
         "y": {
          "bdata": "rAEhAVkBlAHRAc4B0gHkAckB0gE=",
          "dtype": "i2"
         },
         "yaxis": "y"
        },
        {
         "hovertemplate": "지역=충남<br>연도=%{x}<br>일사량(MJ/m2)=%{y}<extra></extra>",
         "legendgroup": "충남",
         "line": {
          "color": "#2ca02c",
          "dash": "solid",
          "width": 3
         },
         "marker": {
          "size": 9,
          "symbol": "circle"
         },
         "mode": "lines+markers",
         "name": "충남",
         "orientation": "v",
         "showlegend": true,
         "type": "scatter",
         "x": {
          "bdata": "3wfgB+EH4gfjB+QH5QfmB+cH6Ac=",
          "dtype": "i2"
         },
         "xaxis": "x",
         "y": {
          "bdata": "XQFLAVcBzQHCAa4BrgHBAa4BugE=",
          "dtype": "i2"
         },
         "yaxis": "y"
        }
       ],
       "layout": {
        "legend": {
         "bgcolor": "rgba(255,255,255,0.7)",
         "bordercolor": "lightgray",
         "title": {
          "text": "지역"
         },
         "tracegroupgap": 0
        },
        "template": {
         "data": {
          "bar": [
           {
            "error_x": {
             "color": "#2a3f5f"
            },
            "error_y": {
             "color": "#2a3f5f"
            },
            "marker": {
             "line": {
              "color": "white",
              "width": 0.5
             },
             "pattern": {
              "fillmode": "overlay",
              "size": 10,
              "solidity": 0.2
             }
            },
            "type": "bar"
           }
          ],
          "barpolar": [
           {
            "marker": {
             "line": {
              "color": "white",
              "width": 0.5
             },
             "pattern": {
              "fillmode": "overlay",
              "size": 10,
              "solidity": 0.2
             }
            },
            "type": "barpolar"
           }
          ],
          "carpet": [
           {
            "aaxis": {
             "endlinecolor": "#2a3f5f",
             "gridcolor": "#C8D4E3",
             "linecolor": "#C8D4E3",
             "minorgridcolor": "#C8D4E3",
             "startlinecolor": "#2a3f5f"
            },
            "baxis": {
             "endlinecolor": "#2a3f5f",
             "gridcolor": "#C8D4E3",
             "linecolor": "#C8D4E3",
             "minorgridcolor": "#C8D4E3",
             "startlinecolor": "#2a3f5f"
            },
            "type": "carpet"
           }
          ],
          "choropleth": [
           {
            "colorbar": {
             "outlinewidth": 0,
             "ticks": ""
            },
            "type": "choropleth"
           }
          ],
          "contour": [
           {
            "colorbar": {
             "outlinewidth": 0,
             "ticks": ""
            },
            "colorscale": [
             [
              0,
              "#0d0887"
             ],
             [
              0.1111111111111111,
              "#46039f"
             ],
             [
              0.2222222222222222,
              "#7201a8"
             ],
             [
              0.3333333333333333,
              "#9c179e"
             ],
             [
              0.4444444444444444,
              "#bd3786"
             ],
             [
              0.5555555555555556,
              "#d8576b"
             ],
             [
              0.6666666666666666,
              "#ed7953"
             ],
             [
              0.7777777777777778,
              "#fb9f3a"
             ],
             [
              0.8888888888888888,
              "#fdca26"
             ],
             [
              1,
              "#f0f921"
             ]
            ],
            "type": "contour"
           }
          ],
          "contourcarpet": [
           {
            "colorbar": {
             "outlinewidth": 0,
             "ticks": ""
            },
            "type": "contourcarpet"
           }
          ],
          "heatmap": [
           {
            "colorbar": {
             "outlinewidth": 0,
             "ticks": ""
            },
            "colorscale": [
             [
              0,
              "#0d0887"
             ],
             [
              0.1111111111111111,
              "#46039f"
             ],
             [
              0.2222222222222222,
              "#7201a8"
             ],
             [
              0.3333333333333333,
              "#9c179e"
             ],
             [
              0.4444444444444444,
              "#bd3786"
             ],
             [
              0.5555555555555556,
              "#d8576b"
             ],
             [
              0.6666666666666666,
              "#ed7953"
             ],
             [
              0.7777777777777778,
              "#fb9f3a"
             ],
             [
              0.8888888888888888,
              "#fdca26"
             ],
             [
              1,
              "#f0f921"
             ]
            ],
            "type": "heatmap"
           }
          ],
          "histogram": [
           {
            "marker": {
             "pattern": {
              "fillmode": "overlay",
              "size": 10,
              "solidity": 0.2
             }
            },
            "type": "histogram"
           }
          ],
          "histogram2d": [
           {
            "colorbar": {
             "outlinewidth": 0,
             "ticks": ""
            },
            "colorscale": [
             [
              0,
              "#0d0887"
             ],
             [
              0.1111111111111111,
              "#46039f"
             ],
             [
              0.2222222222222222,
              "#7201a8"
             ],
             [
              0.3333333333333333,
              "#9c179e"
             ],
             [
              0.4444444444444444,
              "#bd3786"
             ],
             [
              0.5555555555555556,
              "#d8576b"
             ],
             [
              0.6666666666666666,
              "#ed7953"
             ],
             [
              0.7777777777777778,
              "#fb9f3a"
             ],
             [
              0.8888888888888888,
              "#fdca26"
             ],
             [
              1,
              "#f0f921"
             ]
            ],
            "type": "histogram2d"
           }
          ],
          "histogram2dcontour": [
           {
            "colorbar": {
             "outlinewidth": 0,
             "ticks": ""
            },
            "colorscale": [
             [
              0,
              "#0d0887"
             ],
             [
              0.1111111111111111,
              "#46039f"
             ],
             [
              0.2222222222222222,
              "#7201a8"
             ],
             [
              0.3333333333333333,
              "#9c179e"
             ],
             [
              0.4444444444444444,
              "#bd3786"
             ],
             [
              0.5555555555555556,
              "#d8576b"
             ],
             [
              0.6666666666666666,
              "#ed7953"
             ],
             [
              0.7777777777777778,
              "#fb9f3a"
             ],
             [
              0.8888888888888888,
              "#fdca26"
             ],
             [
              1,
              "#f0f921"
             ]
            ],
            "type": "histogram2dcontour"
           }
          ],
          "mesh3d": [
           {
            "colorbar": {
             "outlinewidth": 0,
             "ticks": ""
            },
            "type": "mesh3d"
           }
          ],
          "parcoords": [
           {
            "line": {
             "colorbar": {
              "outlinewidth": 0,
              "ticks": ""
             }
            },
            "type": "parcoords"
           }
          ],
          "pie": [
           {
            "automargin": true,
            "type": "pie"
           }
          ],
          "scatter": [
           {
            "fillpattern": {
             "fillmode": "overlay",
             "size": 10,
             "solidity": 0.2
            },
            "type": "scatter"
           }
          ],
          "scatter3d": [
           {
            "line": {
             "colorbar": {
              "outlinewidth": 0,
              "ticks": ""
             }
            },
            "marker": {
             "colorbar": {
              "outlinewidth": 0,
              "ticks": ""
             }
            },
            "type": "scatter3d"
           }
          ],
          "scattercarpet": [
           {
            "marker": {
             "colorbar": {
              "outlinewidth": 0,
              "ticks": ""
             }
            },
            "type": "scattercarpet"
           }
          ],
          "scattergeo": [
           {
            "marker": {
             "colorbar": {
              "outlinewidth": 0,
              "ticks": ""
             }
            },
            "type": "scattergeo"
           }
          ],
          "scattergl": [
           {
            "marker": {
             "colorbar": {
              "outlinewidth": 0,
              "ticks": ""
             }
            },
            "type": "scattergl"
           }
          ],
          "scattermap": [
           {
            "marker": {
             "colorbar": {
              "outlinewidth": 0,
              "ticks": ""
             }
            },
            "type": "scattermap"
           }
          ],
          "scattermapbox": [
           {
            "marker": {
             "colorbar": {
              "outlinewidth": 0,
              "ticks": ""
             }
            },
            "type": "scattermapbox"
           }
          ],
          "scatterpolar": [
           {
            "marker": {
             "colorbar": {
              "outlinewidth": 0,
              "ticks": ""
             }
            },
            "type": "scatterpolar"
           }
          ],
          "scatterpolargl": [
           {
            "marker": {
             "colorbar": {
              "outlinewidth": 0,
              "ticks": ""
             }
            },
            "type": "scatterpolargl"
           }
          ],
          "scatterternary": [
           {
            "marker": {
             "colorbar": {
              "outlinewidth": 0,
              "ticks": ""
             }
            },
            "type": "scatterternary"
           }
          ],
          "surface": [
           {
            "colorbar": {
             "outlinewidth": 0,
             "ticks": ""
            },
            "colorscale": [
             [
              0,
              "#0d0887"
             ],
             [
              0.1111111111111111,
              "#46039f"
             ],
             [
              0.2222222222222222,
              "#7201a8"
             ],
             [
              0.3333333333333333,
              "#9c179e"
             ],
             [
              0.4444444444444444,
              "#bd3786"
             ],
             [
              0.5555555555555556,
              "#d8576b"
             ],
             [
              0.6666666666666666,
              "#ed7953"
             ],
             [
              0.7777777777777778,
              "#fb9f3a"
             ],
             [
              0.8888888888888888,
              "#fdca26"
             ],
             [
              1,
              "#f0f921"
             ]
            ],
            "type": "surface"
           }
          ],
          "table": [
           {
            "cells": {
             "fill": {
              "color": "#EBF0F8"
             },
             "line": {
              "color": "white"
             }
            },
            "header": {
             "fill": {
              "color": "#C8D4E3"
             },
             "line": {
              "color": "white"
             }
            },
            "type": "table"
           }
          ]
         },
         "layout": {
          "annotationdefaults": {
           "arrowcolor": "#2a3f5f",
           "arrowhead": 0,
           "arrowwidth": 1
          },
          "autotypenumbers": "strict",
          "coloraxis": {
           "colorbar": {
            "outlinewidth": 0,
            "ticks": ""
           }
          },
          "colorscale": {
           "diverging": [
            [
             0,
             "#8e0152"
            ],
            [
             0.1,
             "#c51b7d"
            ],
            [
             0.2,
             "#de77ae"
            ],
            [
             0.3,
             "#f1b6da"
            ],
            [
             0.4,
             "#fde0ef"
            ],
            [
             0.5,
             "#f7f7f7"
            ],
            [
             0.6,
             "#e6f5d0"
            ],
            [
             0.7,
             "#b8e186"
            ],
            [
             0.8,
             "#7fbc41"
            ],
            [
             0.9,
             "#4d9221"
            ],
            [
             1,
             "#276419"
            ]
           ],
           "sequential": [
            [
             0,
             "#0d0887"
            ],
            [
             0.1111111111111111,
             "#46039f"
            ],
            [
             0.2222222222222222,
             "#7201a8"
            ],
            [
             0.3333333333333333,
             "#9c179e"
            ],
            [
             0.4444444444444444,
             "#bd3786"
            ],
            [
             0.5555555555555556,
             "#d8576b"
            ],
            [
             0.6666666666666666,
             "#ed7953"
            ],
            [
             0.7777777777777778,
             "#fb9f3a"
            ],
            [
             0.8888888888888888,
             "#fdca26"
            ],
            [
             1,
             "#f0f921"
            ]
           ],
           "sequentialminus": [
            [
             0,
             "#0d0887"
            ],
            [
             0.1111111111111111,
             "#46039f"
            ],
            [
             0.2222222222222222,
             "#7201a8"
            ],
            [
             0.3333333333333333,
             "#9c179e"
            ],
            [
             0.4444444444444444,
             "#bd3786"
            ],
            [
             0.5555555555555556,
             "#d8576b"
            ],
            [
             0.6666666666666666,
             "#ed7953"
            ],
            [
             0.7777777777777778,
             "#fb9f3a"
            ],
            [
             0.8888888888888888,
             "#fdca26"
            ],
            [
             1,
             "#f0f921"
            ]
           ]
          },
          "colorway": [
           "#636efa",
           "#EF553B",
           "#00cc96",
           "#ab63fa",
           "#FFA15A",
           "#19d3f3",
           "#FF6692",
           "#B6E880",
           "#FF97FF",
           "#FECB52"
          ],
          "font": {
           "color": "#2a3f5f"
          },
          "geo": {
           "bgcolor": "white",
           "lakecolor": "white",
           "landcolor": "white",
           "showlakes": true,
           "showland": true,
           "subunitcolor": "#C8D4E3"
          },
          "hoverlabel": {
           "align": "left"
          },
          "hovermode": "closest",
          "mapbox": {
           "style": "light"
          },
          "paper_bgcolor": "white",
          "plot_bgcolor": "white",
          "polar": {
           "angularaxis": {
            "gridcolor": "#EBF0F8",
            "linecolor": "#EBF0F8",
            "ticks": ""
           },
           "bgcolor": "white",
           "radialaxis": {
            "gridcolor": "#EBF0F8",
            "linecolor": "#EBF0F8",
            "ticks": ""
           }
          },
          "scene": {
           "xaxis": {
            "backgroundcolor": "white",
            "gridcolor": "#DFE8F3",
            "gridwidth": 2,
            "linecolor": "#EBF0F8",
            "showbackground": true,
            "ticks": "",
            "zerolinecolor": "#EBF0F8"
           },
           "yaxis": {
            "backgroundcolor": "white",
            "gridcolor": "#DFE8F3",
            "gridwidth": 2,
            "linecolor": "#EBF0F8",
            "showbackground": true,
            "ticks": "",
            "zerolinecolor": "#EBF0F8"
           },
           "zaxis": {
            "backgroundcolor": "white",
            "gridcolor": "#DFE8F3",
            "gridwidth": 2,
            "linecolor": "#EBF0F8",
            "showbackground": true,
            "ticks": "",
            "zerolinecolor": "#EBF0F8"
           }
          },
          "shapedefaults": {
           "line": {
            "color": "#2a3f5f"
           }
          },
          "ternary": {
           "aaxis": {
            "gridcolor": "#DFE8F3",
            "linecolor": "#A2B1C6",
            "ticks": ""
           },
           "baxis": {
            "gridcolor": "#DFE8F3",
            "linecolor": "#A2B1C6",
            "ticks": ""
           },
           "bgcolor": "white",
           "caxis": {
            "gridcolor": "#DFE8F3",
            "linecolor": "#A2B1C6",
            "ticks": ""
           }
          },
          "title": {
           "x": 0.05
          },
          "xaxis": {
           "automargin": true,
           "gridcolor": "#EBF0F8",
           "linecolor": "#EBF0F8",
           "ticks": "",
           "title": {
            "standoff": 15
           },
           "zerolinecolor": "#EBF0F8",
           "zerolinewidth": 2
          },
          "yaxis": {
           "automargin": true,
           "gridcolor": "#EBF0F8",
           "linecolor": "#EBF0F8",
           "ticks": "",
           "title": {
            "standoff": 15
           },
           "zerolinecolor": "#EBF0F8",
           "zerolinewidth": 2
          }
         }
        },
        "title": {
         "text": "경북·경남·충남 2015~2024 평균 일사량 추이"
        },
        "xaxis": {
         "anchor": "y",
         "domain": [
          0,
          1
         ],
         "dtick": 1,
         "title": {
          "text": "연도"
         }
        },
        "yaxis": {
         "anchor": "x",
         "domain": [
          0,
          1
         ],
         "title": {
          "text": "일사량 (MJ/m²)"
         }
        }
       }
      }
     },
     "metadata": {},
     "output_type": "display_data"
    }
   ],
   "source": [
    "import pandas as pd\n",
    "import plotly.express as px\n",
    "\n",
    "# === 데이터 불러오기 ===\n",
    "df = pd.read_excel(\"dataset/2015-2024_충남,경북,경남_평균_일사량.xlsx\")\n",
    "\n",
    "# === Wide → Long 변환 ===\n",
    "df_long = df.melt(id_vars=\"지역\", var_name=\"연도\", value_name=\"일사량(MJ/m2)\")\n",
    "df_long[\"연도\"] = pd.to_numeric(df_long[\"연도\"], errors=\"coerce\")\n",
    "\n",
    "# === Plotly 선 그래프 ===\n",
    "fig = px.line(\n",
    "    df_long,\n",
    "    x=\"연도\",\n",
    "    y=\"일사량(MJ/m2)\",\n",
    "    color=\"지역\",\n",
    "    markers=True,\n",
    "    title=\"경북·경남·충남 2015~2024 평균 일사량 추이\",\n",
    "    category_orders={\"지역\": [\"경북\", \"경남\", \"충남\"]},  # 순서 강제\n",
    "    color_discrete_map={\n",
    "        \"경남\": \"#1f77b4\",  # 파랑\n",
    "        \"경북\": \"#d62728\",  # 빨강\n",
    "        \"충남\": \"#2ca02c\"   # 초록\n",
    "    }\n",
    ")\n",
    "\n",
    "# 스타일 조정\n",
    "fig.update_traces(line=dict(width=3), marker=dict(size=9))\n",
    "fig.update_layout(\n",
    "    template=\"plotly_white\",\n",
    "    xaxis=dict(dtick=1, title=\"연도\"),\n",
    "    yaxis=dict(title=\"일사량 (MJ/m²)\"),\n",
    "    legend=dict(title=\"지역\", bgcolor=\"rgba(255,255,255,0.7)\", bordercolor=\"lightgray\")\n",
    ")\n",
    "\n",
    "fig.show()\n"
   ]
  },
  {
   "cell_type": "code",
   "execution_count": 185,
   "id": "91fa76a4",
   "metadata": {},
   "outputs": [],
   "source": [
    "# 상단 import에 추가\n",
    "import plotly.express as px\n",
    "\n",
    "# -----------------------------------------------\n",
    "# [NEW] 5) 데이터 모음 – 2024 버블 차트 생성 (사용자 로직 반영)\n",
    "df = pd.read_excel(\"dataset/최종일사량합친데이터.xlsx\")\n",
    "df_2024 = df[df[\"연도\"] == 2024].copy()\n",
    "\n",
    "# 버블 크기(설비용량 기반, 최소값 보정)\n",
    "df_2024[\"설비용량\"] = df_2024[\"설비용량(MW)\"].apply(lambda v: max(50, float(v)))\n",
    "\n",
    "# 숫자형 변환\n",
    "x = pd.to_numeric(df_2024[\"일사량(MJ/m2)\"], errors=\"coerce\")\n",
    "y = pd.to_numeric(df_2024[\"설비이용률(%)\"], errors=\"coerce\")\n",
    "\n",
    "xmin, xmax = float(x.min()), float(x.max())\n",
    "ymin, ymax = float(y.min()), float(y.max())\n",
    "padx = (xmax - xmin) * 0.05\n",
    "pady = (ymax - ymin) * 0.05\n",
    "\n",
    "mean_x = x.mean()\n",
    "mean_y = y.mean()\n",
    "\n",
    "color_map = {\n",
    "    \"서울\": \"#E74C3C\",\"부산\": \"#3498DB\",\"대구\": \"#2ECC71\",\"인천\": \"#F39C12\",\"광주\": \"#9B59B6\",\n",
    "    \"대전\": \"#1ABC9C\",\"울산\": \"#E67E22\",\"경기\": \"#34495E\",\"강원\": \"#F1C40F\",\"경북\": \"#E91E63\",\n",
    "    \"경남\": \"#00BCD4\",\"전북\": \"#FF9800\",\"전남\": \"#795548\",\"충북\": \"#607D8B\",\"충남\": \"#4CAF50\",\"제주\": \"#673AB7\"\n",
    "}\n",
    "\n",
    "fig = px.scatter(\n",
    "    df_2024, x=\"일사량(MJ/m2)\", y=\"설비이용률(%)\",\n",
    "    size=\"설비용량\", color=\"지역\", hover_name=\"지역\", text=\"지역\",\n",
    "    size_max=60, title=\"2024년 지역별 일사량과 설비이용률 비교 분석\",\n",
    "    color_discrete_map=color_map\n",
    ")\n",
    "fig.update_traces(text=None)\n",
    "\n",
    "THRESH = 500\n",
    "for _, row in df_2024.iterrows():\n",
    "    if row[\"설비용량\"] >= THRESH:\n",
    "        fig.add_annotation(x=row[\"일사량(MJ/m2)\"], y=row[\"설비이용률(%)\"],\n",
    "                            text=f\"<b>{row['지역']}</b>\", showarrow=False,\n",
    "                            font=dict(color=\"white\", size=11))\n",
    "    else:\n",
    "        fig.add_annotation(x=row[\"일사량(MJ/m2)\"], y=row[\"설비이용률(%)\"],\n",
    "                            text=row[\"지역\"], showarrow=True, arrowhead=2,\n",
    "                            ax=15, ay=-15, font=dict(color=\"black\", size=11),\n",
    "                            bgcolor=\"rgba(255,255,255,0.6)\")\n",
    "\n",
    "fig.update_layout(width=1300, height=800, template=\"plotly_white\")\n",
    "fig.add_shape(type=\"line\", x0=mean_x, y0=ymin, x1=mean_x, y1=ymax,\n",
    "                line=dict(color=\"red\", dash=\"dash\", width=2))\n",
    "fig.add_shape(type=\"line\", x0=xmin, y0=mean_y, x1=xmax, y1=mean_y,\n",
    "                line=dict(color=\"red\", dash=\"dash\", width=2))\n",
    "fig.add_annotation(x=xmax, y=ymax, text=\"성과 우수 (자원↑, 효율↑)\",\n",
    "                    showarrow=False, font=dict(color=\"green\"), xanchor=\"right\", yanchor=\"bottom\")\n",
    "fig.add_annotation(x=xmin, y=ymax, text=\"효율 우수 (자원↓, 효율↑)\",\n",
    "                    showarrow=False, font=dict(color=\"blue\"), xanchor=\"left\", yanchor=\"bottom\")\n",
    "fig.add_annotation(x=xmax, y=ymin, text=\"잠재력 有 (자원↑, 효율↓)\",\n",
    "                    showarrow=False, font=dict(color=\"orange\"), xanchor=\"right\", yanchor=\"top\")\n",
    "fig.add_annotation(x=xmin, y=ymin, text=\"저효율 (자원↓, 효율↓)\",\n",
    "                    showarrow=False, font=dict(color=\"grey\"), xanchor=\"left\", yanchor=\"top\")\n",
    "fig.update_xaxes(range=[xmin - padx, xmax + padx], title=\"합계 일사량 (MJ/m²)\")\n",
    "fig.update_yaxes(range=[ymin - pady, ymax + pady + 0.2], title=\"설비이용률 (%)\")\n",
    "\n",
    "# 👉 이 한 줄이 핵심: Plotly를 HTML 조각으로 추출\n",
    "chart_html = fig.to_html(full_html=False, include_plotlyjs='cdn',\n",
    "                            config={\"displaylogo\": False})\n"
   ]
  },
  {
   "cell_type": "code",
   "execution_count": 114,
   "id": "f71c2fe5",
   "metadata": {},
   "outputs": [
    {
     "data": {
      "application/vnd.plotly.v1+json": {
       "config": {
        "plotlyServerURL": "https://plot.ly"
       },
       "data": [
        {
         "hovertemplate": "지역=%{x}<br>일사량(MJ/m2)=%{marker.color}<extra></extra>",
         "legendgroup": "",
         "marker": {
          "color": {
           "bdata": "VVVVVVVFe0BVVVVVVYF5QFVVVVVVHX1AVVVVVVXpfECrqqqqqj58QKuqqqqqmnxAAAAAAAAEeECrqqqqqqp9QAAAAAAAfHxAVVVVVVXBe0BVVVVVVSl+QAAAAAAAvHpAVVVVVVWle0AAAAAAADB7QKuqqqqqMnxA",
           "dtype": "f8"
          },
          "coloraxis": "coloraxis",
          "pattern": {
           "shape": ""
          }
         },
         "name": "",
         "orientation": "v",
         "showlegend": false,
         "text": {
          "bdata": "VVVVVVVFe0BVVVVVVYF5QFVVVVVVHX1AVVVVVVXpfECrqqqqqj58QKuqqqqqmnxAAAAAAAAEeECrqqqqqqp9QAAAAAAAfHxAVVVVVVXBe0BVVVVVVSl+QAAAAAAAvHpAVVVVVVWle0AAAAAAADB7QKuqqqqqMnxA",
          "dtype": "f8"
         },
         "textposition": "outside",
         "texttemplate": "%{text:.1f}",
         "type": "bar",
         "x": [
          "서울",
          "강원",
          "경남",
          "경북",
          "대전",
          "인천",
          "제주",
          "전남",
          "대구",
          "경기",
          "부산",
          "전북",
          "충남",
          "충북",
          "광주"
         ],
         "xaxis": "x",
         "y": {
          "bdata": "VVVVVVVFe0BVVVVVVYF5QFVVVVVVHX1AVVVVVVXpfECrqqqqqj58QKuqqqqqmnxAAAAAAAAEeECrqqqqqqp9QAAAAAAAfHxAVVVVVVXBe0BVVVVVVSl+QAAAAAAAvHpAVVVVVVWle0AAAAAAADB7QKuqqqqqMnxA",
          "dtype": "f8"
         },
         "yaxis": "y"
        }
       ],
       "layout": {
        "barmode": "relative",
        "coloraxis": {
         "colorbar": {
          "title": {
           "text": "일사량(MJ/m2)"
          }
         },
         "colorscale": [
          [
           0,
           "rgb(255,255,204)"
          ],
          [
           0.125,
           "rgb(255,237,160)"
          ],
          [
           0.25,
           "rgb(254,217,118)"
          ],
          [
           0.375,
           "rgb(254,178,76)"
          ],
          [
           0.5,
           "rgb(253,141,60)"
          ],
          [
           0.625,
           "rgb(252,78,42)"
          ],
          [
           0.75,
           "rgb(227,26,28)"
          ],
          [
           0.875,
           "rgb(189,0,38)"
          ],
          [
           1,
           "rgb(128,0,38)"
          ]
         ]
        },
        "legend": {
         "tracegroupgap": 0
        },
        "margin": {
         "b": 80,
         "l": 40,
         "r": 40,
         "t": 60
        },
        "template": {
         "data": {
          "bar": [
           {
            "error_x": {
             "color": "#2a3f5f"
            },
            "error_y": {
             "color": "#2a3f5f"
            },
            "marker": {
             "line": {
              "color": "white",
              "width": 0.5
             },
             "pattern": {
              "fillmode": "overlay",
              "size": 10,
              "solidity": 0.2
             }
            },
            "type": "bar"
           }
          ],
          "barpolar": [
           {
            "marker": {
             "line": {
              "color": "white",
              "width": 0.5
             },
             "pattern": {
              "fillmode": "overlay",
              "size": 10,
              "solidity": 0.2
             }
            },
            "type": "barpolar"
           }
          ],
          "carpet": [
           {
            "aaxis": {
             "endlinecolor": "#2a3f5f",
             "gridcolor": "#C8D4E3",
             "linecolor": "#C8D4E3",
             "minorgridcolor": "#C8D4E3",
             "startlinecolor": "#2a3f5f"
            },
            "baxis": {
             "endlinecolor": "#2a3f5f",
             "gridcolor": "#C8D4E3",
             "linecolor": "#C8D4E3",
             "minorgridcolor": "#C8D4E3",
             "startlinecolor": "#2a3f5f"
            },
            "type": "carpet"
           }
          ],
          "choropleth": [
           {
            "colorbar": {
             "outlinewidth": 0,
             "ticks": ""
            },
            "type": "choropleth"
           }
          ],
          "contour": [
           {
            "colorbar": {
             "outlinewidth": 0,
             "ticks": ""
            },
            "colorscale": [
             [
              0,
              "#0d0887"
             ],
             [
              0.1111111111111111,
              "#46039f"
             ],
             [
              0.2222222222222222,
              "#7201a8"
             ],
             [
              0.3333333333333333,
              "#9c179e"
             ],
             [
              0.4444444444444444,
              "#bd3786"
             ],
             [
              0.5555555555555556,
              "#d8576b"
             ],
             [
              0.6666666666666666,
              "#ed7953"
             ],
             [
              0.7777777777777778,
              "#fb9f3a"
             ],
             [
              0.8888888888888888,
              "#fdca26"
             ],
             [
              1,
              "#f0f921"
             ]
            ],
            "type": "contour"
           }
          ],
          "contourcarpet": [
           {
            "colorbar": {
             "outlinewidth": 0,
             "ticks": ""
            },
            "type": "contourcarpet"
           }
          ],
          "heatmap": [
           {
            "colorbar": {
             "outlinewidth": 0,
             "ticks": ""
            },
            "colorscale": [
             [
              0,
              "#0d0887"
             ],
             [
              0.1111111111111111,
              "#46039f"
             ],
             [
              0.2222222222222222,
              "#7201a8"
             ],
             [
              0.3333333333333333,
              "#9c179e"
             ],
             [
              0.4444444444444444,
              "#bd3786"
             ],
             [
              0.5555555555555556,
              "#d8576b"
             ],
             [
              0.6666666666666666,
              "#ed7953"
             ],
             [
              0.7777777777777778,
              "#fb9f3a"
             ],
             [
              0.8888888888888888,
              "#fdca26"
             ],
             [
              1,
              "#f0f921"
             ]
            ],
            "type": "heatmap"
           }
          ],
          "histogram": [
           {
            "marker": {
             "pattern": {
              "fillmode": "overlay",
              "size": 10,
              "solidity": 0.2
             }
            },
            "type": "histogram"
           }
          ],
          "histogram2d": [
           {
            "colorbar": {
             "outlinewidth": 0,
             "ticks": ""
            },
            "colorscale": [
             [
              0,
              "#0d0887"
             ],
             [
              0.1111111111111111,
              "#46039f"
             ],
             [
              0.2222222222222222,
              "#7201a8"
             ],
             [
              0.3333333333333333,
              "#9c179e"
             ],
             [
              0.4444444444444444,
              "#bd3786"
             ],
             [
              0.5555555555555556,
              "#d8576b"
             ],
             [
              0.6666666666666666,
              "#ed7953"
             ],
             [
              0.7777777777777778,
              "#fb9f3a"
             ],
             [
              0.8888888888888888,
              "#fdca26"
             ],
             [
              1,
              "#f0f921"
             ]
            ],
            "type": "histogram2d"
           }
          ],
          "histogram2dcontour": [
           {
            "colorbar": {
             "outlinewidth": 0,
             "ticks": ""
            },
            "colorscale": [
             [
              0,
              "#0d0887"
             ],
             [
              0.1111111111111111,
              "#46039f"
             ],
             [
              0.2222222222222222,
              "#7201a8"
             ],
             [
              0.3333333333333333,
              "#9c179e"
             ],
             [
              0.4444444444444444,
              "#bd3786"
             ],
             [
              0.5555555555555556,
              "#d8576b"
             ],
             [
              0.6666666666666666,
              "#ed7953"
             ],
             [
              0.7777777777777778,
              "#fb9f3a"
             ],
             [
              0.8888888888888888,
              "#fdca26"
             ],
             [
              1,
              "#f0f921"
             ]
            ],
            "type": "histogram2dcontour"
           }
          ],
          "mesh3d": [
           {
            "colorbar": {
             "outlinewidth": 0,
             "ticks": ""
            },
            "type": "mesh3d"
           }
          ],
          "parcoords": [
           {
            "line": {
             "colorbar": {
              "outlinewidth": 0,
              "ticks": ""
             }
            },
            "type": "parcoords"
           }
          ],
          "pie": [
           {
            "automargin": true,
            "type": "pie"
           }
          ],
          "scatter": [
           {
            "fillpattern": {
             "fillmode": "overlay",
             "size": 10,
             "solidity": 0.2
            },
            "type": "scatter"
           }
          ],
          "scatter3d": [
           {
            "line": {
             "colorbar": {
              "outlinewidth": 0,
              "ticks": ""
             }
            },
            "marker": {
             "colorbar": {
              "outlinewidth": 0,
              "ticks": ""
             }
            },
            "type": "scatter3d"
           }
          ],
          "scattercarpet": [
           {
            "marker": {
             "colorbar": {
              "outlinewidth": 0,
              "ticks": ""
             }
            },
            "type": "scattercarpet"
           }
          ],
          "scattergeo": [
           {
            "marker": {
             "colorbar": {
              "outlinewidth": 0,
              "ticks": ""
             }
            },
            "type": "scattergeo"
           }
          ],
          "scattergl": [
           {
            "marker": {
             "colorbar": {
              "outlinewidth": 0,
              "ticks": ""
             }
            },
            "type": "scattergl"
           }
          ],
          "scattermap": [
           {
            "marker": {
             "colorbar": {
              "outlinewidth": 0,
              "ticks": ""
             }
            },
            "type": "scattermap"
           }
          ],
          "scattermapbox": [
           {
            "marker": {
             "colorbar": {
              "outlinewidth": 0,
              "ticks": ""
             }
            },
            "type": "scattermapbox"
           }
          ],
          "scatterpolar": [
           {
            "marker": {
             "colorbar": {
              "outlinewidth": 0,
              "ticks": ""
             }
            },
            "type": "scatterpolar"
           }
          ],
          "scatterpolargl": [
           {
            "marker": {
             "colorbar": {
              "outlinewidth": 0,
              "ticks": ""
             }
            },
            "type": "scatterpolargl"
           }
          ],
          "scatterternary": [
           {
            "marker": {
             "colorbar": {
              "outlinewidth": 0,
              "ticks": ""
             }
            },
            "type": "scatterternary"
           }
          ],
          "surface": [
           {
            "colorbar": {
             "outlinewidth": 0,
             "ticks": ""
            },
            "colorscale": [
             [
              0,
              "#0d0887"
             ],
             [
              0.1111111111111111,
              "#46039f"
             ],
             [
              0.2222222222222222,
              "#7201a8"
             ],
             [
              0.3333333333333333,
              "#9c179e"
             ],
             [
              0.4444444444444444,
              "#bd3786"
             ],
             [
              0.5555555555555556,
              "#d8576b"
             ],
             [
              0.6666666666666666,
              "#ed7953"
             ],
             [
              0.7777777777777778,
              "#fb9f3a"
             ],
             [
              0.8888888888888888,
              "#fdca26"
             ],
             [
              1,
              "#f0f921"
             ]
            ],
            "type": "surface"
           }
          ],
          "table": [
           {
            "cells": {
             "fill": {
              "color": "#EBF0F8"
             },
             "line": {
              "color": "white"
             }
            },
            "header": {
             "fill": {
              "color": "#C8D4E3"
             },
             "line": {
              "color": "white"
             }
            },
            "type": "table"
           }
          ]
         },
         "layout": {
          "annotationdefaults": {
           "arrowcolor": "#2a3f5f",
           "arrowhead": 0,
           "arrowwidth": 1
          },
          "autotypenumbers": "strict",
          "coloraxis": {
           "colorbar": {
            "outlinewidth": 0,
            "ticks": ""
           }
          },
          "colorscale": {
           "diverging": [
            [
             0,
             "#8e0152"
            ],
            [
             0.1,
             "#c51b7d"
            ],
            [
             0.2,
             "#de77ae"
            ],
            [
             0.3,
             "#f1b6da"
            ],
            [
             0.4,
             "#fde0ef"
            ],
            [
             0.5,
             "#f7f7f7"
            ],
            [
             0.6,
             "#e6f5d0"
            ],
            [
             0.7,
             "#b8e186"
            ],
            [
             0.8,
             "#7fbc41"
            ],
            [
             0.9,
             "#4d9221"
            ],
            [
             1,
             "#276419"
            ]
           ],
           "sequential": [
            [
             0,
             "#0d0887"
            ],
            [
             0.1111111111111111,
             "#46039f"
            ],
            [
             0.2222222222222222,
             "#7201a8"
            ],
            [
             0.3333333333333333,
             "#9c179e"
            ],
            [
             0.4444444444444444,
             "#bd3786"
            ],
            [
             0.5555555555555556,
             "#d8576b"
            ],
            [
             0.6666666666666666,
             "#ed7953"
            ],
            [
             0.7777777777777778,
             "#fb9f3a"
            ],
            [
             0.8888888888888888,
             "#fdca26"
            ],
            [
             1,
             "#f0f921"
            ]
           ],
           "sequentialminus": [
            [
             0,
             "#0d0887"
            ],
            [
             0.1111111111111111,
             "#46039f"
            ],
            [
             0.2222222222222222,
             "#7201a8"
            ],
            [
             0.3333333333333333,
             "#9c179e"
            ],
            [
             0.4444444444444444,
             "#bd3786"
            ],
            [
             0.5555555555555556,
             "#d8576b"
            ],
            [
             0.6666666666666666,
             "#ed7953"
            ],
            [
             0.7777777777777778,
             "#fb9f3a"
            ],
            [
             0.8888888888888888,
             "#fdca26"
            ],
            [
             1,
             "#f0f921"
            ]
           ]
          },
          "colorway": [
           "#636efa",
           "#EF553B",
           "#00cc96",
           "#ab63fa",
           "#FFA15A",
           "#19d3f3",
           "#FF6692",
           "#B6E880",
           "#FF97FF",
           "#FECB52"
          ],
          "font": {
           "color": "#2a3f5f"
          },
          "geo": {
           "bgcolor": "white",
           "lakecolor": "white",
           "landcolor": "white",
           "showlakes": true,
           "showland": true,
           "subunitcolor": "#C8D4E3"
          },
          "hoverlabel": {
           "align": "left"
          },
          "hovermode": "closest",
          "mapbox": {
           "style": "light"
          },
          "paper_bgcolor": "white",
          "plot_bgcolor": "white",
          "polar": {
           "angularaxis": {
            "gridcolor": "#EBF0F8",
            "linecolor": "#EBF0F8",
            "ticks": ""
           },
           "bgcolor": "white",
           "radialaxis": {
            "gridcolor": "#EBF0F8",
            "linecolor": "#EBF0F8",
            "ticks": ""
           }
          },
          "scene": {
           "xaxis": {
            "backgroundcolor": "white",
            "gridcolor": "#DFE8F3",
            "gridwidth": 2,
            "linecolor": "#EBF0F8",
            "showbackground": true,
            "ticks": "",
            "zerolinecolor": "#EBF0F8"
           },
           "yaxis": {
            "backgroundcolor": "white",
            "gridcolor": "#DFE8F3",
            "gridwidth": 2,
            "linecolor": "#EBF0F8",
            "showbackground": true,
            "ticks": "",
            "zerolinecolor": "#EBF0F8"
           },
           "zaxis": {
            "backgroundcolor": "white",
            "gridcolor": "#DFE8F3",
            "gridwidth": 2,
            "linecolor": "#EBF0F8",
            "showbackground": true,
            "ticks": "",
            "zerolinecolor": "#EBF0F8"
           }
          },
          "shapedefaults": {
           "line": {
            "color": "#2a3f5f"
           }
          },
          "ternary": {
           "aaxis": {
            "gridcolor": "#DFE8F3",
            "linecolor": "#A2B1C6",
            "ticks": ""
           },
           "baxis": {
            "gridcolor": "#DFE8F3",
            "linecolor": "#A2B1C6",
            "ticks": ""
           },
           "bgcolor": "white",
           "caxis": {
            "gridcolor": "#DFE8F3",
            "linecolor": "#A2B1C6",
            "ticks": ""
           }
          },
          "title": {
           "x": 0.05
          },
          "xaxis": {
           "automargin": true,
           "gridcolor": "#EBF0F8",
           "linecolor": "#EBF0F8",
           "ticks": "",
           "title": {
            "standoff": 15
           },
           "zerolinecolor": "#EBF0F8",
           "zerolinewidth": 2
          },
          "yaxis": {
           "automargin": true,
           "gridcolor": "#EBF0F8",
           "linecolor": "#EBF0F8",
           "ticks": "",
           "title": {
            "standoff": 15
           },
           "zerolinecolor": "#EBF0F8",
           "zerolinewidth": 2
          }
         }
        },
        "title": {
         "text": "2024년 지역별 일사량 (MJ/m²)"
        },
        "xaxis": {
         "anchor": "y",
         "domain": [
          0,
          1
         ],
         "tickangle": -45,
         "title": {
          "text": "지역"
         }
        },
        "yaxis": {
         "anchor": "x",
         "domain": [
          0,
          1
         ],
         "title": {
          "text": "일사량 (MJ/m²)"
         }
        }
       }
      }
     },
     "metadata": {},
     "output_type": "display_data"
    }
   ],
   "source": [
    "import plotly.express as px\n",
    "\n",
    "# 2024년도 데이터만 선택\n",
    "df_2024 = merged[merged[\"연도\"] == 2024].copy()\n",
    "\n",
    "# 막대그래프\n",
    "fig = px.bar(\n",
    "    df_2024,\n",
    "    x=\"지역\",\n",
    "    y=\"일사량(MJ/m2)\",\n",
    "    text=\"일사량(MJ/m2)\",\n",
    "    color=\"일사량(MJ/m2)\",   # 값에 따라 색상 구분\n",
    "    color_continuous_scale=\"YlOrRd\",  # 노랑~빨강 색상 스케일\n",
    "    title=\"2024년 지역별 일사량 (MJ/m²)\"\n",
    ")\n",
    "\n",
    "# 레이블, 서식 조정\n",
    "fig.update_traces(texttemplate=\"%{text:.1f}\", textposition=\"outside\")\n",
    "fig.update_layout(\n",
    "    xaxis_title=\"지역\",\n",
    "    yaxis_title=\"일사량 (MJ/m²)\",\n",
    "    template=\"plotly_white\",\n",
    "    margin=dict(l=40, r=40, t=60, b=80)\n",
    ")\n",
    "fig.update_xaxes(tickangle=-45)\n",
    "\n",
    "fig.show()\n"
   ]
  },
  {
   "cell_type": "code",
   "execution_count": 108,
   "id": "9afea5f5",
   "metadata": {},
   "outputs": [
    {
     "data": {
      "application/vnd.plotly.v1+json": {
       "config": {
        "plotlyServerURL": "https://plot.ly"
       },
       "data": [
        {
         "hovertemplate": "<b>%{x}</b><br>설비이용률: %{y:.2f}%<extra></extra>",
         "marker": {
          "color": {
           "bdata": "J4M5pn8yKkCG/Aiji6cpQNTNTzc/9ShARlAvhT7LKUA8mD1Nu4MnQM0gQitw1yZAHopbdt1TJ0DKjx8/fvwqQKzJrya/GihA9gXibptxJ0AdKso40OcnQD2GWHjBwCtA1OjWC40FKkAbrz38HLwoQJWNmhAeSydA",
           "dtype": "f8"
          },
          "colorbar": {
           "title": {
            "text": "설비이용률 (%)"
           }
          },
          "colorscale": [
           [
            0,
            "rgb(255,245,235)"
           ],
           [
            0.125,
            "rgb(254,230,206)"
           ],
           [
            0.25,
            "rgb(253,208,162)"
           ],
           [
            0.375,
            "rgb(253,174,107)"
           ],
           [
            0.5,
            "rgb(253,141,60)"
           ],
           [
            0.625,
            "rgb(241,105,19)"
           ],
           [
            0.75,
            "rgb(217,72,1)"
           ],
           [
            0.875,
            "rgb(166,54,3)"
           ],
           [
            1,
            "rgb(127,39,4)"
           ]
          ],
          "showscale": true
         },
         "text": [
          "13.10%",
          "12.83%",
          "12.48%",
          "12.90%",
          "11.76%",
          "11.42%",
          "11.66%",
          "13.49%",
          "12.05%",
          "11.72%",
          "11.95%",
          "13.88%",
          "13.01%",
          "12.37%",
          "11.65%"
         ],
         "textposition": "outside",
         "type": "bar",
         "x": [
          "서울",
          "강원",
          "경남",
          "경북",
          "대전",
          "인천",
          "제주",
          "전남",
          "대구",
          "경기",
          "부산",
          "전북",
          "충남",
          "충북",
          "광주"
         ],
         "y": {
          "bdata": "J4M5pn8yKkCG/Aiji6cpQNTNTzc/9ShARlAvhT7LKUA8mD1Nu4MnQM0gQitw1yZAHopbdt1TJ0DKjx8/fvwqQKzJrya/GihA9gXibptxJ0AdKso40OcnQD2GWHjBwCtA1OjWC40FKkAbrz38HLwoQJWNmhAeSydA",
          "dtype": "f8"
         }
        }
       ],
       "layout": {
        "margin": {
         "b": 100,
         "l": 40,
         "r": 40,
         "t": 60
        },
        "template": {
         "data": {
          "bar": [
           {
            "error_x": {
             "color": "#2a3f5f"
            },
            "error_y": {
             "color": "#2a3f5f"
            },
            "marker": {
             "line": {
              "color": "white",
              "width": 0.5
             },
             "pattern": {
              "fillmode": "overlay",
              "size": 10,
              "solidity": 0.2
             }
            },
            "type": "bar"
           }
          ],
          "barpolar": [
           {
            "marker": {
             "line": {
              "color": "white",
              "width": 0.5
             },
             "pattern": {
              "fillmode": "overlay",
              "size": 10,
              "solidity": 0.2
             }
            },
            "type": "barpolar"
           }
          ],
          "carpet": [
           {
            "aaxis": {
             "endlinecolor": "#2a3f5f",
             "gridcolor": "#C8D4E3",
             "linecolor": "#C8D4E3",
             "minorgridcolor": "#C8D4E3",
             "startlinecolor": "#2a3f5f"
            },
            "baxis": {
             "endlinecolor": "#2a3f5f",
             "gridcolor": "#C8D4E3",
             "linecolor": "#C8D4E3",
             "minorgridcolor": "#C8D4E3",
             "startlinecolor": "#2a3f5f"
            },
            "type": "carpet"
           }
          ],
          "choropleth": [
           {
            "colorbar": {
             "outlinewidth": 0,
             "ticks": ""
            },
            "type": "choropleth"
           }
          ],
          "contour": [
           {
            "colorbar": {
             "outlinewidth": 0,
             "ticks": ""
            },
            "colorscale": [
             [
              0,
              "#0d0887"
             ],
             [
              0.1111111111111111,
              "#46039f"
             ],
             [
              0.2222222222222222,
              "#7201a8"
             ],
             [
              0.3333333333333333,
              "#9c179e"
             ],
             [
              0.4444444444444444,
              "#bd3786"
             ],
             [
              0.5555555555555556,
              "#d8576b"
             ],
             [
              0.6666666666666666,
              "#ed7953"
             ],
             [
              0.7777777777777778,
              "#fb9f3a"
             ],
             [
              0.8888888888888888,
              "#fdca26"
             ],
             [
              1,
              "#f0f921"
             ]
            ],
            "type": "contour"
           }
          ],
          "contourcarpet": [
           {
            "colorbar": {
             "outlinewidth": 0,
             "ticks": ""
            },
            "type": "contourcarpet"
           }
          ],
          "heatmap": [
           {
            "colorbar": {
             "outlinewidth": 0,
             "ticks": ""
            },
            "colorscale": [
             [
              0,
              "#0d0887"
             ],
             [
              0.1111111111111111,
              "#46039f"
             ],
             [
              0.2222222222222222,
              "#7201a8"
             ],
             [
              0.3333333333333333,
              "#9c179e"
             ],
             [
              0.4444444444444444,
              "#bd3786"
             ],
             [
              0.5555555555555556,
              "#d8576b"
             ],
             [
              0.6666666666666666,
              "#ed7953"
             ],
             [
              0.7777777777777778,
              "#fb9f3a"
             ],
             [
              0.8888888888888888,
              "#fdca26"
             ],
             [
              1,
              "#f0f921"
             ]
            ],
            "type": "heatmap"
           }
          ],
          "histogram": [
           {
            "marker": {
             "pattern": {
              "fillmode": "overlay",
              "size": 10,
              "solidity": 0.2
             }
            },
            "type": "histogram"
           }
          ],
          "histogram2d": [
           {
            "colorbar": {
             "outlinewidth": 0,
             "ticks": ""
            },
            "colorscale": [
             [
              0,
              "#0d0887"
             ],
             [
              0.1111111111111111,
              "#46039f"
             ],
             [
              0.2222222222222222,
              "#7201a8"
             ],
             [
              0.3333333333333333,
              "#9c179e"
             ],
             [
              0.4444444444444444,
              "#bd3786"
             ],
             [
              0.5555555555555556,
              "#d8576b"
             ],
             [
              0.6666666666666666,
              "#ed7953"
             ],
             [
              0.7777777777777778,
              "#fb9f3a"
             ],
             [
              0.8888888888888888,
              "#fdca26"
             ],
             [
              1,
              "#f0f921"
             ]
            ],
            "type": "histogram2d"
           }
          ],
          "histogram2dcontour": [
           {
            "colorbar": {
             "outlinewidth": 0,
             "ticks": ""
            },
            "colorscale": [
             [
              0,
              "#0d0887"
             ],
             [
              0.1111111111111111,
              "#46039f"
             ],
             [
              0.2222222222222222,
              "#7201a8"
             ],
             [
              0.3333333333333333,
              "#9c179e"
             ],
             [
              0.4444444444444444,
              "#bd3786"
             ],
             [
              0.5555555555555556,
              "#d8576b"
             ],
             [
              0.6666666666666666,
              "#ed7953"
             ],
             [
              0.7777777777777778,
              "#fb9f3a"
             ],
             [
              0.8888888888888888,
              "#fdca26"
             ],
             [
              1,
              "#f0f921"
             ]
            ],
            "type": "histogram2dcontour"
           }
          ],
          "mesh3d": [
           {
            "colorbar": {
             "outlinewidth": 0,
             "ticks": ""
            },
            "type": "mesh3d"
           }
          ],
          "parcoords": [
           {
            "line": {
             "colorbar": {
              "outlinewidth": 0,
              "ticks": ""
             }
            },
            "type": "parcoords"
           }
          ],
          "pie": [
           {
            "automargin": true,
            "type": "pie"
           }
          ],
          "scatter": [
           {
            "fillpattern": {
             "fillmode": "overlay",
             "size": 10,
             "solidity": 0.2
            },
            "type": "scatter"
           }
          ],
          "scatter3d": [
           {
            "line": {
             "colorbar": {
              "outlinewidth": 0,
              "ticks": ""
             }
            },
            "marker": {
             "colorbar": {
              "outlinewidth": 0,
              "ticks": ""
             }
            },
            "type": "scatter3d"
           }
          ],
          "scattercarpet": [
           {
            "marker": {
             "colorbar": {
              "outlinewidth": 0,
              "ticks": ""
             }
            },
            "type": "scattercarpet"
           }
          ],
          "scattergeo": [
           {
            "marker": {
             "colorbar": {
              "outlinewidth": 0,
              "ticks": ""
             }
            },
            "type": "scattergeo"
           }
          ],
          "scattergl": [
           {
            "marker": {
             "colorbar": {
              "outlinewidth": 0,
              "ticks": ""
             }
            },
            "type": "scattergl"
           }
          ],
          "scattermap": [
           {
            "marker": {
             "colorbar": {
              "outlinewidth": 0,
              "ticks": ""
             }
            },
            "type": "scattermap"
           }
          ],
          "scattermapbox": [
           {
            "marker": {
             "colorbar": {
              "outlinewidth": 0,
              "ticks": ""
             }
            },
            "type": "scattermapbox"
           }
          ],
          "scatterpolar": [
           {
            "marker": {
             "colorbar": {
              "outlinewidth": 0,
              "ticks": ""
             }
            },
            "type": "scatterpolar"
           }
          ],
          "scatterpolargl": [
           {
            "marker": {
             "colorbar": {
              "outlinewidth": 0,
              "ticks": ""
             }
            },
            "type": "scatterpolargl"
           }
          ],
          "scatterternary": [
           {
            "marker": {
             "colorbar": {
              "outlinewidth": 0,
              "ticks": ""
             }
            },
            "type": "scatterternary"
           }
          ],
          "surface": [
           {
            "colorbar": {
             "outlinewidth": 0,
             "ticks": ""
            },
            "colorscale": [
             [
              0,
              "#0d0887"
             ],
             [
              0.1111111111111111,
              "#46039f"
             ],
             [
              0.2222222222222222,
              "#7201a8"
             ],
             [
              0.3333333333333333,
              "#9c179e"
             ],
             [
              0.4444444444444444,
              "#bd3786"
             ],
             [
              0.5555555555555556,
              "#d8576b"
             ],
             [
              0.6666666666666666,
              "#ed7953"
             ],
             [
              0.7777777777777778,
              "#fb9f3a"
             ],
             [
              0.8888888888888888,
              "#fdca26"
             ],
             [
              1,
              "#f0f921"
             ]
            ],
            "type": "surface"
           }
          ],
          "table": [
           {
            "cells": {
             "fill": {
              "color": "#EBF0F8"
             },
             "line": {
              "color": "white"
             }
            },
            "header": {
             "fill": {
              "color": "#C8D4E3"
             },
             "line": {
              "color": "white"
             }
            },
            "type": "table"
           }
          ]
         },
         "layout": {
          "annotationdefaults": {
           "arrowcolor": "#2a3f5f",
           "arrowhead": 0,
           "arrowwidth": 1
          },
          "autotypenumbers": "strict",
          "coloraxis": {
           "colorbar": {
            "outlinewidth": 0,
            "ticks": ""
           }
          },
          "colorscale": {
           "diverging": [
            [
             0,
             "#8e0152"
            ],
            [
             0.1,
             "#c51b7d"
            ],
            [
             0.2,
             "#de77ae"
            ],
            [
             0.3,
             "#f1b6da"
            ],
            [
             0.4,
             "#fde0ef"
            ],
            [
             0.5,
             "#f7f7f7"
            ],
            [
             0.6,
             "#e6f5d0"
            ],
            [
             0.7,
             "#b8e186"
            ],
            [
             0.8,
             "#7fbc41"
            ],
            [
             0.9,
             "#4d9221"
            ],
            [
             1,
             "#276419"
            ]
           ],
           "sequential": [
            [
             0,
             "#0d0887"
            ],
            [
             0.1111111111111111,
             "#46039f"
            ],
            [
             0.2222222222222222,
             "#7201a8"
            ],
            [
             0.3333333333333333,
             "#9c179e"
            ],
            [
             0.4444444444444444,
             "#bd3786"
            ],
            [
             0.5555555555555556,
             "#d8576b"
            ],
            [
             0.6666666666666666,
             "#ed7953"
            ],
            [
             0.7777777777777778,
             "#fb9f3a"
            ],
            [
             0.8888888888888888,
             "#fdca26"
            ],
            [
             1,
             "#f0f921"
            ]
           ],
           "sequentialminus": [
            [
             0,
             "#0d0887"
            ],
            [
             0.1111111111111111,
             "#46039f"
            ],
            [
             0.2222222222222222,
             "#7201a8"
            ],
            [
             0.3333333333333333,
             "#9c179e"
            ],
            [
             0.4444444444444444,
             "#bd3786"
            ],
            [
             0.5555555555555556,
             "#d8576b"
            ],
            [
             0.6666666666666666,
             "#ed7953"
            ],
            [
             0.7777777777777778,
             "#fb9f3a"
            ],
            [
             0.8888888888888888,
             "#fdca26"
            ],
            [
             1,
             "#f0f921"
            ]
           ]
          },
          "colorway": [
           "#636efa",
           "#EF553B",
           "#00cc96",
           "#ab63fa",
           "#FFA15A",
           "#19d3f3",
           "#FF6692",
           "#B6E880",
           "#FF97FF",
           "#FECB52"
          ],
          "font": {
           "color": "#2a3f5f"
          },
          "geo": {
           "bgcolor": "white",
           "lakecolor": "white",
           "landcolor": "white",
           "showlakes": true,
           "showland": true,
           "subunitcolor": "#C8D4E3"
          },
          "hoverlabel": {
           "align": "left"
          },
          "hovermode": "closest",
          "mapbox": {
           "style": "light"
          },
          "paper_bgcolor": "white",
          "plot_bgcolor": "white",
          "polar": {
           "angularaxis": {
            "gridcolor": "#EBF0F8",
            "linecolor": "#EBF0F8",
            "ticks": ""
           },
           "bgcolor": "white",
           "radialaxis": {
            "gridcolor": "#EBF0F8",
            "linecolor": "#EBF0F8",
            "ticks": ""
           }
          },
          "scene": {
           "xaxis": {
            "backgroundcolor": "white",
            "gridcolor": "#DFE8F3",
            "gridwidth": 2,
            "linecolor": "#EBF0F8",
            "showbackground": true,
            "ticks": "",
            "zerolinecolor": "#EBF0F8"
           },
           "yaxis": {
            "backgroundcolor": "white",
            "gridcolor": "#DFE8F3",
            "gridwidth": 2,
            "linecolor": "#EBF0F8",
            "showbackground": true,
            "ticks": "",
            "zerolinecolor": "#EBF0F8"
           },
           "zaxis": {
            "backgroundcolor": "white",
            "gridcolor": "#DFE8F3",
            "gridwidth": 2,
            "linecolor": "#EBF0F8",
            "showbackground": true,
            "ticks": "",
            "zerolinecolor": "#EBF0F8"
           }
          },
          "shapedefaults": {
           "line": {
            "color": "#2a3f5f"
           }
          },
          "ternary": {
           "aaxis": {
            "gridcolor": "#DFE8F3",
            "linecolor": "#A2B1C6",
            "ticks": ""
           },
           "baxis": {
            "gridcolor": "#DFE8F3",
            "linecolor": "#A2B1C6",
            "ticks": ""
           },
           "bgcolor": "white",
           "caxis": {
            "gridcolor": "#DFE8F3",
            "linecolor": "#A2B1C6",
            "ticks": ""
           }
          },
          "title": {
           "x": 0.05
          },
          "xaxis": {
           "automargin": true,
           "gridcolor": "#EBF0F8",
           "linecolor": "#EBF0F8",
           "ticks": "",
           "title": {
            "standoff": 15
           },
           "zerolinecolor": "#EBF0F8",
           "zerolinewidth": 2
          },
          "yaxis": {
           "automargin": true,
           "gridcolor": "#EBF0F8",
           "linecolor": "#EBF0F8",
           "ticks": "",
           "title": {
            "standoff": 15
           },
           "zerolinecolor": "#EBF0F8",
           "zerolinewidth": 2
          }
         }
        },
        "title": {
         "text": "2024년 지역별 설비이용률"
        },
        "xaxis": {
         "tickangle": -45,
         "title": {
          "text": "지역"
         }
        },
        "yaxis": {
         "tickformat": ".2f",
         "title": {
          "text": "설비이용률 (%)"
         }
        }
       }
      }
     },
     "metadata": {},
     "output_type": "display_data"
    }
   ],
   "source": [
    "import pandas as pd\n",
    "import plotly.graph_objects as go\n",
    "\n",
    "# 데이터 로드\n",
    "df = pd.read_excel(\"dataset/최종일사량합친데이터.xlsx\")\n",
    "df_2024 = df[df[\"연도\"] == 2024].copy()\n",
    "\n",
    "# 설비이용률 그래프\n",
    "fig_cf = go.Figure()\n",
    "fig_cf.add_trace(go.Bar(\n",
    "    x=df_2024[\"지역\"],\n",
    "    y=df_2024[\"설비이용률(%)\"],\n",
    "    text=[f\"{v:.2f}%\" for v in df_2024[\"설비이용률(%)\"]],\n",
    "    textposition=\"outside\",\n",
    "    marker=dict(\n",
    "        color=df_2024[\"설비이용률(%)\"],\n",
    "        colorscale=\"Oranges\",\n",
    "        showscale=True,\n",
    "        colorbar=dict(title=\"설비이용률 (%)\")\n",
    "    ),\n",
    "    hovertemplate=\"<b>%{x}</b><br>설비이용률: %{y:.2f}%<extra></extra>\"\n",
    "))\n",
    "\n",
    "fig_cf.update_layout(\n",
    "    title=\"2024년 지역별 설비이용률\",\n",
    "    xaxis_title=\"지역\",\n",
    "    yaxis_title=\"설비이용률 (%)\",\n",
    "    template=\"plotly_white\",\n",
    "    margin=dict(l=40, r=40, t=60, b=100)\n",
    ")\n",
    "fig_cf.update_xaxes(tickangle=-45)\n",
    "fig_cf.update_yaxes(tickformat=\".2f\")\n",
    "\n",
    "fig_cf.show()\n"
   ]
  },
  {
   "cell_type": "code",
   "execution_count": 174,
   "id": "ee2e3f4e",
   "metadata": {},
   "outputs": [
    {
     "data": {
      "application/vnd.plotly.v1+json": {
       "config": {
        "plotlyServerURL": "https://plot.ly"
       },
       "data": [
        {
         "hovertemplate": "<b>%{hovertext}</b><br><br>지역=%{text}<br>일사량(MJ/m2)=%{x}<br>설비이용률(%)=%{y}<br>설비용량=%{marker.size}<extra></extra>",
         "hovertext": [
          "서울"
         ],
         "legendgroup": "서울",
         "marker": {
          "color": "#E74C3C",
          "size": {
           "bdata": "AAAAAAAASUA=",
           "dtype": "f8"
          },
          "sizemode": "area",
          "sizeref": 1.6730555555555555,
          "symbol": "circle"
         },
         "mode": "markers+text",
         "name": "서울",
         "orientation": "v",
         "showlegend": true,
         "type": "scatter",
         "x": {
          "bdata": "VVVVVVVFe0A=",
          "dtype": "f8"
         },
         "xaxis": "x",
         "y": {
          "bdata": "J4M5pn8yKkA=",
          "dtype": "f8"
         },
         "yaxis": "y"
        },
        {
         "hovertemplate": "<b>%{hovertext}</b><br><br>지역=%{text}<br>일사량(MJ/m2)=%{x}<br>설비이용률(%)=%{y}<br>설비용량=%{marker.size}<extra></extra>",
         "hovertext": [
          "강원"
         ],
         "legendgroup": "강원",
         "marker": {
          "color": "#F1C40F",
          "size": {
           "bdata": "AAAAAABcnkA=",
           "dtype": "f8"
          },
          "sizemode": "area",
          "sizeref": 1.6730555555555555,
          "symbol": "circle"
         },
         "mode": "markers+text",
         "name": "강원",
         "orientation": "v",
         "showlegend": true,
         "type": "scatter",
         "x": {
          "bdata": "VVVVVVWBeUA=",
          "dtype": "f8"
         },
         "xaxis": "x",
         "y": {
          "bdata": "hvwIo4unKUA=",
          "dtype": "f8"
         },
         "yaxis": "y"
        },
        {
         "hovertemplate": "<b>%{hovertext}</b><br><br>지역=%{text}<br>일사량(MJ/m2)=%{x}<br>설비이용률(%)=%{y}<br>설비용량=%{marker.size}<extra></extra>",
         "hovertext": [
          "경남"
         ],
         "legendgroup": "경남",
         "marker": {
          "color": "#00BCD4",
          "size": {
           "bdata": "AAAAAACAn0A=",
           "dtype": "f8"
          },
          "sizemode": "area",
          "sizeref": 1.6730555555555555,
          "symbol": "circle"
         },
         "mode": "markers+text",
         "name": "경남",
         "orientation": "v",
         "showlegend": true,
         "type": "scatter",
         "x": {
          "bdata": "VVVVVVUdfUA=",
          "dtype": "f8"
         },
         "xaxis": "x",
         "y": {
          "bdata": "1M1PNz/1KEA=",
          "dtype": "f8"
         },
         "yaxis": "y"
        },
        {
         "hovertemplate": "<b>%{hovertext}</b><br><br>지역=%{text}<br>일사량(MJ/m2)=%{x}<br>설비이용률(%)=%{y}<br>설비용량=%{marker.size}<extra></extra>",
         "hovertext": [
          "경북"
         ],
         "legendgroup": "경북",
         "marker": {
          "color": "#E91E63",
          "size": {
           "bdata": "AAAAAAAErkA=",
           "dtype": "f8"
          },
          "sizemode": "area",
          "sizeref": 1.6730555555555555,
          "symbol": "circle"
         },
         "mode": "markers+text",
         "name": "경북",
         "orientation": "v",
         "showlegend": true,
         "type": "scatter",
         "x": {
          "bdata": "VVVVVVXpfEA=",
          "dtype": "f8"
         },
         "xaxis": "x",
         "y": {
          "bdata": "RlAvhT7LKUA=",
          "dtype": "f8"
         },
         "yaxis": "y"
        },
        {
         "hovertemplate": "<b>%{hovertext}</b><br><br>지역=%{text}<br>일사량(MJ/m2)=%{x}<br>설비이용률(%)=%{y}<br>설비용량=%{marker.size}<extra></extra>",
         "hovertext": [
          "대전"
         ],
         "legendgroup": "대전",
         "marker": {
          "color": "#1ABC9C",
          "size": {
           "bdata": "AAAAAABAUEA=",
           "dtype": "f8"
          },
          "sizemode": "area",
          "sizeref": 1.6730555555555555,
          "symbol": "circle"
         },
         "mode": "markers+text",
         "name": "대전",
         "orientation": "v",
         "showlegend": true,
         "type": "scatter",
         "x": {
          "bdata": "q6qqqqo+fEA=",
          "dtype": "f8"
         },
         "xaxis": "x",
         "y": {
          "bdata": "PJg9TbuDJ0A=",
          "dtype": "f8"
         },
         "yaxis": "y"
        },
        {
         "hovertemplate": "<b>%{hovertext}</b><br><br>지역=%{text}<br>일사량(MJ/m2)=%{x}<br>설비이용률(%)=%{y}<br>설비용량=%{marker.size}<extra></extra>",
         "hovertext": [
          "인천"
         ],
         "legendgroup": "인천",
         "marker": {
          "color": "#F39C12",
          "size": {
           "bdata": "AAAAAABgZEA=",
           "dtype": "f8"
          },
          "sizemode": "area",
          "sizeref": 1.6730555555555555,
          "symbol": "circle"
         },
         "mode": "markers+text",
         "name": "인천",
         "orientation": "v",
         "showlegend": true,
         "type": "scatter",
         "x": {
          "bdata": "q6qqqqqafEA=",
          "dtype": "f8"
         },
         "xaxis": "x",
         "y": {
          "bdata": "zSBCK3DXJkA=",
          "dtype": "f8"
         },
         "yaxis": "y"
        },
        {
         "hovertemplate": "<b>%{hovertext}</b><br><br>지역=%{text}<br>일사량(MJ/m2)=%{x}<br>설비이용률(%)=%{y}<br>설비용량=%{marker.size}<extra></extra>",
         "hovertext": [
          "제주"
         ],
         "legendgroup": "제주",
         "marker": {
          "color": "#673AB7",
          "size": {
           "bdata": "AAAAAABog0A=",
           "dtype": "f8"
          },
          "sizemode": "area",
          "sizeref": 1.6730555555555555,
          "symbol": "circle"
         },
         "mode": "markers+text",
         "name": "제주",
         "orientation": "v",
         "showlegend": true,
         "type": "scatter",
         "x": {
          "bdata": "AAAAAAAEeEA=",
          "dtype": "f8"
         },
         "xaxis": "x",
         "y": {
          "bdata": "Hopbdt1TJ0A=",
          "dtype": "f8"
         },
         "yaxis": "y"
        },
        {
         "hovertemplate": "<b>%{hovertext}</b><br><br>지역=%{text}<br>일사량(MJ/m2)=%{x}<br>설비이용률(%)=%{y}<br>설비용량=%{marker.size}<extra></extra>",
         "hovertext": [
          "전남"
         ],
         "legendgroup": "전남",
         "marker": {
          "color": "#795548",
          "size": {
           "bdata": "AAAAAACHt0A=",
           "dtype": "f8"
          },
          "sizemode": "area",
          "sizeref": 1.6730555555555555,
          "symbol": "circle"
         },
         "mode": "markers+text",
         "name": "전남",
         "orientation": "v",
         "showlegend": true,
         "type": "scatter",
         "x": {
          "bdata": "q6qqqqqqfUA=",
          "dtype": "f8"
         },
         "xaxis": "x",
         "y": {
          "bdata": "yo8fP378KkA=",
          "dtype": "f8"
         },
         "yaxis": "y"
        },
        {
         "hovertemplate": "<b>%{hovertext}</b><br><br>지역=%{text}<br>일사량(MJ/m2)=%{x}<br>설비이용률(%)=%{y}<br>설비용량=%{marker.size}<extra></extra>",
         "hovertext": [
          "대구"
         ],
         "legendgroup": "대구",
         "marker": {
          "color": "#2ECC71",
          "size": {
           "bdata": "AAAAAABAekA=",
           "dtype": "f8"
          },
          "sizemode": "area",
          "sizeref": 1.6730555555555555,
          "symbol": "circle"
         },
         "mode": "markers+text",
         "name": "대구",
         "orientation": "v",
         "showlegend": true,
         "type": "scatter",
         "x": {
          "bdata": "AAAAAAB8fEA=",
          "dtype": "f8"
         },
         "xaxis": "x",
         "y": {
          "bdata": "rMmvJr8aKEA=",
          "dtype": "f8"
         },
         "yaxis": "y"
        },
        {
         "hovertemplate": "<b>%{hovertext}</b><br><br>지역=%{text}<br>일사량(MJ/m2)=%{x}<br>설비이용률(%)=%{y}<br>설비용량=%{marker.size}<extra></extra>",
         "hovertext": [
          "경기"
         ],
         "legendgroup": "경기",
         "marker": {
          "color": "#34495E",
          "size": {
           "bdata": "AAAAAABwn0A=",
           "dtype": "f8"
          },
          "sizemode": "area",
          "sizeref": 1.6730555555555555,
          "symbol": "circle"
         },
         "mode": "markers+text",
         "name": "경기",
         "orientation": "v",
         "showlegend": true,
         "type": "scatter",
         "x": {
          "bdata": "VVVVVVXBe0A=",
          "dtype": "f8"
         },
         "xaxis": "x",
         "y": {
          "bdata": "9gXibptxJ0A=",
          "dtype": "f8"
         },
         "yaxis": "y"
        },
        {
         "hovertemplate": "<b>%{hovertext}</b><br><br>지역=%{text}<br>일사량(MJ/m2)=%{x}<br>설비이용률(%)=%{y}<br>설비용량=%{marker.size}<extra></extra>",
         "hovertext": [
          "부산"
         ],
         "legendgroup": "부산",
         "marker": {
          "color": "#3498DB",
          "size": {
           "bdata": "AAAAAAAwcUA=",
           "dtype": "f8"
          },
          "sizemode": "area",
          "sizeref": 1.6730555555555555,
          "symbol": "circle"
         },
         "mode": "markers+text",
         "name": "부산",
         "orientation": "v",
         "showlegend": true,
         "type": "scatter",
         "x": {
          "bdata": "VVVVVVUpfkA=",
          "dtype": "f8"
         },
         "xaxis": "x",
         "y": {
          "bdata": "HSrKONDnJ0A=",
          "dtype": "f8"
         },
         "yaxis": "y"
        },
        {
         "hovertemplate": "<b>%{hovertext}</b><br><br>지역=%{text}<br>일사량(MJ/m2)=%{x}<br>설비이용률(%)=%{y}<br>설비용량=%{marker.size}<extra></extra>",
         "hovertext": [
          "전북"
         ],
         "legendgroup": "전북",
         "marker": {
          "color": "#FF9800",
          "size": {
           "bdata": "AAAAAADusUA=",
           "dtype": "f8"
          },
          "sizemode": "area",
          "sizeref": 1.6730555555555555,
          "symbol": "circle"
         },
         "mode": "markers+text",
         "name": "전북",
         "orientation": "v",
         "showlegend": true,
         "type": "scatter",
         "x": {
          "bdata": "AAAAAAC8ekA=",
          "dtype": "f8"
         },
         "xaxis": "x",
         "y": {
          "bdata": "PYZYeMHAK0A=",
          "dtype": "f8"
         },
         "yaxis": "y"
        },
        {
         "hovertemplate": "<b>%{hovertext}</b><br><br>지역=%{text}<br>일사량(MJ/m2)=%{x}<br>설비이용률(%)=%{y}<br>설비용량=%{marker.size}<extra></extra>",
         "hovertext": [
          "충남"
         ],
         "legendgroup": "충남",
         "marker": {
          "color": "#4CAF50",
          "size": {
           "bdata": "AAAAAAB4rUA=",
           "dtype": "f8"
          },
          "sizemode": "area",
          "sizeref": 1.6730555555555555,
          "symbol": "circle"
         },
         "mode": "markers+text",
         "name": "충남",
         "orientation": "v",
         "showlegend": true,
         "type": "scatter",
         "x": {
          "bdata": "VVVVVVWle0A=",
          "dtype": "f8"
         },
         "xaxis": "x",
         "y": {
          "bdata": "1OjWC40FKkA=",
          "dtype": "f8"
         },
         "yaxis": "y"
        },
        {
         "hovertemplate": "<b>%{hovertext}</b><br><br>지역=%{text}<br>일사량(MJ/m2)=%{x}<br>설비이용률(%)=%{y}<br>설비용량=%{marker.size}<extra></extra>",
         "hovertext": [
          "충북"
         ],
         "legendgroup": "충북",
         "marker": {
          "color": "#607D8B",
          "size": {
           "bdata": "AAAAAAA0mUA=",
           "dtype": "f8"
          },
          "sizemode": "area",
          "sizeref": 1.6730555555555555,
          "symbol": "circle"
         },
         "mode": "markers+text",
         "name": "충북",
         "orientation": "v",
         "showlegend": true,
         "type": "scatter",
         "x": {
          "bdata": "AAAAAAAwe0A=",
          "dtype": "f8"
         },
         "xaxis": "x",
         "y": {
          "bdata": "G689/By8KEA=",
          "dtype": "f8"
         },
         "yaxis": "y"
        },
        {
         "hovertemplate": "<b>%{hovertext}</b><br><br>지역=%{text}<br>일사량(MJ/m2)=%{x}<br>설비이용률(%)=%{y}<br>설비용량=%{marker.size}<extra></extra>",
         "hovertext": [
          "광주"
         ],
         "legendgroup": "광주",
         "marker": {
          "color": "#9B59B6",
          "size": {
           "bdata": "AAAAAAAQdkA=",
           "dtype": "f8"
          },
          "sizemode": "area",
          "sizeref": 1.6730555555555555,
          "symbol": "circle"
         },
         "mode": "markers+text",
         "name": "광주",
         "orientation": "v",
         "showlegend": true,
         "type": "scatter",
         "x": {
          "bdata": "q6qqqqoyfEA=",
          "dtype": "f8"
         },
         "xaxis": "x",
         "y": {
          "bdata": "lY2aEB5LJ0A=",
          "dtype": "f8"
         },
         "yaxis": "y"
        }
       ],
       "layout": {
        "annotations": [
         {
          "arrowhead": 2,
          "ax": 15,
          "ay": -15,
          "bgcolor": "rgba(255,255,255,0.6)",
          "font": {
           "color": "black",
           "size": 11
          },
          "showarrow": true,
          "text": "서울",
          "x": 436.3333333333333,
          "y": 13.0986301369863
         },
         {
          "font": {
           "color": "white",
           "size": 11
          },
          "showarrow": false,
          "text": "<b>강원</b>",
          "x": 408.0833333333333,
          "y": 12.82723721966455
         },
         {
          "font": {
           "color": "white",
           "size": 11
          },
          "showarrow": false,
          "text": "<b>경남</b>",
          "x": 465.8333333333333,
          "y": 12.47899792527361
         },
         {
          "font": {
           "color": "white",
           "size": 11
          },
          "showarrow": false,
          "text": "<b>경북</b>",
          "x": 462.5833333333333,
          "y": 12.89696136667784
         },
         {
          "arrowhead": 2,
          "ax": 15,
          "ay": -15,
          "bgcolor": "rgba(255,255,255,0.6)",
          "font": {
           "color": "black",
           "size": 11
          },
          "showarrow": true,
          "text": "대전",
          "x": 451.9166666666667,
          "y": 11.75728837372673
         },
         {
          "arrowhead": 2,
          "ax": 15,
          "ay": -15,
          "bgcolor": "rgba(255,255,255,0.6)",
          "font": {
           "color": "black",
           "size": 11
          },
          "showarrow": true,
          "text": "인천",
          "x": 457.6666666666667,
          "y": 11.42077765638569
         },
         {
          "font": {
           "color": "white",
           "size": 11
          },
          "showarrow": false,
          "text": "<b>제주</b>",
          "x": 384.25,
          "y": 11.66379899852205
         },
         {
          "font": {
           "color": "white",
           "size": 11
          },
          "showarrow": false,
          "text": "<b>전남</b>",
          "x": 474.6666666666667,
          "y": 13.49315068493151
         },
         {
          "arrowhead": 2,
          "ax": 15,
          "ay": -15,
          "bgcolor": "rgba(255,255,255,0.6)",
          "font": {
           "color": "black",
           "size": 11
          },
          "showarrow": true,
          "text": "대구",
          "x": 455.75,
          "y": 12.05223961730811
         },
         {
          "font": {
           "color": "white",
           "size": 11
          },
          "showarrow": false,
          "text": "<b>경기</b>",
          "x": 444.0833333333333,
          "y": 11.72188898572038
         },
         {
          "arrowhead": 2,
          "ax": 15,
          "ay": -15,
          "bgcolor": "rgba(255,255,255,0.6)",
          "font": {
           "color": "black",
           "size": 11
          },
          "showarrow": true,
          "text": "부산",
          "x": 482.5833333333333,
          "y": 11.9527604815276
         },
         {
          "font": {
           "color": "white",
           "size": 11
          },
          "showarrow": false,
          "text": "<b>전북</b>",
          "x": 427.75,
          "y": 13.87647605972881
         },
         {
          "font": {
           "color": "white",
           "size": 11
          },
          "showarrow": false,
          "text": "<b>충남</b>",
          "x": 442.3333333333333,
          "y": 13.01084172247321
         },
         {
          "font": {
           "color": "white",
           "size": 11
          },
          "showarrow": false,
          "text": "<b>충북</b>",
          "x": 435,
          "y": 12.36740864041308
         },
         {
          "arrowhead": 2,
          "ax": 15,
          "ay": -15,
          "bgcolor": "rgba(255,255,255,0.6)",
          "font": {
           "color": "black",
           "size": 11
          },
          "showarrow": true,
          "text": "광주",
          "x": 451.1666666666667,
          "y": 11.64671375166544
         },
         {
          "font": {
           "color": "green"
          },
          "showarrow": false,
          "text": "성과 우수 (자원↑, 효율↑)",
          "x": 482.5833333333333,
          "xanchor": "right",
          "y": 13.87647605972881,
          "yanchor": "bottom"
         },
         {
          "font": {
           "color": "blue"
          },
          "showarrow": false,
          "text": "효율 우수 (자원↓, 효율↑)",
          "x": 384.25,
          "xanchor": "left",
          "y": 13.87647605972881,
          "yanchor": "bottom"
         },
         {
          "font": {
           "color": "orange"
          },
          "showarrow": false,
          "text": "잠재력 有 (자원↑, 효율↓)",
          "x": 482.5833333333333,
          "xanchor": "right",
          "y": 11.42077765638569,
          "yanchor": "top"
         },
         {
          "font": {
           "color": "grey"
          },
          "showarrow": false,
          "text": "저효율 (자원↓, 효율↓)",
          "x": 384.25,
          "xanchor": "left",
          "y": 11.42077765638569,
          "yanchor": "top"
         }
        ],
        "height": 800,
        "legend": {
         "itemsizing": "constant",
         "title": {
          "text": "지역"
         },
         "tracegroupgap": 0
        },
        "shapes": [
         {
          "line": {
           "color": "red",
           "dash": "dash",
           "width": 2
          },
          "type": "line",
          "x0": 445.33333333333326,
          "x1": 445.33333333333326,
          "y0": 11.42077765638569,
          "y1": 13.87647605972881
         },
         {
          "line": {
           "color": "red",
           "dash": "dash",
           "width": 2
          },
          "type": "line",
          "x0": 384.25,
          "x1": 482.5833333333333,
          "y0": 12.417678108066992,
          "y1": 12.417678108066992
         }
        ],
        "template": {
         "data": {
          "bar": [
           {
            "error_x": {
             "color": "#2a3f5f"
            },
            "error_y": {
             "color": "#2a3f5f"
            },
            "marker": {
             "line": {
              "color": "white",
              "width": 0.5
             },
             "pattern": {
              "fillmode": "overlay",
              "size": 10,
              "solidity": 0.2
             }
            },
            "type": "bar"
           }
          ],
          "barpolar": [
           {
            "marker": {
             "line": {
              "color": "white",
              "width": 0.5
             },
             "pattern": {
              "fillmode": "overlay",
              "size": 10,
              "solidity": 0.2
             }
            },
            "type": "barpolar"
           }
          ],
          "carpet": [
           {
            "aaxis": {
             "endlinecolor": "#2a3f5f",
             "gridcolor": "#C8D4E3",
             "linecolor": "#C8D4E3",
             "minorgridcolor": "#C8D4E3",
             "startlinecolor": "#2a3f5f"
            },
            "baxis": {
             "endlinecolor": "#2a3f5f",
             "gridcolor": "#C8D4E3",
             "linecolor": "#C8D4E3",
             "minorgridcolor": "#C8D4E3",
             "startlinecolor": "#2a3f5f"
            },
            "type": "carpet"
           }
          ],
          "choropleth": [
           {
            "colorbar": {
             "outlinewidth": 0,
             "ticks": ""
            },
            "type": "choropleth"
           }
          ],
          "contour": [
           {
            "colorbar": {
             "outlinewidth": 0,
             "ticks": ""
            },
            "colorscale": [
             [
              0,
              "#0d0887"
             ],
             [
              0.1111111111111111,
              "#46039f"
             ],
             [
              0.2222222222222222,
              "#7201a8"
             ],
             [
              0.3333333333333333,
              "#9c179e"
             ],
             [
              0.4444444444444444,
              "#bd3786"
             ],
             [
              0.5555555555555556,
              "#d8576b"
             ],
             [
              0.6666666666666666,
              "#ed7953"
             ],
             [
              0.7777777777777778,
              "#fb9f3a"
             ],
             [
              0.8888888888888888,
              "#fdca26"
             ],
             [
              1,
              "#f0f921"
             ]
            ],
            "type": "contour"
           }
          ],
          "contourcarpet": [
           {
            "colorbar": {
             "outlinewidth": 0,
             "ticks": ""
            },
            "type": "contourcarpet"
           }
          ],
          "heatmap": [
           {
            "colorbar": {
             "outlinewidth": 0,
             "ticks": ""
            },
            "colorscale": [
             [
              0,
              "#0d0887"
             ],
             [
              0.1111111111111111,
              "#46039f"
             ],
             [
              0.2222222222222222,
              "#7201a8"
             ],
             [
              0.3333333333333333,
              "#9c179e"
             ],
             [
              0.4444444444444444,
              "#bd3786"
             ],
             [
              0.5555555555555556,
              "#d8576b"
             ],
             [
              0.6666666666666666,
              "#ed7953"
             ],
             [
              0.7777777777777778,
              "#fb9f3a"
             ],
             [
              0.8888888888888888,
              "#fdca26"
             ],
             [
              1,
              "#f0f921"
             ]
            ],
            "type": "heatmap"
           }
          ],
          "histogram": [
           {
            "marker": {
             "pattern": {
              "fillmode": "overlay",
              "size": 10,
              "solidity": 0.2
             }
            },
            "type": "histogram"
           }
          ],
          "histogram2d": [
           {
            "colorbar": {
             "outlinewidth": 0,
             "ticks": ""
            },
            "colorscale": [
             [
              0,
              "#0d0887"
             ],
             [
              0.1111111111111111,
              "#46039f"
             ],
             [
              0.2222222222222222,
              "#7201a8"
             ],
             [
              0.3333333333333333,
              "#9c179e"
             ],
             [
              0.4444444444444444,
              "#bd3786"
             ],
             [
              0.5555555555555556,
              "#d8576b"
             ],
             [
              0.6666666666666666,
              "#ed7953"
             ],
             [
              0.7777777777777778,
              "#fb9f3a"
             ],
             [
              0.8888888888888888,
              "#fdca26"
             ],
             [
              1,
              "#f0f921"
             ]
            ],
            "type": "histogram2d"
           }
          ],
          "histogram2dcontour": [
           {
            "colorbar": {
             "outlinewidth": 0,
             "ticks": ""
            },
            "colorscale": [
             [
              0,
              "#0d0887"
             ],
             [
              0.1111111111111111,
              "#46039f"
             ],
             [
              0.2222222222222222,
              "#7201a8"
             ],
             [
              0.3333333333333333,
              "#9c179e"
             ],
             [
              0.4444444444444444,
              "#bd3786"
             ],
             [
              0.5555555555555556,
              "#d8576b"
             ],
             [
              0.6666666666666666,
              "#ed7953"
             ],
             [
              0.7777777777777778,
              "#fb9f3a"
             ],
             [
              0.8888888888888888,
              "#fdca26"
             ],
             [
              1,
              "#f0f921"
             ]
            ],
            "type": "histogram2dcontour"
           }
          ],
          "mesh3d": [
           {
            "colorbar": {
             "outlinewidth": 0,
             "ticks": ""
            },
            "type": "mesh3d"
           }
          ],
          "parcoords": [
           {
            "line": {
             "colorbar": {
              "outlinewidth": 0,
              "ticks": ""
             }
            },
            "type": "parcoords"
           }
          ],
          "pie": [
           {
            "automargin": true,
            "type": "pie"
           }
          ],
          "scatter": [
           {
            "fillpattern": {
             "fillmode": "overlay",
             "size": 10,
             "solidity": 0.2
            },
            "type": "scatter"
           }
          ],
          "scatter3d": [
           {
            "line": {
             "colorbar": {
              "outlinewidth": 0,
              "ticks": ""
             }
            },
            "marker": {
             "colorbar": {
              "outlinewidth": 0,
              "ticks": ""
             }
            },
            "type": "scatter3d"
           }
          ],
          "scattercarpet": [
           {
            "marker": {
             "colorbar": {
              "outlinewidth": 0,
              "ticks": ""
             }
            },
            "type": "scattercarpet"
           }
          ],
          "scattergeo": [
           {
            "marker": {
             "colorbar": {
              "outlinewidth": 0,
              "ticks": ""
             }
            },
            "type": "scattergeo"
           }
          ],
          "scattergl": [
           {
            "marker": {
             "colorbar": {
              "outlinewidth": 0,
              "ticks": ""
             }
            },
            "type": "scattergl"
           }
          ],
          "scattermap": [
           {
            "marker": {
             "colorbar": {
              "outlinewidth": 0,
              "ticks": ""
             }
            },
            "type": "scattermap"
           }
          ],
          "scattermapbox": [
           {
            "marker": {
             "colorbar": {
              "outlinewidth": 0,
              "ticks": ""
             }
            },
            "type": "scattermapbox"
           }
          ],
          "scatterpolar": [
           {
            "marker": {
             "colorbar": {
              "outlinewidth": 0,
              "ticks": ""
             }
            },
            "type": "scatterpolar"
           }
          ],
          "scatterpolargl": [
           {
            "marker": {
             "colorbar": {
              "outlinewidth": 0,
              "ticks": ""
             }
            },
            "type": "scatterpolargl"
           }
          ],
          "scatterternary": [
           {
            "marker": {
             "colorbar": {
              "outlinewidth": 0,
              "ticks": ""
             }
            },
            "type": "scatterternary"
           }
          ],
          "surface": [
           {
            "colorbar": {
             "outlinewidth": 0,
             "ticks": ""
            },
            "colorscale": [
             [
              0,
              "#0d0887"
             ],
             [
              0.1111111111111111,
              "#46039f"
             ],
             [
              0.2222222222222222,
              "#7201a8"
             ],
             [
              0.3333333333333333,
              "#9c179e"
             ],
             [
              0.4444444444444444,
              "#bd3786"
             ],
             [
              0.5555555555555556,
              "#d8576b"
             ],
             [
              0.6666666666666666,
              "#ed7953"
             ],
             [
              0.7777777777777778,
              "#fb9f3a"
             ],
             [
              0.8888888888888888,
              "#fdca26"
             ],
             [
              1,
              "#f0f921"
             ]
            ],
            "type": "surface"
           }
          ],
          "table": [
           {
            "cells": {
             "fill": {
              "color": "#EBF0F8"
             },
             "line": {
              "color": "white"
             }
            },
            "header": {
             "fill": {
              "color": "#C8D4E3"
             },
             "line": {
              "color": "white"
             }
            },
            "type": "table"
           }
          ]
         },
         "layout": {
          "annotationdefaults": {
           "arrowcolor": "#2a3f5f",
           "arrowhead": 0,
           "arrowwidth": 1
          },
          "autotypenumbers": "strict",
          "coloraxis": {
           "colorbar": {
            "outlinewidth": 0,
            "ticks": ""
           }
          },
          "colorscale": {
           "diverging": [
            [
             0,
             "#8e0152"
            ],
            [
             0.1,
             "#c51b7d"
            ],
            [
             0.2,
             "#de77ae"
            ],
            [
             0.3,
             "#f1b6da"
            ],
            [
             0.4,
             "#fde0ef"
            ],
            [
             0.5,
             "#f7f7f7"
            ],
            [
             0.6,
             "#e6f5d0"
            ],
            [
             0.7,
             "#b8e186"
            ],
            [
             0.8,
             "#7fbc41"
            ],
            [
             0.9,
             "#4d9221"
            ],
            [
             1,
             "#276419"
            ]
           ],
           "sequential": [
            [
             0,
             "#0d0887"
            ],
            [
             0.1111111111111111,
             "#46039f"
            ],
            [
             0.2222222222222222,
             "#7201a8"
            ],
            [
             0.3333333333333333,
             "#9c179e"
            ],
            [
             0.4444444444444444,
             "#bd3786"
            ],
            [
             0.5555555555555556,
             "#d8576b"
            ],
            [
             0.6666666666666666,
             "#ed7953"
            ],
            [
             0.7777777777777778,
             "#fb9f3a"
            ],
            [
             0.8888888888888888,
             "#fdca26"
            ],
            [
             1,
             "#f0f921"
            ]
           ],
           "sequentialminus": [
            [
             0,
             "#0d0887"
            ],
            [
             0.1111111111111111,
             "#46039f"
            ],
            [
             0.2222222222222222,
             "#7201a8"
            ],
            [
             0.3333333333333333,
             "#9c179e"
            ],
            [
             0.4444444444444444,
             "#bd3786"
            ],
            [
             0.5555555555555556,
             "#d8576b"
            ],
            [
             0.6666666666666666,
             "#ed7953"
            ],
            [
             0.7777777777777778,
             "#fb9f3a"
            ],
            [
             0.8888888888888888,
             "#fdca26"
            ],
            [
             1,
             "#f0f921"
            ]
           ]
          },
          "colorway": [
           "#636efa",
           "#EF553B",
           "#00cc96",
           "#ab63fa",
           "#FFA15A",
           "#19d3f3",
           "#FF6692",
           "#B6E880",
           "#FF97FF",
           "#FECB52"
          ],
          "font": {
           "color": "#2a3f5f"
          },
          "geo": {
           "bgcolor": "white",
           "lakecolor": "white",
           "landcolor": "white",
           "showlakes": true,
           "showland": true,
           "subunitcolor": "#C8D4E3"
          },
          "hoverlabel": {
           "align": "left"
          },
          "hovermode": "closest",
          "mapbox": {
           "style": "light"
          },
          "paper_bgcolor": "white",
          "plot_bgcolor": "white",
          "polar": {
           "angularaxis": {
            "gridcolor": "#EBF0F8",
            "linecolor": "#EBF0F8",
            "ticks": ""
           },
           "bgcolor": "white",
           "radialaxis": {
            "gridcolor": "#EBF0F8",
            "linecolor": "#EBF0F8",
            "ticks": ""
           }
          },
          "scene": {
           "xaxis": {
            "backgroundcolor": "white",
            "gridcolor": "#DFE8F3",
            "gridwidth": 2,
            "linecolor": "#EBF0F8",
            "showbackground": true,
            "ticks": "",
            "zerolinecolor": "#EBF0F8"
           },
           "yaxis": {
            "backgroundcolor": "white",
            "gridcolor": "#DFE8F3",
            "gridwidth": 2,
            "linecolor": "#EBF0F8",
            "showbackground": true,
            "ticks": "",
            "zerolinecolor": "#EBF0F8"
           },
           "zaxis": {
            "backgroundcolor": "white",
            "gridcolor": "#DFE8F3",
            "gridwidth": 2,
            "linecolor": "#EBF0F8",
            "showbackground": true,
            "ticks": "",
            "zerolinecolor": "#EBF0F8"
           }
          },
          "shapedefaults": {
           "line": {
            "color": "#2a3f5f"
           }
          },
          "ternary": {
           "aaxis": {
            "gridcolor": "#DFE8F3",
            "linecolor": "#A2B1C6",
            "ticks": ""
           },
           "baxis": {
            "gridcolor": "#DFE8F3",
            "linecolor": "#A2B1C6",
            "ticks": ""
           },
           "bgcolor": "white",
           "caxis": {
            "gridcolor": "#DFE8F3",
            "linecolor": "#A2B1C6",
            "ticks": ""
           }
          },
          "title": {
           "x": 0.05
          },
          "xaxis": {
           "automargin": true,
           "gridcolor": "#EBF0F8",
           "linecolor": "#EBF0F8",
           "ticks": "",
           "title": {
            "standoff": 15
           },
           "zerolinecolor": "#EBF0F8",
           "zerolinewidth": 2
          },
          "yaxis": {
           "automargin": true,
           "gridcolor": "#EBF0F8",
           "linecolor": "#EBF0F8",
           "ticks": "",
           "title": {
            "standoff": 15
           },
           "zerolinecolor": "#EBF0F8",
           "zerolinewidth": 2
          }
         }
        },
        "title": {
         "text": "2024년 지역별 일사량과 설비이용률 비교 분석"
        },
        "width": 1300,
        "xaxis": {
         "anchor": "y",
         "domain": [
          0,
          1
         ],
         "range": [
          379.3333333333333,
          487.5
         ],
         "title": {
          "text": "합계 일사량 (MJ/m²)"
         }
        },
        "yaxis": {
         "anchor": "x",
         "domain": [
          0,
          1
         ],
         "range": [
          11.297992736218534,
          14.199260979895966
         ],
         "title": {
          "text": "설비이용률 (%)"
         }
        }
       }
      }
     },
     "metadata": {},
     "output_type": "display_data"
    }
   ],
   "source": [
    "# 이용률 / 일사량 버블 차트 시각화 # 수정본\n",
    "\n",
    "df = pd.read_excel(\"dataset/최종일사량합친데이터.xlsx\")\n",
    "df_2024 = df[df[\"연도\"] == 2024].copy()\n",
    "\n",
    "# 버블 크기 (설비용량 기반, 최소값 보정)\n",
    "df_2024[\"설비용량\"] = df_2024[\"설비용량(MW)\"].apply(lambda v: max(50, float(v)))\n",
    "\n",
    "# 숫자형 변환\n",
    "x = pd.to_numeric(df_2024[\"일사량(MJ/m2)\"], errors=\"coerce\")\n",
    "y = pd.to_numeric(df_2024[\"설비이용률(%)\"], errors=\"coerce\")\n",
    "\n",
    "xmin, xmax = float(x.min()), float(x.max())\n",
    "ymin, ymax = float(y.min()), float(y.max())\n",
    "padx = (xmax - xmin) * 0.05\n",
    "pady = (ymax - ymin) * 0.05\n",
    "\n",
    "mean_x = x.mean()\n",
    "mean_y = y.mean()\n",
    "\n",
    "# color map 설정\n",
    "color_map = {\n",
    "    \"서울\": \"#E74C3C\",\n",
    "    \"부산\": \"#3498DB\",\n",
    "    \"대구\": \"#2ECC71\",\n",
    "    \"인천\": \"#F39C12\",\n",
    "    \"광주\": \"#9B59B6\",\n",
    "    \"대전\": \"#1ABC9C\",\n",
    "    \"울산\": \"#E67E22\",\n",
    "    \"경기\": \"#34495E\",\n",
    "    \"강원\": \"#F1C40F\",\n",
    "    \"경북\": \"#E91E63\",\n",
    "    \"경남\": \"#00BCD4\",\n",
    "    \"전북\": \"#FF9800\",\n",
    "    \"전남\": \"#795548\",\n",
    "    \"충북\": \"#607D8B\",\n",
    "    \"충남\": \"#4CAF50\",\n",
    "    \"제주\": \"#673AB7\"\n",
    "}\n",
    "\n",
    "# 산점도\n",
    "fig = px.scatter(\n",
    "    df_2024,\n",
    "    x=\"일사량(MJ/m2)\",\n",
    "    y=\"설비이용률(%)\",\n",
    "    size=\"설비용량\",\n",
    "    color=\"지역\",\n",
    "    hover_name=\"지역\",\n",
    "    text=\"지역\",\n",
    "    size_max=60,\n",
    "    title=\"2024년 지역별 일사량과 설비이용률 비교 분석\",\n",
    "    color_discrete_map=color_map\n",
    ")\n",
    "\n",
    "# 기본 텍스트 제거 (조건부로 다시 추가)\n",
    "fig.update_traces(text=None)\n",
    "\n",
    "# 큰/작은 버블 라벨 처리\n",
    "THRESH = 500  # 작은 버블 기준 (MW)\n",
    "\n",
    "for _, row in df_2024.iterrows():\n",
    "    if row[\"설비용량\"] >= THRESH:\n",
    "        # 큰 버블 → 중앙에 흰 글자(굵게 보이게 HTML 태그 사용)\n",
    "        fig.add_annotation(\n",
    "            x=row[\"일사량(MJ/m2)\"],\n",
    "            y=row[\"설비이용률(%)\"],\n",
    "            text=f\"<b>{row['지역']}</b>\",\n",
    "            showarrow=False,\n",
    "            font=dict(color=\"white\", size=11)\n",
    "        )\n",
    "    else:\n",
    "        # 작은 버블 → 바깥쪽 라벨 + 화살표\n",
    "        fig.add_annotation(\n",
    "            x=row[\"일사량(MJ/m2)\"],\n",
    "            y=row[\"설비이용률(%)\"],\n",
    "            text=row[\"지역\"],\n",
    "            showarrow=True, arrowhead=2,\n",
    "            ax=15, ay=-15,\n",
    "            font=dict(color=\"black\", size=11),\n",
    "            bgcolor=\"rgba(255,255,255,0.6)\"\n",
    "        )\n",
    "\n",
    "# 크기 설정\n",
    "fig.update_layout(width=1300,height=800)\n",
    "\n",
    "# 평균선\n",
    "fig.add_shape(type=\"line\", x0=mean_x, y0=ymin, x1=mean_x, y1=ymax,\n",
    "                line=dict(color=\"red\", dash=\"dash\", width=2))\n",
    "fig.add_shape(type=\"line\", x0=xmin, y0=mean_y, x1=xmax, y1=mean_y,\n",
    "                line=dict(color=\"red\", dash=\"dash\", width=2))\n",
    "\n",
    "# 사분면 라벨\n",
    "fig.add_annotation(x=xmax, y=ymax, text=\"성과 우수 (자원↑, 효율↑)\",\n",
    "                    showarrow=False, font=dict(color=\"green\"), xanchor=\"right\", yanchor=\"bottom\")\n",
    "fig.add_annotation(x=xmin, y=ymax, text=\"효율 우수 (자원↓, 효율↑)\",\n",
    "                    showarrow=False, font=dict(color=\"blue\"), xanchor=\"left\", yanchor=\"bottom\")\n",
    "fig.add_annotation(x=xmax, y=ymin, text=\"잠재력 有 (자원↑, 효율↓)\",\n",
    "                    showarrow=False, font=dict(color=\"orange\"), xanchor=\"right\", yanchor=\"top\")\n",
    "fig.add_annotation(x=xmin, y=ymin, text=\"저효율 (자원↓, 효율↓)\",\n",
    "                    showarrow=False, font=dict(color=\"grey\"), xanchor=\"left\", yanchor=\"top\")\n",
    "\n",
    "# 축 범위\n",
    "fig.update_xaxes(range=[xmin - padx, xmax + padx], title=\"합계 일사량 (MJ/m²)\")\n",
    "fig.update_yaxes(range=[ymin - pady, ymax + pady + 0.2], title=\"설비이용률 (%)\")\n",
    "fig.update_layout(template=\"plotly_white\")\n",
    "\n",
    "fig.show()"
   ]
  },
  {
   "cell_type": "code",
   "execution_count": 116,
   "id": "ca56e1ad",
   "metadata": {},
   "outputs": [
    {
     "data": {
      "application/vnd.plotly.v1+json": {
       "config": {
        "plotlyServerURL": "https://plot.ly"
       },
       "data": [
        {
         "hovertemplate": "<b>%{hovertext}</b><br><br>지역=%{text}<br>일사량(MJ/m2)=%{x}<br>설비이용률(%)=%{y}<br>설비용량=%{marker.size}<extra></extra>",
         "hovertext": [
          "서울"
         ],
         "legendgroup": "서울",
         "marker": {
          "color": "#636efa",
          "size": {
           "bdata": "AAAAAAAASUA=",
           "dtype": "f8"
          },
          "sizemode": "area",
          "sizeref": 1.6730555555555555,
          "symbol": "circle"
         },
         "mode": "markers+text",
         "name": "서울",
         "orientation": "v",
         "showlegend": true,
         "type": "scatter",
         "x": {
          "bdata": "VVVVVVVFe0A=",
          "dtype": "f8"
         },
         "xaxis": "x",
         "y": {
          "bdata": "J4M5pn8yKkA=",
          "dtype": "f8"
         },
         "yaxis": "y"
        },
        {
         "hovertemplate": "<b>%{hovertext}</b><br><br>지역=%{text}<br>일사량(MJ/m2)=%{x}<br>설비이용률(%)=%{y}<br>설비용량=%{marker.size}<extra></extra>",
         "hovertext": [
          "강원"
         ],
         "legendgroup": "강원",
         "marker": {
          "color": "#EF553B",
          "size": {
           "bdata": "AAAAAABcnkA=",
           "dtype": "f8"
          },
          "sizemode": "area",
          "sizeref": 1.6730555555555555,
          "symbol": "circle"
         },
         "mode": "markers+text",
         "name": "강원",
         "orientation": "v",
         "showlegend": true,
         "type": "scatter",
         "x": {
          "bdata": "VVVVVVWBeUA=",
          "dtype": "f8"
         },
         "xaxis": "x",
         "y": {
          "bdata": "hvwIo4unKUA=",
          "dtype": "f8"
         },
         "yaxis": "y"
        },
        {
         "hovertemplate": "<b>%{hovertext}</b><br><br>지역=%{text}<br>일사량(MJ/m2)=%{x}<br>설비이용률(%)=%{y}<br>설비용량=%{marker.size}<extra></extra>",
         "hovertext": [
          "경남"
         ],
         "legendgroup": "경남",
         "marker": {
          "color": "#00cc96",
          "size": {
           "bdata": "AAAAAACAn0A=",
           "dtype": "f8"
          },
          "sizemode": "area",
          "sizeref": 1.6730555555555555,
          "symbol": "circle"
         },
         "mode": "markers+text",
         "name": "경남",
         "orientation": "v",
         "showlegend": true,
         "type": "scatter",
         "x": {
          "bdata": "VVVVVVUdfUA=",
          "dtype": "f8"
         },
         "xaxis": "x",
         "y": {
          "bdata": "1M1PNz/1KEA=",
          "dtype": "f8"
         },
         "yaxis": "y"
        },
        {
         "hovertemplate": "<b>%{hovertext}</b><br><br>지역=%{text}<br>일사량(MJ/m2)=%{x}<br>설비이용률(%)=%{y}<br>설비용량=%{marker.size}<extra></extra>",
         "hovertext": [
          "경북"
         ],
         "legendgroup": "경북",
         "marker": {
          "color": "#ab63fa",
          "size": {
           "bdata": "AAAAAAAErkA=",
           "dtype": "f8"
          },
          "sizemode": "area",
          "sizeref": 1.6730555555555555,
          "symbol": "circle"
         },
         "mode": "markers+text",
         "name": "경북",
         "orientation": "v",
         "showlegend": true,
         "type": "scatter",
         "x": {
          "bdata": "VVVVVVXpfEA=",
          "dtype": "f8"
         },
         "xaxis": "x",
         "y": {
          "bdata": "RlAvhT7LKUA=",
          "dtype": "f8"
         },
         "yaxis": "y"
        },
        {
         "hovertemplate": "<b>%{hovertext}</b><br><br>지역=%{text}<br>일사량(MJ/m2)=%{x}<br>설비이용률(%)=%{y}<br>설비용량=%{marker.size}<extra></extra>",
         "hovertext": [
          "대전"
         ],
         "legendgroup": "대전",
         "marker": {
          "color": "#FFA15A",
          "size": {
           "bdata": "AAAAAABAUEA=",
           "dtype": "f8"
          },
          "sizemode": "area",
          "sizeref": 1.6730555555555555,
          "symbol": "circle"
         },
         "mode": "markers+text",
         "name": "대전",
         "orientation": "v",
         "showlegend": true,
         "type": "scatter",
         "x": {
          "bdata": "q6qqqqo+fEA=",
          "dtype": "f8"
         },
         "xaxis": "x",
         "y": {
          "bdata": "PJg9TbuDJ0A=",
          "dtype": "f8"
         },
         "yaxis": "y"
        },
        {
         "hovertemplate": "<b>%{hovertext}</b><br><br>지역=%{text}<br>일사량(MJ/m2)=%{x}<br>설비이용률(%)=%{y}<br>설비용량=%{marker.size}<extra></extra>",
         "hovertext": [
          "인천"
         ],
         "legendgroup": "인천",
         "marker": {
          "color": "#19d3f3",
          "size": {
           "bdata": "AAAAAABgZEA=",
           "dtype": "f8"
          },
          "sizemode": "area",
          "sizeref": 1.6730555555555555,
          "symbol": "circle"
         },
         "mode": "markers+text",
         "name": "인천",
         "orientation": "v",
         "showlegend": true,
         "type": "scatter",
         "x": {
          "bdata": "q6qqqqqafEA=",
          "dtype": "f8"
         },
         "xaxis": "x",
         "y": {
          "bdata": "zSBCK3DXJkA=",
          "dtype": "f8"
         },
         "yaxis": "y"
        },
        {
         "hovertemplate": "<b>%{hovertext}</b><br><br>지역=%{text}<br>일사량(MJ/m2)=%{x}<br>설비이용률(%)=%{y}<br>설비용량=%{marker.size}<extra></extra>",
         "hovertext": [
          "제주"
         ],
         "legendgroup": "제주",
         "marker": {
          "color": "#FF6692",
          "size": {
           "bdata": "AAAAAABog0A=",
           "dtype": "f8"
          },
          "sizemode": "area",
          "sizeref": 1.6730555555555555,
          "symbol": "circle"
         },
         "mode": "markers+text",
         "name": "제주",
         "orientation": "v",
         "showlegend": true,
         "type": "scatter",
         "x": {
          "bdata": "AAAAAAAEeEA=",
          "dtype": "f8"
         },
         "xaxis": "x",
         "y": {
          "bdata": "Hopbdt1TJ0A=",
          "dtype": "f8"
         },
         "yaxis": "y"
        },
        {
         "hovertemplate": "<b>%{hovertext}</b><br><br>지역=%{text}<br>일사량(MJ/m2)=%{x}<br>설비이용률(%)=%{y}<br>설비용량=%{marker.size}<extra></extra>",
         "hovertext": [
          "전남"
         ],
         "legendgroup": "전남",
         "marker": {
          "color": "#B6E880",
          "size": {
           "bdata": "AAAAAACHt0A=",
           "dtype": "f8"
          },
          "sizemode": "area",
          "sizeref": 1.6730555555555555,
          "symbol": "circle"
         },
         "mode": "markers+text",
         "name": "전남",
         "orientation": "v",
         "showlegend": true,
         "type": "scatter",
         "x": {
          "bdata": "q6qqqqqqfUA=",
          "dtype": "f8"
         },
         "xaxis": "x",
         "y": {
          "bdata": "yo8fP378KkA=",
          "dtype": "f8"
         },
         "yaxis": "y"
        },
        {
         "hovertemplate": "<b>%{hovertext}</b><br><br>지역=%{text}<br>일사량(MJ/m2)=%{x}<br>설비이용률(%)=%{y}<br>설비용량=%{marker.size}<extra></extra>",
         "hovertext": [
          "대구"
         ],
         "legendgroup": "대구",
         "marker": {
          "color": "#FF97FF",
          "size": {
           "bdata": "AAAAAABAekA=",
           "dtype": "f8"
          },
          "sizemode": "area",
          "sizeref": 1.6730555555555555,
          "symbol": "circle"
         },
         "mode": "markers+text",
         "name": "대구",
         "orientation": "v",
         "showlegend": true,
         "type": "scatter",
         "x": {
          "bdata": "AAAAAAB8fEA=",
          "dtype": "f8"
         },
         "xaxis": "x",
         "y": {
          "bdata": "rMmvJr8aKEA=",
          "dtype": "f8"
         },
         "yaxis": "y"
        },
        {
         "hovertemplate": "<b>%{hovertext}</b><br><br>지역=%{text}<br>일사량(MJ/m2)=%{x}<br>설비이용률(%)=%{y}<br>설비용량=%{marker.size}<extra></extra>",
         "hovertext": [
          "경기"
         ],
         "legendgroup": "경기",
         "marker": {
          "color": "#FECB52",
          "size": {
           "bdata": "AAAAAABwn0A=",
           "dtype": "f8"
          },
          "sizemode": "area",
          "sizeref": 1.6730555555555555,
          "symbol": "circle"
         },
         "mode": "markers+text",
         "name": "경기",
         "orientation": "v",
         "showlegend": true,
         "type": "scatter",
         "x": {
          "bdata": "VVVVVVXBe0A=",
          "dtype": "f8"
         },
         "xaxis": "x",
         "y": {
          "bdata": "9gXibptxJ0A=",
          "dtype": "f8"
         },
         "yaxis": "y"
        },
        {
         "hovertemplate": "<b>%{hovertext}</b><br><br>지역=%{text}<br>일사량(MJ/m2)=%{x}<br>설비이용률(%)=%{y}<br>설비용량=%{marker.size}<extra></extra>",
         "hovertext": [
          "부산"
         ],
         "legendgroup": "부산",
         "marker": {
          "color": "#636efa",
          "size": {
           "bdata": "AAAAAAAwcUA=",
           "dtype": "f8"
          },
          "sizemode": "area",
          "sizeref": 1.6730555555555555,
          "symbol": "circle"
         },
         "mode": "markers+text",
         "name": "부산",
         "orientation": "v",
         "showlegend": true,
         "type": "scatter",
         "x": {
          "bdata": "VVVVVVUpfkA=",
          "dtype": "f8"
         },
         "xaxis": "x",
         "y": {
          "bdata": "HSrKONDnJ0A=",
          "dtype": "f8"
         },
         "yaxis": "y"
        },
        {
         "hovertemplate": "<b>%{hovertext}</b><br><br>지역=%{text}<br>일사량(MJ/m2)=%{x}<br>설비이용률(%)=%{y}<br>설비용량=%{marker.size}<extra></extra>",
         "hovertext": [
          "전북"
         ],
         "legendgroup": "전북",
         "marker": {
          "color": "#EF553B",
          "size": {
           "bdata": "AAAAAADusUA=",
           "dtype": "f8"
          },
          "sizemode": "area",
          "sizeref": 1.6730555555555555,
          "symbol": "circle"
         },
         "mode": "markers+text",
         "name": "전북",
         "orientation": "v",
         "showlegend": true,
         "type": "scatter",
         "x": {
          "bdata": "AAAAAAC8ekA=",
          "dtype": "f8"
         },
         "xaxis": "x",
         "y": {
          "bdata": "PYZYeMHAK0A=",
          "dtype": "f8"
         },
         "yaxis": "y"
        },
        {
         "hovertemplate": "<b>%{hovertext}</b><br><br>지역=%{text}<br>일사량(MJ/m2)=%{x}<br>설비이용률(%)=%{y}<br>설비용량=%{marker.size}<extra></extra>",
         "hovertext": [
          "충남"
         ],
         "legendgroup": "충남",
         "marker": {
          "color": "#00cc96",
          "size": {
           "bdata": "AAAAAAB4rUA=",
           "dtype": "f8"
          },
          "sizemode": "area",
          "sizeref": 1.6730555555555555,
          "symbol": "circle"
         },
         "mode": "markers+text",
         "name": "충남",
         "orientation": "v",
         "showlegend": true,
         "type": "scatter",
         "x": {
          "bdata": "VVVVVVWle0A=",
          "dtype": "f8"
         },
         "xaxis": "x",
         "y": {
          "bdata": "1OjWC40FKkA=",
          "dtype": "f8"
         },
         "yaxis": "y"
        },
        {
         "hovertemplate": "<b>%{hovertext}</b><br><br>지역=%{text}<br>일사량(MJ/m2)=%{x}<br>설비이용률(%)=%{y}<br>설비용량=%{marker.size}<extra></extra>",
         "hovertext": [
          "충북"
         ],
         "legendgroup": "충북",
         "marker": {
          "color": "#ab63fa",
          "size": {
           "bdata": "AAAAAAA0mUA=",
           "dtype": "f8"
          },
          "sizemode": "area",
          "sizeref": 1.6730555555555555,
          "symbol": "circle"
         },
         "mode": "markers+text",
         "name": "충북",
         "orientation": "v",
         "showlegend": true,
         "type": "scatter",
         "x": {
          "bdata": "AAAAAAAwe0A=",
          "dtype": "f8"
         },
         "xaxis": "x",
         "y": {
          "bdata": "G689/By8KEA=",
          "dtype": "f8"
         },
         "yaxis": "y"
        },
        {
         "hovertemplate": "<b>%{hovertext}</b><br><br>지역=%{text}<br>일사량(MJ/m2)=%{x}<br>설비이용률(%)=%{y}<br>설비용량=%{marker.size}<extra></extra>",
         "hovertext": [
          "광주"
         ],
         "legendgroup": "광주",
         "marker": {
          "color": "#FFA15A",
          "size": {
           "bdata": "AAAAAAAQdkA=",
           "dtype": "f8"
          },
          "sizemode": "area",
          "sizeref": 1.6730555555555555,
          "symbol": "circle"
         },
         "mode": "markers+text",
         "name": "광주",
         "orientation": "v",
         "showlegend": true,
         "type": "scatter",
         "x": {
          "bdata": "q6qqqqoyfEA=",
          "dtype": "f8"
         },
         "xaxis": "x",
         "y": {
          "bdata": "lY2aEB5LJ0A=",
          "dtype": "f8"
         },
         "yaxis": "y"
        }
       ],
       "layout": {
        "annotations": [
         {
          "arrowhead": 2,
          "ax": 15,
          "ay": -15,
          "bgcolor": "rgba(255,255,255,0.6)",
          "font": {
           "color": "black",
           "size": 11
          },
          "showarrow": true,
          "text": "서울",
          "x": 436.3333333333333,
          "y": 13.0986301369863
         },
         {
          "font": {
           "color": "white",
           "size": 11
          },
          "showarrow": false,
          "text": "<b>강원</b>",
          "x": 408.0833333333333,
          "y": 12.82723721966455
         },
         {
          "font": {
           "color": "white",
           "size": 11
          },
          "showarrow": false,
          "text": "<b>경남</b>",
          "x": 465.8333333333333,
          "y": 12.47899792527361
         },
         {
          "font": {
           "color": "white",
           "size": 11
          },
          "showarrow": false,
          "text": "<b>경북</b>",
          "x": 462.5833333333333,
          "y": 12.89696136667784
         },
         {
          "arrowhead": 2,
          "ax": 15,
          "ay": -15,
          "bgcolor": "rgba(255,255,255,0.6)",
          "font": {
           "color": "black",
           "size": 11
          },
          "showarrow": true,
          "text": "대전",
          "x": 451.9166666666667,
          "y": 11.75728837372673
         },
         {
          "arrowhead": 2,
          "ax": 15,
          "ay": -15,
          "bgcolor": "rgba(255,255,255,0.6)",
          "font": {
           "color": "black",
           "size": 11
          },
          "showarrow": true,
          "text": "인천",
          "x": 457.6666666666667,
          "y": 11.42077765638569
         },
         {
          "font": {
           "color": "white",
           "size": 11
          },
          "showarrow": false,
          "text": "<b>제주</b>",
          "x": 384.25,
          "y": 11.66379899852205
         },
         {
          "font": {
           "color": "white",
           "size": 11
          },
          "showarrow": false,
          "text": "<b>전남</b>",
          "x": 474.6666666666667,
          "y": 13.49315068493151
         },
         {
          "arrowhead": 2,
          "ax": 15,
          "ay": -15,
          "bgcolor": "rgba(255,255,255,0.6)",
          "font": {
           "color": "black",
           "size": 11
          },
          "showarrow": true,
          "text": "대구",
          "x": 455.75,
          "y": 12.05223961730811
         },
         {
          "font": {
           "color": "white",
           "size": 11
          },
          "showarrow": false,
          "text": "<b>경기</b>",
          "x": 444.0833333333333,
          "y": 11.72188898572038
         },
         {
          "arrowhead": 2,
          "ax": 15,
          "ay": -15,
          "bgcolor": "rgba(255,255,255,0.6)",
          "font": {
           "color": "black",
           "size": 11
          },
          "showarrow": true,
          "text": "부산",
          "x": 482.5833333333333,
          "y": 11.9527604815276
         },
         {
          "font": {
           "color": "white",
           "size": 11
          },
          "showarrow": false,
          "text": "<b>전북</b>",
          "x": 427.75,
          "y": 13.87647605972881
         },
         {
          "font": {
           "color": "white",
           "size": 11
          },
          "showarrow": false,
          "text": "<b>충남</b>",
          "x": 442.3333333333333,
          "y": 13.01084172247321
         },
         {
          "font": {
           "color": "white",
           "size": 11
          },
          "showarrow": false,
          "text": "<b>충북</b>",
          "x": 435,
          "y": 12.36740864041308
         },
         {
          "arrowhead": 2,
          "ax": 15,
          "ay": -15,
          "bgcolor": "rgba(255,255,255,0.6)",
          "font": {
           "color": "black",
           "size": 11
          },
          "showarrow": true,
          "text": "광주",
          "x": 451.1666666666667,
          "y": 11.64671375166544
         },
         {
          "font": {
           "color": "green"
          },
          "showarrow": false,
          "text": "성과 우수 (자원↑, 효율↑)",
          "x": 482.5833333333333,
          "xanchor": "right",
          "y": 13.87647605972881,
          "yanchor": "bottom"
         },
         {
          "font": {
           "color": "blue"
          },
          "showarrow": false,
          "text": "효율 우수 (자원↓, 효율↑)",
          "x": 384.25,
          "xanchor": "left",
          "y": 13.87647605972881,
          "yanchor": "bottom"
         },
         {
          "font": {
           "color": "orange"
          },
          "showarrow": false,
          "text": "잠재력 有 (자원↑, 효율↓)",
          "x": 482.5833333333333,
          "xanchor": "right",
          "y": 11.42077765638569,
          "yanchor": "top"
         },
         {
          "font": {
           "color": "grey"
          },
          "showarrow": false,
          "text": "저효율 (자원↓, 효율↓)",
          "x": 384.25,
          "xanchor": "left",
          "y": 11.42077765638569,
          "yanchor": "top"
         }
        ],
        "legend": {
         "itemsizing": "constant",
         "title": {
          "text": "지역"
         },
         "tracegroupgap": 0
        },
        "shapes": [
         {
          "line": {
           "color": "red",
           "dash": "dash",
           "width": 2
          },
          "type": "line",
          "x0": 445.33333333333326,
          "x1": 445.33333333333326,
          "y0": 11.42077765638569,
          "y1": 13.87647605972881
         },
         {
          "line": {
           "color": "red",
           "dash": "dash",
           "width": 2
          },
          "type": "line",
          "x0": 384.25,
          "x1": 482.5833333333333,
          "y0": 12.417678108066992,
          "y1": 12.417678108066992
         }
        ],
        "template": {
         "data": {
          "bar": [
           {
            "error_x": {
             "color": "#2a3f5f"
            },
            "error_y": {
             "color": "#2a3f5f"
            },
            "marker": {
             "line": {
              "color": "white",
              "width": 0.5
             },
             "pattern": {
              "fillmode": "overlay",
              "size": 10,
              "solidity": 0.2
             }
            },
            "type": "bar"
           }
          ],
          "barpolar": [
           {
            "marker": {
             "line": {
              "color": "white",
              "width": 0.5
             },
             "pattern": {
              "fillmode": "overlay",
              "size": 10,
              "solidity": 0.2
             }
            },
            "type": "barpolar"
           }
          ],
          "carpet": [
           {
            "aaxis": {
             "endlinecolor": "#2a3f5f",
             "gridcolor": "#C8D4E3",
             "linecolor": "#C8D4E3",
             "minorgridcolor": "#C8D4E3",
             "startlinecolor": "#2a3f5f"
            },
            "baxis": {
             "endlinecolor": "#2a3f5f",
             "gridcolor": "#C8D4E3",
             "linecolor": "#C8D4E3",
             "minorgridcolor": "#C8D4E3",
             "startlinecolor": "#2a3f5f"
            },
            "type": "carpet"
           }
          ],
          "choropleth": [
           {
            "colorbar": {
             "outlinewidth": 0,
             "ticks": ""
            },
            "type": "choropleth"
           }
          ],
          "contour": [
           {
            "colorbar": {
             "outlinewidth": 0,
             "ticks": ""
            },
            "colorscale": [
             [
              0,
              "#0d0887"
             ],
             [
              0.1111111111111111,
              "#46039f"
             ],
             [
              0.2222222222222222,
              "#7201a8"
             ],
             [
              0.3333333333333333,
              "#9c179e"
             ],
             [
              0.4444444444444444,
              "#bd3786"
             ],
             [
              0.5555555555555556,
              "#d8576b"
             ],
             [
              0.6666666666666666,
              "#ed7953"
             ],
             [
              0.7777777777777778,
              "#fb9f3a"
             ],
             [
              0.8888888888888888,
              "#fdca26"
             ],
             [
              1,
              "#f0f921"
             ]
            ],
            "type": "contour"
           }
          ],
          "contourcarpet": [
           {
            "colorbar": {
             "outlinewidth": 0,
             "ticks": ""
            },
            "type": "contourcarpet"
           }
          ],
          "heatmap": [
           {
            "colorbar": {
             "outlinewidth": 0,
             "ticks": ""
            },
            "colorscale": [
             [
              0,
              "#0d0887"
             ],
             [
              0.1111111111111111,
              "#46039f"
             ],
             [
              0.2222222222222222,
              "#7201a8"
             ],
             [
              0.3333333333333333,
              "#9c179e"
             ],
             [
              0.4444444444444444,
              "#bd3786"
             ],
             [
              0.5555555555555556,
              "#d8576b"
             ],
             [
              0.6666666666666666,
              "#ed7953"
             ],
             [
              0.7777777777777778,
              "#fb9f3a"
             ],
             [
              0.8888888888888888,
              "#fdca26"
             ],
             [
              1,
              "#f0f921"
             ]
            ],
            "type": "heatmap"
           }
          ],
          "histogram": [
           {
            "marker": {
             "pattern": {
              "fillmode": "overlay",
              "size": 10,
              "solidity": 0.2
             }
            },
            "type": "histogram"
           }
          ],
          "histogram2d": [
           {
            "colorbar": {
             "outlinewidth": 0,
             "ticks": ""
            },
            "colorscale": [
             [
              0,
              "#0d0887"
             ],
             [
              0.1111111111111111,
              "#46039f"
             ],
             [
              0.2222222222222222,
              "#7201a8"
             ],
             [
              0.3333333333333333,
              "#9c179e"
             ],
             [
              0.4444444444444444,
              "#bd3786"
             ],
             [
              0.5555555555555556,
              "#d8576b"
             ],
             [
              0.6666666666666666,
              "#ed7953"
             ],
             [
              0.7777777777777778,
              "#fb9f3a"
             ],
             [
              0.8888888888888888,
              "#fdca26"
             ],
             [
              1,
              "#f0f921"
             ]
            ],
            "type": "histogram2d"
           }
          ],
          "histogram2dcontour": [
           {
            "colorbar": {
             "outlinewidth": 0,
             "ticks": ""
            },
            "colorscale": [
             [
              0,
              "#0d0887"
             ],
             [
              0.1111111111111111,
              "#46039f"
             ],
             [
              0.2222222222222222,
              "#7201a8"
             ],
             [
              0.3333333333333333,
              "#9c179e"
             ],
             [
              0.4444444444444444,
              "#bd3786"
             ],
             [
              0.5555555555555556,
              "#d8576b"
             ],
             [
              0.6666666666666666,
              "#ed7953"
             ],
             [
              0.7777777777777778,
              "#fb9f3a"
             ],
             [
              0.8888888888888888,
              "#fdca26"
             ],
             [
              1,
              "#f0f921"
             ]
            ],
            "type": "histogram2dcontour"
           }
          ],
          "mesh3d": [
           {
            "colorbar": {
             "outlinewidth": 0,
             "ticks": ""
            },
            "type": "mesh3d"
           }
          ],
          "parcoords": [
           {
            "line": {
             "colorbar": {
              "outlinewidth": 0,
              "ticks": ""
             }
            },
            "type": "parcoords"
           }
          ],
          "pie": [
           {
            "automargin": true,
            "type": "pie"
           }
          ],
          "scatter": [
           {
            "fillpattern": {
             "fillmode": "overlay",
             "size": 10,
             "solidity": 0.2
            },
            "type": "scatter"
           }
          ],
          "scatter3d": [
           {
            "line": {
             "colorbar": {
              "outlinewidth": 0,
              "ticks": ""
             }
            },
            "marker": {
             "colorbar": {
              "outlinewidth": 0,
              "ticks": ""
             }
            },
            "type": "scatter3d"
           }
          ],
          "scattercarpet": [
           {
            "marker": {
             "colorbar": {
              "outlinewidth": 0,
              "ticks": ""
             }
            },
            "type": "scattercarpet"
           }
          ],
          "scattergeo": [
           {
            "marker": {
             "colorbar": {
              "outlinewidth": 0,
              "ticks": ""
             }
            },
            "type": "scattergeo"
           }
          ],
          "scattergl": [
           {
            "marker": {
             "colorbar": {
              "outlinewidth": 0,
              "ticks": ""
             }
            },
            "type": "scattergl"
           }
          ],
          "scattermap": [
           {
            "marker": {
             "colorbar": {
              "outlinewidth": 0,
              "ticks": ""
             }
            },
            "type": "scattermap"
           }
          ],
          "scattermapbox": [
           {
            "marker": {
             "colorbar": {
              "outlinewidth": 0,
              "ticks": ""
             }
            },
            "type": "scattermapbox"
           }
          ],
          "scatterpolar": [
           {
            "marker": {
             "colorbar": {
              "outlinewidth": 0,
              "ticks": ""
             }
            },
            "type": "scatterpolar"
           }
          ],
          "scatterpolargl": [
           {
            "marker": {
             "colorbar": {
              "outlinewidth": 0,
              "ticks": ""
             }
            },
            "type": "scatterpolargl"
           }
          ],
          "scatterternary": [
           {
            "marker": {
             "colorbar": {
              "outlinewidth": 0,
              "ticks": ""
             }
            },
            "type": "scatterternary"
           }
          ],
          "surface": [
           {
            "colorbar": {
             "outlinewidth": 0,
             "ticks": ""
            },
            "colorscale": [
             [
              0,
              "#0d0887"
             ],
             [
              0.1111111111111111,
              "#46039f"
             ],
             [
              0.2222222222222222,
              "#7201a8"
             ],
             [
              0.3333333333333333,
              "#9c179e"
             ],
             [
              0.4444444444444444,
              "#bd3786"
             ],
             [
              0.5555555555555556,
              "#d8576b"
             ],
             [
              0.6666666666666666,
              "#ed7953"
             ],
             [
              0.7777777777777778,
              "#fb9f3a"
             ],
             [
              0.8888888888888888,
              "#fdca26"
             ],
             [
              1,
              "#f0f921"
             ]
            ],
            "type": "surface"
           }
          ],
          "table": [
           {
            "cells": {
             "fill": {
              "color": "#EBF0F8"
             },
             "line": {
              "color": "white"
             }
            },
            "header": {
             "fill": {
              "color": "#C8D4E3"
             },
             "line": {
              "color": "white"
             }
            },
            "type": "table"
           }
          ]
         },
         "layout": {
          "annotationdefaults": {
           "arrowcolor": "#2a3f5f",
           "arrowhead": 0,
           "arrowwidth": 1
          },
          "autotypenumbers": "strict",
          "coloraxis": {
           "colorbar": {
            "outlinewidth": 0,
            "ticks": ""
           }
          },
          "colorscale": {
           "diverging": [
            [
             0,
             "#8e0152"
            ],
            [
             0.1,
             "#c51b7d"
            ],
            [
             0.2,
             "#de77ae"
            ],
            [
             0.3,
             "#f1b6da"
            ],
            [
             0.4,
             "#fde0ef"
            ],
            [
             0.5,
             "#f7f7f7"
            ],
            [
             0.6,
             "#e6f5d0"
            ],
            [
             0.7,
             "#b8e186"
            ],
            [
             0.8,
             "#7fbc41"
            ],
            [
             0.9,
             "#4d9221"
            ],
            [
             1,
             "#276419"
            ]
           ],
           "sequential": [
            [
             0,
             "#0d0887"
            ],
            [
             0.1111111111111111,
             "#46039f"
            ],
            [
             0.2222222222222222,
             "#7201a8"
            ],
            [
             0.3333333333333333,
             "#9c179e"
            ],
            [
             0.4444444444444444,
             "#bd3786"
            ],
            [
             0.5555555555555556,
             "#d8576b"
            ],
            [
             0.6666666666666666,
             "#ed7953"
            ],
            [
             0.7777777777777778,
             "#fb9f3a"
            ],
            [
             0.8888888888888888,
             "#fdca26"
            ],
            [
             1,
             "#f0f921"
            ]
           ],
           "sequentialminus": [
            [
             0,
             "#0d0887"
            ],
            [
             0.1111111111111111,
             "#46039f"
            ],
            [
             0.2222222222222222,
             "#7201a8"
            ],
            [
             0.3333333333333333,
             "#9c179e"
            ],
            [
             0.4444444444444444,
             "#bd3786"
            ],
            [
             0.5555555555555556,
             "#d8576b"
            ],
            [
             0.6666666666666666,
             "#ed7953"
            ],
            [
             0.7777777777777778,
             "#fb9f3a"
            ],
            [
             0.8888888888888888,
             "#fdca26"
            ],
            [
             1,
             "#f0f921"
            ]
           ]
          },
          "colorway": [
           "#636efa",
           "#EF553B",
           "#00cc96",
           "#ab63fa",
           "#FFA15A",
           "#19d3f3",
           "#FF6692",
           "#B6E880",
           "#FF97FF",
           "#FECB52"
          ],
          "font": {
           "color": "#2a3f5f"
          },
          "geo": {
           "bgcolor": "white",
           "lakecolor": "white",
           "landcolor": "white",
           "showlakes": true,
           "showland": true,
           "subunitcolor": "#C8D4E3"
          },
          "hoverlabel": {
           "align": "left"
          },
          "hovermode": "closest",
          "mapbox": {
           "style": "light"
          },
          "paper_bgcolor": "white",
          "plot_bgcolor": "white",
          "polar": {
           "angularaxis": {
            "gridcolor": "#EBF0F8",
            "linecolor": "#EBF0F8",
            "ticks": ""
           },
           "bgcolor": "white",
           "radialaxis": {
            "gridcolor": "#EBF0F8",
            "linecolor": "#EBF0F8",
            "ticks": ""
           }
          },
          "scene": {
           "xaxis": {
            "backgroundcolor": "white",
            "gridcolor": "#DFE8F3",
            "gridwidth": 2,
            "linecolor": "#EBF0F8",
            "showbackground": true,
            "ticks": "",
            "zerolinecolor": "#EBF0F8"
           },
           "yaxis": {
            "backgroundcolor": "white",
            "gridcolor": "#DFE8F3",
            "gridwidth": 2,
            "linecolor": "#EBF0F8",
            "showbackground": true,
            "ticks": "",
            "zerolinecolor": "#EBF0F8"
           },
           "zaxis": {
            "backgroundcolor": "white",
            "gridcolor": "#DFE8F3",
            "gridwidth": 2,
            "linecolor": "#EBF0F8",
            "showbackground": true,
            "ticks": "",
            "zerolinecolor": "#EBF0F8"
           }
          },
          "shapedefaults": {
           "line": {
            "color": "#2a3f5f"
           }
          },
          "ternary": {
           "aaxis": {
            "gridcolor": "#DFE8F3",
            "linecolor": "#A2B1C6",
            "ticks": ""
           },
           "baxis": {
            "gridcolor": "#DFE8F3",
            "linecolor": "#A2B1C6",
            "ticks": ""
           },
           "bgcolor": "white",
           "caxis": {
            "gridcolor": "#DFE8F3",
            "linecolor": "#A2B1C6",
            "ticks": ""
           }
          },
          "title": {
           "x": 0.05
          },
          "xaxis": {
           "automargin": true,
           "gridcolor": "#EBF0F8",
           "linecolor": "#EBF0F8",
           "ticks": "",
           "title": {
            "standoff": 15
           },
           "zerolinecolor": "#EBF0F8",
           "zerolinewidth": 2
          },
          "yaxis": {
           "automargin": true,
           "gridcolor": "#EBF0F8",
           "linecolor": "#EBF0F8",
           "ticks": "",
           "title": {
            "standoff": 15
           },
           "zerolinecolor": "#EBF0F8",
           "zerolinewidth": 2
          }
         }
        },
        "title": {
         "text": "2024년 지역별 일사량과 설비이용률 비교 분석"
        },
        "xaxis": {
         "anchor": "y",
         "domain": [
          0,
          1
         ],
         "range": [
          379.3333333333333,
          487.5
         ],
         "title": {
          "text": "합계 일사량 (MJ/m²)"
         }
        },
        "yaxis": {
         "anchor": "x",
         "domain": [
          0,
          1
         ],
         "range": [
          11.297992736218534,
          13.999260979895967
         ],
         "title": {
          "text": "설비이용률 (%)"
         }
        }
       }
      }
     },
     "metadata": {},
     "output_type": "display_data"
    }
   ],
   "source": [
    "import pandas as pd\n",
    "import plotly.express as px\n",
    "\n",
    "df_2024 = merged[merged[\"연도\"] == 2024].copy()\n",
    "\n",
    "# 버블 크기 (설비용량 기반, 최소값 보정)\n",
    "df_2024[\"설비용량\"] = df_2024[\"설비용량(MW)\"].apply(lambda v: max(50, float(v)))\n",
    "\n",
    "# 숫자형 변환\n",
    "x = pd.to_numeric(df_2024[\"일사량(MJ/m2)\"], errors=\"coerce\")\n",
    "y = pd.to_numeric(df_2024[\"설비이용률(%)\"], errors=\"coerce\")\n",
    "\n",
    "xmin, xmax = float(x.min()), float(x.max())\n",
    "ymin, ymax = float(y.min()), float(y.max())\n",
    "padx = (xmax - xmin) * 0.05\n",
    "pady = (ymax - ymin) * 0.05\n",
    "\n",
    "mean_x = x.mean()\n",
    "mean_y = y.mean()\n",
    "\n",
    "# 산점도\n",
    "fig = px.scatter(\n",
    "    df_2024,\n",
    "    x=\"일사량(MJ/m2)\",\n",
    "    y=\"설비이용률(%)\",\n",
    "    size=\"설비용량\",\n",
    "    color=\"지역\",\n",
    "    hover_name=\"지역\",\n",
    "    text=\"지역\",\n",
    "    size_max=60,\n",
    "    title=\"2024년 지역별 일사량과 설비이용률 비교 분석\"\n",
    ")\n",
    "\n",
    "# 기본 텍스트 제거 (조건부로 다시 추가)\n",
    "fig.update_traces(text=None)\n",
    "\n",
    "# 큰/작은 버블 라벨 처리\n",
    "THRESH = 500  # 작은 버블 기준 (MW)\n",
    "\n",
    "for _, row in df_2024.iterrows():\n",
    "    if row[\"설비용량\"] >= THRESH:\n",
    "        # 큰 버블 → 중앙에 흰 글자(굵게 보이게 HTML 태그 사용)\n",
    "        fig.add_annotation(\n",
    "            x=row[\"일사량(MJ/m2)\"],\n",
    "            y=row[\"설비이용률(%)\"],\n",
    "            text=f\"<b>{row['지역']}</b>\",\n",
    "            showarrow=False,\n",
    "            font=dict(color=\"white\", size=11)\n",
    "        )\n",
    "    else:\n",
    "        # 작은 버블 → 바깥쪽 라벨 + 화살표\n",
    "        fig.add_annotation(\n",
    "            x=row[\"일사량(MJ/m2)\"],\n",
    "            y=row[\"설비이용률(%)\"],\n",
    "            text=row[\"지역\"],\n",
    "            showarrow=True, arrowhead=2,\n",
    "            ax=15, ay=-15,\n",
    "            font=dict(color=\"black\", size=11),\n",
    "            bgcolor=\"rgba(255,255,255,0.6)\"\n",
    "        )\n",
    "\n",
    "# 평균선\n",
    "fig.add_shape(type=\"line\", x0=mean_x, y0=ymin, x1=mean_x, y1=ymax,\n",
    "                line=dict(color=\"red\", dash=\"dash\", width=2))\n",
    "fig.add_shape(type=\"line\", x0=xmin, y0=mean_y, x1=xmax, y1=mean_y,\n",
    "                line=dict(color=\"red\", dash=\"dash\", width=2))\n",
    "\n",
    "# 사분면 라벨\n",
    "fig.add_annotation(x=xmax, y=ymax, text=\"성과 우수 (자원↑, 효율↑)\",\n",
    "                    showarrow=False, font=dict(color=\"green\"), xanchor=\"right\", yanchor=\"bottom\")\n",
    "fig.add_annotation(x=xmin, y=ymax, text=\"효율 우수 (자원↓, 효율↑)\",\n",
    "                    showarrow=False, font=dict(color=\"blue\"), xanchor=\"left\", yanchor=\"bottom\")\n",
    "fig.add_annotation(x=xmax, y=ymin, text=\"잠재력 有 (자원↑, 효율↓)\",\n",
    "                    showarrow=False, font=dict(color=\"orange\"), xanchor=\"right\", yanchor=\"top\")\n",
    "fig.add_annotation(x=xmin, y=ymin, text=\"저효율 (자원↓, 효율↓)\",\n",
    "                    showarrow=False, font=dict(color=\"grey\"), xanchor=\"left\", yanchor=\"top\")\n",
    "\n",
    "# 축 범위\n",
    "fig.update_xaxes(range=[xmin - padx, xmax + padx], title=\"합계 일사량 (MJ/m²)\")\n",
    "fig.update_yaxes(range=[ymin - pady, ymax + pady], title=\"설비이용률 (%)\")\n",
    "fig.update_layout(template=\"plotly_white\")\n",
    "\n",
    "fig.show()\n"
   ]
  },
  {
   "cell_type": "code",
   "execution_count": 110,
   "id": "0c6082b1",
   "metadata": {},
   "outputs": [
    {
     "data": {
      "application/vnd.plotly.v1+json": {
       "config": {
        "plotlyServerURL": "https://plot.ly"
       },
       "data": [
        {
         "hovertemplate": "<b>%{hovertext}</b><br><br>지역=%{text}<br>일사량(MJ/m2)=%{x}<br>설비이용률(%)=%{y}<br>버블크기=%{marker.size}<extra></extra>",
         "hovertext": [
          "광주"
         ],
         "legendgroup": "광주",
         "marker": {
          "color": "#636efa",
          "size": {
           "bdata": "AAAAAADwckA=",
           "dtype": "f8"
          },
          "sizemode": "area",
          "sizeref": 1.5027777777777778,
          "symbol": "circle"
         },
         "mode": "markers+text",
         "name": "광주",
         "orientation": "v",
         "showlegend": true,
         "type": "scatter",
         "x": {
          "bdata": "VVVVVVWlfEA=",
          "dtype": "f8"
         },
         "xaxis": "x",
         "y": {
          "bdata": "owMQxZgtJ0A=",
          "dtype": "f8"
         },
         "yaxis": "y"
        },
        {
         "hovertemplate": "<b>%{hovertext}</b><br><br>지역=%{text}<br>일사량(MJ/m2)=%{x}<br>설비이용률(%)=%{y}<br>버블크기=%{marker.size}<extra></extra>",
         "hovertext": [
          "경기"
         ],
         "legendgroup": "경기",
         "marker": {
          "color": "#EF553B",
          "size": {
           "bdata": "AAAAAAAgmkA=",
           "dtype": "f8"
          },
          "sizemode": "area",
          "sizeref": 1.5027777777777778,
          "symbol": "circle"
         },
         "mode": "markers+text",
         "name": "경기",
         "orientation": "v",
         "showlegend": true,
         "type": "scatter",
         "x": {
          "bdata": "q6qqqqpme0A=",
          "dtype": "f8"
         },
         "xaxis": "x",
         "y": {
          "bdata": "m2H8tKu8JkA=",
          "dtype": "f8"
         },
         "yaxis": "y"
        },
        {
         "hovertemplate": "<b>%{hovertext}</b><br><br>지역=%{text}<br>일사량(MJ/m2)=%{x}<br>설비이용률(%)=%{y}<br>버블크기=%{marker.size}<extra></extra>",
         "hovertext": [
          "전남"
         ],
         "legendgroup": "전남",
         "marker": {
          "color": "#00cc96",
          "size": {
           "bdata": "AAAAAAAitUA=",
           "dtype": "f8"
          },
          "sizemode": "area",
          "sizeref": 1.5027777777777778,
          "symbol": "circle"
         },
         "mode": "markers+text",
         "name": "전남",
         "orientation": "v",
         "showlegend": true,
         "type": "scatter",
         "x": {
          "bdata": "q6qqqqqyfEA=",
          "dtype": "f8"
         },
         "xaxis": "x",
         "y": {
          "bdata": "II4fzObvKkA=",
          "dtype": "f8"
         },
         "yaxis": "y"
        },
        {
         "hovertemplate": "<b>%{hovertext}</b><br><br>지역=%{text}<br>일사량(MJ/m2)=%{x}<br>설비이용률(%)=%{y}<br>버블크기=%{marker.size}<extra></extra>",
         "hovertext": [
          "대전"
         ],
         "legendgroup": "대전",
         "marker": {
          "color": "#ab63fa",
          "size": {
           "bdata": "AAAAAACAS0A=",
           "dtype": "f8"
          },
          "sizemode": "area",
          "sizeref": 1.5027777777777778,
          "symbol": "circle"
         },
         "mode": "markers+text",
         "name": "대전",
         "orientation": "v",
         "showlegend": true,
         "type": "scatter",
         "x": {
          "bdata": "VVVVVVUtfEA=",
          "dtype": "f8"
         },
         "xaxis": "x",
         "y": {
          "bdata": "tfxGxGEoJ0A=",
          "dtype": "f8"
         },
         "yaxis": "y"
        },
        {
         "hovertemplate": "<b>%{hovertext}</b><br><br>지역=%{text}<br>일사량(MJ/m2)=%{x}<br>설비이용률(%)=%{y}<br>버블크기=%{marker.size}<extra></extra>",
         "hovertext": [
          "충남"
         ],
         "legendgroup": "충남",
         "marker": {
          "color": "#FFA15A",
          "size": {
           "bdata": "AAAAAAAAqEA=",
           "dtype": "f8"
          },
          "sizemode": "area",
          "sizeref": 1.5027777777777778,
          "symbol": "circle"
         },
         "mode": "markers+text",
         "name": "충남",
         "orientation": "v",
         "showlegend": true,
         "type": "scatter",
         "x": {
          "bdata": "VVVVVVXdekA=",
          "dtype": "f8"
         },
         "xaxis": "x",
         "y": {
          "bdata": "M0vPLL3nKUA=",
          "dtype": "f8"
         },
         "yaxis": "y"
        },
        {
         "hovertemplate": "<b>%{hovertext}</b><br><br>지역=%{text}<br>일사량(MJ/m2)=%{x}<br>설비이용률(%)=%{y}<br>버블크기=%{marker.size}<extra></extra>",
         "hovertext": [
          "경북"
         ],
         "legendgroup": "경북",
         "marker": {
          "color": "#19d3f3",
          "size": {
           "bdata": "AAAAAAD4qUA=",
           "dtype": "f8"
          },
          "sizemode": "area",
          "sizeref": 1.5027777777777778,
          "symbol": "circle"
         },
         "mode": "markers+text",
         "name": "경북",
         "orientation": "v",
         "showlegend": true,
         "type": "scatter",
         "x": {
          "bdata": "AAAAAABcfUA=",
          "dtype": "f8"
         },
         "xaxis": "x",
         "y": {
          "bdata": "+1XYQFYfKkA=",
          "dtype": "f8"
         },
         "yaxis": "y"
        },
        {
         "hovertemplate": "<b>%{hovertext}</b><br><br>지역=%{text}<br>일사량(MJ/m2)=%{x}<br>설비이용률(%)=%{y}<br>버블크기=%{marker.size}<extra></extra>",
         "hovertext": [
          "경남"
         ],
         "legendgroup": "경남",
         "marker": {
          "color": "#FF6692",
          "size": {
           "bdata": "AAAAAABEm0A=",
           "dtype": "f8"
          },
          "sizemode": "area",
          "sizeref": 1.5027777777777778,
          "symbol": "circle"
         },
         "mode": "markers+text",
         "name": "경남",
         "orientation": "v",
         "showlegend": true,
         "type": "scatter",
         "x": {
          "bdata": "VVVVVVWVfEA=",
          "dtype": "f8"
         },
         "xaxis": "x",
         "y": {
          "bdata": "3085x9hhKUA=",
          "dtype": "f8"
         },
         "yaxis": "y"
        },
        {
         "hovertemplate": "<b>%{hovertext}</b><br><br>지역=%{text}<br>일사량(MJ/m2)=%{x}<br>설비이용률(%)=%{y}<br>버블크기=%{marker.size}<extra></extra>",
         "hovertext": [
          "서울"
         ],
         "legendgroup": "서울",
         "marker": {
          "color": "#B6E880",
          "size": {
           "bdata": "AAAAAAAASUA=",
           "dtype": "f8"
          },
          "sizemode": "area",
          "sizeref": 1.5027777777777778,
          "symbol": "circle"
         },
         "mode": "markers+text",
         "name": "서울",
         "orientation": "v",
         "showlegend": true,
         "type": "scatter",
         "x": {
          "bdata": "q6qqqqoCe0A=",
          "dtype": "f8"
         },
         "xaxis": "x",
         "y": {
          "bdata": "RbuphkC0KUA=",
          "dtype": "f8"
         },
         "yaxis": "y"
        },
        {
         "hovertemplate": "<b>%{hovertext}</b><br><br>지역=%{text}<br>일사량(MJ/m2)=%{x}<br>설비이용률(%)=%{y}<br>버블크기=%{marker.size}<extra></extra>",
         "hovertext": [
          "인천"
         ],
         "legendgroup": "인천",
         "marker": {
          "color": "#FF97FF",
          "size": {
           "bdata": "AAAAAABgYUA=",
           "dtype": "f8"
          },
          "sizemode": "area",
          "sizeref": 1.5027777777777778,
          "symbol": "circle"
         },
         "mode": "markers+text",
         "name": "인천",
         "orientation": "v",
         "showlegend": true,
         "type": "scatter",
         "x": {
          "bdata": "AAAAAAC8e0A=",
          "dtype": "f8"
         },
         "xaxis": "x",
         "y": {
          "bdata": "jCUQgOTVJUA=",
          "dtype": "f8"
         },
         "yaxis": "y"
        },
        {
         "hovertemplate": "<b>%{hovertext}</b><br><br>지역=%{text}<br>일사량(MJ/m2)=%{x}<br>설비이용률(%)=%{y}<br>버블크기=%{marker.size}<extra></extra>",
         "hovertext": [
          "제주"
         ],
         "legendgroup": "제주",
         "marker": {
          "color": "#FECB52",
          "size": {
           "bdata": "AAAAAAAQg0A=",
           "dtype": "f8"
          },
          "sizemode": "area",
          "sizeref": 1.5027777777777778,
          "symbol": "circle"
         },
         "mode": "markers+text",
         "name": "제주",
         "orientation": "v",
         "showlegend": true,
         "type": "scatter",
         "x": {
          "bdata": "VVVVVVWVeUA=",
          "dtype": "f8"
         },
         "xaxis": "x",
         "y": {
          "bdata": "ow8wDLxFKEA=",
          "dtype": "f8"
         },
         "yaxis": "y"
        },
        {
         "hovertemplate": "<b>%{hovertext}</b><br><br>지역=%{text}<br>일사량(MJ/m2)=%{x}<br>설비이용률(%)=%{y}<br>버블크기=%{marker.size}<extra></extra>",
         "hovertext": [
          "대구"
         ],
         "legendgroup": "대구",
         "marker": {
          "color": "#636efa",
          "size": {
           "bdata": "AAAAAAAwdUA=",
           "dtype": "f8"
          },
          "sizemode": "area",
          "sizeref": 1.5027777777777778,
          "symbol": "circle"
         },
         "mode": "markers+text",
         "name": "대구",
         "orientation": "v",
         "showlegend": true,
         "type": "scatter",
         "x": {
          "bdata": "q6qqqqqGfEA=",
          "dtype": "f8"
         },
         "xaxis": "x",
         "y": {
          "bdata": "R0rdUUO9J0A=",
          "dtype": "f8"
         },
         "yaxis": "y"
        },
        {
         "hovertemplate": "<b>%{hovertext}</b><br><br>지역=%{text}<br>일사량(MJ/m2)=%{x}<br>설비이용률(%)=%{y}<br>버블크기=%{marker.size}<extra></extra>",
         "hovertext": [
          "강원"
         ],
         "legendgroup": "강원",
         "marker": {
          "color": "#EF553B",
          "size": {
           "bdata": "AAAAAACAm0A=",
           "dtype": "f8"
          },
          "sizemode": "area",
          "sizeref": 1.5027777777777778,
          "symbol": "circle"
         },
         "mode": "markers+text",
         "name": "강원",
         "orientation": "v",
         "showlegend": true,
         "type": "scatter",
         "x": {
          "bdata": "VVVVVVUZekA=",
          "dtype": "f8"
         },
         "xaxis": "x",
         "y": {
          "bdata": "s9+vIUs1KkA=",
          "dtype": "f8"
         },
         "yaxis": "y"
        },
        {
         "hovertemplate": "<b>%{hovertext}</b><br><br>지역=%{text}<br>일사량(MJ/m2)=%{x}<br>설비이용률(%)=%{y}<br>버블크기=%{marker.size}<extra></extra>",
         "hovertext": [
          "부산"
         ],
         "legendgroup": "부산",
         "marker": {
          "color": "#00cc96",
          "size": {
           "bdata": "AAAAAABAbUA=",
           "dtype": "f8"
          },
          "sizemode": "area",
          "sizeref": 1.5027777777777778,
          "symbol": "circle"
         },
         "mode": "markers+text",
         "name": "부산",
         "orientation": "v",
         "showlegend": true,
         "type": "scatter",
         "x": {
          "bdata": "q6qqqqq2fUA=",
          "dtype": "f8"
         },
         "xaxis": "x",
         "y": {
          "bdata": "gJa/qOpnJ0A=",
          "dtype": "f8"
         },
         "yaxis": "y"
        },
        {
         "hovertemplate": "<b>%{hovertext}</b><br><br>지역=%{text}<br>일사량(MJ/m2)=%{x}<br>설비이용률(%)=%{y}<br>버블크기=%{marker.size}<extra></extra>",
         "hovertext": [
          "전북"
         ],
         "legendgroup": "전북",
         "marker": {
          "color": "#ab63fa",
          "size": {
           "bdata": "AAAAAADQsEA=",
           "dtype": "f8"
          },
          "sizemode": "area",
          "sizeref": 1.5027777777777778,
          "symbol": "circle"
         },
         "mode": "markers+text",
         "name": "전북",
         "orientation": "v",
         "showlegend": true,
         "type": "scatter",
         "x": {
          "bdata": "q6qqqqquekA=",
          "dtype": "f8"
         },
         "xaxis": "x",
         "y": {
          "bdata": "zHAFZAkBLEA=",
          "dtype": "f8"
         },
         "yaxis": "y"
        },
        {
         "hovertemplate": "<b>%{hovertext}</b><br><br>지역=%{text}<br>일사량(MJ/m2)=%{x}<br>설비이용률(%)=%{y}<br>버블크기=%{marker.size}<extra></extra>",
         "hovertext": [
          "충북"
         ],
         "legendgroup": "충북",
         "marker": {
          "color": "#FFA15A",
          "size": {
           "bdata": "AAAAAAAAlkA=",
           "dtype": "f8"
          },
          "sizemode": "area",
          "sizeref": 1.5027777777777778,
          "symbol": "circle"
         },
         "mode": "markers+text",
         "name": "충북",
         "orientation": "v",
         "showlegend": true,
         "type": "scatter",
         "x": {
          "bdata": "q6qqqqoKfEA=",
          "dtype": "f8"
         },
         "xaxis": "x",
         "y": {
          "bdata": "N+WbfRIEKUA=",
          "dtype": "f8"
         },
         "yaxis": "y"
        }
       ],
       "layout": {
        "annotations": [
         {
          "arrowhead": 2,
          "ax": 15,
          "ay": -15,
          "bgcolor": "rgba(255,255,255,0.6)",
          "font": {
           "color": "black",
           "size": 11
          },
          "showarrow": true,
          "text": "광주",
          "x": 458.3333333333333,
          "y": 11.58905616589056
         },
         {
          "font": {
           "color": "white",
           "size": 11
          },
          "showarrow": false,
          "text": "<b>경기</b>",
          "x": 438.4166666666667,
          "y": 11.36849752026392
         },
         {
          "font": {
           "color": "white",
           "size": 11
          },
          "showarrow": false,
          "text": "<b>전남</b>",
          "x": 459.1666666666667,
          "y": 13.46855771908946
         },
         {
          "arrowhead": 2,
          "ax": 15,
          "ay": -15,
          "bgcolor": "rgba(255,255,255,0.6)",
          "font": {
           "color": "black",
           "size": 11
          },
          "showarrow": true,
          "text": "대전",
          "x": 450.8333333333333,
          "y": 11.57887090078871
         },
         {
          "font": {
           "color": "white",
           "size": 11
          },
          "showarrow": false,
          "text": "<b>충남</b>",
          "x": 429.8333333333333,
          "y": 12.95261516600076
         },
         {
          "font": {
           "color": "white",
           "size": 11
          },
          "showarrow": false,
          "text": "<b>경북</b>",
          "x": 469.75,
          "y": 13.06120493546313
         },
         {
          "font": {
           "color": "white",
           "size": 11
          },
          "showarrow": false,
          "text": "<b>경남</b>",
          "x": 457.3333333333333,
          "y": 12.6911070115529
         },
         {
          "arrowhead": 2,
          "ax": 15,
          "ay": -15,
          "bgcolor": "rgba(255,255,255,0.6)",
          "font": {
           "color": "black",
           "size": 11
          },
          "showarrow": true,
          "text": "서울",
          "x": 432.1666666666667,
          "y": 12.85205479452055
         },
         {
          "arrowhead": 2,
          "ax": 15,
          "ay": -15,
          "bgcolor": "rgba(255,255,255,0.6)",
          "font": {
           "color": "black",
           "size": 11
          },
          "showarrow": true,
          "text": "인천",
          "x": 443.75,
          "y": 10.91775894353011
         },
         {
          "font": {
           "color": "white",
           "size": 11
          },
          "showarrow": false,
          "text": "<b>제주</b>",
          "x": 409.3333333333333,
          "y": 12.13620031439479
         },
         {
          "arrowhead": 2,
          "ax": 15,
          "ay": -15,
          "bgcolor": "rgba(255,255,255,0.6)",
          "font": {
           "color": "black",
           "size": 11
          },
          "showarrow": true,
          "text": "대구",
          "x": 456.4166666666667,
          "y": 11.86965423418327
         },
         {
          "font": {
           "color": "white",
           "size": 11
          },
          "showarrow": false,
          "text": "<b>강원</b>",
          "x": 417.5833333333333,
          "y": 13.10408883354089
         },
         {
          "arrowhead": 2,
          "ax": 15,
          "ay": -15,
          "bgcolor": "rgba(255,255,255,0.6)",
          "font": {
           "color": "black",
           "size": 11
          },
          "showarrow": true,
          "text": "부산",
          "x": 475.4166666666667,
          "y": 11.70296218241424
         },
         {
          "font": {
           "color": "white",
           "size": 11
          },
          "showarrow": false,
          "text": "<b>전북</b>",
          "x": 426.9166666666667,
          "y": 14.00202477041639
         },
         {
          "font": {
           "color": "white",
           "size": 11
          },
          "showarrow": false,
          "text": "<b>충북</b>",
          "x": 448.6666666666667,
          "y": 12.50795357254047
         },
         {
          "font": {
           "color": "green"
          },
          "showarrow": false,
          "text": "성과 우수 (자원↑, 효율↑)",
          "x": 475.4166666666667,
          "xanchor": "right",
          "y": 14.00202477041639,
          "yanchor": "bottom"
         },
         {
          "font": {
           "color": "blue"
          },
          "showarrow": false,
          "text": "효율 우수 (자원↓, 효율↑)",
          "x": 409.3333333333333,
          "xanchor": "left",
          "y": 14.00202477041639,
          "yanchor": "bottom"
         },
         {
          "font": {
           "color": "orange"
          },
          "showarrow": false,
          "text": "잠재력 有 (자원↑, 효율↓)",
          "x": 475.4166666666667,
          "xanchor": "right",
          "y": 10.91775894353011,
          "yanchor": "top"
         },
         {
          "font": {
           "color": "grey"
          },
          "showarrow": false,
          "text": "저효율 (자원↓, 효율↓)",
          "x": 409.3333333333333,
          "xanchor": "left",
          "y": 10.91775894353011,
          "yanchor": "top"
         }
        ],
        "legend": {
         "itemsizing": "constant",
         "title": {
          "text": "지역"
         },
         "tracegroupgap": 0
        },
        "shapes": [
         {
          "line": {
           "color": "red",
           "dash": "dash",
           "width": 2
          },
          "type": "line",
          "x0": 444.9277777777778,
          "x1": 444.9277777777778,
          "y0": 10.91775894353011,
          "y1": 14.00202477041639
         },
         {
          "line": {
           "color": "red",
           "dash": "dash",
           "width": 2
          },
          "type": "line",
          "x0": 409.3333333333333,
          "x1": 475.4166666666667,
          "y0": 12.386840470972675,
          "y1": 12.386840470972675
         }
        ],
        "template": {
         "data": {
          "bar": [
           {
            "error_x": {
             "color": "#2a3f5f"
            },
            "error_y": {
             "color": "#2a3f5f"
            },
            "marker": {
             "line": {
              "color": "white",
              "width": 0.5
             },
             "pattern": {
              "fillmode": "overlay",
              "size": 10,
              "solidity": 0.2
             }
            },
            "type": "bar"
           }
          ],
          "barpolar": [
           {
            "marker": {
             "line": {
              "color": "white",
              "width": 0.5
             },
             "pattern": {
              "fillmode": "overlay",
              "size": 10,
              "solidity": 0.2
             }
            },
            "type": "barpolar"
           }
          ],
          "carpet": [
           {
            "aaxis": {
             "endlinecolor": "#2a3f5f",
             "gridcolor": "#C8D4E3",
             "linecolor": "#C8D4E3",
             "minorgridcolor": "#C8D4E3",
             "startlinecolor": "#2a3f5f"
            },
            "baxis": {
             "endlinecolor": "#2a3f5f",
             "gridcolor": "#C8D4E3",
             "linecolor": "#C8D4E3",
             "minorgridcolor": "#C8D4E3",
             "startlinecolor": "#2a3f5f"
            },
            "type": "carpet"
           }
          ],
          "choropleth": [
           {
            "colorbar": {
             "outlinewidth": 0,
             "ticks": ""
            },
            "type": "choropleth"
           }
          ],
          "contour": [
           {
            "colorbar": {
             "outlinewidth": 0,
             "ticks": ""
            },
            "colorscale": [
             [
              0,
              "#0d0887"
             ],
             [
              0.1111111111111111,
              "#46039f"
             ],
             [
              0.2222222222222222,
              "#7201a8"
             ],
             [
              0.3333333333333333,
              "#9c179e"
             ],
             [
              0.4444444444444444,
              "#bd3786"
             ],
             [
              0.5555555555555556,
              "#d8576b"
             ],
             [
              0.6666666666666666,
              "#ed7953"
             ],
             [
              0.7777777777777778,
              "#fb9f3a"
             ],
             [
              0.8888888888888888,
              "#fdca26"
             ],
             [
              1,
              "#f0f921"
             ]
            ],
            "type": "contour"
           }
          ],
          "contourcarpet": [
           {
            "colorbar": {
             "outlinewidth": 0,
             "ticks": ""
            },
            "type": "contourcarpet"
           }
          ],
          "heatmap": [
           {
            "colorbar": {
             "outlinewidth": 0,
             "ticks": ""
            },
            "colorscale": [
             [
              0,
              "#0d0887"
             ],
             [
              0.1111111111111111,
              "#46039f"
             ],
             [
              0.2222222222222222,
              "#7201a8"
             ],
             [
              0.3333333333333333,
              "#9c179e"
             ],
             [
              0.4444444444444444,
              "#bd3786"
             ],
             [
              0.5555555555555556,
              "#d8576b"
             ],
             [
              0.6666666666666666,
              "#ed7953"
             ],
             [
              0.7777777777777778,
              "#fb9f3a"
             ],
             [
              0.8888888888888888,
              "#fdca26"
             ],
             [
              1,
              "#f0f921"
             ]
            ],
            "type": "heatmap"
           }
          ],
          "histogram": [
           {
            "marker": {
             "pattern": {
              "fillmode": "overlay",
              "size": 10,
              "solidity": 0.2
             }
            },
            "type": "histogram"
           }
          ],
          "histogram2d": [
           {
            "colorbar": {
             "outlinewidth": 0,
             "ticks": ""
            },
            "colorscale": [
             [
              0,
              "#0d0887"
             ],
             [
              0.1111111111111111,
              "#46039f"
             ],
             [
              0.2222222222222222,
              "#7201a8"
             ],
             [
              0.3333333333333333,
              "#9c179e"
             ],
             [
              0.4444444444444444,
              "#bd3786"
             ],
             [
              0.5555555555555556,
              "#d8576b"
             ],
             [
              0.6666666666666666,
              "#ed7953"
             ],
             [
              0.7777777777777778,
              "#fb9f3a"
             ],
             [
              0.8888888888888888,
              "#fdca26"
             ],
             [
              1,
              "#f0f921"
             ]
            ],
            "type": "histogram2d"
           }
          ],
          "histogram2dcontour": [
           {
            "colorbar": {
             "outlinewidth": 0,
             "ticks": ""
            },
            "colorscale": [
             [
              0,
              "#0d0887"
             ],
             [
              0.1111111111111111,
              "#46039f"
             ],
             [
              0.2222222222222222,
              "#7201a8"
             ],
             [
              0.3333333333333333,
              "#9c179e"
             ],
             [
              0.4444444444444444,
              "#bd3786"
             ],
             [
              0.5555555555555556,
              "#d8576b"
             ],
             [
              0.6666666666666666,
              "#ed7953"
             ],
             [
              0.7777777777777778,
              "#fb9f3a"
             ],
             [
              0.8888888888888888,
              "#fdca26"
             ],
             [
              1,
              "#f0f921"
             ]
            ],
            "type": "histogram2dcontour"
           }
          ],
          "mesh3d": [
           {
            "colorbar": {
             "outlinewidth": 0,
             "ticks": ""
            },
            "type": "mesh3d"
           }
          ],
          "parcoords": [
           {
            "line": {
             "colorbar": {
              "outlinewidth": 0,
              "ticks": ""
             }
            },
            "type": "parcoords"
           }
          ],
          "pie": [
           {
            "automargin": true,
            "type": "pie"
           }
          ],
          "scatter": [
           {
            "fillpattern": {
             "fillmode": "overlay",
             "size": 10,
             "solidity": 0.2
            },
            "type": "scatter"
           }
          ],
          "scatter3d": [
           {
            "line": {
             "colorbar": {
              "outlinewidth": 0,
              "ticks": ""
             }
            },
            "marker": {
             "colorbar": {
              "outlinewidth": 0,
              "ticks": ""
             }
            },
            "type": "scatter3d"
           }
          ],
          "scattercarpet": [
           {
            "marker": {
             "colorbar": {
              "outlinewidth": 0,
              "ticks": ""
             }
            },
            "type": "scattercarpet"
           }
          ],
          "scattergeo": [
           {
            "marker": {
             "colorbar": {
              "outlinewidth": 0,
              "ticks": ""
             }
            },
            "type": "scattergeo"
           }
          ],
          "scattergl": [
           {
            "marker": {
             "colorbar": {
              "outlinewidth": 0,
              "ticks": ""
             }
            },
            "type": "scattergl"
           }
          ],
          "scattermap": [
           {
            "marker": {
             "colorbar": {
              "outlinewidth": 0,
              "ticks": ""
             }
            },
            "type": "scattermap"
           }
          ],
          "scattermapbox": [
           {
            "marker": {
             "colorbar": {
              "outlinewidth": 0,
              "ticks": ""
             }
            },
            "type": "scattermapbox"
           }
          ],
          "scatterpolar": [
           {
            "marker": {
             "colorbar": {
              "outlinewidth": 0,
              "ticks": ""
             }
            },
            "type": "scatterpolar"
           }
          ],
          "scatterpolargl": [
           {
            "marker": {
             "colorbar": {
              "outlinewidth": 0,
              "ticks": ""
             }
            },
            "type": "scatterpolargl"
           }
          ],
          "scatterternary": [
           {
            "marker": {
             "colorbar": {
              "outlinewidth": 0,
              "ticks": ""
             }
            },
            "type": "scatterternary"
           }
          ],
          "surface": [
           {
            "colorbar": {
             "outlinewidth": 0,
             "ticks": ""
            },
            "colorscale": [
             [
              0,
              "#0d0887"
             ],
             [
              0.1111111111111111,
              "#46039f"
             ],
             [
              0.2222222222222222,
              "#7201a8"
             ],
             [
              0.3333333333333333,
              "#9c179e"
             ],
             [
              0.4444444444444444,
              "#bd3786"
             ],
             [
              0.5555555555555556,
              "#d8576b"
             ],
             [
              0.6666666666666666,
              "#ed7953"
             ],
             [
              0.7777777777777778,
              "#fb9f3a"
             ],
             [
              0.8888888888888888,
              "#fdca26"
             ],
             [
              1,
              "#f0f921"
             ]
            ],
            "type": "surface"
           }
          ],
          "table": [
           {
            "cells": {
             "fill": {
              "color": "#EBF0F8"
             },
             "line": {
              "color": "white"
             }
            },
            "header": {
             "fill": {
              "color": "#C8D4E3"
             },
             "line": {
              "color": "white"
             }
            },
            "type": "table"
           }
          ]
         },
         "layout": {
          "annotationdefaults": {
           "arrowcolor": "#2a3f5f",
           "arrowhead": 0,
           "arrowwidth": 1
          },
          "autotypenumbers": "strict",
          "coloraxis": {
           "colorbar": {
            "outlinewidth": 0,
            "ticks": ""
           }
          },
          "colorscale": {
           "diverging": [
            [
             0,
             "#8e0152"
            ],
            [
             0.1,
             "#c51b7d"
            ],
            [
             0.2,
             "#de77ae"
            ],
            [
             0.3,
             "#f1b6da"
            ],
            [
             0.4,
             "#fde0ef"
            ],
            [
             0.5,
             "#f7f7f7"
            ],
            [
             0.6,
             "#e6f5d0"
            ],
            [
             0.7,
             "#b8e186"
            ],
            [
             0.8,
             "#7fbc41"
            ],
            [
             0.9,
             "#4d9221"
            ],
            [
             1,
             "#276419"
            ]
           ],
           "sequential": [
            [
             0,
             "#0d0887"
            ],
            [
             0.1111111111111111,
             "#46039f"
            ],
            [
             0.2222222222222222,
             "#7201a8"
            ],
            [
             0.3333333333333333,
             "#9c179e"
            ],
            [
             0.4444444444444444,
             "#bd3786"
            ],
            [
             0.5555555555555556,
             "#d8576b"
            ],
            [
             0.6666666666666666,
             "#ed7953"
            ],
            [
             0.7777777777777778,
             "#fb9f3a"
            ],
            [
             0.8888888888888888,
             "#fdca26"
            ],
            [
             1,
             "#f0f921"
            ]
           ],
           "sequentialminus": [
            [
             0,
             "#0d0887"
            ],
            [
             0.1111111111111111,
             "#46039f"
            ],
            [
             0.2222222222222222,
             "#7201a8"
            ],
            [
             0.3333333333333333,
             "#9c179e"
            ],
            [
             0.4444444444444444,
             "#bd3786"
            ],
            [
             0.5555555555555556,
             "#d8576b"
            ],
            [
             0.6666666666666666,
             "#ed7953"
            ],
            [
             0.7777777777777778,
             "#fb9f3a"
            ],
            [
             0.8888888888888888,
             "#fdca26"
            ],
            [
             1,
             "#f0f921"
            ]
           ]
          },
          "colorway": [
           "#636efa",
           "#EF553B",
           "#00cc96",
           "#ab63fa",
           "#FFA15A",
           "#19d3f3",
           "#FF6692",
           "#B6E880",
           "#FF97FF",
           "#FECB52"
          ],
          "font": {
           "color": "#2a3f5f"
          },
          "geo": {
           "bgcolor": "white",
           "lakecolor": "white",
           "landcolor": "white",
           "showlakes": true,
           "showland": true,
           "subunitcolor": "#C8D4E3"
          },
          "hoverlabel": {
           "align": "left"
          },
          "hovermode": "closest",
          "mapbox": {
           "style": "light"
          },
          "paper_bgcolor": "white",
          "plot_bgcolor": "white",
          "polar": {
           "angularaxis": {
            "gridcolor": "#EBF0F8",
            "linecolor": "#EBF0F8",
            "ticks": ""
           },
           "bgcolor": "white",
           "radialaxis": {
            "gridcolor": "#EBF0F8",
            "linecolor": "#EBF0F8",
            "ticks": ""
           }
          },
          "scene": {
           "xaxis": {
            "backgroundcolor": "white",
            "gridcolor": "#DFE8F3",
            "gridwidth": 2,
            "linecolor": "#EBF0F8",
            "showbackground": true,
            "ticks": "",
            "zerolinecolor": "#EBF0F8"
           },
           "yaxis": {
            "backgroundcolor": "white",
            "gridcolor": "#DFE8F3",
            "gridwidth": 2,
            "linecolor": "#EBF0F8",
            "showbackground": true,
            "ticks": "",
            "zerolinecolor": "#EBF0F8"
           },
           "zaxis": {
            "backgroundcolor": "white",
            "gridcolor": "#DFE8F3",
            "gridwidth": 2,
            "linecolor": "#EBF0F8",
            "showbackground": true,
            "ticks": "",
            "zerolinecolor": "#EBF0F8"
           }
          },
          "shapedefaults": {
           "line": {
            "color": "#2a3f5f"
           }
          },
          "ternary": {
           "aaxis": {
            "gridcolor": "#DFE8F3",
            "linecolor": "#A2B1C6",
            "ticks": ""
           },
           "baxis": {
            "gridcolor": "#DFE8F3",
            "linecolor": "#A2B1C6",
            "ticks": ""
           },
           "bgcolor": "white",
           "caxis": {
            "gridcolor": "#DFE8F3",
            "linecolor": "#A2B1C6",
            "ticks": ""
           }
          },
          "title": {
           "x": 0.05
          },
          "xaxis": {
           "automargin": true,
           "gridcolor": "#EBF0F8",
           "linecolor": "#EBF0F8",
           "ticks": "",
           "title": {
            "standoff": 15
           },
           "zerolinecolor": "#EBF0F8",
           "zerolinewidth": 2
          },
          "yaxis": {
           "automargin": true,
           "gridcolor": "#EBF0F8",
           "linecolor": "#EBF0F8",
           "ticks": "",
           "title": {
            "standoff": 15
           },
           "zerolinecolor": "#EBF0F8",
           "zerolinewidth": 2
          }
         }
        },
        "title": {
         "text": "2023년 지역별 일사량과 설비이용률 비교 분석"
        },
        "xaxis": {
         "anchor": "y",
         "domain": [
          0,
          1
         ],
         "range": [
          406.02916666666664,
          478.72083333333336
         ],
         "title": {
          "text": "합계 일사량 (MJ/m²)"
         }
        },
        "yaxis": {
         "anchor": "x",
         "domain": [
          0,
          1
         ],
         "range": [
          10.763545652185796,
          14.156238061760705
         ],
         "title": {
          "text": "설비이용률 (%)"
         }
        }
       }
      }
     },
     "metadata": {},
     "output_type": "display_data"
    }
   ],
   "source": [
    "import pandas as pd\n",
    "import plotly.express as px\n",
    "\n",
    "df_2023 = merged[merged[\"연도\"] == 2023].copy()\n",
    "\n",
    "# 버블 크기 (설비용량 기반, 최소값 보정)\n",
    "df_2023[\"버블크기\"] = df_2023[\"설비용량(MW)\"].apply(lambda v: max(50, float(v)))\n",
    "\n",
    "# 숫자형 변환\n",
    "x = pd.to_numeric(df_2023[\"일사량(MJ/m2)\"], errors=\"coerce\")\n",
    "y = pd.to_numeric(df_2023[\"설비이용률(%)\"], errors=\"coerce\")\n",
    "\n",
    "xmin, xmax = float(x.min()), float(x.max())\n",
    "ymin, ymax = float(y.min()), float(y.max())\n",
    "padx = (xmax - xmin) * 0.05\n",
    "pady = (ymax - ymin) * 0.05\n",
    "\n",
    "mean_x = x.mean()\n",
    "mean_y = y.mean()\n",
    "\n",
    "# 산점도\n",
    "fig = px.scatter(\n",
    "    df_2023,\n",
    "    x=\"일사량(MJ/m2)\",\n",
    "    y=\"설비이용률(%)\",\n",
    "    size=\"버블크기\",\n",
    "    color=\"지역\",\n",
    "    hover_name=\"지역\",\n",
    "    text=\"지역\",\n",
    "    size_max=60,\n",
    "    title=\"2023년 지역별 일사량과 설비이용률 비교 분석\"\n",
    ")\n",
    "\n",
    "# 기본 텍스트 제거 (조건부로 다시 추가)\n",
    "fig.update_traces(text=None)\n",
    "\n",
    "# 큰/작은 버블 라벨 처리\n",
    "THRESH = 500  # 작은 버블 기준 (MW)\n",
    "\n",
    "for _, row in df_2023.iterrows():\n",
    "    if row[\"버블크기\"] >= THRESH:\n",
    "        # 큰 버블 → 중앙에 흰 글자(굵게 보이게 HTML 태그 사용)\n",
    "        fig.add_annotation(\n",
    "            x=row[\"일사량(MJ/m2)\"],\n",
    "            y=row[\"설비이용률(%)\"],\n",
    "            text=f\"<b>{row['지역']}</b>\",\n",
    "            showarrow=False,\n",
    "            font=dict(color=\"white\", size=11)\n",
    "        )\n",
    "    else:\n",
    "        # 작은 버블 → 바깥쪽 라벨 + 화살표\n",
    "        fig.add_annotation(\n",
    "            x=row[\"일사량(MJ/m2)\"],\n",
    "            y=row[\"설비이용률(%)\"],\n",
    "            text=row[\"지역\"],\n",
    "            showarrow=True, arrowhead=2,\n",
    "            ax=15, ay=-15,\n",
    "            font=dict(color=\"black\", size=11),\n",
    "            bgcolor=\"rgba(255,255,255,0.6)\"\n",
    "        )\n",
    "\n",
    "# 평균선\n",
    "fig.add_shape(type=\"line\", x0=mean_x, y0=ymin, x1=mean_x, y1=ymax,\n",
    "                line=dict(color=\"red\", dash=\"dash\", width=2))\n",
    "fig.add_shape(type=\"line\", x0=xmin, y0=mean_y, x1=xmax, y1=mean_y,\n",
    "                line=dict(color=\"red\", dash=\"dash\", width=2))\n",
    "\n",
    "# 사분면 라벨\n",
    "fig.add_annotation(x=xmax, y=ymax, text=\"성과 우수 (자원↑, 효율↑)\",\n",
    "                    showarrow=False, font=dict(color=\"green\"), xanchor=\"right\", yanchor=\"bottom\")\n",
    "fig.add_annotation(x=xmin, y=ymax, text=\"효율 우수 (자원↓, 효율↑)\",\n",
    "                    showarrow=False, font=dict(color=\"blue\"), xanchor=\"left\", yanchor=\"bottom\")\n",
    "fig.add_annotation(x=xmax, y=ymin, text=\"잠재력 有 (자원↑, 효율↓)\",\n",
    "                    showarrow=False, font=dict(color=\"orange\"), xanchor=\"right\", yanchor=\"top\")\n",
    "fig.add_annotation(x=xmin, y=ymin, text=\"저효율 (자원↓, 효율↓)\",\n",
    "                    showarrow=False, font=dict(color=\"grey\"), xanchor=\"left\", yanchor=\"top\")\n",
    "\n",
    "# 축 범위\n",
    "fig.update_xaxes(range=[xmin - padx, xmax + padx], title=\"합계 일사량 (MJ/m²)\")\n",
    "fig.update_yaxes(range=[ymin - pady, ymax + pady], title=\"설비이용률 (%)\")\n",
    "fig.update_layout(template=\"plotly_white\")\n",
    "\n",
    "fig.show()"
   ]
  },
  {
   "cell_type": "code",
   "execution_count": 111,
   "id": "9768557b",
   "metadata": {},
   "outputs": [
    {
     "data": {
      "application/vnd.plotly.v1+json": {
       "config": {
        "plotlyServerURL": "https://plot.ly"
       },
       "data": [
        {
         "hovertemplate": "<b>%{hovertext}</b><br><br>지역=%{text}<br>일사량(MJ/m2)=%{x}<br>설비이용률(%)=%{y}<br>버블크기=%{marker.size}<extra></extra>",
         "hovertext": [
          "경북"
         ],
         "legendgroup": "경북",
         "marker": {
          "color": "#636efa",
          "size": {
           "bdata": "AAAAAACMpkA=",
           "dtype": "f8"
          },
          "sizemode": "area",
          "sizeref": 1.268888888888889,
          "symbol": "circle"
         },
         "mode": "markers+text",
         "name": "경북",
         "orientation": "v",
         "showlegend": true,
         "type": "scatter",
         "x": {
          "bdata": "AAAAAADkfUA=",
          "dtype": "f8"
         },
         "xaxis": "x",
         "y": {
          "bdata": "Mt3xySdTKkA=",
          "dtype": "f8"
         },
         "yaxis": "y"
        },
        {
         "hovertemplate": "<b>%{hovertext}</b><br><br>지역=%{text}<br>일사량(MJ/m2)=%{x}<br>설비이용률(%)=%{y}<br>버블크기=%{marker.size}<extra></extra>",
         "hovertext": [
          "경남"
         ],
         "legendgroup": "경남",
         "marker": {
          "color": "#EF553B",
          "size": {
           "bdata": "AAAAAABwmEA=",
           "dtype": "f8"
          },
          "sizemode": "area",
          "sizeref": 1.268888888888889,
          "symbol": "circle"
         },
         "mode": "markers+text",
         "name": "경남",
         "orientation": "v",
         "showlegend": true,
         "type": "scatter",
         "x": {
          "bdata": "VVVVVVVFfkA=",
          "dtype": "f8"
         },
         "xaxis": "x",
         "y": {
          "bdata": "k0qlqB5FKkA=",
          "dtype": "f8"
         },
         "yaxis": "y"
        },
        {
         "hovertemplate": "<b>%{hovertext}</b><br><br>지역=%{text}<br>일사량(MJ/m2)=%{x}<br>설비이용률(%)=%{y}<br>버블크기=%{marker.size}<extra></extra>",
         "hovertext": [
          "전남"
         ],
         "legendgroup": "전남",
         "marker": {
          "color": "#00cc96",
          "size": {
           "bdata": "AAAAAADYsUA=",
           "dtype": "f8"
          },
          "sizemode": "area",
          "sizeref": 1.268888888888889,
          "symbol": "circle"
         },
         "mode": "markers+text",
         "name": "전남",
         "orientation": "v",
         "showlegend": true,
         "type": "scatter",
         "x": {
          "bdata": "VVVVVVXdfkA=",
          "dtype": "f8"
         },
         "xaxis": "x",
         "y": {
          "bdata": "Ioq5gQGALEA=",
          "dtype": "f8"
         },
         "yaxis": "y"
        },
        {
         "hovertemplate": "<b>%{hovertext}</b><br><br>지역=%{text}<br>일사량(MJ/m2)=%{x}<br>설비이용률(%)=%{y}<br>버블크기=%{marker.size}<extra></extra>",
         "hovertext": [
          "제주"
         ],
         "legendgroup": "제주",
         "marker": {
          "color": "#ab63fa",
          "size": {
           "bdata": "AAAAAABYgkA=",
           "dtype": "f8"
          },
          "sizemode": "area",
          "sizeref": 1.268888888888889,
          "symbol": "circle"
         },
         "mode": "markers+text",
         "name": "제주",
         "orientation": "v",
         "showlegend": true,
         "type": "scatter",
         "x": {
          "bdata": "AAAAAACsekA=",
          "dtype": "f8"
         },
         "xaxis": "x",
         "y": {
          "bdata": "MNtFUXTmKUA=",
          "dtype": "f8"
         },
         "yaxis": "y"
        },
        {
         "hovertemplate": "<b>%{hovertext}</b><br><br>지역=%{text}<br>일사량(MJ/m2)=%{x}<br>설비이용률(%)=%{y}<br>버블크기=%{marker.size}<extra></extra>",
         "hovertext": [
          "강원"
         ],
         "legendgroup": "강원",
         "marker": {
          "color": "#FFA15A",
          "size": {
           "bdata": "AAAAAAAwmUA=",
           "dtype": "f8"
          },
          "sizemode": "area",
          "sizeref": 1.268888888888889,
          "symbol": "circle"
         },
         "mode": "markers+text",
         "name": "강원",
         "orientation": "v",
         "showlegend": true,
         "type": "scatter",
         "x": {
          "bdata": "AAAAAAAse0A=",
          "dtype": "f8"
         },
         "xaxis": "x",
         "y": {
          "bdata": "xSxzJdGYKkA=",
          "dtype": "f8"
         },
         "yaxis": "y"
        },
        {
         "hovertemplate": "<b>%{hovertext}</b><br><br>지역=%{text}<br>일사량(MJ/m2)=%{x}<br>설비이용률(%)=%{y}<br>버블크기=%{marker.size}<extra></extra>",
         "hovertext": [
          "충남"
         ],
         "legendgroup": "충남",
         "marker": {
          "color": "#19d3f3",
          "size": {
           "bdata": "AAAAAADcpUA=",
           "dtype": "f8"
          },
          "sizemode": "area",
          "sizeref": 1.268888888888889,
          "symbol": "circle"
         },
         "mode": "markers+text",
         "name": "충남",
         "orientation": "v",
         "showlegend": true,
         "type": "scatter",
         "x": {
          "bdata": "q6qqqqoWfEA=",
          "dtype": "f8"
         },
         "xaxis": "x",
         "y": {
          "bdata": "x3oPKtboKkA=",
          "dtype": "f8"
         },
         "yaxis": "y"
        },
        {
         "hovertemplate": "<b>%{hovertext}</b><br><br>지역=%{text}<br>일사량(MJ/m2)=%{x}<br>설비이용률(%)=%{y}<br>버블크기=%{marker.size}<extra></extra>",
         "hovertext": [
          "전북"
         ],
         "legendgroup": "전북",
         "marker": {
          "color": "#FF6692",
          "size": {
           "bdata": "AAAAAAA2r0A=",
           "dtype": "f8"
          },
          "sizemode": "area",
          "sizeref": 1.268888888888889,
          "symbol": "circle"
         },
         "mode": "markers+text",
         "name": "전북",
         "orientation": "v",
         "showlegend": true,
         "type": "scatter",
         "x": {
          "bdata": "AAAAAADAe0A=",
          "dtype": "f8"
         },
         "xaxis": "x",
         "y": {
          "bdata": "rqIHOT8KLUA=",
          "dtype": "f8"
         },
         "yaxis": "y"
        },
        {
         "hovertemplate": "<b>%{hovertext}</b><br><br>지역=%{text}<br>일사량(MJ/m2)=%{x}<br>설비이용률(%)=%{y}<br>버블크기=%{marker.size}<extra></extra>",
         "hovertext": [
          "충북"
         ],
         "legendgroup": "충북",
         "marker": {
          "color": "#B6E880",
          "size": {
           "bdata": "AAAAAABgk0A=",
           "dtype": "f8"
          },
          "sizemode": "area",
          "sizeref": 1.268888888888889,
          "symbol": "circle"
         },
         "mode": "markers+text",
         "name": "충북",
         "orientation": "v",
         "showlegend": true,
         "type": "scatter",
         "x": {
          "bdata": "AAAAAAAAfUA=",
          "dtype": "f8"
         },
         "xaxis": "x",
         "y": {
          "bdata": "+Tyj62uKKUA=",
          "dtype": "f8"
         },
         "yaxis": "y"
        },
        {
         "hovertemplate": "<b>%{hovertext}</b><br><br>지역=%{text}<br>일사량(MJ/m2)=%{x}<br>설비이용률(%)=%{y}<br>버블크기=%{marker.size}<extra></extra>",
         "hovertext": [
          "인천"
         ],
         "legendgroup": "인천",
         "marker": {
          "color": "#FF97FF",
          "size": {
           "bdata": "AAAAAAAAX0A=",
           "dtype": "f8"
          },
          "sizemode": "area",
          "sizeref": 1.268888888888889,
          "symbol": "circle"
         },
         "mode": "markers+text",
         "name": "인천",
         "orientation": "v",
         "showlegend": true,
         "type": "scatter",
         "x": {
          "bdata": "VVVVVVWhfEA=",
          "dtype": "f8"
         },
         "xaxis": "x",
         "y": {
          "bdata": "taQw/m/uJkA=",
          "dtype": "f8"
         },
         "yaxis": "y"
        },
        {
         "hovertemplate": "<b>%{hovertext}</b><br><br>지역=%{text}<br>일사량(MJ/m2)=%{x}<br>설비이용률(%)=%{y}<br>버블크기=%{marker.size}<extra></extra>",
         "hovertext": [
          "서울"
         ],
         "legendgroup": "서울",
         "marker": {
          "color": "#FECB52",
          "size": {
           "bdata": "AAAAAAAASUA=",
           "dtype": "f8"
          },
          "sizemode": "area",
          "sizeref": 1.268888888888889,
          "symbol": "circle"
         },
         "mode": "markers+text",
         "name": "서울",
         "orientation": "v",
         "showlegend": true,
         "type": "scatter",
         "x": {
          "bdata": "VVVVVVW9e0A=",
          "dtype": "f8"
         },
         "xaxis": "x",
         "y": {
          "bdata": "ggMHDhz4KkA=",
          "dtype": "f8"
         },
         "yaxis": "y"
        },
        {
         "hovertemplate": "<b>%{hovertext}</b><br><br>지역=%{text}<br>일사량(MJ/m2)=%{x}<br>설비이용률(%)=%{y}<br>버블크기=%{marker.size}<extra></extra>",
         "hovertext": [
          "경기"
         ],
         "legendgroup": "경기",
         "marker": {
          "color": "#636efa",
          "size": {
           "bdata": "AAAAAADMlkA=",
           "dtype": "f8"
          },
          "sizemode": "area",
          "sizeref": 1.268888888888889,
          "symbol": "circle"
         },
         "mode": "markers+text",
         "name": "경기",
         "orientation": "v",
         "showlegend": true,
         "type": "scatter",
         "x": {
          "bdata": "q6qqqqpae0A=",
          "dtype": "f8"
         },
         "xaxis": "x",
         "y": {
          "bdata": "ZGNREXEdJ0A=",
          "dtype": "f8"
         },
         "yaxis": "y"
        },
        {
         "hovertemplate": "<b>%{hovertext}</b><br><br>지역=%{text}<br>일사량(MJ/m2)=%{x}<br>설비이용률(%)=%{y}<br>버블크기=%{marker.size}<extra></extra>",
         "hovertext": [
          "부산"
         ],
         "legendgroup": "부산",
         "marker": {
          "color": "#EF553B",
          "size": {
           "bdata": "AAAAAABAaUA=",
           "dtype": "f8"
          },
          "sizemode": "area",
          "sizeref": 1.268888888888889,
          "symbol": "circle"
         },
         "mode": "markers+text",
         "name": "부산",
         "orientation": "v",
         "showlegend": true,
         "type": "scatter",
         "x": {
          "bdata": "VVVVVVUNf0A=",
          "dtype": "f8"
         },
         "xaxis": "x",
         "y": {
          "bdata": "/I3MmpfjJkA=",
          "dtype": "f8"
         },
         "yaxis": "y"
        },
        {
         "hovertemplate": "<b>%{hovertext}</b><br><br>지역=%{text}<br>일사량(MJ/m2)=%{x}<br>설비이용률(%)=%{y}<br>버블크기=%{marker.size}<extra></extra>",
         "hovertext": [
          "대전"
         ],
         "legendgroup": "대전",
         "marker": {
          "color": "#00cc96",
          "size": {
           "bdata": "AAAAAAAASUA=",
           "dtype": "f8"
          },
          "sizemode": "area",
          "sizeref": 1.268888888888889,
          "symbol": "circle"
         },
         "mode": "markers+text",
         "name": "대전",
         "orientation": "v",
         "showlegend": true,
         "type": "scatter",
         "x": {
          "bdata": "VVVVVVXRfEA=",
          "dtype": "f8"
         },
         "xaxis": "x",
         "y": {
          "bdata": "9E8Gc0z/J0A=",
          "dtype": "f8"
         },
         "yaxis": "y"
        },
        {
         "hovertemplate": "<b>%{hovertext}</b><br><br>지역=%{text}<br>일사량(MJ/m2)=%{x}<br>설비이용률(%)=%{y}<br>버블크기=%{marker.size}<extra></extra>",
         "hovertext": [
          "대구"
         ],
         "legendgroup": "대구",
         "marker": {
          "color": "#ab63fa",
          "size": {
           "bdata": "AAAAAACQckA=",
           "dtype": "f8"
          },
          "sizemode": "area",
          "sizeref": 1.268888888888889,
          "symbol": "circle"
         },
         "mode": "markers+text",
         "name": "대구",
         "orientation": "v",
         "showlegend": true,
         "type": "scatter",
         "x": {
          "bdata": "AAAAAAA0fkA=",
          "dtype": "f8"
         },
         "xaxis": "x",
         "y": {
          "bdata": "4jY9pRswKEA=",
          "dtype": "f8"
         },
         "yaxis": "y"
        },
        {
         "hovertemplate": "<b>%{hovertext}</b><br><br>지역=%{text}<br>일사량(MJ/m2)=%{x}<br>설비이용률(%)=%{y}<br>버블크기=%{marker.size}<extra></extra>",
         "hovertext": [
          "광주"
         ],
         "legendgroup": "광주",
         "marker": {
          "color": "#FFA15A",
          "size": {
           "bdata": "AAAAAAAgcUA=",
           "dtype": "f8"
          },
          "sizemode": "area",
          "sizeref": 1.268888888888889,
          "symbol": "circle"
         },
         "mode": "markers+text",
         "name": "광주",
         "orientation": "v",
         "showlegend": true,
         "type": "scatter",
         "x": {
          "bdata": "q6qqqqq6fUA=",
          "dtype": "f8"
         },
         "xaxis": "x",
         "y": {
          "bdata": "7Lxs6AjkKEA=",
          "dtype": "f8"
         },
         "yaxis": "y"
        }
       ],
       "layout": {
        "annotations": [
         {
          "font": {
           "color": "white",
           "size": 11
          },
          "showarrow": false,
          "text": "<b>경북</b>",
          "x": 478.25,
          "y": 13.1624129398102
         },
         {
          "font": {
           "color": "white",
           "size": 11
          },
          "showarrow": false,
          "text": "<b>경남</b>",
          "x": 484.3333333333333,
          "y": 13.13499953286854
         },
         {
          "font": {
           "color": "white",
           "size": 11
          },
          "showarrow": false,
          "text": "<b>전남</b>",
          "x": 493.8333333333333,
          "y": 14.25001149549377
         },
         {
          "font": {
           "color": "white",
           "size": 11
          },
          "showarrow": false,
          "text": "<b>제주</b>",
          "x": 426.75,
          "y": 12.95010618188607
         },
         {
          "font": {
           "color": "white",
           "size": 11
          },
          "showarrow": false,
          "text": "<b>강원</b>",
          "x": 434.75,
          "y": 13.29847065955108
         },
         {
          "font": {
           "color": "white",
           "size": 11
          },
          "showarrow": false,
          "text": "<b>충남</b>",
          "x": 449.4166666666667,
          "y": 13.45475894392929
         },
         {
          "font": {
           "color": "white",
           "size": 11
          },
          "showarrow": false,
          "text": "<b>전북</b>",
          "x": 444,
          "y": 14.52001360147673
         },
         {
          "font": {
           "color": "white",
           "size": 11
          },
          "showarrow": false,
          "text": "<b>충북</b>",
          "x": 464,
          "y": 12.77035461776403
         },
         {
          "arrowhead": 2,
          "ax": 15,
          "ay": -15,
          "bgcolor": "rgba(255,255,255,0.6)",
          "font": {
           "color": "black",
           "size": 11
          },
          "showarrow": true,
          "text": "인천",
          "x": 458.0833333333333,
          "y": 11.46569818824569
         },
         {
          "arrowhead": 2,
          "ax": 15,
          "ay": -15,
          "bgcolor": "rgba(255,255,255,0.6)",
          "font": {
           "color": "black",
           "size": 11
          },
          "showarrow": true,
          "text": "서울",
          "x": 443.8333333333333,
          "y": 13.48458904109589
         },
         {
          "font": {
           "color": "white",
           "size": 11
          },
          "showarrow": false,
          "text": "<b>경기</b>",
          "x": 437.6666666666667,
          "y": 11.55750326269635
         },
         {
          "arrowhead": 2,
          "ax": 15,
          "ay": -15,
          "bgcolor": "rgba(255,255,255,0.6)",
          "font": {
           "color": "black",
           "size": 11
          },
          "showarrow": true,
          "text": "부산",
          "x": 496.8333333333333,
          "y": 11.44451602694516
         },
         {
          "arrowhead": 2,
          "ax": 15,
          "ay": -15,
          "bgcolor": "rgba(255,255,255,0.6)",
          "font": {
           "color": "black",
           "size": 11
          },
          "showarrow": true,
          "text": "대전",
          "x": 461.0833333333333,
          "y": 11.9986301369863
         },
         {
          "arrowhead": 2,
          "ax": 15,
          "ay": -15,
          "bgcolor": "rgba(255,255,255,0.6)",
          "font": {
           "color": "black",
           "size": 11
          },
          "showarrow": true,
          "text": "대구",
          "x": 483.25,
          "y": 12.09396091816183
         },
         {
          "arrowhead": 2,
          "ax": 15,
          "ay": -15,
          "bgcolor": "rgba(255,255,255,0.6)",
          "font": {
           "color": "black",
           "size": 11
          },
          "showarrow": true,
          "text": "광주",
          "x": 475.6666666666667,
          "y": 12.44538046195381
         },
         {
          "font": {
           "color": "green"
          },
          "showarrow": false,
          "text": "성과 우수 (자원↑, 효율↑)",
          "x": 496.8333333333333,
          "xanchor": "right",
          "y": 14.52001360147673,
          "yanchor": "bottom"
         },
         {
          "font": {
           "color": "blue"
          },
          "showarrow": false,
          "text": "효율 우수 (자원↓, 효율↑)",
          "x": 426.75,
          "xanchor": "left",
          "y": 14.52001360147673,
          "yanchor": "bottom"
         },
         {
          "font": {
           "color": "orange"
          },
          "showarrow": false,
          "text": "잠재력 有 (자원↑, 효율↓)",
          "x": 496.8333333333333,
          "xanchor": "right",
          "y": 11.44451602694516,
          "yanchor": "top"
         },
         {
          "font": {
           "color": "grey"
          },
          "showarrow": false,
          "text": "저효율 (자원↓, 효율↓)",
          "x": 426.75,
          "xanchor": "left",
          "y": 11.44451602694516,
          "yanchor": "top"
         }
        ],
        "legend": {
         "itemsizing": "constant",
         "title": {
          "text": "지역"
         },
         "tracegroupgap": 0
        },
        "shapes": [
         {
          "line": {
           "color": "red",
           "dash": "dash",
           "width": 2
          },
          "type": "line",
          "x0": 462.1166666666666,
          "x1": 462.1166666666666,
          "y0": 11.44451602694516,
          "y1": 14.52001360147673
         },
         {
          "line": {
           "color": "red",
           "dash": "dash",
           "width": 2
          },
          "type": "line",
          "x0": 426.75,
          "x1": 496.8333333333333,
          "y0": 12.802093733924318,
          "y1": 12.802093733924318
         }
        ],
        "template": {
         "data": {
          "bar": [
           {
            "error_x": {
             "color": "#2a3f5f"
            },
            "error_y": {
             "color": "#2a3f5f"
            },
            "marker": {
             "line": {
              "color": "white",
              "width": 0.5
             },
             "pattern": {
              "fillmode": "overlay",
              "size": 10,
              "solidity": 0.2
             }
            },
            "type": "bar"
           }
          ],
          "barpolar": [
           {
            "marker": {
             "line": {
              "color": "white",
              "width": 0.5
             },
             "pattern": {
              "fillmode": "overlay",
              "size": 10,
              "solidity": 0.2
             }
            },
            "type": "barpolar"
           }
          ],
          "carpet": [
           {
            "aaxis": {
             "endlinecolor": "#2a3f5f",
             "gridcolor": "#C8D4E3",
             "linecolor": "#C8D4E3",
             "minorgridcolor": "#C8D4E3",
             "startlinecolor": "#2a3f5f"
            },
            "baxis": {
             "endlinecolor": "#2a3f5f",
             "gridcolor": "#C8D4E3",
             "linecolor": "#C8D4E3",
             "minorgridcolor": "#C8D4E3",
             "startlinecolor": "#2a3f5f"
            },
            "type": "carpet"
           }
          ],
          "choropleth": [
           {
            "colorbar": {
             "outlinewidth": 0,
             "ticks": ""
            },
            "type": "choropleth"
           }
          ],
          "contour": [
           {
            "colorbar": {
             "outlinewidth": 0,
             "ticks": ""
            },
            "colorscale": [
             [
              0,
              "#0d0887"
             ],
             [
              0.1111111111111111,
              "#46039f"
             ],
             [
              0.2222222222222222,
              "#7201a8"
             ],
             [
              0.3333333333333333,
              "#9c179e"
             ],
             [
              0.4444444444444444,
              "#bd3786"
             ],
             [
              0.5555555555555556,
              "#d8576b"
             ],
             [
              0.6666666666666666,
              "#ed7953"
             ],
             [
              0.7777777777777778,
              "#fb9f3a"
             ],
             [
              0.8888888888888888,
              "#fdca26"
             ],
             [
              1,
              "#f0f921"
             ]
            ],
            "type": "contour"
           }
          ],
          "contourcarpet": [
           {
            "colorbar": {
             "outlinewidth": 0,
             "ticks": ""
            },
            "type": "contourcarpet"
           }
          ],
          "heatmap": [
           {
            "colorbar": {
             "outlinewidth": 0,
             "ticks": ""
            },
            "colorscale": [
             [
              0,
              "#0d0887"
             ],
             [
              0.1111111111111111,
              "#46039f"
             ],
             [
              0.2222222222222222,
              "#7201a8"
             ],
             [
              0.3333333333333333,
              "#9c179e"
             ],
             [
              0.4444444444444444,
              "#bd3786"
             ],
             [
              0.5555555555555556,
              "#d8576b"
             ],
             [
              0.6666666666666666,
              "#ed7953"
             ],
             [
              0.7777777777777778,
              "#fb9f3a"
             ],
             [
              0.8888888888888888,
              "#fdca26"
             ],
             [
              1,
              "#f0f921"
             ]
            ],
            "type": "heatmap"
           }
          ],
          "histogram": [
           {
            "marker": {
             "pattern": {
              "fillmode": "overlay",
              "size": 10,
              "solidity": 0.2
             }
            },
            "type": "histogram"
           }
          ],
          "histogram2d": [
           {
            "colorbar": {
             "outlinewidth": 0,
             "ticks": ""
            },
            "colorscale": [
             [
              0,
              "#0d0887"
             ],
             [
              0.1111111111111111,
              "#46039f"
             ],
             [
              0.2222222222222222,
              "#7201a8"
             ],
             [
              0.3333333333333333,
              "#9c179e"
             ],
             [
              0.4444444444444444,
              "#bd3786"
             ],
             [
              0.5555555555555556,
              "#d8576b"
             ],
             [
              0.6666666666666666,
              "#ed7953"
             ],
             [
              0.7777777777777778,
              "#fb9f3a"
             ],
             [
              0.8888888888888888,
              "#fdca26"
             ],
             [
              1,
              "#f0f921"
             ]
            ],
            "type": "histogram2d"
           }
          ],
          "histogram2dcontour": [
           {
            "colorbar": {
             "outlinewidth": 0,
             "ticks": ""
            },
            "colorscale": [
             [
              0,
              "#0d0887"
             ],
             [
              0.1111111111111111,
              "#46039f"
             ],
             [
              0.2222222222222222,
              "#7201a8"
             ],
             [
              0.3333333333333333,
              "#9c179e"
             ],
             [
              0.4444444444444444,
              "#bd3786"
             ],
             [
              0.5555555555555556,
              "#d8576b"
             ],
             [
              0.6666666666666666,
              "#ed7953"
             ],
             [
              0.7777777777777778,
              "#fb9f3a"
             ],
             [
              0.8888888888888888,
              "#fdca26"
             ],
             [
              1,
              "#f0f921"
             ]
            ],
            "type": "histogram2dcontour"
           }
          ],
          "mesh3d": [
           {
            "colorbar": {
             "outlinewidth": 0,
             "ticks": ""
            },
            "type": "mesh3d"
           }
          ],
          "parcoords": [
           {
            "line": {
             "colorbar": {
              "outlinewidth": 0,
              "ticks": ""
             }
            },
            "type": "parcoords"
           }
          ],
          "pie": [
           {
            "automargin": true,
            "type": "pie"
           }
          ],
          "scatter": [
           {
            "fillpattern": {
             "fillmode": "overlay",
             "size": 10,
             "solidity": 0.2
            },
            "type": "scatter"
           }
          ],
          "scatter3d": [
           {
            "line": {
             "colorbar": {
              "outlinewidth": 0,
              "ticks": ""
             }
            },
            "marker": {
             "colorbar": {
              "outlinewidth": 0,
              "ticks": ""
             }
            },
            "type": "scatter3d"
           }
          ],
          "scattercarpet": [
           {
            "marker": {
             "colorbar": {
              "outlinewidth": 0,
              "ticks": ""
             }
            },
            "type": "scattercarpet"
           }
          ],
          "scattergeo": [
           {
            "marker": {
             "colorbar": {
              "outlinewidth": 0,
              "ticks": ""
             }
            },
            "type": "scattergeo"
           }
          ],
          "scattergl": [
           {
            "marker": {
             "colorbar": {
              "outlinewidth": 0,
              "ticks": ""
             }
            },
            "type": "scattergl"
           }
          ],
          "scattermap": [
           {
            "marker": {
             "colorbar": {
              "outlinewidth": 0,
              "ticks": ""
             }
            },
            "type": "scattermap"
           }
          ],
          "scattermapbox": [
           {
            "marker": {
             "colorbar": {
              "outlinewidth": 0,
              "ticks": ""
             }
            },
            "type": "scattermapbox"
           }
          ],
          "scatterpolar": [
           {
            "marker": {
             "colorbar": {
              "outlinewidth": 0,
              "ticks": ""
             }
            },
            "type": "scatterpolar"
           }
          ],
          "scatterpolargl": [
           {
            "marker": {
             "colorbar": {
              "outlinewidth": 0,
              "ticks": ""
             }
            },
            "type": "scatterpolargl"
           }
          ],
          "scatterternary": [
           {
            "marker": {
             "colorbar": {
              "outlinewidth": 0,
              "ticks": ""
             }
            },
            "type": "scatterternary"
           }
          ],
          "surface": [
           {
            "colorbar": {
             "outlinewidth": 0,
             "ticks": ""
            },
            "colorscale": [
             [
              0,
              "#0d0887"
             ],
             [
              0.1111111111111111,
              "#46039f"
             ],
             [
              0.2222222222222222,
              "#7201a8"
             ],
             [
              0.3333333333333333,
              "#9c179e"
             ],
             [
              0.4444444444444444,
              "#bd3786"
             ],
             [
              0.5555555555555556,
              "#d8576b"
             ],
             [
              0.6666666666666666,
              "#ed7953"
             ],
             [
              0.7777777777777778,
              "#fb9f3a"
             ],
             [
              0.8888888888888888,
              "#fdca26"
             ],
             [
              1,
              "#f0f921"
             ]
            ],
            "type": "surface"
           }
          ],
          "table": [
           {
            "cells": {
             "fill": {
              "color": "#EBF0F8"
             },
             "line": {
              "color": "white"
             }
            },
            "header": {
             "fill": {
              "color": "#C8D4E3"
             },
             "line": {
              "color": "white"
             }
            },
            "type": "table"
           }
          ]
         },
         "layout": {
          "annotationdefaults": {
           "arrowcolor": "#2a3f5f",
           "arrowhead": 0,
           "arrowwidth": 1
          },
          "autotypenumbers": "strict",
          "coloraxis": {
           "colorbar": {
            "outlinewidth": 0,
            "ticks": ""
           }
          },
          "colorscale": {
           "diverging": [
            [
             0,
             "#8e0152"
            ],
            [
             0.1,
             "#c51b7d"
            ],
            [
             0.2,
             "#de77ae"
            ],
            [
             0.3,
             "#f1b6da"
            ],
            [
             0.4,
             "#fde0ef"
            ],
            [
             0.5,
             "#f7f7f7"
            ],
            [
             0.6,
             "#e6f5d0"
            ],
            [
             0.7,
             "#b8e186"
            ],
            [
             0.8,
             "#7fbc41"
            ],
            [
             0.9,
             "#4d9221"
            ],
            [
             1,
             "#276419"
            ]
           ],
           "sequential": [
            [
             0,
             "#0d0887"
            ],
            [
             0.1111111111111111,
             "#46039f"
            ],
            [
             0.2222222222222222,
             "#7201a8"
            ],
            [
             0.3333333333333333,
             "#9c179e"
            ],
            [
             0.4444444444444444,
             "#bd3786"
            ],
            [
             0.5555555555555556,
             "#d8576b"
            ],
            [
             0.6666666666666666,
             "#ed7953"
            ],
            [
             0.7777777777777778,
             "#fb9f3a"
            ],
            [
             0.8888888888888888,
             "#fdca26"
            ],
            [
             1,
             "#f0f921"
            ]
           ],
           "sequentialminus": [
            [
             0,
             "#0d0887"
            ],
            [
             0.1111111111111111,
             "#46039f"
            ],
            [
             0.2222222222222222,
             "#7201a8"
            ],
            [
             0.3333333333333333,
             "#9c179e"
            ],
            [
             0.4444444444444444,
             "#bd3786"
            ],
            [
             0.5555555555555556,
             "#d8576b"
            ],
            [
             0.6666666666666666,
             "#ed7953"
            ],
            [
             0.7777777777777778,
             "#fb9f3a"
            ],
            [
             0.8888888888888888,
             "#fdca26"
            ],
            [
             1,
             "#f0f921"
            ]
           ]
          },
          "colorway": [
           "#636efa",
           "#EF553B",
           "#00cc96",
           "#ab63fa",
           "#FFA15A",
           "#19d3f3",
           "#FF6692",
           "#B6E880",
           "#FF97FF",
           "#FECB52"
          ],
          "font": {
           "color": "#2a3f5f"
          },
          "geo": {
           "bgcolor": "white",
           "lakecolor": "white",
           "landcolor": "white",
           "showlakes": true,
           "showland": true,
           "subunitcolor": "#C8D4E3"
          },
          "hoverlabel": {
           "align": "left"
          },
          "hovermode": "closest",
          "mapbox": {
           "style": "light"
          },
          "paper_bgcolor": "white",
          "plot_bgcolor": "white",
          "polar": {
           "angularaxis": {
            "gridcolor": "#EBF0F8",
            "linecolor": "#EBF0F8",
            "ticks": ""
           },
           "bgcolor": "white",
           "radialaxis": {
            "gridcolor": "#EBF0F8",
            "linecolor": "#EBF0F8",
            "ticks": ""
           }
          },
          "scene": {
           "xaxis": {
            "backgroundcolor": "white",
            "gridcolor": "#DFE8F3",
            "gridwidth": 2,
            "linecolor": "#EBF0F8",
            "showbackground": true,
            "ticks": "",
            "zerolinecolor": "#EBF0F8"
           },
           "yaxis": {
            "backgroundcolor": "white",
            "gridcolor": "#DFE8F3",
            "gridwidth": 2,
            "linecolor": "#EBF0F8",
            "showbackground": true,
            "ticks": "",
            "zerolinecolor": "#EBF0F8"
           },
           "zaxis": {
            "backgroundcolor": "white",
            "gridcolor": "#DFE8F3",
            "gridwidth": 2,
            "linecolor": "#EBF0F8",
            "showbackground": true,
            "ticks": "",
            "zerolinecolor": "#EBF0F8"
           }
          },
          "shapedefaults": {
           "line": {
            "color": "#2a3f5f"
           }
          },
          "ternary": {
           "aaxis": {
            "gridcolor": "#DFE8F3",
            "linecolor": "#A2B1C6",
            "ticks": ""
           },
           "baxis": {
            "gridcolor": "#DFE8F3",
            "linecolor": "#A2B1C6",
            "ticks": ""
           },
           "bgcolor": "white",
           "caxis": {
            "gridcolor": "#DFE8F3",
            "linecolor": "#A2B1C6",
            "ticks": ""
           }
          },
          "title": {
           "x": 0.05
          },
          "xaxis": {
           "automargin": true,
           "gridcolor": "#EBF0F8",
           "linecolor": "#EBF0F8",
           "ticks": "",
           "title": {
            "standoff": 15
           },
           "zerolinecolor": "#EBF0F8",
           "zerolinewidth": 2
          },
          "yaxis": {
           "automargin": true,
           "gridcolor": "#EBF0F8",
           "linecolor": "#EBF0F8",
           "ticks": "",
           "title": {
            "standoff": 15
           },
           "zerolinecolor": "#EBF0F8",
           "zerolinewidth": 2
          }
         }
        },
        "title": {
         "text": "2022년 지역별 일사량과 설비이용률 비교 분석"
        },
        "xaxis": {
         "anchor": "y",
         "domain": [
          0,
          1
         ],
         "range": [
          423.24583333333334,
          500.3375
         ],
         "title": {
          "text": "합계 일사량 (MJ/m²)"
         }
        },
        "yaxis": {
         "anchor": "x",
         "domain": [
          0,
          1
         ],
         "range": [
          11.290741148218581,
          14.673788480203308
         ],
         "title": {
          "text": "설비이용률 (%)"
         }
        }
       }
      }
     },
     "metadata": {},
     "output_type": "display_data"
    }
   ],
   "source": [
    "import pandas as pd\n",
    "import plotly.express as px\n",
    "\n",
    "df_2022 = merged[merged[\"연도\"] == 2022].copy()\n",
    "\n",
    "# 버블 크기 (설비용량 기반, 최소값 보정)\n",
    "df_2022[\"버블크기\"] = df_2022[\"설비용량(MW)\"].apply(lambda v: max(50, float(v)))\n",
    "\n",
    "# 숫자형 변환\n",
    "x = pd.to_numeric(df_2022[\"일사량(MJ/m2)\"], errors=\"coerce\")\n",
    "y = pd.to_numeric(df_2022[\"설비이용률(%)\"], errors=\"coerce\")\n",
    "\n",
    "xmin, xmax = float(x.min()), float(x.max())\n",
    "ymin, ymax = float(y.min()), float(y.max())\n",
    "padx = (xmax - xmin) * 0.05\n",
    "pady = (ymax - ymin) * 0.05\n",
    "\n",
    "mean_x = x.mean()\n",
    "mean_y = y.mean()\n",
    "\n",
    "# 산점도\n",
    "fig = px.scatter(\n",
    "    df_2022,\n",
    "    x=\"일사량(MJ/m2)\",\n",
    "    y=\"설비이용률(%)\",\n",
    "    size=\"버블크기\",\n",
    "    color=\"지역\",\n",
    "    hover_name=\"지역\",\n",
    "    text=\"지역\",\n",
    "    size_max=60,\n",
    "    title=\"2022년 지역별 일사량과 설비이용률 비교 분석\"\n",
    ")\n",
    "\n",
    "# 기본 텍스트 제거 (조건부로 다시 추가)\n",
    "fig.update_traces(text=None)\n",
    "\n",
    "# 큰/작은 버블 라벨 처리\n",
    "THRESH = 500  # 작은 버블 기준 (MW)\n",
    "\n",
    "for _, row in df_2022.iterrows():\n",
    "    if row[\"버블크기\"] >= THRESH:\n",
    "        # 큰 버블 → 중앙에 흰 글자(굵게 보이게 HTML 태그 사용)\n",
    "        fig.add_annotation(\n",
    "            x=row[\"일사량(MJ/m2)\"],\n",
    "            y=row[\"설비이용률(%)\"],\n",
    "            text=f\"<b>{row['지역']}</b>\",\n",
    "            showarrow=False,\n",
    "            font=dict(color=\"white\", size=11)\n",
    "        )\n",
    "    else:\n",
    "        # 작은 버블 → 바깥쪽 라벨 + 화살표\n",
    "        fig.add_annotation(\n",
    "            x=row[\"일사량(MJ/m2)\"],\n",
    "            y=row[\"설비이용률(%)\"],\n",
    "            text=row[\"지역\"],\n",
    "            showarrow=True, arrowhead=2,\n",
    "            ax=15, ay=-15,\n",
    "            font=dict(color=\"black\", size=11),\n",
    "            bgcolor=\"rgba(255,255,255,0.6)\"\n",
    "        )\n",
    "\n",
    "# 평균선\n",
    "fig.add_shape(type=\"line\", x0=mean_x, y0=ymin, x1=mean_x, y1=ymax,\n",
    "                line=dict(color=\"red\", dash=\"dash\", width=2))\n",
    "fig.add_shape(type=\"line\", x0=xmin, y0=mean_y, x1=xmax, y1=mean_y,\n",
    "                line=dict(color=\"red\", dash=\"dash\", width=2))\n",
    "\n",
    "# 사분면 라벨\n",
    "fig.add_annotation(x=xmax, y=ymax, text=\"성과 우수 (자원↑, 효율↑)\",\n",
    "                    showarrow=False, font=dict(color=\"green\"), xanchor=\"right\", yanchor=\"bottom\")\n",
    "fig.add_annotation(x=xmin, y=ymax, text=\"효율 우수 (자원↓, 효율↑)\",\n",
    "                    showarrow=False, font=dict(color=\"blue\"), xanchor=\"left\", yanchor=\"bottom\")\n",
    "fig.add_annotation(x=xmax, y=ymin, text=\"잠재력 有 (자원↑, 효율↓)\",\n",
    "                    showarrow=False, font=dict(color=\"orange\"), xanchor=\"right\", yanchor=\"top\")\n",
    "fig.add_annotation(x=xmin, y=ymin, text=\"저효율 (자원↓, 효율↓)\",\n",
    "                    showarrow=False, font=dict(color=\"grey\"), xanchor=\"left\", yanchor=\"top\")\n",
    "\n",
    "# 축 범위\n",
    "fig.update_xaxes(range=[xmin - padx, xmax + padx], title=\"합계 일사량 (MJ/m²)\")\n",
    "fig.update_yaxes(range=[ymin - pady, ymax + pady], title=\"설비이용률 (%)\")\n",
    "fig.update_layout(template=\"plotly_white\")\n",
    "\n",
    "fig.show()"
   ]
  },
  {
   "cell_type": "code",
   "execution_count": 112,
   "id": "f4e604fc",
   "metadata": {},
   "outputs": [
    {
     "data": {
      "application/vnd.plotly.v1+json": {
       "config": {
        "plotlyServerURL": "https://plot.ly"
       },
       "data": [
        {
         "hovertemplate": "<b>%{hovertext}</b><br><br>지역=%{text}<br>일사량(MJ/m2)=%{x}<br>설비이용률(%)=%{y}<br>버블크기=%{marker.size}<extra></extra>",
         "hovertext": [
          "충북"
         ],
         "legendgroup": "충북",
         "marker": {
          "color": "#636efa",
          "size": {
           "bdata": "AAAAAACkkEA=",
           "dtype": "f8"
          },
          "sizemode": "area",
          "sizeref": 1.0863888888888888,
          "symbol": "circle"
         },
         "mode": "markers+text",
         "name": "충북",
         "orientation": "v",
         "showlegend": true,
         "type": "scatter",
         "x": {
          "bdata": "AAAAAADYe0A=",
          "dtype": "f8"
         },
         "xaxis": "x",
         "y": {
          "bdata": "5gm6k/ZyKEA=",
          "dtype": "f8"
         },
         "yaxis": "y"
        },
        {
         "hovertemplate": "<b>%{hovertext}</b><br><br>지역=%{text}<br>일사량(MJ/m2)=%{x}<br>설비이용률(%)=%{y}<br>버블크기=%{marker.size}<extra></extra>",
         "hovertext": [
          "전북"
         ],
         "legendgroup": "전북",
         "marker": {
          "color": "#EF553B",
          "size": {
           "bdata": "AAAAAAA6qkA=",
           "dtype": "f8"
          },
          "sizemode": "area",
          "sizeref": 1.0863888888888888,
          "symbol": "circle"
         },
         "mode": "markers+text",
         "name": "전북",
         "orientation": "v",
         "showlegend": true,
         "type": "scatter",
         "x": {
          "bdata": "q6qqqqqOekA=",
          "dtype": "f8"
         },
         "xaxis": "x",
         "y": {
          "bdata": "Pt22jzAzKkA=",
          "dtype": "f8"
         },
         "yaxis": "y"
        },
        {
         "hovertemplate": "<b>%{hovertext}</b><br><br>지역=%{text}<br>일사량(MJ/m2)=%{x}<br>설비이용률(%)=%{y}<br>버블크기=%{marker.size}<extra></extra>",
         "hovertext": [
          "서울"
         ],
         "legendgroup": "서울",
         "marker": {
          "color": "#00cc96",
          "size": {
           "bdata": "AAAAAAAASUA=",
           "dtype": "f8"
          },
          "sizemode": "area",
          "sizeref": 1.0863888888888888,
          "symbol": "circle"
         },
         "mode": "markers+text",
         "name": "서울",
         "orientation": "v",
         "showlegend": true,
         "type": "scatter",
         "x": {
          "bdata": "VVVVVVXVekA=",
          "dtype": "f8"
         },
         "xaxis": "x",
         "y": {
          "bdata": "ZS/yMZrNKkA=",
          "dtype": "f8"
         },
         "yaxis": "y"
        },
        {
         "hovertemplate": "<b>%{hovertext}</b><br><br>지역=%{text}<br>일사량(MJ/m2)=%{x}<br>설비이용률(%)=%{y}<br>버블크기=%{marker.size}<extra></extra>",
         "hovertext": [
          "강원"
         ],
         "legendgroup": "강원",
         "marker": {
          "color": "#ab63fa",
          "size": {
           "bdata": "AAAAAAAAlkA=",
           "dtype": "f8"
          },
          "sizemode": "area",
          "sizeref": 1.0863888888888888,
          "symbol": "circle"
         },
         "mode": "markers+text",
         "name": "강원",
         "orientation": "v",
         "showlegend": true,
         "type": "scatter",
         "x": {
          "bdata": "AAAAAAD8ekA=",
          "dtype": "f8"
         },
         "xaxis": "x",
         "y": {
          "bdata": "7Z9HrtjlKUA=",
          "dtype": "f8"
         },
         "yaxis": "y"
        },
        {
         "hovertemplate": "<b>%{hovertext}</b><br><br>지역=%{text}<br>일사량(MJ/m2)=%{x}<br>설비이용률(%)=%{y}<br>버블크기=%{marker.size}<extra></extra>",
         "hovertext": [
          "부산"
         ],
         "legendgroup": "부산",
         "marker": {
          "color": "#FFA15A",
          "size": {
           "bdata": "AAAAAABAZUA=",
           "dtype": "f8"
          },
          "sizemode": "area",
          "sizeref": 1.0863888888888888,
          "symbol": "circle"
         },
         "mode": "markers+text",
         "name": "부산",
         "orientation": "v",
         "showlegend": true,
         "type": "scatter",
         "x": {
          "bdata": "q6qqqqrCfUA=",
          "dtype": "f8"
         },
         "xaxis": "x",
         "y": {
          "bdata": "xKJj5ehvJkA=",
          "dtype": "f8"
         },
         "yaxis": "y"
        },
        {
         "hovertemplate": "<b>%{hovertext}</b><br><br>지역=%{text}<br>일사량(MJ/m2)=%{x}<br>설비이용률(%)=%{y}<br>버블크기=%{marker.size}<extra></extra>",
         "hovertext": [
          "제주"
         ],
         "legendgroup": "제주",
         "marker": {
          "color": "#19d3f3",
          "size": {
           "bdata": "AAAAAAAogUA=",
           "dtype": "f8"
          },
          "sizemode": "area",
          "sizeref": 1.0863888888888888,
          "symbol": "circle"
         },
         "mode": "markers+text",
         "name": "제주",
         "orientation": "v",
         "showlegend": true,
         "type": "scatter",
         "x": {
          "bdata": "VVVVVVV1ekA=",
          "dtype": "f8"
         },
         "xaxis": "x",
         "y": {
          "bdata": "342fj8XZJ0A=",
          "dtype": "f8"
         },
         "yaxis": "y"
        },
        {
         "hovertemplate": "<b>%{hovertext}</b><br><br>지역=%{text}<br>일사량(MJ/m2)=%{x}<br>설비이용률(%)=%{y}<br>버블크기=%{marker.size}<extra></extra>",
         "hovertext": [
          "대구"
         ],
         "legendgroup": "대구",
         "marker": {
          "color": "#FF6692",
          "size": {
           "bdata": "AAAAAACQcEA=",
           "dtype": "f8"
          },
          "sizemode": "area",
          "sizeref": 1.0863888888888888,
          "symbol": "circle"
         },
         "mode": "markers+text",
         "name": "대구",
         "orientation": "v",
         "showlegend": true,
         "type": "scatter",
         "x": {
          "bdata": "AAAAAACwfEA=",
          "dtype": "f8"
         },
         "xaxis": "x",
         "y": {
          "bdata": "uXvaYrLYJUA=",
          "dtype": "f8"
         },
         "yaxis": "y"
        },
        {
         "hovertemplate": "<b>%{hovertext}</b><br><br>지역=%{text}<br>일사량(MJ/m2)=%{x}<br>설비이용률(%)=%{y}<br>버블크기=%{marker.size}<extra></extra>",
         "hovertext": [
          "경남"
         ],
         "legendgroup": "경남",
         "marker": {
          "color": "#B6E880",
          "size": {
           "bdata": "AAAAAAAMlUA=",
           "dtype": "f8"
          },
          "sizemode": "area",
          "sizeref": 1.0863888888888888,
          "symbol": "circle"
         },
         "mode": "markers+text",
         "name": "경남",
         "orientation": "v",
         "showlegend": true,
         "type": "scatter",
         "x": {
          "bdata": "q6qqqqoifUA=",
          "dtype": "f8"
         },
         "xaxis": "x",
         "y": {
          "bdata": "5XVQlDfjJ0A=",
          "dtype": "f8"
         },
         "yaxis": "y"
        },
        {
         "hovertemplate": "<b>%{hovertext}</b><br><br>지역=%{text}<br>일사량(MJ/m2)=%{x}<br>설비이용률(%)=%{y}<br>버블크기=%{marker.size}<extra></extra>",
         "hovertext": [
          "인천"
         ],
         "legendgroup": "인천",
         "marker": {
          "color": "#FF97FF",
          "size": {
           "bdata": "AAAAAACAW0A=",
           "dtype": "f8"
          },
          "sizemode": "area",
          "sizeref": 1.0863888888888888,
          "symbol": "circle"
         },
         "mode": "markers+text",
         "name": "인천",
         "orientation": "v",
         "showlegend": true,
         "type": "scatter",
         "x": {
          "bdata": "VVVVVVXNekA=",
          "dtype": "f8"
         },
         "xaxis": "x",
         "y": {
          "bdata": "uwU6LkWtJ0A=",
          "dtype": "f8"
         },
         "yaxis": "y"
        },
        {
         "hovertemplate": "<b>%{hovertext}</b><br><br>지역=%{text}<br>일사량(MJ/m2)=%{x}<br>설비이용률(%)=%{y}<br>버블크기=%{marker.size}<extra></extra>",
         "hovertext": [
          "대전"
         ],
         "legendgroup": "대전",
         "marker": {
          "color": "#FECB52",
          "size": {
           "bdata": "AAAAAAAASUA=",
           "dtype": "f8"
          },
          "sizemode": "area",
          "sizeref": 1.0863888888888888,
          "symbol": "circle"
         },
         "mode": "markers+text",
         "name": "대전",
         "orientation": "v",
         "showlegend": true,
         "type": "scatter",
         "x": {
          "bdata": "VVVVVVURekA=",
          "dtype": "f8"
         },
         "xaxis": "x",
         "y": {
          "bdata": "ZTGEE4DIJEA=",
          "dtype": "f8"
         },
         "yaxis": "y"
        },
        {
         "hovertemplate": "<b>%{hovertext}</b><br><br>지역=%{text}<br>일사량(MJ/m2)=%{x}<br>설비이용률(%)=%{y}<br>버블크기=%{marker.size}<extra></extra>",
         "hovertext": [
          "경북"
         ],
         "legendgroup": "경북",
         "marker": {
          "color": "#636efa",
          "size": {
           "bdata": "AAAAAADSokA=",
           "dtype": "f8"
          },
          "sizemode": "area",
          "sizeref": 1.0863888888888888,
          "symbol": "circle"
         },
         "mode": "markers+text",
         "name": "경북",
         "orientation": "v",
         "showlegend": true,
         "type": "scatter",
         "x": {
          "bdata": "q6qqqqr2e0A=",
          "dtype": "f8"
         },
         "xaxis": "x",
         "y": {
          "bdata": "UHXrDmfFJ0A=",
          "dtype": "f8"
         },
         "yaxis": "y"
        },
        {
         "hovertemplate": "<b>%{hovertext}</b><br><br>지역=%{text}<br>일사량(MJ/m2)=%{x}<br>설비이용률(%)=%{y}<br>버블크기=%{marker.size}<extra></extra>",
         "hovertext": [
          "광주"
         ],
         "legendgroup": "광주",
         "marker": {
          "color": "#EF553B",
          "size": {
           "bdata": "AAAAAAAgb0A=",
           "dtype": "f8"
          },
          "sizemode": "area",
          "sizeref": 1.0863888888888888,
          "symbol": "circle"
         },
         "mode": "markers+text",
         "name": "광주",
         "orientation": "v",
         "showlegend": true,
         "type": "scatter",
         "x": {
          "bdata": "AAAAAACYfEA=",
          "dtype": "f8"
         },
         "xaxis": "x",
         "y": {
          "bdata": "1S4DHq38JkA=",
          "dtype": "f8"
         },
         "yaxis": "y"
        },
        {
         "hovertemplate": "<b>%{hovertext}</b><br><br>지역=%{text}<br>일사량(MJ/m2)=%{x}<br>설비이용률(%)=%{y}<br>버블크기=%{marker.size}<extra></extra>",
         "hovertext": [
          "경기"
         ],
         "legendgroup": "경기",
         "marker": {
          "color": "#00cc96",
          "size": {
           "bdata": "AAAAAAD4k0A=",
           "dtype": "f8"
          },
          "sizemode": "area",
          "sizeref": 1.0863888888888888,
          "symbol": "circle"
         },
         "mode": "markers+text",
         "name": "경기",
         "orientation": "v",
         "showlegend": true,
         "type": "scatter",
         "x": {
          "bdata": "q6qqqqpiekA=",
          "dtype": "f8"
         },
         "xaxis": "x",
         "y": {
          "bdata": "SmrCrJIJJkA=",
          "dtype": "f8"
         },
         "yaxis": "y"
        },
        {
         "hovertemplate": "<b>%{hovertext}</b><br><br>지역=%{text}<br>일사량(MJ/m2)=%{x}<br>설비이용률(%)=%{y}<br>버블크기=%{marker.size}<extra></extra>",
         "hovertext": [
          "충남"
         ],
         "legendgroup": "충남",
         "marker": {
          "color": "#ab63fa",
          "size": {
           "bdata": "AAAAAAC0o0A=",
           "dtype": "f8"
          },
          "sizemode": "area",
          "sizeref": 1.0863888888888888,
          "symbol": "circle"
         },
         "mode": "markers+text",
         "name": "충남",
         "orientation": "v",
         "showlegend": true,
         "type": "scatter",
         "x": {
          "bdata": "AAAAAADgekA=",
          "dtype": "f8"
         },
         "xaxis": "x",
         "y": {
          "bdata": "q1t70MMiKUA=",
          "dtype": "f8"
         },
         "yaxis": "y"
        },
        {
         "hovertemplate": "<b>%{hovertext}</b><br><br>지역=%{text}<br>일사량(MJ/m2)=%{x}<br>설비이용률(%)=%{y}<br>버블크기=%{marker.size}<extra></extra>",
         "hovertext": [
          "전남"
         ],
         "legendgroup": "전남",
         "marker": {
          "color": "#FFA15A",
          "size": {
           "bdata": "AAAAAACOrkA=",
           "dtype": "f8"
          },
          "sizemode": "area",
          "sizeref": 1.0863888888888888,
          "symbol": "circle"
         },
         "mode": "markers+text",
         "name": "전남",
         "orientation": "v",
         "showlegend": true,
         "type": "scatter",
         "x": {
          "bdata": "VVVVVVUde0A=",
          "dtype": "f8"
         },
         "xaxis": "x",
         "y": {
          "bdata": "Vc6XlfHyKkA=",
          "dtype": "f8"
         },
         "yaxis": "y"
        }
       ],
       "layout": {
        "annotations": [
         {
          "font": {
           "color": "white",
           "size": 11
          },
          "showarrow": false,
          "text": "<b>충북</b>",
          "x": 445.5,
          "y": 12.22453748365383
         },
         {
          "font": {
           "color": "white",
           "size": 11
          },
          "showarrow": false,
          "text": "<b>전북</b>",
          "x": 424.9166666666667,
          "y": 13.0999798689578
         },
         {
          "arrowhead": 2,
          "ax": 15,
          "ay": -15,
          "bgcolor": "rgba(255,255,255,0.6)",
          "font": {
           "color": "black",
           "size": 11
          },
          "showarrow": true,
          "text": "서울",
          "x": 429.3333333333333,
          "y": 13.40156704026567
         },
         {
          "font": {
           "color": "white",
           "size": 11
          },
          "showarrow": false,
          "text": "<b>강원</b>",
          "x": 431.75,
          "y": 12.94891876816106
         },
         {
          "arrowhead": 2,
          "ax": 15,
          "ay": -15,
          "bgcolor": "rgba(255,255,255,0.6)",
          "font": {
           "color": "black",
           "size": 11
          },
          "showarrow": true,
          "text": "부산",
          "x": 476.1666666666667,
          "y": 11.21857373086221
         },
         {
          "font": {
           "color": "white",
           "size": 11
          },
          "showarrow": false,
          "text": "<b>제주</b>",
          "x": 423.3333333333333,
          "y": 11.92533539602931
         },
         {
          "arrowhead": 2,
          "ax": 15,
          "ay": -15,
          "bgcolor": "rgba(255,255,255,0.6)",
          "font": {
           "color": "black",
           "size": 11
          },
          "showarrow": true,
          "text": "대구",
          "x": 459,
          "y": 10.92323597828896
         },
         {
          "font": {
           "color": "white",
           "size": 11
          },
          "showarrow": false,
          "text": "<b>경남</b>",
          "x": 466.1666666666667,
          "y": 11.94378341180977
         },
         {
          "arrowhead": 2,
          "ax": 15,
          "ay": -15,
          "bgcolor": "rgba(255,255,255,0.6)",
          "font": {
           "color": "black",
           "size": 11
          },
          "showarrow": true,
          "text": "인천",
          "x": 428.8333333333333,
          "y": 11.83841843088418
         },
         {
          "arrowhead": 2,
          "ax": 15,
          "ay": -15,
          "bgcolor": "rgba(255,255,255,0.6)",
          "font": {
           "color": "black",
           "size": 11
          },
          "showarrow": true,
          "text": "대전",
          "x": 417.0833333333333,
          "y": 10.39160214413341
         },
         {
          "font": {
           "color": "white",
           "size": 11
          },
          "showarrow": false,
          "text": "<b>경북</b>",
          "x": 447.4166666666667,
          "y": 11.88555189728018
         },
         {
          "arrowhead": 2,
          "ax": 15,
          "ay": -15,
          "bgcolor": "rgba(255,255,255,0.6)",
          "font": {
           "color": "black",
           "size": 11
          },
          "showarrow": true,
          "text": "광주",
          "x": 457.5,
          "y": 11.49350827969412
         },
         {
          "font": {
           "color": "white",
           "size": 11
          },
          "showarrow": false,
          "text": "<b>경기</b>",
          "x": 422.1666666666667,
          "y": 11.01869716523392
         },
         {
          "font": {
           "color": "white",
           "size": 11
          },
          "showarrow": false,
          "text": "<b>충남</b>",
          "x": 430,
          "y": 12.56790019517742
         },
         {
          "font": {
           "color": "white",
           "size": 11
          },
          "showarrow": false,
          "text": "<b>전남</b>",
          "x": 433.8333333333333,
          "y": 13.47449939230061
         },
         {
          "font": {
           "color": "green"
          },
          "showarrow": false,
          "text": "성과 우수 (자원↑, 효율↑)",
          "x": 476.1666666666667,
          "xanchor": "right",
          "y": 13.47449939230061,
          "yanchor": "bottom"
         },
         {
          "font": {
           "color": "blue"
          },
          "showarrow": false,
          "text": "효율 우수 (자원↓, 효율↑)",
          "x": 417.0833333333333,
          "xanchor": "left",
          "y": 13.47449939230061,
          "yanchor": "bottom"
         },
         {
          "font": {
           "color": "orange"
          },
          "showarrow": false,
          "text": "잠재력 有 (자원↑, 효율↓)",
          "x": 476.1666666666667,
          "xanchor": "right",
          "y": 10.39160214413341,
          "yanchor": "top"
         },
         {
          "font": {
           "color": "grey"
          },
          "showarrow": false,
          "text": "저효율 (자원↓, 효율↓)",
          "x": 417.0833333333333,
          "xanchor": "left",
          "y": 10.39160214413341,
          "yanchor": "top"
         }
        ],
        "legend": {
         "itemsizing": "constant",
         "title": {
          "text": "지역"
         },
         "tracegroupgap": 0
        },
        "shapes": [
         {
          "line": {
           "color": "red",
           "dash": "dash",
           "width": 2
          },
          "type": "line",
          "x0": 439.5333333333334,
          "x1": 439.5333333333334,
          "y0": 10.39160214413341,
          "y1": 13.47449939230061
         },
         {
          "line": {
           "color": "red",
           "dash": "dash",
           "width": 2
          },
          "type": "line",
          "x0": 417.0833333333333,
          "x1": 476.1666666666667,
          "y0": 12.023740612182163,
          "y1": 12.023740612182163
         }
        ],
        "template": {
         "data": {
          "bar": [
           {
            "error_x": {
             "color": "#2a3f5f"
            },
            "error_y": {
             "color": "#2a3f5f"
            },
            "marker": {
             "line": {
              "color": "white",
              "width": 0.5
             },
             "pattern": {
              "fillmode": "overlay",
              "size": 10,
              "solidity": 0.2
             }
            },
            "type": "bar"
           }
          ],
          "barpolar": [
           {
            "marker": {
             "line": {
              "color": "white",
              "width": 0.5
             },
             "pattern": {
              "fillmode": "overlay",
              "size": 10,
              "solidity": 0.2
             }
            },
            "type": "barpolar"
           }
          ],
          "carpet": [
           {
            "aaxis": {
             "endlinecolor": "#2a3f5f",
             "gridcolor": "#C8D4E3",
             "linecolor": "#C8D4E3",
             "minorgridcolor": "#C8D4E3",
             "startlinecolor": "#2a3f5f"
            },
            "baxis": {
             "endlinecolor": "#2a3f5f",
             "gridcolor": "#C8D4E3",
             "linecolor": "#C8D4E3",
             "minorgridcolor": "#C8D4E3",
             "startlinecolor": "#2a3f5f"
            },
            "type": "carpet"
           }
          ],
          "choropleth": [
           {
            "colorbar": {
             "outlinewidth": 0,
             "ticks": ""
            },
            "type": "choropleth"
           }
          ],
          "contour": [
           {
            "colorbar": {
             "outlinewidth": 0,
             "ticks": ""
            },
            "colorscale": [
             [
              0,
              "#0d0887"
             ],
             [
              0.1111111111111111,
              "#46039f"
             ],
             [
              0.2222222222222222,
              "#7201a8"
             ],
             [
              0.3333333333333333,
              "#9c179e"
             ],
             [
              0.4444444444444444,
              "#bd3786"
             ],
             [
              0.5555555555555556,
              "#d8576b"
             ],
             [
              0.6666666666666666,
              "#ed7953"
             ],
             [
              0.7777777777777778,
              "#fb9f3a"
             ],
             [
              0.8888888888888888,
              "#fdca26"
             ],
             [
              1,
              "#f0f921"
             ]
            ],
            "type": "contour"
           }
          ],
          "contourcarpet": [
           {
            "colorbar": {
             "outlinewidth": 0,
             "ticks": ""
            },
            "type": "contourcarpet"
           }
          ],
          "heatmap": [
           {
            "colorbar": {
             "outlinewidth": 0,
             "ticks": ""
            },
            "colorscale": [
             [
              0,
              "#0d0887"
             ],
             [
              0.1111111111111111,
              "#46039f"
             ],
             [
              0.2222222222222222,
              "#7201a8"
             ],
             [
              0.3333333333333333,
              "#9c179e"
             ],
             [
              0.4444444444444444,
              "#bd3786"
             ],
             [
              0.5555555555555556,
              "#d8576b"
             ],
             [
              0.6666666666666666,
              "#ed7953"
             ],
             [
              0.7777777777777778,
              "#fb9f3a"
             ],
             [
              0.8888888888888888,
              "#fdca26"
             ],
             [
              1,
              "#f0f921"
             ]
            ],
            "type": "heatmap"
           }
          ],
          "histogram": [
           {
            "marker": {
             "pattern": {
              "fillmode": "overlay",
              "size": 10,
              "solidity": 0.2
             }
            },
            "type": "histogram"
           }
          ],
          "histogram2d": [
           {
            "colorbar": {
             "outlinewidth": 0,
             "ticks": ""
            },
            "colorscale": [
             [
              0,
              "#0d0887"
             ],
             [
              0.1111111111111111,
              "#46039f"
             ],
             [
              0.2222222222222222,
              "#7201a8"
             ],
             [
              0.3333333333333333,
              "#9c179e"
             ],
             [
              0.4444444444444444,
              "#bd3786"
             ],
             [
              0.5555555555555556,
              "#d8576b"
             ],
             [
              0.6666666666666666,
              "#ed7953"
             ],
             [
              0.7777777777777778,
              "#fb9f3a"
             ],
             [
              0.8888888888888888,
              "#fdca26"
             ],
             [
              1,
              "#f0f921"
             ]
            ],
            "type": "histogram2d"
           }
          ],
          "histogram2dcontour": [
           {
            "colorbar": {
             "outlinewidth": 0,
             "ticks": ""
            },
            "colorscale": [
             [
              0,
              "#0d0887"
             ],
             [
              0.1111111111111111,
              "#46039f"
             ],
             [
              0.2222222222222222,
              "#7201a8"
             ],
             [
              0.3333333333333333,
              "#9c179e"
             ],
             [
              0.4444444444444444,
              "#bd3786"
             ],
             [
              0.5555555555555556,
              "#d8576b"
             ],
             [
              0.6666666666666666,
              "#ed7953"
             ],
             [
              0.7777777777777778,
              "#fb9f3a"
             ],
             [
              0.8888888888888888,
              "#fdca26"
             ],
             [
              1,
              "#f0f921"
             ]
            ],
            "type": "histogram2dcontour"
           }
          ],
          "mesh3d": [
           {
            "colorbar": {
             "outlinewidth": 0,
             "ticks": ""
            },
            "type": "mesh3d"
           }
          ],
          "parcoords": [
           {
            "line": {
             "colorbar": {
              "outlinewidth": 0,
              "ticks": ""
             }
            },
            "type": "parcoords"
           }
          ],
          "pie": [
           {
            "automargin": true,
            "type": "pie"
           }
          ],
          "scatter": [
           {
            "fillpattern": {
             "fillmode": "overlay",
             "size": 10,
             "solidity": 0.2
            },
            "type": "scatter"
           }
          ],
          "scatter3d": [
           {
            "line": {
             "colorbar": {
              "outlinewidth": 0,
              "ticks": ""
             }
            },
            "marker": {
             "colorbar": {
              "outlinewidth": 0,
              "ticks": ""
             }
            },
            "type": "scatter3d"
           }
          ],
          "scattercarpet": [
           {
            "marker": {
             "colorbar": {
              "outlinewidth": 0,
              "ticks": ""
             }
            },
            "type": "scattercarpet"
           }
          ],
          "scattergeo": [
           {
            "marker": {
             "colorbar": {
              "outlinewidth": 0,
              "ticks": ""
             }
            },
            "type": "scattergeo"
           }
          ],
          "scattergl": [
           {
            "marker": {
             "colorbar": {
              "outlinewidth": 0,
              "ticks": ""
             }
            },
            "type": "scattergl"
           }
          ],
          "scattermap": [
           {
            "marker": {
             "colorbar": {
              "outlinewidth": 0,
              "ticks": ""
             }
            },
            "type": "scattermap"
           }
          ],
          "scattermapbox": [
           {
            "marker": {
             "colorbar": {
              "outlinewidth": 0,
              "ticks": ""
             }
            },
            "type": "scattermapbox"
           }
          ],
          "scatterpolar": [
           {
            "marker": {
             "colorbar": {
              "outlinewidth": 0,
              "ticks": ""
             }
            },
            "type": "scatterpolar"
           }
          ],
          "scatterpolargl": [
           {
            "marker": {
             "colorbar": {
              "outlinewidth": 0,
              "ticks": ""
             }
            },
            "type": "scatterpolargl"
           }
          ],
          "scatterternary": [
           {
            "marker": {
             "colorbar": {
              "outlinewidth": 0,
              "ticks": ""
             }
            },
            "type": "scatterternary"
           }
          ],
          "surface": [
           {
            "colorbar": {
             "outlinewidth": 0,
             "ticks": ""
            },
            "colorscale": [
             [
              0,
              "#0d0887"
             ],
             [
              0.1111111111111111,
              "#46039f"
             ],
             [
              0.2222222222222222,
              "#7201a8"
             ],
             [
              0.3333333333333333,
              "#9c179e"
             ],
             [
              0.4444444444444444,
              "#bd3786"
             ],
             [
              0.5555555555555556,
              "#d8576b"
             ],
             [
              0.6666666666666666,
              "#ed7953"
             ],
             [
              0.7777777777777778,
              "#fb9f3a"
             ],
             [
              0.8888888888888888,
              "#fdca26"
             ],
             [
              1,
              "#f0f921"
             ]
            ],
            "type": "surface"
           }
          ],
          "table": [
           {
            "cells": {
             "fill": {
              "color": "#EBF0F8"
             },
             "line": {
              "color": "white"
             }
            },
            "header": {
             "fill": {
              "color": "#C8D4E3"
             },
             "line": {
              "color": "white"
             }
            },
            "type": "table"
           }
          ]
         },
         "layout": {
          "annotationdefaults": {
           "arrowcolor": "#2a3f5f",
           "arrowhead": 0,
           "arrowwidth": 1
          },
          "autotypenumbers": "strict",
          "coloraxis": {
           "colorbar": {
            "outlinewidth": 0,
            "ticks": ""
           }
          },
          "colorscale": {
           "diverging": [
            [
             0,
             "#8e0152"
            ],
            [
             0.1,
             "#c51b7d"
            ],
            [
             0.2,
             "#de77ae"
            ],
            [
             0.3,
             "#f1b6da"
            ],
            [
             0.4,
             "#fde0ef"
            ],
            [
             0.5,
             "#f7f7f7"
            ],
            [
             0.6,
             "#e6f5d0"
            ],
            [
             0.7,
             "#b8e186"
            ],
            [
             0.8,
             "#7fbc41"
            ],
            [
             0.9,
             "#4d9221"
            ],
            [
             1,
             "#276419"
            ]
           ],
           "sequential": [
            [
             0,
             "#0d0887"
            ],
            [
             0.1111111111111111,
             "#46039f"
            ],
            [
             0.2222222222222222,
             "#7201a8"
            ],
            [
             0.3333333333333333,
             "#9c179e"
            ],
            [
             0.4444444444444444,
             "#bd3786"
            ],
            [
             0.5555555555555556,
             "#d8576b"
            ],
            [
             0.6666666666666666,
             "#ed7953"
            ],
            [
             0.7777777777777778,
             "#fb9f3a"
            ],
            [
             0.8888888888888888,
             "#fdca26"
            ],
            [
             1,
             "#f0f921"
            ]
           ],
           "sequentialminus": [
            [
             0,
             "#0d0887"
            ],
            [
             0.1111111111111111,
             "#46039f"
            ],
            [
             0.2222222222222222,
             "#7201a8"
            ],
            [
             0.3333333333333333,
             "#9c179e"
            ],
            [
             0.4444444444444444,
             "#bd3786"
            ],
            [
             0.5555555555555556,
             "#d8576b"
            ],
            [
             0.6666666666666666,
             "#ed7953"
            ],
            [
             0.7777777777777778,
             "#fb9f3a"
            ],
            [
             0.8888888888888888,
             "#fdca26"
            ],
            [
             1,
             "#f0f921"
            ]
           ]
          },
          "colorway": [
           "#636efa",
           "#EF553B",
           "#00cc96",
           "#ab63fa",
           "#FFA15A",
           "#19d3f3",
           "#FF6692",
           "#B6E880",
           "#FF97FF",
           "#FECB52"
          ],
          "font": {
           "color": "#2a3f5f"
          },
          "geo": {
           "bgcolor": "white",
           "lakecolor": "white",
           "landcolor": "white",
           "showlakes": true,
           "showland": true,
           "subunitcolor": "#C8D4E3"
          },
          "hoverlabel": {
           "align": "left"
          },
          "hovermode": "closest",
          "mapbox": {
           "style": "light"
          },
          "paper_bgcolor": "white",
          "plot_bgcolor": "white",
          "polar": {
           "angularaxis": {
            "gridcolor": "#EBF0F8",
            "linecolor": "#EBF0F8",
            "ticks": ""
           },
           "bgcolor": "white",
           "radialaxis": {
            "gridcolor": "#EBF0F8",
            "linecolor": "#EBF0F8",
            "ticks": ""
           }
          },
          "scene": {
           "xaxis": {
            "backgroundcolor": "white",
            "gridcolor": "#DFE8F3",
            "gridwidth": 2,
            "linecolor": "#EBF0F8",
            "showbackground": true,
            "ticks": "",
            "zerolinecolor": "#EBF0F8"
           },
           "yaxis": {
            "backgroundcolor": "white",
            "gridcolor": "#DFE8F3",
            "gridwidth": 2,
            "linecolor": "#EBF0F8",
            "showbackground": true,
            "ticks": "",
            "zerolinecolor": "#EBF0F8"
           },
           "zaxis": {
            "backgroundcolor": "white",
            "gridcolor": "#DFE8F3",
            "gridwidth": 2,
            "linecolor": "#EBF0F8",
            "showbackground": true,
            "ticks": "",
            "zerolinecolor": "#EBF0F8"
           }
          },
          "shapedefaults": {
           "line": {
            "color": "#2a3f5f"
           }
          },
          "ternary": {
           "aaxis": {
            "gridcolor": "#DFE8F3",
            "linecolor": "#A2B1C6",
            "ticks": ""
           },
           "baxis": {
            "gridcolor": "#DFE8F3",
            "linecolor": "#A2B1C6",
            "ticks": ""
           },
           "bgcolor": "white",
           "caxis": {
            "gridcolor": "#DFE8F3",
            "linecolor": "#A2B1C6",
            "ticks": ""
           }
          },
          "title": {
           "x": 0.05
          },
          "xaxis": {
           "automargin": true,
           "gridcolor": "#EBF0F8",
           "linecolor": "#EBF0F8",
           "ticks": "",
           "title": {
            "standoff": 15
           },
           "zerolinecolor": "#EBF0F8",
           "zerolinewidth": 2
          },
          "yaxis": {
           "automargin": true,
           "gridcolor": "#EBF0F8",
           "linecolor": "#EBF0F8",
           "ticks": "",
           "title": {
            "standoff": 15
           },
           "zerolinecolor": "#EBF0F8",
           "zerolinewidth": 2
          }
         }
        },
        "title": {
         "text": "2021년 지역별 일사량과 설비이용률 비교 분석"
        },
        "xaxis": {
         "anchor": "y",
         "domain": [
          0,
          1
         ],
         "range": [
          414.12916666666666,
          479.12083333333334
         ],
         "title": {
          "text": "합계 일사량 (MJ/m²)"
         }
        },
        "yaxis": {
         "anchor": "x",
         "domain": [
          0,
          1
         ],
         "range": [
          10.23745728172505,
          13.62864425470897
         ],
         "title": {
          "text": "설비이용률 (%)"
         }
        }
       }
      }
     },
     "metadata": {},
     "output_type": "display_data"
    }
   ],
   "source": [
    "import pandas as pd\n",
    "import plotly.express as px\n",
    "\n",
    "df_2021 = merged[merged[\"연도\"] == 2021].copy()\n",
    "\n",
    "# 버블 크기 (설비용량 기반, 최소값 보정)\n",
    "df_2021[\"버블크기\"] = df_2021[\"설비용량(MW)\"].apply(lambda v: max(50, float(v)))\n",
    "\n",
    "# 숫자형 변환\n",
    "x = pd.to_numeric(df_2021[\"일사량(MJ/m2)\"], errors=\"coerce\")\n",
    "y = pd.to_numeric(df_2021[\"설비이용률(%)\"], errors=\"coerce\")\n",
    "\n",
    "xmin, xmax = float(x.min()), float(x.max())\n",
    "ymin, ymax = float(y.min()), float(y.max())\n",
    "padx = (xmax - xmin) * 0.05\n",
    "pady = (ymax - ymin) * 0.05\n",
    "\n",
    "mean_x = x.mean()\n",
    "mean_y = y.mean()\n",
    "\n",
    "# 산점도\n",
    "fig = px.scatter(\n",
    "    df_2021,\n",
    "    x=\"일사량(MJ/m2)\",\n",
    "    y=\"설비이용률(%)\",\n",
    "    size=\"버블크기\",\n",
    "    color=\"지역\",\n",
    "    hover_name=\"지역\",\n",
    "    text=\"지역\",\n",
    "    size_max=60,\n",
    "    title=\"2021년 지역별 일사량과 설비이용률 비교 분석\"\n",
    ")\n",
    "\n",
    "# 기본 텍스트 제거 (조건부로 다시 추가)\n",
    "fig.update_traces(text=None)\n",
    "\n",
    "# 큰/작은 버블 라벨 처리\n",
    "THRESH = 500  # 작은 버블 기준 (MW)\n",
    "\n",
    "for _, row in df_2021.iterrows():\n",
    "    if row[\"버블크기\"] >= THRESH:\n",
    "        # 큰 버블 → 중앙에 흰 글자(굵게 보이게 HTML 태그 사용)\n",
    "        fig.add_annotation(\n",
    "            x=row[\"일사량(MJ/m2)\"],\n",
    "            y=row[\"설비이용률(%)\"],\n",
    "            text=f\"<b>{row['지역']}</b>\",\n",
    "            showarrow=False,\n",
    "            font=dict(color=\"white\", size=11)\n",
    "        )\n",
    "    else:\n",
    "        # 작은 버블 → 바깥쪽 라벨 + 화살표\n",
    "        fig.add_annotation(\n",
    "            x=row[\"일사량(MJ/m2)\"],\n",
    "            y=row[\"설비이용률(%)\"],\n",
    "            text=row[\"지역\"],\n",
    "            showarrow=True, arrowhead=2,\n",
    "            ax=15, ay=-15,\n",
    "            font=dict(color=\"black\", size=11),\n",
    "            bgcolor=\"rgba(255,255,255,0.6)\"\n",
    "        )\n",
    "\n",
    "# 평균선\n",
    "fig.add_shape(type=\"line\", x0=mean_x, y0=ymin, x1=mean_x, y1=ymax,\n",
    "                line=dict(color=\"red\", dash=\"dash\", width=2))\n",
    "fig.add_shape(type=\"line\", x0=xmin, y0=mean_y, x1=xmax, y1=mean_y,\n",
    "                line=dict(color=\"red\", dash=\"dash\", width=2))\n",
    "\n",
    "# 사분면 라벨\n",
    "fig.add_annotation(x=xmax, y=ymax, text=\"성과 우수 (자원↑, 효율↑)\",\n",
    "                    showarrow=False, font=dict(color=\"green\"), xanchor=\"right\", yanchor=\"bottom\")\n",
    "fig.add_annotation(x=xmin, y=ymax, text=\"효율 우수 (자원↓, 효율↑)\",\n",
    "                    showarrow=False, font=dict(color=\"blue\"), xanchor=\"left\", yanchor=\"bottom\")\n",
    "fig.add_annotation(x=xmax, y=ymin, text=\"잠재력 有 (자원↑, 효율↓)\",\n",
    "                    showarrow=False, font=dict(color=\"orange\"), xanchor=\"right\", yanchor=\"top\")\n",
    "fig.add_annotation(x=xmin, y=ymin, text=\"저효율 (자원↓, 효율↓)\",\n",
    "                    showarrow=False, font=dict(color=\"grey\"), xanchor=\"left\", yanchor=\"top\")\n",
    "\n",
    "# 축 범위\n",
    "fig.update_xaxes(range=[xmin - padx, xmax + padx], title=\"합계 일사량 (MJ/m²)\")\n",
    "fig.update_yaxes(range=[ymin - pady, ymax + pady], title=\"설비이용률 (%)\")\n",
    "fig.update_layout(template=\"plotly_white\")\n",
    "\n",
    "fig.show()"
   ]
  },
  {
   "cell_type": "code",
   "execution_count": 84,
   "id": "00e0f266",
   "metadata": {},
   "outputs": [
    {
     "data": {
      "application/vnd.plotly.v1+json": {
       "config": {
        "plotlyServerURL": "https://plot.ly"
       },
       "data": [
        {
         "hovertemplate": "<b>%{hovertext}</b><br><br>지역=%{text}<br>일사량(MJ/m2)=%{x}<br>설비이용률(%)=%{y}<br>버블크기=%{marker.size}<extra></extra>",
         "hovertext": [
          "강원"
         ],
         "legendgroup": "강원",
         "marker": {
          "color": "#636efa",
          "size": {
           "bdata": "AAAAAABEkUA=",
           "dtype": "f8"
          },
          "sizemode": "area",
          "sizeref": 0.8483333333333334,
          "symbol": "circle"
         },
         "mode": "markers+text",
         "name": "강원",
         "orientation": "v",
         "showlegend": true,
         "type": "scatter",
         "x": {
          "bdata": "VVVVVVXVekA=",
          "dtype": "f8"
         },
         "xaxis": "x",
         "y": {
          "bdata": "LLNhl4wUKUA=",
          "dtype": "f8"
         },
         "yaxis": "y"
        },
        {
         "hovertemplate": "<b>%{hovertext}</b><br><br>지역=%{text}<br>일사량(MJ/m2)=%{x}<br>설비이용률(%)=%{y}<br>버블크기=%{marker.size}<extra></extra>",
         "hovertext": [
          "서울"
         ],
         "legendgroup": "서울",
         "marker": {
          "color": "#EF553B",
          "size": {
           "bdata": "AAAAAAAASUA=",
           "dtype": "f8"
          },
          "sizemode": "area",
          "sizeref": 0.8483333333333334,
          "symbol": "circle"
         },
         "mode": "markers+text",
         "name": "서울",
         "orientation": "v",
         "showlegend": true,
         "type": "scatter",
         "x": {
          "bdata": "VVVVVVWlekA=",
          "dtype": "f8"
         },
         "xaxis": "x",
         "y": {
          "bdata": "thRuyd2PKkA=",
          "dtype": "f8"
         },
         "yaxis": "y"
        },
        {
         "hovertemplate": "<b>%{hovertext}</b><br><br>지역=%{text}<br>일사량(MJ/m2)=%{x}<br>설비이용률(%)=%{y}<br>버블크기=%{marker.size}<extra></extra>",
         "hovertext": [
          "부산"
         ],
         "legendgroup": "부산",
         "marker": {
          "color": "#00cc96",
          "size": {
           "bdata": "AAAAAAAAYkA=",
           "dtype": "f8"
          },
          "sizemode": "area",
          "sizeref": 0.8483333333333334,
          "symbol": "circle"
         },
         "mode": "markers+text",
         "name": "부산",
         "orientation": "v",
         "showlegend": true,
         "type": "scatter",
         "x": {
          "bdata": "q6qqqqqmfUA=",
          "dtype": "f8"
         },
         "xaxis": "x",
         "y": {
          "bdata": "wWoOqzmMJUA=",
          "dtype": "f8"
         },
         "yaxis": "y"
        },
        {
         "hovertemplate": "<b>%{hovertext}</b><br><br>지역=%{text}<br>일사량(MJ/m2)=%{x}<br>설비이용률(%)=%{y}<br>버블크기=%{marker.size}<extra></extra>",
         "hovertext": [
          "제주"
         ],
         "legendgroup": "제주",
         "marker": {
          "color": "#ab63fa",
          "size": {
           "bdata": "AAAAAACQekA=",
           "dtype": "f8"
          },
          "sizemode": "area",
          "sizeref": 0.8483333333333334,
          "symbol": "circle"
         },
         "mode": "markers+text",
         "name": "제주",
         "orientation": "v",
         "showlegend": true,
         "type": "scatter",
         "x": {
          "bdata": "AAAAAAAQekA=",
          "dtype": "f8"
         },
         "xaxis": "x",
         "y": {
          "bdata": "Ldo49nBmJUA=",
          "dtype": "f8"
         },
         "yaxis": "y"
        },
        {
         "hovertemplate": "<b>%{hovertext}</b><br><br>지역=%{text}<br>일사량(MJ/m2)=%{x}<br>설비이용률(%)=%{y}<br>버블크기=%{marker.size}<extra></extra>",
         "hovertext": [
          "경북"
         ],
         "legendgroup": "경북",
         "marker": {
          "color": "#FFA15A",
          "size": {
           "bdata": "AAAAAACsm0A=",
           "dtype": "f8"
          },
          "sizemode": "area",
          "sizeref": 0.8483333333333334,
          "symbol": "circle"
         },
         "mode": "markers+text",
         "name": "경북",
         "orientation": "v",
         "showlegend": true,
         "type": "scatter",
         "x": {
          "bdata": "VVVVVVWVfEA=",
          "dtype": "f8"
         },
         "xaxis": "x",
         "y": {
          "bdata": "SjO5/0p2J0A=",
          "dtype": "f8"
         },
         "yaxis": "y"
        },
        {
         "hovertemplate": "<b>%{hovertext}</b><br><br>지역=%{text}<br>일사량(MJ/m2)=%{x}<br>설비이용률(%)=%{y}<br>버블크기=%{marker.size}<extra></extra>",
         "hovertext": [
          "대구"
         ],
         "legendgroup": "대구",
         "marker": {
          "color": "#19d3f3",
          "size": {
           "bdata": "AAAAAAAAaUA=",
           "dtype": "f8"
          },
          "sizemode": "area",
          "sizeref": 0.8483333333333334,
          "symbol": "circle"
         },
         "mode": "markers+text",
         "name": "대구",
         "orientation": "v",
         "showlegend": true,
         "type": "scatter",
         "x": {
          "bdata": "VVVVVVXxfEA=",
          "dtype": "f8"
         },
         "xaxis": "x",
         "y": {
          "bdata": "Wm6Y7JTlJUA=",
          "dtype": "f8"
         },
         "yaxis": "y"
        },
        {
         "hovertemplate": "<b>%{hovertext}</b><br><br>지역=%{text}<br>일사량(MJ/m2)=%{x}<br>설비이용률(%)=%{y}<br>버블크기=%{marker.size}<extra></extra>",
         "hovertext": [
          "경남"
         ],
         "legendgroup": "경남",
         "marker": {
          "color": "#FF6692",
          "size": {
           "bdata": "AAAAAAD0kEA=",
           "dtype": "f8"
          },
          "sizemode": "area",
          "sizeref": 0.8483333333333334,
          "symbol": "circle"
         },
         "mode": "markers+text",
         "name": "경남",
         "orientation": "v",
         "showlegend": true,
         "type": "scatter",
         "x": {
          "bdata": "AAAAAADkfEA=",
          "dtype": "f8"
         },
         "xaxis": "x",
         "y": {
          "bdata": "xsR7wKTYJkA=",
          "dtype": "f8"
         },
         "yaxis": "y"
        },
        {
         "hovertemplate": "<b>%{hovertext}</b><br><br>지역=%{text}<br>일사량(MJ/m2)=%{x}<br>설비이용률(%)=%{y}<br>버블크기=%{marker.size}<extra></extra>",
         "hovertext": [
          "인천"
         ],
         "legendgroup": "인천",
         "marker": {
          "color": "#B6E880",
          "size": {
           "bdata": "AAAAAAAAWUA=",
           "dtype": "f8"
          },
          "sizemode": "area",
          "sizeref": 0.8483333333333334,
          "symbol": "circle"
         },
         "mode": "markers+text",
         "name": "인천",
         "orientation": "v",
         "showlegend": true,
         "type": "scatter",
         "x": {
          "bdata": "AAAAAADYekA=",
          "dtype": "f8"
         },
         "xaxis": "x",
         "y": {
          "bdata": "c3BpWz8HJ0A=",
          "dtype": "f8"
         },
         "yaxis": "y"
        },
        {
         "hovertemplate": "<b>%{hovertext}</b><br><br>지역=%{text}<br>일사량(MJ/m2)=%{x}<br>설비이용률(%)=%{y}<br>버블크기=%{marker.size}<extra></extra>",
         "hovertext": [
          "경기"
         ],
         "legendgroup": "경기",
         "marker": {
          "color": "#FF97FF",
          "size": {
           "bdata": "AAAAAACAkEA=",
           "dtype": "f8"
          },
          "sizemode": "area",
          "sizeref": 0.8483333333333334,
          "symbol": "circle"
         },
         "mode": "markers+text",
         "name": "경기",
         "orientation": "v",
         "showlegend": true,
         "type": "scatter",
         "x": {
          "bdata": "VVVVVVU9ekA=",
          "dtype": "f8"
         },
         "xaxis": "x",
         "y": {
          "bdata": "WEdGwKT3JEA=",
          "dtype": "f8"
         },
         "yaxis": "y"
        },
        {
         "hovertemplate": "<b>%{hovertext}</b><br><br>지역=%{text}<br>일사량(MJ/m2)=%{x}<br>설비이용률(%)=%{y}<br>버블크기=%{marker.size}<extra></extra>",
         "hovertext": [
          "광주"
         ],
         "legendgroup": "광주",
         "marker": {
          "color": "#FECB52",
          "size": {
           "bdata": "AAAAAADgakA=",
           "dtype": "f8"
          },
          "sizemode": "area",
          "sizeref": 0.8483333333333334,
          "symbol": "circle"
         },
         "mode": "markers+text",
         "name": "광주",
         "orientation": "v",
         "showlegend": true,
         "type": "scatter",
         "x": {
          "bdata": "AAAAAAC4fEA=",
          "dtype": "f8"
         },
         "xaxis": "x",
         "y": {
          "bdata": "c9OuWbXpJ0A=",
          "dtype": "f8"
         },
         "yaxis": "y"
        },
        {
         "hovertemplate": "<b>%{hovertext}</b><br><br>지역=%{text}<br>일사량(MJ/m2)=%{x}<br>설비이용률(%)=%{y}<br>버블크기=%{marker.size}<extra></extra>",
         "hovertext": [
          "전남"
         ],
         "legendgroup": "전남",
         "marker": {
          "color": "#636efa",
          "size": {
           "bdata": "AAAAAADcp0A=",
           "dtype": "f8"
          },
          "sizemode": "area",
          "sizeref": 0.8483333333333334,
          "symbol": "circle"
         },
         "mode": "markers+text",
         "name": "전남",
         "orientation": "v",
         "showlegend": true,
         "type": "scatter",
         "x": {
          "bdata": "VVVVVVWheUA=",
          "dtype": "f8"
         },
         "xaxis": "x",
         "y": {
          "bdata": "Z7MZx7enKUA=",
          "dtype": "f8"
         },
         "yaxis": "y"
        },
        {
         "hovertemplate": "<b>%{hovertext}</b><br><br>지역=%{text}<br>일사량(MJ/m2)=%{x}<br>설비이용률(%)=%{y}<br>버블크기=%{marker.size}<extra></extra>",
         "hovertext": [
          "대전"
         ],
         "legendgroup": "대전",
         "marker": {
          "color": "#EF553B",
          "size": {
           "bdata": "AAAAAAAASUA=",
           "dtype": "f8"
          },
          "sizemode": "area",
          "sizeref": 0.8483333333333334,
          "symbol": "circle"
         },
         "mode": "markers+text",
         "name": "대전",
         "orientation": "v",
         "showlegend": true,
         "type": "scatter",
         "x": {
          "bdata": "AAAAAADEfEA=",
          "dtype": "f8"
         },
         "xaxis": "x",
         "y": {
          "bdata": "sBfyD9x6JUA=",
          "dtype": "f8"
         },
         "yaxis": "y"
        },
        {
         "hovertemplate": "<b>%{hovertext}</b><br><br>지역=%{text}<br>일사량(MJ/m2)=%{x}<br>설비이용률(%)=%{y}<br>버블크기=%{marker.size}<extra></extra>",
         "hovertext": [
          "충남"
         ],
         "legendgroup": "충남",
         "marker": {
          "color": "#00cc96",
          "size": {
           "bdata": "AAAAAADYn0A=",
           "dtype": "f8"
          },
          "sizemode": "area",
          "sizeref": 0.8483333333333334,
          "symbol": "circle"
         },
         "mode": "markers+text",
         "name": "충남",
         "orientation": "v",
         "showlegend": true,
         "type": "scatter",
         "x": {
          "bdata": "VVVVVVXlekA=",
          "dtype": "f8"
         },
         "xaxis": "x",
         "y": {
          "bdata": "Az7ZyQyUKEA=",
          "dtype": "f8"
         },
         "yaxis": "y"
        },
        {
         "hovertemplate": "<b>%{hovertext}</b><br><br>지역=%{text}<br>일사량(MJ/m2)=%{x}<br>설비이용률(%)=%{y}<br>버블크기=%{marker.size}<extra></extra>",
         "hovertext": [
          "울산"
         ],
         "legendgroup": "울산",
         "marker": {
          "color": "#ab63fa",
          "size": {
           "bdata": "AAAAAABAUUA=",
           "dtype": "f8"
          },
          "sizemode": "area",
          "sizeref": 0.8483333333333334,
          "symbol": "circle"
         },
         "mode": "markers+text",
         "name": "울산",
         "orientation": "v",
         "showlegend": true,
         "type": "scatter",
         "x": {
          "bdata": "VVVVVVUpf0A=",
          "dtype": "f8"
         },
         "xaxis": "x",
         "y": {
          "bdata": "DKekby6dJkA=",
          "dtype": "f8"
         },
         "yaxis": "y"
        },
        {
         "hovertemplate": "<b>%{hovertext}</b><br><br>지역=%{text}<br>일사량(MJ/m2)=%{x}<br>설비이용률(%)=%{y}<br>버블크기=%{marker.size}<extra></extra>",
         "hovertext": [
          "충북"
         ],
         "legendgroup": "충북",
         "marker": {
          "color": "#FFA15A",
          "size": {
           "bdata": "AAAAAABwikA=",
           "dtype": "f8"
          },
          "sizemode": "area",
          "sizeref": 0.8483333333333334,
          "symbol": "circle"
         },
         "mode": "markers+text",
         "name": "충북",
         "orientation": "v",
         "showlegend": true,
         "type": "scatter",
         "x": {
          "bdata": "q6qqqqr6e0A=",
          "dtype": "f8"
         },
         "xaxis": "x",
         "y": {
          "bdata": "viwfO0aCJ0A=",
          "dtype": "f8"
         },
         "yaxis": "y"
        },
        {
         "hovertemplate": "<b>%{hovertext}</b><br><br>지역=%{text}<br>일사량(MJ/m2)=%{x}<br>설비이용률(%)=%{y}<br>버블크기=%{marker.size}<extra></extra>",
         "hovertext": [
          "전북"
         ],
         "legendgroup": "전북",
         "marker": {
          "color": "#19d3f3",
          "size": {
           "bdata": "AAAAAAD+o0A=",
           "dtype": "f8"
          },
          "sizemode": "area",
          "sizeref": 0.8483333333333334,
          "symbol": "circle"
         },
         "mode": "markers+text",
         "name": "전북",
         "orientation": "v",
         "showlegend": true,
         "type": "scatter",
         "x": {
          "bdata": "AAAAAAAMe0A=",
          "dtype": "f8"
         },
         "xaxis": "x",
         "y": {
          "bdata": "HcFsrUy2KUA=",
          "dtype": "f8"
         },
         "yaxis": "y"
        }
       ],
       "layout": {
        "annotations": [
         {
          "font": {
           "color": "white",
           "size": 11
          },
          "showarrow": false,
          "text": "<b>강원</b>",
          "x": 429.3333333333333,
          "y": 12.54013512675882
         },
         {
          "arrowhead": 2,
          "ax": 15,
          "ay": -15,
          "bgcolor": "rgba(255,255,255,0.6)",
          "font": {
           "color": "black",
           "size": 11
          },
          "showarrow": true,
          "text": "서울",
          "x": 426.3333333333333,
          "y": 13.28098897427331
         },
         {
          "arrowhead": 2,
          "ax": 15,
          "ay": -15,
          "bgcolor": "rgba(255,255,255,0.6)",
          "font": {
           "color": "black",
           "size": 11
          },
          "showarrow": true,
          "text": "부산",
          "x": 474.4166666666667,
          "y": 10.77387747336377
         },
         {
          "arrowhead": 2,
          "ax": 15,
          "ay": -15,
          "bgcolor": "rgba(255,255,255,0.6)",
          "font": {
           "color": "black",
           "size": 11
          },
          "showarrow": true,
          "text": "제주",
          "x": 417,
          "y": 10.70008058017728
         },
         {
          "font": {
           "color": "white",
           "size": 11
          },
          "showarrow": false,
          "text": "<b>경북</b>",
          "x": 457.3333333333333,
          "y": 11.73104094634768
         },
         {
          "arrowhead": 2,
          "ax": 15,
          "ay": -15,
          "bgcolor": "rgba(255,255,255,0.6)",
          "font": {
           "color": "black",
           "size": 11
          },
          "showarrow": true,
          "text": "대구",
          "x": 463.0833333333333,
          "y": 10.94840182648402
         },
         {
          "font": {
           "color": "white",
           "size": 11
          },
          "showarrow": false,
          "text": "<b>경남</b>",
          "x": 462.25,
          "y": 11.42313195715759
         },
         {
          "arrowhead": 2,
          "ax": 15,
          "ay": -15,
          "bgcolor": "rgba(255,255,255,0.6)",
          "font": {
           "color": "black",
           "size": 11
          },
          "showarrow": true,
          "text": "인천",
          "x": 429.5,
          "y": 11.51415525114155
         },
         {
          "font": {
           "color": "white",
           "size": 11
          },
          "showarrow": false,
          "text": "<b>경기</b>",
          "x": 419.8333333333333,
          "y": 10.48367882593054
         },
         {
          "arrowhead": 2,
          "ax": 15,
          "ay": -15,
          "bgcolor": "rgba(255,255,255,0.6)",
          "font": {
           "color": "black",
           "size": 11
          },
          "showarrow": true,
          "text": "광주",
          "x": 459.5,
          "y": 11.95646171816927
         },
         {
          "font": {
           "color": "white",
           "size": 11
          },
          "showarrow": false,
          "text": "<b>전남</b>",
          "x": 410.0833333333333,
          "y": 12.82757398785334
         },
         {
          "arrowhead": 2,
          "ax": 15,
          "ay": -15,
          "bgcolor": "rgba(255,255,255,0.6)",
          "font": {
           "color": "black",
           "size": 11
          },
          "showarrow": true,
          "text": "대전",
          "x": 460.25,
          "y": 10.73996019201499
         },
         {
          "font": {
           "color": "white",
           "size": 11
          },
          "showarrow": false,
          "text": "<b>충남</b>",
          "x": 430.3333333333333,
          "y": 12.2891600682915
         },
         {
          "arrowhead": 2,
          "ax": 15,
          "ay": -15,
          "bgcolor": "rgba(255,255,255,0.6)",
          "font": {
           "color": "black",
           "size": 11
          },
          "showarrow": true,
          "text": "울산",
          "x": 498.5833333333333,
          "y": 11.3069949043743
         },
         {
          "font": {
           "color": "white",
           "size": 11
          },
          "showarrow": false,
          "text": "<b>충북</b>",
          "x": 447.6666666666667,
          "y": 11.75444206958343
         },
         {
          "font": {
           "color": "white",
           "size": 11
          },
          "showarrow": false,
          "text": "<b>전북</b>",
          "x": 432.75,
          "y": 12.85605375244682
         },
         {
          "font": {
           "color": "green"
          },
          "showarrow": false,
          "text": "성과 우수 (자원↑, 효율↑)",
          "x": 498.5833333333333,
          "xanchor": "right",
          "y": 13.28098897427331,
          "yanchor": "bottom"
         },
         {
          "font": {
           "color": "blue"
          },
          "showarrow": false,
          "text": "효율 우수 (자원↓, 효율↑)",
          "x": 410.0833333333333,
          "xanchor": "left",
          "y": 13.28098897427331,
          "yanchor": "bottom"
         },
         {
          "font": {
           "color": "orange"
          },
          "showarrow": false,
          "text": "잠재력 有 (자원↑, 효율↓)",
          "x": 498.5833333333333,
          "xanchor": "right",
          "y": 10.48367882593054,
          "yanchor": "top"
         },
         {
          "font": {
           "color": "grey"
          },
          "showarrow": false,
          "text": "저효율 (자원↓, 효율↓)",
          "x": 410.0833333333333,
          "xanchor": "left",
          "y": 10.48367882593054,
          "yanchor": "top"
         }
        ],
        "legend": {
         "itemsizing": "constant",
         "title": {
          "text": "지역"
         },
         "tracegroupgap": 0
        },
        "shapes": [
         {
          "line": {
           "color": "red",
           "dash": "dash",
           "width": 2
          },
          "type": "line",
          "x0": 444.890625,
          "x1": 444.890625,
          "y0": 10.48367882593054,
          "y1": 13.28098897427331
         },
         {
          "line": {
           "color": "red",
           "dash": "dash",
           "width": 2
          },
          "type": "line",
          "x0": 410.0833333333333,
          "x1": 498.5833333333333,
          "y0": 11.695383603398012,
          "y1": 11.695383603398012
         }
        ],
        "template": {
         "data": {
          "bar": [
           {
            "error_x": {
             "color": "#2a3f5f"
            },
            "error_y": {
             "color": "#2a3f5f"
            },
            "marker": {
             "line": {
              "color": "white",
              "width": 0.5
             },
             "pattern": {
              "fillmode": "overlay",
              "size": 10,
              "solidity": 0.2
             }
            },
            "type": "bar"
           }
          ],
          "barpolar": [
           {
            "marker": {
             "line": {
              "color": "white",
              "width": 0.5
             },
             "pattern": {
              "fillmode": "overlay",
              "size": 10,
              "solidity": 0.2
             }
            },
            "type": "barpolar"
           }
          ],
          "carpet": [
           {
            "aaxis": {
             "endlinecolor": "#2a3f5f",
             "gridcolor": "#C8D4E3",
             "linecolor": "#C8D4E3",
             "minorgridcolor": "#C8D4E3",
             "startlinecolor": "#2a3f5f"
            },
            "baxis": {
             "endlinecolor": "#2a3f5f",
             "gridcolor": "#C8D4E3",
             "linecolor": "#C8D4E3",
             "minorgridcolor": "#C8D4E3",
             "startlinecolor": "#2a3f5f"
            },
            "type": "carpet"
           }
          ],
          "choropleth": [
           {
            "colorbar": {
             "outlinewidth": 0,
             "ticks": ""
            },
            "type": "choropleth"
           }
          ],
          "contour": [
           {
            "colorbar": {
             "outlinewidth": 0,
             "ticks": ""
            },
            "colorscale": [
             [
              0,
              "#0d0887"
             ],
             [
              0.1111111111111111,
              "#46039f"
             ],
             [
              0.2222222222222222,
              "#7201a8"
             ],
             [
              0.3333333333333333,
              "#9c179e"
             ],
             [
              0.4444444444444444,
              "#bd3786"
             ],
             [
              0.5555555555555556,
              "#d8576b"
             ],
             [
              0.6666666666666666,
              "#ed7953"
             ],
             [
              0.7777777777777778,
              "#fb9f3a"
             ],
             [
              0.8888888888888888,
              "#fdca26"
             ],
             [
              1,
              "#f0f921"
             ]
            ],
            "type": "contour"
           }
          ],
          "contourcarpet": [
           {
            "colorbar": {
             "outlinewidth": 0,
             "ticks": ""
            },
            "type": "contourcarpet"
           }
          ],
          "heatmap": [
           {
            "colorbar": {
             "outlinewidth": 0,
             "ticks": ""
            },
            "colorscale": [
             [
              0,
              "#0d0887"
             ],
             [
              0.1111111111111111,
              "#46039f"
             ],
             [
              0.2222222222222222,
              "#7201a8"
             ],
             [
              0.3333333333333333,
              "#9c179e"
             ],
             [
              0.4444444444444444,
              "#bd3786"
             ],
             [
              0.5555555555555556,
              "#d8576b"
             ],
             [
              0.6666666666666666,
              "#ed7953"
             ],
             [
              0.7777777777777778,
              "#fb9f3a"
             ],
             [
              0.8888888888888888,
              "#fdca26"
             ],
             [
              1,
              "#f0f921"
             ]
            ],
            "type": "heatmap"
           }
          ],
          "histogram": [
           {
            "marker": {
             "pattern": {
              "fillmode": "overlay",
              "size": 10,
              "solidity": 0.2
             }
            },
            "type": "histogram"
           }
          ],
          "histogram2d": [
           {
            "colorbar": {
             "outlinewidth": 0,
             "ticks": ""
            },
            "colorscale": [
             [
              0,
              "#0d0887"
             ],
             [
              0.1111111111111111,
              "#46039f"
             ],
             [
              0.2222222222222222,
              "#7201a8"
             ],
             [
              0.3333333333333333,
              "#9c179e"
             ],
             [
              0.4444444444444444,
              "#bd3786"
             ],
             [
              0.5555555555555556,
              "#d8576b"
             ],
             [
              0.6666666666666666,
              "#ed7953"
             ],
             [
              0.7777777777777778,
              "#fb9f3a"
             ],
             [
              0.8888888888888888,
              "#fdca26"
             ],
             [
              1,
              "#f0f921"
             ]
            ],
            "type": "histogram2d"
           }
          ],
          "histogram2dcontour": [
           {
            "colorbar": {
             "outlinewidth": 0,
             "ticks": ""
            },
            "colorscale": [
             [
              0,
              "#0d0887"
             ],
             [
              0.1111111111111111,
              "#46039f"
             ],
             [
              0.2222222222222222,
              "#7201a8"
             ],
             [
              0.3333333333333333,
              "#9c179e"
             ],
             [
              0.4444444444444444,
              "#bd3786"
             ],
             [
              0.5555555555555556,
              "#d8576b"
             ],
             [
              0.6666666666666666,
              "#ed7953"
             ],
             [
              0.7777777777777778,
              "#fb9f3a"
             ],
             [
              0.8888888888888888,
              "#fdca26"
             ],
             [
              1,
              "#f0f921"
             ]
            ],
            "type": "histogram2dcontour"
           }
          ],
          "mesh3d": [
           {
            "colorbar": {
             "outlinewidth": 0,
             "ticks": ""
            },
            "type": "mesh3d"
           }
          ],
          "parcoords": [
           {
            "line": {
             "colorbar": {
              "outlinewidth": 0,
              "ticks": ""
             }
            },
            "type": "parcoords"
           }
          ],
          "pie": [
           {
            "automargin": true,
            "type": "pie"
           }
          ],
          "scatter": [
           {
            "fillpattern": {
             "fillmode": "overlay",
             "size": 10,
             "solidity": 0.2
            },
            "type": "scatter"
           }
          ],
          "scatter3d": [
           {
            "line": {
             "colorbar": {
              "outlinewidth": 0,
              "ticks": ""
             }
            },
            "marker": {
             "colorbar": {
              "outlinewidth": 0,
              "ticks": ""
             }
            },
            "type": "scatter3d"
           }
          ],
          "scattercarpet": [
           {
            "marker": {
             "colorbar": {
              "outlinewidth": 0,
              "ticks": ""
             }
            },
            "type": "scattercarpet"
           }
          ],
          "scattergeo": [
           {
            "marker": {
             "colorbar": {
              "outlinewidth": 0,
              "ticks": ""
             }
            },
            "type": "scattergeo"
           }
          ],
          "scattergl": [
           {
            "marker": {
             "colorbar": {
              "outlinewidth": 0,
              "ticks": ""
             }
            },
            "type": "scattergl"
           }
          ],
          "scattermap": [
           {
            "marker": {
             "colorbar": {
              "outlinewidth": 0,
              "ticks": ""
             }
            },
            "type": "scattermap"
           }
          ],
          "scattermapbox": [
           {
            "marker": {
             "colorbar": {
              "outlinewidth": 0,
              "ticks": ""
             }
            },
            "type": "scattermapbox"
           }
          ],
          "scatterpolar": [
           {
            "marker": {
             "colorbar": {
              "outlinewidth": 0,
              "ticks": ""
             }
            },
            "type": "scatterpolar"
           }
          ],
          "scatterpolargl": [
           {
            "marker": {
             "colorbar": {
              "outlinewidth": 0,
              "ticks": ""
             }
            },
            "type": "scatterpolargl"
           }
          ],
          "scatterternary": [
           {
            "marker": {
             "colorbar": {
              "outlinewidth": 0,
              "ticks": ""
             }
            },
            "type": "scatterternary"
           }
          ],
          "surface": [
           {
            "colorbar": {
             "outlinewidth": 0,
             "ticks": ""
            },
            "colorscale": [
             [
              0,
              "#0d0887"
             ],
             [
              0.1111111111111111,
              "#46039f"
             ],
             [
              0.2222222222222222,
              "#7201a8"
             ],
             [
              0.3333333333333333,
              "#9c179e"
             ],
             [
              0.4444444444444444,
              "#bd3786"
             ],
             [
              0.5555555555555556,
              "#d8576b"
             ],
             [
              0.6666666666666666,
              "#ed7953"
             ],
             [
              0.7777777777777778,
              "#fb9f3a"
             ],
             [
              0.8888888888888888,
              "#fdca26"
             ],
             [
              1,
              "#f0f921"
             ]
            ],
            "type": "surface"
           }
          ],
          "table": [
           {
            "cells": {
             "fill": {
              "color": "#EBF0F8"
             },
             "line": {
              "color": "white"
             }
            },
            "header": {
             "fill": {
              "color": "#C8D4E3"
             },
             "line": {
              "color": "white"
             }
            },
            "type": "table"
           }
          ]
         },
         "layout": {
          "annotationdefaults": {
           "arrowcolor": "#2a3f5f",
           "arrowhead": 0,
           "arrowwidth": 1
          },
          "autotypenumbers": "strict",
          "coloraxis": {
           "colorbar": {
            "outlinewidth": 0,
            "ticks": ""
           }
          },
          "colorscale": {
           "diverging": [
            [
             0,
             "#8e0152"
            ],
            [
             0.1,
             "#c51b7d"
            ],
            [
             0.2,
             "#de77ae"
            ],
            [
             0.3,
             "#f1b6da"
            ],
            [
             0.4,
             "#fde0ef"
            ],
            [
             0.5,
             "#f7f7f7"
            ],
            [
             0.6,
             "#e6f5d0"
            ],
            [
             0.7,
             "#b8e186"
            ],
            [
             0.8,
             "#7fbc41"
            ],
            [
             0.9,
             "#4d9221"
            ],
            [
             1,
             "#276419"
            ]
           ],
           "sequential": [
            [
             0,
             "#0d0887"
            ],
            [
             0.1111111111111111,
             "#46039f"
            ],
            [
             0.2222222222222222,
             "#7201a8"
            ],
            [
             0.3333333333333333,
             "#9c179e"
            ],
            [
             0.4444444444444444,
             "#bd3786"
            ],
            [
             0.5555555555555556,
             "#d8576b"
            ],
            [
             0.6666666666666666,
             "#ed7953"
            ],
            [
             0.7777777777777778,
             "#fb9f3a"
            ],
            [
             0.8888888888888888,
             "#fdca26"
            ],
            [
             1,
             "#f0f921"
            ]
           ],
           "sequentialminus": [
            [
             0,
             "#0d0887"
            ],
            [
             0.1111111111111111,
             "#46039f"
            ],
            [
             0.2222222222222222,
             "#7201a8"
            ],
            [
             0.3333333333333333,
             "#9c179e"
            ],
            [
             0.4444444444444444,
             "#bd3786"
            ],
            [
             0.5555555555555556,
             "#d8576b"
            ],
            [
             0.6666666666666666,
             "#ed7953"
            ],
            [
             0.7777777777777778,
             "#fb9f3a"
            ],
            [
             0.8888888888888888,
             "#fdca26"
            ],
            [
             1,
             "#f0f921"
            ]
           ]
          },
          "colorway": [
           "#636efa",
           "#EF553B",
           "#00cc96",
           "#ab63fa",
           "#FFA15A",
           "#19d3f3",
           "#FF6692",
           "#B6E880",
           "#FF97FF",
           "#FECB52"
          ],
          "font": {
           "color": "#2a3f5f"
          },
          "geo": {
           "bgcolor": "white",
           "lakecolor": "white",
           "landcolor": "white",
           "showlakes": true,
           "showland": true,
           "subunitcolor": "#C8D4E3"
          },
          "hoverlabel": {
           "align": "left"
          },
          "hovermode": "closest",
          "mapbox": {
           "style": "light"
          },
          "paper_bgcolor": "white",
          "plot_bgcolor": "white",
          "polar": {
           "angularaxis": {
            "gridcolor": "#EBF0F8",
            "linecolor": "#EBF0F8",
            "ticks": ""
           },
           "bgcolor": "white",
           "radialaxis": {
            "gridcolor": "#EBF0F8",
            "linecolor": "#EBF0F8",
            "ticks": ""
           }
          },
          "scene": {
           "xaxis": {
            "backgroundcolor": "white",
            "gridcolor": "#DFE8F3",
            "gridwidth": 2,
            "linecolor": "#EBF0F8",
            "showbackground": true,
            "ticks": "",
            "zerolinecolor": "#EBF0F8"
           },
           "yaxis": {
            "backgroundcolor": "white",
            "gridcolor": "#DFE8F3",
            "gridwidth": 2,
            "linecolor": "#EBF0F8",
            "showbackground": true,
            "ticks": "",
            "zerolinecolor": "#EBF0F8"
           },
           "zaxis": {
            "backgroundcolor": "white",
            "gridcolor": "#DFE8F3",
            "gridwidth": 2,
            "linecolor": "#EBF0F8",
            "showbackground": true,
            "ticks": "",
            "zerolinecolor": "#EBF0F8"
           }
          },
          "shapedefaults": {
           "line": {
            "color": "#2a3f5f"
           }
          },
          "ternary": {
           "aaxis": {
            "gridcolor": "#DFE8F3",
            "linecolor": "#A2B1C6",
            "ticks": ""
           },
           "baxis": {
            "gridcolor": "#DFE8F3",
            "linecolor": "#A2B1C6",
            "ticks": ""
           },
           "bgcolor": "white",
           "caxis": {
            "gridcolor": "#DFE8F3",
            "linecolor": "#A2B1C6",
            "ticks": ""
           }
          },
          "title": {
           "x": 0.05
          },
          "xaxis": {
           "automargin": true,
           "gridcolor": "#EBF0F8",
           "linecolor": "#EBF0F8",
           "ticks": "",
           "title": {
            "standoff": 15
           },
           "zerolinecolor": "#EBF0F8",
           "zerolinewidth": 2
          },
          "yaxis": {
           "automargin": true,
           "gridcolor": "#EBF0F8",
           "linecolor": "#EBF0F8",
           "ticks": "",
           "title": {
            "standoff": 15
           },
           "zerolinecolor": "#EBF0F8",
           "zerolinewidth": 2
          }
         }
        },
        "title": {
         "text": "2020년 지역별 일사량과 설비이용률 비교 분석"
        },
        "xaxis": {
         "anchor": "y",
         "domain": [
          0,
          1
         ],
         "range": [
          405.6583333333333,
          503.0083333333333
         ],
         "title": {
          "text": "합계 일사량 (MJ/m²)"
         }
        },
        "yaxis": {
         "anchor": "x",
         "domain": [
          0,
          1
         ],
         "range": [
          10.343813318513401,
          13.420854481690448
         ],
         "title": {
          "text": "설비이용률 (%)"
         }
        }
       }
      }
     },
     "metadata": {},
     "output_type": "display_data"
    }
   ],
   "source": [
    "import pandas as pd\n",
    "import plotly.express as px\n",
    "\n",
    "df_2020 = merged[merged[\"연도\"] == 2020].copy()\n",
    "\n",
    "# 버블 크기 (설비용량 기반, 최소값 보정)\n",
    "df_2020[\"버블크기\"] = df_2020[\"설비용량(MW)\"].apply(lambda v: max(50, float(v)))\n",
    "\n",
    "# 숫자형 변환\n",
    "x = pd.to_numeric(df_2020[\"일사량(MJ/m2)\"], errors=\"coerce\")\n",
    "y = pd.to_numeric(df_2020[\"설비이용률(%)\"], errors=\"coerce\")\n",
    "\n",
    "xmin, xmax = float(x.min()), float(x.max())\n",
    "ymin, ymax = float(y.min()), float(y.max())\n",
    "padx = (xmax - xmin) * 0.05\n",
    "pady = (ymax - ymin) * 0.05\n",
    "\n",
    "mean_x = x.mean()\n",
    "mean_y = y.mean()\n",
    "\n",
    "# 산점도\n",
    "fig = px.scatter(\n",
    "    df_2020,\n",
    "    x=\"일사량(MJ/m2)\",\n",
    "    y=\"설비이용률(%)\",\n",
    "    size=\"버블크기\",\n",
    "    color=\"지역\",\n",
    "    hover_name=\"지역\",\n",
    "    text=\"지역\",\n",
    "    size_max=60,\n",
    "    title=\"2020년 지역별 일사량과 설비이용률 비교 분석\"\n",
    ")\n",
    "\n",
    "# 기본 텍스트 제거 (조건부로 다시 추가)\n",
    "fig.update_traces(text=None)\n",
    "\n",
    "# 큰/작은 버블 라벨 처리\n",
    "THRESH = 500  # 작은 버블 기준 (MW)\n",
    "\n",
    "for _, row in df_2020.iterrows():\n",
    "    if row[\"버블크기\"] >= THRESH:\n",
    "        # 큰 버블 → 중앙에 흰 글자(굵게 보이게 HTML 태그 사용)\n",
    "        fig.add_annotation(\n",
    "            x=row[\"일사량(MJ/m2)\"],\n",
    "            y=row[\"설비이용률(%)\"],\n",
    "            text=f\"<b>{row['지역']}</b>\",\n",
    "            showarrow=False,\n",
    "            font=dict(color=\"white\", size=11)\n",
    "        )\n",
    "    else:\n",
    "        # 작은 버블 → 바깥쪽 라벨 + 화살표\n",
    "        fig.add_annotation(\n",
    "            x=row[\"일사량(MJ/m2)\"],\n",
    "            y=row[\"설비이용률(%)\"],\n",
    "            text=row[\"지역\"],\n",
    "            showarrow=True, arrowhead=2,\n",
    "            ax=15, ay=-15,\n",
    "            font=dict(color=\"black\", size=11),\n",
    "            bgcolor=\"rgba(255,255,255,0.6)\"\n",
    "        )\n",
    "\n",
    "# 평균선\n",
    "fig.add_shape(type=\"line\", x0=mean_x, y0=ymin, x1=mean_x, y1=ymax,\n",
    "                line=dict(color=\"red\", dash=\"dash\", width=2))\n",
    "fig.add_shape(type=\"line\", x0=xmin, y0=mean_y, x1=xmax, y1=mean_y,\n",
    "                line=dict(color=\"red\", dash=\"dash\", width=2))\n",
    "\n",
    "# 사분면 라벨\n",
    "fig.add_annotation(x=xmax, y=ymax, text=\"성과 우수 (자원↑, 효율↑)\",\n",
    "                    showarrow=False, font=dict(color=\"green\"), xanchor=\"right\", yanchor=\"bottom\")\n",
    "fig.add_annotation(x=xmin, y=ymax, text=\"효율 우수 (자원↓, 효율↑)\",\n",
    "                    showarrow=False, font=dict(color=\"blue\"), xanchor=\"left\", yanchor=\"bottom\")\n",
    "fig.add_annotation(x=xmax, y=ymin, text=\"잠재력 有 (자원↑, 효율↓)\",\n",
    "                    showarrow=False, font=dict(color=\"orange\"), xanchor=\"right\", yanchor=\"top\")\n",
    "fig.add_annotation(x=xmin, y=ymin, text=\"저효율 (자원↓, 효율↓)\",\n",
    "                    showarrow=False, font=dict(color=\"grey\"), xanchor=\"left\", yanchor=\"top\")\n",
    "\n",
    "# 축 범위\n",
    "fig.update_xaxes(range=[xmin - padx, xmax + padx], title=\"합계 일사량 (MJ/m²)\")\n",
    "fig.update_yaxes(range=[ymin - pady, ymax + pady], title=\"설비이용률 (%)\")\n",
    "fig.update_layout(template=\"plotly_white\")\n",
    "\n",
    "fig.show()"
   ]
  }
 ],
 "metadata": {
  "kernelspec": {
   "display_name": "data_analysis",
   "language": "python",
   "name": "python3"
  },
  "language_info": {
   "codemirror_mode": {
    "name": "ipython",
    "version": 3
   },
   "file_extension": ".py",
   "mimetype": "text/x-python",
   "name": "python",
   "nbconvert_exporter": "python",
   "pygments_lexer": "ipython3",
   "version": "3.13.5"
  }
 },
 "nbformat": 4,
 "nbformat_minor": 5
}
