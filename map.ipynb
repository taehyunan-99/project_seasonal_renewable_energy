{
 "cells": [
  {
   "cell_type": "markdown",
   "id": "dc01f9be",
   "metadata": {},
   "source": [
    "# 지도 시각화"
   ]
  },
  {
   "cell_type": "code",
   "execution_count": 1,
   "id": "5374459c",
   "metadata": {},
   "outputs": [],
   "source": [
    "# 라이브러리 모음\n",
    "import numpy as np\n",
    "import pandas as pd\n",
    "import matplotlib\n",
    "import matplotlib.pyplot as plt\n",
    "import seaborn as sns\n",
    "import folium\n",
    "import plotly.graph_objects as go\n",
    "import plotly.express as px\n",
    "\n",
    "# 모듈 모음\n",
    "import modules as mds"
   ]
  },
  {
   "cell_type": "code",
   "execution_count": null,
   "id": "9fb32f93",
   "metadata": {},
   "outputs": [],
   "source": [
    "# Windows에서 한글 폰트 설정\n",
    "plt.rcParams['font.family'] = 'Malgun Gothic'  # '맑은 고딕'이 설치되어 있을 경우\n",
    "plt.rcParams['axes.unicode_minus'] = False     # 마이너스(-) 부호 깨짐 방지"
   ]
  },
  {
   "cell_type": "code",
   "execution_count": null,
   "id": "4999b357",
   "metadata": {},
   "outputs": [],
   "source": [
    "# macOS에서 한글 폰트 설정\n",
    "plt.rcParams['font.family'] = 'AppleGothic'   # macOS 기본 한글 폰트\n",
    "plt.rcParams['axes.unicode_minus'] = False"
   ]
  },
  {
   "cell_type": "code",
   "execution_count": null,
   "id": "9dbdba9f",
   "metadata": {},
   "outputs": [],
   "source": [
    "# 경남지역 발전소 현황 시각화\n",
    "\n",
    "gn_solar_map = folium.Map(\n",
    "    location=[35.192110, 128.701525],\n",
    "    zoom_start=10,\n",
    "    tiles='CartoDB positron'\n",
    ")\n",
    "# 기존 발전소 마커 생성\n",
    "folium.Marker([35.281603, 128.978493]).add_to(gn_solar_map)\n",
    "folium.Marker([35.115067, 128.129915]).add_to(gn_solar_map)\n",
    "folium.Marker([35.192110, 128.701525]).add_to(gn_solar_map)\n",
    "folium.Marker([35.077430, 128.064958]).add_to(gn_solar_map)\n",
    "folium.Marker([35.292587, 129.011757]).add_to(gn_solar_map)\n",
    "\n",
    "# 추천 설치 지역 마커 생성\n",
    "folium.Marker([35.4654473, 128.4737870], popup=folium.Popup(\"기후 온화, 낮동간 일대 평지\", max_width=300), tooltip=\"창녕\", icon=folium.Icon(color=\"black\", icon=\"info-sign\")).add_to(gn_solar_map)\n",
    "folium.Marker([35.2495439, 128.8422028], popup=folium.Popup(\"일사량 풍부, 넓은 평지 확보 가능\", max_width=300), tooltip=\"김해\", icon=folium.Icon(color=\"black\", icon=\"info-sign\")).add_to(gn_solar_map)\n",
    "\n",
    "gn_solar_map"
   ]
  },
  {
   "cell_type": "code",
   "execution_count": null,
   "id": "67863165",
   "metadata": {},
   "outputs": [],
   "source": [
    "# 경북지역 발전소 현황 시각화\n",
    "\n",
    "gb_solar_map = folium.Map(\n",
    "    location=[36.245338,128.598004],\n",
    "    zoom_start=9,\n",
    "    tiles='CartoDB positron'\n",
    ")\n",
    "# 기존 발전소 마커 생성\n",
    "folium.Marker([35.959509, 129.073659]).add_to(gb_solar_map)\n",
    "folium.Marker([35.780154, 128.731602]).add_to(gb_solar_map)\n",
    "folium.Marker([36.245338, 128.598004]).add_to(gb_solar_map)\n",
    "folium.Marker([36.700935, 128.138379]).add_to(gb_solar_map)\n",
    "folium.Marker([36.885493, 128.637436]).add_to(gb_solar_map)\n",
    "\n",
    "# 추천 설치 지역 마커 생성\n",
    "folium.Marker([36.0065257, 129.3890059], popup=folium.Popup(\"기후 온화, 낮동간 일대 평지\", max_width=300), tooltip=\"포항\", icon=folium.Icon(color=\"black\", icon=\"info-sign\")).add_to(gb_solar_map)\n",
    "folium.Marker([36.2117565, 128.3457108], popup=folium.Popup(\"기후 온화, 낮동간 일대 평지\", max_width=300), tooltip=\"구미\", icon=folium.Icon(color=\"black\", icon=\"info-sign\")).add_to(gb_solar_map)\n",
    "\n",
    "gb_solar_map"
   ]
  },
  {
   "cell_type": "code",
   "execution_count": null,
   "id": "6672415c",
   "metadata": {},
   "outputs": [],
   "source": [
    "# 충남지역 발전소 현황 시각화\n",
    "\n",
    "cn_solar_map = folium.Map(\n",
    "    location=[36.796319, 126.699866],\n",
    "    zoom_start=10,\n",
    "    tiles='CartoDB positron'\n",
    ")\n",
    "# 기존 발전소 마커 생성\n",
    "folium.Marker([36.978109, 126.754719]).add_to(cn_solar_map)\n",
    "folium.Marker([37.021630, 126.510598]).add_to(cn_solar_map)\n",
    "folium.Marker([36.611413, 126.330959]).add_to(cn_solar_map)\n",
    "folium.Marker([36.796319, 126.699866]).add_to(cn_solar_map)\n",
    "folium.Marker([36.864052, 126.393513]).add_to(cn_solar_map)\n",
    "\n",
    "# 추천 설치 지역 마커 생성\n",
    "folium.Marker([36.1839054, 127.1446669], popup=folium.Popup(\"기후 온화, 낮동간 일대 평지\", max_width=300), tooltip=\"논산\", icon=folium.Icon(color=\"black\", icon=\"info-sign\")).add_to(cn_solar_map)\n",
    "folium.Marker([36.6917263, 126.8141959], popup=folium.Popup(\"기후 온화, 낮동간 일대 평지\", max_width=300), tooltip=\"예산\", icon=folium.Icon(color=\"black\", icon=\"info-sign\")).add_to(cn_solar_map)\n",
    "\n",
    "cn_solar_map"
   ]
  }
 ],
 "metadata": {
  "kernelspec": {
   "display_name": "python-libraries",
   "language": "python",
   "name": "python3"
  },
  "language_info": {
   "codemirror_mode": {
    "name": "ipython",
    "version": 3
   },
   "file_extension": ".py",
   "mimetype": "text/x-python",
   "name": "python",
   "nbconvert_exporter": "python",
   "pygments_lexer": "ipython3",
   "version": "3.13.5"
  }
 },
 "nbformat": 4,
 "nbformat_minor": 5
}
