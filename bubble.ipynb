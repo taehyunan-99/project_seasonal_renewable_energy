{
 "cells": [
  {
   "cell_type": "markdown",
   "id": "1efefade",
   "metadata": {},
   "source": [
    "# 버블 차트 시각화"
   ]
  },
  {
   "cell_type": "code",
   "execution_count": null,
   "id": "1e732999",
   "metadata": {},
   "outputs": [],
   "source": [
    "# 라이브러리 모음\n",
    "import numpy as np\n",
    "import pandas as pd\n",
    "import matplotlib\n",
    "import matplotlib.pyplot as plt\n",
    "import seaborn as sns\n",
    "import folium\n",
    "import plotly.graph_objects as go\n",
    "import plotly.express as px\n",
    "\n",
    "# 모듈 모음\n",
    "import modules as mds"
   ]
  },
  {
   "cell_type": "code",
   "execution_count": null,
   "id": "774a86a4",
   "metadata": {},
   "outputs": [],
   "source": [
    "# Windows에서 한글 폰트 설정\n",
    "plt.rcParams['font.family'] = 'Malgun Gothic'  # '맑은 고딕'이 설치되어 있을 경우\n",
    "plt.rcParams['axes.unicode_minus'] = False     # 마이너스(-) 부호 깨짐 방지"
   ]
  },
  {
   "cell_type": "code",
   "execution_count": null,
   "id": "a5d27615",
   "metadata": {},
   "outputs": [],
   "source": [
    "# macOS에서 한글 폰트 설정\n",
    "plt.rcParams['font.family'] = 'AppleGothic'   # macOS 기본 한글 폰트\n",
    "plt.rcParams['axes.unicode_minus'] = False"
   ]
  },
  {
   "cell_type": "code",
   "execution_count": null,
   "id": "7fa4cfa5",
   "metadata": {},
   "outputs": [],
   "source": [
    "# 이용률 / 일사량 버블 차트 시각화\n",
    "\n",
    "# 버블 차트용 데이터\n",
    "df_all = pd.read_excel(\"dataset/최종일사량합친데이터.xlsx\")\n",
    "df_2024 = df_all[df_all[\"연도\"] == 2024].copy()\n",
    "\n",
    "# 숫자 열 견고화(문자/공백/'-' 처리 → 숫자)\n",
    "for col in [\"설비용량(MW)\", \"일사량(MJ/m2)\", \"설비이용률(%)\"]:\n",
    "    df_2024[col] = (\n",
    "        df_2024[col].astype(str).str.replace(\",\", \"\", regex=False).str.strip()\n",
    "        .replace({\"\": np.nan, \"-\": np.nan})\n",
    "    )\n",
    "    df_2024[col] = pd.to_numeric(df_2024[col], errors=\"coerce\")\n",
    "\n",
    "# 버블 크기: 최소 50 보장\n",
    "df_2024[\"설비용량\"] = df_2024[\"설비용량(MW)\"].fillna(0).apply(lambda v: max(50, float(v)))\n",
    "\n",
    "# 축 범위/평균선 계산\n",
    "x = pd.to_numeric(df_2024[\"일사량(MJ/m2)\"], errors=\"coerce\")\n",
    "y = pd.to_numeric(df_2024[\"설비이용률(%)\"], errors=\"coerce\")\n",
    "xmin, xmax = float(x.min()), float(x.max())\n",
    "ymin, ymax = float(y.min()), float(y.max())\n",
    "padx, pady = (xmax - xmin) * 0.05, (ymax - ymin) * 0.05\n",
    "mean_x, mean_y = x.mean(), y.mean()\n",
    "\n",
    "# 지역 색상 맵(디자인 고정)\n",
    "color_map = {\n",
    "    \"서울\": \"#E74C3C\",\"부산\": \"#3498DB\",\"대구\": \"#2ECC71\",\"인천\": \"#F39C12\",\"광주\": \"#9B59B6\",\n",
    "    \"대전\": \"#1ABC9C\",\"울산\": \"#E67E22\",\"경기\": \"#34495E\",\"강원\": \"#F1C40F\",\"경북\": \"#E91E63\",\n",
    "    \"경남\": \"#00BCD4\",\"전북\": \"#FF9800\",\"전남\": \"#795548\",\"충북\": \"#607D8B\",\"충남\": \"#4CAF50\",\"제주\": \"#673AB7\"\n",
    "}\n",
    "\n",
    "# 버블 차트 생성\n",
    "fig = px.scatter(\n",
    "    df_2024,\n",
    "    x=\"일사량(MJ/m2)\", y=\"설비이용률(%)\",\n",
    "    size=\"설비용량\", color=\"지역\", hover_name=\"지역\",\n",
    "    size_max=60, title=\"2024년 지역별 일사량과 설비이용률 비교 분석\",\n",
    "    color_discrete_map=color_map\n",
    ")\n",
    "fig.update_traces(text=None)\n",
    "\n",
    "# 라벨 전략: 큰 버블(설비용량≥THRESH)은 고정 라벨, 작은 버블은 화살표 라벨\n",
    "THRESH = 500\n",
    "for _, row in df_2024.iterrows():\n",
    "    if row[\"설비용량\"] >= THRESH:\n",
    "        fig.add_annotation(\n",
    "            x=row[\"일사량(MJ/m2)\"], y=row[\"설비이용률(%)\"],\n",
    "            text=f\"<b>{row['지역']}</b>\", showarrow=False,\n",
    "            font=dict(color=\"white\", size=11)\n",
    "        )\n",
    "    else:\n",
    "        fig.add_annotation(\n",
    "            x=row[\"일사량(MJ/m2)\"], y=row[\"설비이용률(%)\"],\n",
    "            text=row[\"지역\"], showarrow=True, arrowhead=2,\n",
    "            ax=15, ay=-15, font=dict(color=\"black\", size=11),\n",
    "            bgcolor=\"rgba(255,255,255,0.6)\"\n",
    "        )\n",
    "\n",
    "# 평균선(사분면) 추가 + 레이아웃\n",
    "fig.update_layout(autosize=True, height=720, template=\"plotly_white\")\n",
    "fig.add_shape(type=\"line\", x0=mean_x, y0=ymin, x1=mean_x, y1=ymax, line=dict(color=\"red\", dash=\"dash\", width=2))\n",
    "fig.add_shape(type=\"line\", x0=xmin, y0=mean_y, x1=xmax, y1=mean_y, line=dict(color=\"red\", dash=\"dash\", width=2))\n",
    "fig.add_annotation(x=xmax, y=ymax, text=\"성과 우수 (자원↑, 효율↑)\", showarrow=False, font=dict(color=\"green\"), xanchor=\"right\", yanchor=\"bottom\")\n",
    "fig.update_xaxes(range=[xmin - padx, xmax + padx], title=\"일사량 (MJ/m²)\")\n",
    "fig.update_yaxes(range=[ymin - pady, ymax + pady + 0.2], title=\"설비이용률 (%)\")\n",
    "\n",
    "# 크기 설정\n",
    "fig.update_layout(width=1440,height=1080, font=dict(size=20))\n",
    "\n",
    "fig.show()"
   ]
  }
 ],
 "metadata": {
  "kernelspec": {
   "display_name": "data_analysis",
   "language": "python",
   "name": "python3"
  },
  "language_info": {
   "codemirror_mode": {
    "name": "ipython",
    "version": 3
   },
   "file_extension": ".py",
   "mimetype": "text/x-python",
   "name": "python",
   "nbconvert_exporter": "python",
   "pygments_lexer": "ipython3",
   "version": "3.13.5"
  }
 },
 "nbformat": 4,
 "nbformat_minor": 5
}
