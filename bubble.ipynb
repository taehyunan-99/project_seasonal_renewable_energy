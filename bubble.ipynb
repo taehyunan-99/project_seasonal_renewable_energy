{
 "cells": [
  {
   "cell_type": "markdown",
   "id": "1efefade",
   "metadata": {},
   "source": [
    "# 버블 차트 시각화"
   ]
  },
  {
   "cell_type": "code",
   "execution_count": 1,
   "id": "1e732999",
   "metadata": {},
   "outputs": [],
   "source": [
    "# 라이브러리 모음\n",
    "import numpy as np\n",
    "import pandas as pd\n",
    "import matplotlib\n",
    "import matplotlib.pyplot as plt\n",
    "import seaborn as sns\n",
    "import folium\n",
    "import plotly.graph_objects as go\n",
    "import plotly.express as px\n",
    "\n",
    "# 모듈 모음\n",
    "import modules as mds"
   ]
  },
  {
   "cell_type": "code",
   "execution_count": null,
   "id": "774a86a4",
   "metadata": {},
   "outputs": [],
   "source": [
    "# Windows에서 한글 폰트 설정\n",
    "plt.rcParams['font.family'] = 'Malgun Gothic'  # '맑은 고딕'이 설치되어 있을 경우\n",
    "plt.rcParams['axes.unicode_minus'] = False     # 마이너스(-) 부호 깨짐 방지"
   ]
  },
  {
   "cell_type": "code",
   "execution_count": 2,
   "id": "a5d27615",
   "metadata": {},
   "outputs": [],
   "source": [
    "# macOS에서 한글 폰트 설정\n",
    "plt.rcParams['font.family'] = 'AppleGothic'   # macOS 기본 한글 폰트\n",
    "plt.rcParams['axes.unicode_minus'] = False"
   ]
  },
  {
   "cell_type": "code",
   "execution_count": 8,
   "id": "dfbe01a6",
   "metadata": {},
   "outputs": [
    {
     "data": {
      "application/vnd.plotly.v1+json": {
       "config": {
        "plotlyServerURL": "https://plot.ly"
       },
       "data": [
        {
         "hovertemplate": "<b>%{hovertext}</b><br><br>지역=%{text}<br>일사량(MJ/m2)=%{x}<br>설비이용률(%)=%{y}<br>설비용량=%{marker.size}<extra></extra>",
         "hovertext": [
          "경북"
         ],
         "legendgroup": "경북",
         "marker": {
          "color": "#E91E63",
          "size": {
           "bdata": "AAAAAACsm0A=",
           "dtype": "f8"
          },
          "sizemode": "area",
          "sizeref": 0.8483333333333334,
          "symbol": "circle"
         },
         "mode": "markers+text",
         "name": "경북",
         "orientation": "v",
         "showlegend": true,
         "type": "scatter",
         "x": {
          "bdata": "VVVVVVWVfEA=",
          "dtype": "f8"
         },
         "xaxis": "x",
         "y": {
          "bdata": "SjO5/0p2J0A=",
          "dtype": "f8"
         },
         "yaxis": "y"
        },
        {
         "hovertemplate": "<b>%{hovertext}</b><br><br>지역=%{text}<br>일사량(MJ/m2)=%{x}<br>설비이용률(%)=%{y}<br>설비용량=%{marker.size}<extra></extra>",
         "hovertext": [
          "경기"
         ],
         "legendgroup": "경기",
         "marker": {
          "color": "#34495E",
          "size": {
           "bdata": "AAAAAACAkEA=",
           "dtype": "f8"
          },
          "sizemode": "area",
          "sizeref": 0.8483333333333334,
          "symbol": "circle"
         },
         "mode": "markers+text",
         "name": "경기",
         "orientation": "v",
         "showlegend": true,
         "type": "scatter",
         "x": {
          "bdata": "VVVVVVU9ekA=",
          "dtype": "f8"
         },
         "xaxis": "x",
         "y": {
          "bdata": "WEdGwKT3JEA=",
          "dtype": "f8"
         },
         "yaxis": "y"
        },
        {
         "hovertemplate": "<b>%{hovertext}</b><br><br>지역=%{text}<br>일사량(MJ/m2)=%{x}<br>설비이용률(%)=%{y}<br>설비용량=%{marker.size}<extra></extra>",
         "hovertext": [
          "서울"
         ],
         "legendgroup": "서울",
         "marker": {
          "color": "#E74C3C",
          "size": {
           "bdata": "AAAAAAAASUA=",
           "dtype": "f8"
          },
          "sizemode": "area",
          "sizeref": 0.8483333333333334,
          "symbol": "circle"
         },
         "mode": "markers+text",
         "name": "서울",
         "orientation": "v",
         "showlegend": true,
         "type": "scatter",
         "x": {
          "bdata": "VVVVVVWlekA=",
          "dtype": "f8"
         },
         "xaxis": "x",
         "y": {
          "bdata": "thRuyd2PKkA=",
          "dtype": "f8"
         },
         "yaxis": "y"
        },
        {
         "hovertemplate": "<b>%{hovertext}</b><br><br>지역=%{text}<br>일사량(MJ/m2)=%{x}<br>설비이용률(%)=%{y}<br>설비용량=%{marker.size}<extra></extra>",
         "hovertext": [
          "강원"
         ],
         "legendgroup": "강원",
         "marker": {
          "color": "#F1C40F",
          "size": {
           "bdata": "AAAAAABEkUA=",
           "dtype": "f8"
          },
          "sizemode": "area",
          "sizeref": 0.8483333333333334,
          "symbol": "circle"
         },
         "mode": "markers+text",
         "name": "강원",
         "orientation": "v",
         "showlegend": true,
         "type": "scatter",
         "x": {
          "bdata": "VVVVVVXVekA=",
          "dtype": "f8"
         },
         "xaxis": "x",
         "y": {
          "bdata": "LLNhl4wUKUA=",
          "dtype": "f8"
         },
         "yaxis": "y"
        },
        {
         "hovertemplate": "<b>%{hovertext}</b><br><br>지역=%{text}<br>일사량(MJ/m2)=%{x}<br>설비이용률(%)=%{y}<br>설비용량=%{marker.size}<extra></extra>",
         "hovertext": [
          "충남"
         ],
         "legendgroup": "충남",
         "marker": {
          "color": "#4CAF50",
          "size": {
           "bdata": "AAAAAADYn0A=",
           "dtype": "f8"
          },
          "sizemode": "area",
          "sizeref": 0.8483333333333334,
          "symbol": "circle"
         },
         "mode": "markers+text",
         "name": "충남",
         "orientation": "v",
         "showlegend": true,
         "type": "scatter",
         "x": {
          "bdata": "VVVVVVXlekA=",
          "dtype": "f8"
         },
         "xaxis": "x",
         "y": {
          "bdata": "Az7ZyQyUKEA=",
          "dtype": "f8"
         },
         "yaxis": "y"
        },
        {
         "hovertemplate": "<b>%{hovertext}</b><br><br>지역=%{text}<br>일사량(MJ/m2)=%{x}<br>설비이용률(%)=%{y}<br>설비용량=%{marker.size}<extra></extra>",
         "hovertext": [
          "대전"
         ],
         "legendgroup": "대전",
         "marker": {
          "color": "#1ABC9C",
          "size": {
           "bdata": "AAAAAAAASUA=",
           "dtype": "f8"
          },
          "sizemode": "area",
          "sizeref": 0.8483333333333334,
          "symbol": "circle"
         },
         "mode": "markers+text",
         "name": "대전",
         "orientation": "v",
         "showlegend": true,
         "type": "scatter",
         "x": {
          "bdata": "AAAAAADEfEA=",
          "dtype": "f8"
         },
         "xaxis": "x",
         "y": {
          "bdata": "sBfyD9x6JUA=",
          "dtype": "f8"
         },
         "yaxis": "y"
        },
        {
         "hovertemplate": "<b>%{hovertext}</b><br><br>지역=%{text}<br>일사량(MJ/m2)=%{x}<br>설비이용률(%)=%{y}<br>설비용량=%{marker.size}<extra></extra>",
         "hovertext": [
          "제주"
         ],
         "legendgroup": "제주",
         "marker": {
          "color": "#673AB7",
          "size": {
           "bdata": "AAAAAACQekA=",
           "dtype": "f8"
          },
          "sizemode": "area",
          "sizeref": 0.8483333333333334,
          "symbol": "circle"
         },
         "mode": "markers+text",
         "name": "제주",
         "orientation": "v",
         "showlegend": true,
         "type": "scatter",
         "x": {
          "bdata": "AAAAAAAQekA=",
          "dtype": "f8"
         },
         "xaxis": "x",
         "y": {
          "bdata": "Ldo49nBmJUA=",
          "dtype": "f8"
         },
         "yaxis": "y"
        },
        {
         "hovertemplate": "<b>%{hovertext}</b><br><br>지역=%{text}<br>일사량(MJ/m2)=%{x}<br>설비이용률(%)=%{y}<br>설비용량=%{marker.size}<extra></extra>",
         "hovertext": [
          "부산"
         ],
         "legendgroup": "부산",
         "marker": {
          "color": "#3498DB",
          "size": {
           "bdata": "AAAAAAAAYkA=",
           "dtype": "f8"
          },
          "sizemode": "area",
          "sizeref": 0.8483333333333334,
          "symbol": "circle"
         },
         "mode": "markers+text",
         "name": "부산",
         "orientation": "v",
         "showlegend": true,
         "type": "scatter",
         "x": {
          "bdata": "q6qqqqqmfUA=",
          "dtype": "f8"
         },
         "xaxis": "x",
         "y": {
          "bdata": "wWoOqzmMJUA=",
          "dtype": "f8"
         },
         "yaxis": "y"
        },
        {
         "hovertemplate": "<b>%{hovertext}</b><br><br>지역=%{text}<br>일사량(MJ/m2)=%{x}<br>설비이용률(%)=%{y}<br>설비용량=%{marker.size}<extra></extra>",
         "hovertext": [
          "인천"
         ],
         "legendgroup": "인천",
         "marker": {
          "color": "#F39C12",
          "size": {
           "bdata": "AAAAAAAAWUA=",
           "dtype": "f8"
          },
          "sizemode": "area",
          "sizeref": 0.8483333333333334,
          "symbol": "circle"
         },
         "mode": "markers+text",
         "name": "인천",
         "orientation": "v",
         "showlegend": true,
         "type": "scatter",
         "x": {
          "bdata": "AAAAAADYekA=",
          "dtype": "f8"
         },
         "xaxis": "x",
         "y": {
          "bdata": "c3BpWz8HJ0A=",
          "dtype": "f8"
         },
         "yaxis": "y"
        },
        {
         "hovertemplate": "<b>%{hovertext}</b><br><br>지역=%{text}<br>일사량(MJ/m2)=%{x}<br>설비이용률(%)=%{y}<br>설비용량=%{marker.size}<extra></extra>",
         "hovertext": [
          "전남"
         ],
         "legendgroup": "전남",
         "marker": {
          "color": "#795548",
          "size": {
           "bdata": "AAAAAADcp0A=",
           "dtype": "f8"
          },
          "sizemode": "area",
          "sizeref": 0.8483333333333334,
          "symbol": "circle"
         },
         "mode": "markers+text",
         "name": "전남",
         "orientation": "v",
         "showlegend": true,
         "type": "scatter",
         "x": {
          "bdata": "VVVVVVWheUA=",
          "dtype": "f8"
         },
         "xaxis": "x",
         "y": {
          "bdata": "Z7MZx7enKUA=",
          "dtype": "f8"
         },
         "yaxis": "y"
        },
        {
         "hovertemplate": "<b>%{hovertext}</b><br><br>지역=%{text}<br>일사량(MJ/m2)=%{x}<br>설비이용률(%)=%{y}<br>설비용량=%{marker.size}<extra></extra>",
         "hovertext": [
          "광주"
         ],
         "legendgroup": "광주",
         "marker": {
          "color": "#9B59B6",
          "size": {
           "bdata": "AAAAAADgakA=",
           "dtype": "f8"
          },
          "sizemode": "area",
          "sizeref": 0.8483333333333334,
          "symbol": "circle"
         },
         "mode": "markers+text",
         "name": "광주",
         "orientation": "v",
         "showlegend": true,
         "type": "scatter",
         "x": {
          "bdata": "AAAAAAC4fEA=",
          "dtype": "f8"
         },
         "xaxis": "x",
         "y": {
          "bdata": "c9OuWbXpJ0A=",
          "dtype": "f8"
         },
         "yaxis": "y"
        },
        {
         "hovertemplate": "<b>%{hovertext}</b><br><br>지역=%{text}<br>일사량(MJ/m2)=%{x}<br>설비이용률(%)=%{y}<br>설비용량=%{marker.size}<extra></extra>",
         "hovertext": [
          "대구"
         ],
         "legendgroup": "대구",
         "marker": {
          "color": "#2ECC71",
          "size": {
           "bdata": "AAAAAAAAaUA=",
           "dtype": "f8"
          },
          "sizemode": "area",
          "sizeref": 0.8483333333333334,
          "symbol": "circle"
         },
         "mode": "markers+text",
         "name": "대구",
         "orientation": "v",
         "showlegend": true,
         "type": "scatter",
         "x": {
          "bdata": "VVVVVVXxfEA=",
          "dtype": "f8"
         },
         "xaxis": "x",
         "y": {
          "bdata": "Wm6Y7JTlJUA=",
          "dtype": "f8"
         },
         "yaxis": "y"
        },
        {
         "hovertemplate": "<b>%{hovertext}</b><br><br>지역=%{text}<br>일사량(MJ/m2)=%{x}<br>설비이용률(%)=%{y}<br>설비용량=%{marker.size}<extra></extra>",
         "hovertext": [
          "경남"
         ],
         "legendgroup": "경남",
         "marker": {
          "color": "#00BCD4",
          "size": {
           "bdata": "AAAAAAD0kEA=",
           "dtype": "f8"
          },
          "sizemode": "area",
          "sizeref": 0.8483333333333334,
          "symbol": "circle"
         },
         "mode": "markers+text",
         "name": "경남",
         "orientation": "v",
         "showlegend": true,
         "type": "scatter",
         "x": {
          "bdata": "AAAAAADkfEA=",
          "dtype": "f8"
         },
         "xaxis": "x",
         "y": {
          "bdata": "xsR7wKTYJkA=",
          "dtype": "f8"
         },
         "yaxis": "y"
        },
        {
         "hovertemplate": "<b>%{hovertext}</b><br><br>지역=%{text}<br>일사량(MJ/m2)=%{x}<br>설비이용률(%)=%{y}<br>설비용량=%{marker.size}<extra></extra>",
         "hovertext": [
          "충북"
         ],
         "legendgroup": "충북",
         "marker": {
          "color": "#607D8B",
          "size": {
           "bdata": "AAAAAABwikA=",
           "dtype": "f8"
          },
          "sizemode": "area",
          "sizeref": 0.8483333333333334,
          "symbol": "circle"
         },
         "mode": "markers+text",
         "name": "충북",
         "orientation": "v",
         "showlegend": true,
         "type": "scatter",
         "x": {
          "bdata": "q6qqqqr6e0A=",
          "dtype": "f8"
         },
         "xaxis": "x",
         "y": {
          "bdata": "viwfO0aCJ0A=",
          "dtype": "f8"
         },
         "yaxis": "y"
        },
        {
         "hovertemplate": "<b>%{hovertext}</b><br><br>지역=%{text}<br>일사량(MJ/m2)=%{x}<br>설비이용률(%)=%{y}<br>설비용량=%{marker.size}<extra></extra>",
         "hovertext": [
          "전북"
         ],
         "legendgroup": "전북",
         "marker": {
          "color": "#FF9800",
          "size": {
           "bdata": "AAAAAAD+o0A=",
           "dtype": "f8"
          },
          "sizemode": "area",
          "sizeref": 0.8483333333333334,
          "symbol": "circle"
         },
         "mode": "markers+text",
         "name": "전북",
         "orientation": "v",
         "showlegend": true,
         "type": "scatter",
         "x": {
          "bdata": "AAAAAAAMe0A=",
          "dtype": "f8"
         },
         "xaxis": "x",
         "y": {
          "bdata": "HcFsrUy2KUA=",
          "dtype": "f8"
         },
         "yaxis": "y"
        }
       ],
       "layout": {
        "annotations": [
         {
          "font": {
           "color": "white",
           "size": 11
          },
          "showarrow": false,
          "text": "<b>경북</b>",
          "x": 457.3333333333333,
          "y": 11.73104094634768
         },
         {
          "font": {
           "color": "white",
           "size": 11
          },
          "showarrow": false,
          "text": "<b>경기</b>",
          "x": 419.8333333333333,
          "y": 10.48367882593054
         },
         {
          "arrowhead": 2,
          "ax": 15,
          "ay": -15,
          "bgcolor": "rgba(255,255,255,0.6)",
          "font": {
           "color": "black",
           "size": 11
          },
          "showarrow": true,
          "text": "서울",
          "x": 426.3333333333333,
          "y": 13.28098897427331
         },
         {
          "font": {
           "color": "white",
           "size": 11
          },
          "showarrow": false,
          "text": "<b>강원</b>",
          "x": 429.3333333333333,
          "y": 12.54013512675882
         },
         {
          "font": {
           "color": "white",
           "size": 11
          },
          "showarrow": false,
          "text": "<b>충남</b>",
          "x": 430.3333333333333,
          "y": 12.2891600682915
         },
         {
          "arrowhead": 2,
          "ax": 15,
          "ay": -15,
          "bgcolor": "rgba(255,255,255,0.6)",
          "font": {
           "color": "black",
           "size": 11
          },
          "showarrow": true,
          "text": "대전",
          "x": 460.25,
          "y": 10.73996019201499
         },
         {
          "arrowhead": 2,
          "ax": 15,
          "ay": -15,
          "bgcolor": "rgba(255,255,255,0.6)",
          "font": {
           "color": "black",
           "size": 11
          },
          "showarrow": true,
          "text": "제주",
          "x": 417,
          "y": 10.70008058017728
         },
         {
          "arrowhead": 2,
          "ax": 15,
          "ay": -15,
          "bgcolor": "rgba(255,255,255,0.6)",
          "font": {
           "color": "black",
           "size": 11
          },
          "showarrow": true,
          "text": "부산",
          "x": 474.4166666666667,
          "y": 10.77387747336377
         },
         {
          "arrowhead": 2,
          "ax": 15,
          "ay": -15,
          "bgcolor": "rgba(255,255,255,0.6)",
          "font": {
           "color": "black",
           "size": 11
          },
          "showarrow": true,
          "text": "인천",
          "x": 429.5,
          "y": 11.51415525114155
         },
         {
          "font": {
           "color": "white",
           "size": 11
          },
          "showarrow": false,
          "text": "<b>전남</b>",
          "x": 410.0833333333333,
          "y": 12.82757398785334
         },
         {
          "arrowhead": 2,
          "ax": 15,
          "ay": -15,
          "bgcolor": "rgba(255,255,255,0.6)",
          "font": {
           "color": "black",
           "size": 11
          },
          "showarrow": true,
          "text": "광주",
          "x": 459.5,
          "y": 11.95646171816927
         },
         {
          "arrowhead": 2,
          "ax": 15,
          "ay": -15,
          "bgcolor": "rgba(255,255,255,0.6)",
          "font": {
           "color": "black",
           "size": 11
          },
          "showarrow": true,
          "text": "대구",
          "x": 463.0833333333333,
          "y": 10.94840182648402
         },
         {
          "font": {
           "color": "white",
           "size": 11
          },
          "showarrow": false,
          "text": "<b>경남</b>",
          "x": 462.25,
          "y": 11.42313195715759
         },
         {
          "font": {
           "color": "white",
           "size": 11
          },
          "showarrow": false,
          "text": "<b>충북</b>",
          "x": 447.6666666666667,
          "y": 11.75444206958343
         },
         {
          "font": {
           "color": "white",
           "size": 11
          },
          "showarrow": false,
          "text": "<b>전북</b>",
          "x": 432.75,
          "y": 12.85605375244682
         },
         {
          "font": {
           "color": "green"
          },
          "showarrow": false,
          "text": "성과 우수 (자원↑, 효율↑)",
          "x": 474.4166666666667,
          "xanchor": "right",
          "y": 13.28098897427331,
          "yanchor": "bottom"
         },
         {
          "font": {
           "color": "blue"
          },
          "showarrow": false,
          "text": "효율 우수 (자원↓, 효율↑)",
          "x": 410.0833333333333,
          "xanchor": "left",
          "y": 13.28098897427331,
          "yanchor": "bottom"
         },
         {
          "font": {
           "color": "orange"
          },
          "showarrow": false,
          "text": "잠재력 有 (자원↑, 효율↓)",
          "x": 474.4166666666667,
          "xanchor": "right",
          "y": 10.48367882593054,
          "yanchor": "top"
         },
         {
          "font": {
           "color": "grey"
          },
          "showarrow": false,
          "text": "저효율 (자원↓, 효율↓)",
          "x": 410.0833333333333,
          "xanchor": "left",
          "y": 10.48367882593054,
          "yanchor": "top"
         }
        ],
        "font": {
         "size": 20
        },
        "height": 1080,
        "legend": {
         "itemsizing": "constant",
         "title": {
          "text": "지역"
         },
         "tracegroupgap": 0
        },
        "shapes": [
         {
          "line": {
           "color": "red",
           "dash": "dash",
           "width": 2
          },
          "type": "line",
          "x0": 441.3111111111111,
          "x1": 441.3111111111111,
          "y0": 10.48367882593054,
          "y1": 13.28098897427331
         },
         {
          "line": {
           "color": "red",
           "dash": "dash",
           "width": 2
          },
          "type": "line",
          "x0": 410.0833333333333,
          "x1": 474.4166666666667,
          "y0": 11.721276183332927,
          "y1": 11.721276183332927
         }
        ],
        "template": {
         "data": {
          "bar": [
           {
            "error_x": {
             "color": "#2a3f5f"
            },
            "error_y": {
             "color": "#2a3f5f"
            },
            "marker": {
             "line": {
              "color": "white",
              "width": 0.5
             },
             "pattern": {
              "fillmode": "overlay",
              "size": 10,
              "solidity": 0.2
             }
            },
            "type": "bar"
           }
          ],
          "barpolar": [
           {
            "marker": {
             "line": {
              "color": "white",
              "width": 0.5
             },
             "pattern": {
              "fillmode": "overlay",
              "size": 10,
              "solidity": 0.2
             }
            },
            "type": "barpolar"
           }
          ],
          "carpet": [
           {
            "aaxis": {
             "endlinecolor": "#2a3f5f",
             "gridcolor": "#C8D4E3",
             "linecolor": "#C8D4E3",
             "minorgridcolor": "#C8D4E3",
             "startlinecolor": "#2a3f5f"
            },
            "baxis": {
             "endlinecolor": "#2a3f5f",
             "gridcolor": "#C8D4E3",
             "linecolor": "#C8D4E3",
             "minorgridcolor": "#C8D4E3",
             "startlinecolor": "#2a3f5f"
            },
            "type": "carpet"
           }
          ],
          "choropleth": [
           {
            "colorbar": {
             "outlinewidth": 0,
             "ticks": ""
            },
            "type": "choropleth"
           }
          ],
          "contour": [
           {
            "colorbar": {
             "outlinewidth": 0,
             "ticks": ""
            },
            "colorscale": [
             [
              0,
              "#0d0887"
             ],
             [
              0.1111111111111111,
              "#46039f"
             ],
             [
              0.2222222222222222,
              "#7201a8"
             ],
             [
              0.3333333333333333,
              "#9c179e"
             ],
             [
              0.4444444444444444,
              "#bd3786"
             ],
             [
              0.5555555555555556,
              "#d8576b"
             ],
             [
              0.6666666666666666,
              "#ed7953"
             ],
             [
              0.7777777777777778,
              "#fb9f3a"
             ],
             [
              0.8888888888888888,
              "#fdca26"
             ],
             [
              1,
              "#f0f921"
             ]
            ],
            "type": "contour"
           }
          ],
          "contourcarpet": [
           {
            "colorbar": {
             "outlinewidth": 0,
             "ticks": ""
            },
            "type": "contourcarpet"
           }
          ],
          "heatmap": [
           {
            "colorbar": {
             "outlinewidth": 0,
             "ticks": ""
            },
            "colorscale": [
             [
              0,
              "#0d0887"
             ],
             [
              0.1111111111111111,
              "#46039f"
             ],
             [
              0.2222222222222222,
              "#7201a8"
             ],
             [
              0.3333333333333333,
              "#9c179e"
             ],
             [
              0.4444444444444444,
              "#bd3786"
             ],
             [
              0.5555555555555556,
              "#d8576b"
             ],
             [
              0.6666666666666666,
              "#ed7953"
             ],
             [
              0.7777777777777778,
              "#fb9f3a"
             ],
             [
              0.8888888888888888,
              "#fdca26"
             ],
             [
              1,
              "#f0f921"
             ]
            ],
            "type": "heatmap"
           }
          ],
          "histogram": [
           {
            "marker": {
             "pattern": {
              "fillmode": "overlay",
              "size": 10,
              "solidity": 0.2
             }
            },
            "type": "histogram"
           }
          ],
          "histogram2d": [
           {
            "colorbar": {
             "outlinewidth": 0,
             "ticks": ""
            },
            "colorscale": [
             [
              0,
              "#0d0887"
             ],
             [
              0.1111111111111111,
              "#46039f"
             ],
             [
              0.2222222222222222,
              "#7201a8"
             ],
             [
              0.3333333333333333,
              "#9c179e"
             ],
             [
              0.4444444444444444,
              "#bd3786"
             ],
             [
              0.5555555555555556,
              "#d8576b"
             ],
             [
              0.6666666666666666,
              "#ed7953"
             ],
             [
              0.7777777777777778,
              "#fb9f3a"
             ],
             [
              0.8888888888888888,
              "#fdca26"
             ],
             [
              1,
              "#f0f921"
             ]
            ],
            "type": "histogram2d"
           }
          ],
          "histogram2dcontour": [
           {
            "colorbar": {
             "outlinewidth": 0,
             "ticks": ""
            },
            "colorscale": [
             [
              0,
              "#0d0887"
             ],
             [
              0.1111111111111111,
              "#46039f"
             ],
             [
              0.2222222222222222,
              "#7201a8"
             ],
             [
              0.3333333333333333,
              "#9c179e"
             ],
             [
              0.4444444444444444,
              "#bd3786"
             ],
             [
              0.5555555555555556,
              "#d8576b"
             ],
             [
              0.6666666666666666,
              "#ed7953"
             ],
             [
              0.7777777777777778,
              "#fb9f3a"
             ],
             [
              0.8888888888888888,
              "#fdca26"
             ],
             [
              1,
              "#f0f921"
             ]
            ],
            "type": "histogram2dcontour"
           }
          ],
          "mesh3d": [
           {
            "colorbar": {
             "outlinewidth": 0,
             "ticks": ""
            },
            "type": "mesh3d"
           }
          ],
          "parcoords": [
           {
            "line": {
             "colorbar": {
              "outlinewidth": 0,
              "ticks": ""
             }
            },
            "type": "parcoords"
           }
          ],
          "pie": [
           {
            "automargin": true,
            "type": "pie"
           }
          ],
          "scatter": [
           {
            "fillpattern": {
             "fillmode": "overlay",
             "size": 10,
             "solidity": 0.2
            },
            "type": "scatter"
           }
          ],
          "scatter3d": [
           {
            "line": {
             "colorbar": {
              "outlinewidth": 0,
              "ticks": ""
             }
            },
            "marker": {
             "colorbar": {
              "outlinewidth": 0,
              "ticks": ""
             }
            },
            "type": "scatter3d"
           }
          ],
          "scattercarpet": [
           {
            "marker": {
             "colorbar": {
              "outlinewidth": 0,
              "ticks": ""
             }
            },
            "type": "scattercarpet"
           }
          ],
          "scattergeo": [
           {
            "marker": {
             "colorbar": {
              "outlinewidth": 0,
              "ticks": ""
             }
            },
            "type": "scattergeo"
           }
          ],
          "scattergl": [
           {
            "marker": {
             "colorbar": {
              "outlinewidth": 0,
              "ticks": ""
             }
            },
            "type": "scattergl"
           }
          ],
          "scattermap": [
           {
            "marker": {
             "colorbar": {
              "outlinewidth": 0,
              "ticks": ""
             }
            },
            "type": "scattermap"
           }
          ],
          "scattermapbox": [
           {
            "marker": {
             "colorbar": {
              "outlinewidth": 0,
              "ticks": ""
             }
            },
            "type": "scattermapbox"
           }
          ],
          "scatterpolar": [
           {
            "marker": {
             "colorbar": {
              "outlinewidth": 0,
              "ticks": ""
             }
            },
            "type": "scatterpolar"
           }
          ],
          "scatterpolargl": [
           {
            "marker": {
             "colorbar": {
              "outlinewidth": 0,
              "ticks": ""
             }
            },
            "type": "scatterpolargl"
           }
          ],
          "scatterternary": [
           {
            "marker": {
             "colorbar": {
              "outlinewidth": 0,
              "ticks": ""
             }
            },
            "type": "scatterternary"
           }
          ],
          "surface": [
           {
            "colorbar": {
             "outlinewidth": 0,
             "ticks": ""
            },
            "colorscale": [
             [
              0,
              "#0d0887"
             ],
             [
              0.1111111111111111,
              "#46039f"
             ],
             [
              0.2222222222222222,
              "#7201a8"
             ],
             [
              0.3333333333333333,
              "#9c179e"
             ],
             [
              0.4444444444444444,
              "#bd3786"
             ],
             [
              0.5555555555555556,
              "#d8576b"
             ],
             [
              0.6666666666666666,
              "#ed7953"
             ],
             [
              0.7777777777777778,
              "#fb9f3a"
             ],
             [
              0.8888888888888888,
              "#fdca26"
             ],
             [
              1,
              "#f0f921"
             ]
            ],
            "type": "surface"
           }
          ],
          "table": [
           {
            "cells": {
             "fill": {
              "color": "#EBF0F8"
             },
             "line": {
              "color": "white"
             }
            },
            "header": {
             "fill": {
              "color": "#C8D4E3"
             },
             "line": {
              "color": "white"
             }
            },
            "type": "table"
           }
          ]
         },
         "layout": {
          "annotationdefaults": {
           "arrowcolor": "#2a3f5f",
           "arrowhead": 0,
           "arrowwidth": 1
          },
          "autotypenumbers": "strict",
          "coloraxis": {
           "colorbar": {
            "outlinewidth": 0,
            "ticks": ""
           }
          },
          "colorscale": {
           "diverging": [
            [
             0,
             "#8e0152"
            ],
            [
             0.1,
             "#c51b7d"
            ],
            [
             0.2,
             "#de77ae"
            ],
            [
             0.3,
             "#f1b6da"
            ],
            [
             0.4,
             "#fde0ef"
            ],
            [
             0.5,
             "#f7f7f7"
            ],
            [
             0.6,
             "#e6f5d0"
            ],
            [
             0.7,
             "#b8e186"
            ],
            [
             0.8,
             "#7fbc41"
            ],
            [
             0.9,
             "#4d9221"
            ],
            [
             1,
             "#276419"
            ]
           ],
           "sequential": [
            [
             0,
             "#0d0887"
            ],
            [
             0.1111111111111111,
             "#46039f"
            ],
            [
             0.2222222222222222,
             "#7201a8"
            ],
            [
             0.3333333333333333,
             "#9c179e"
            ],
            [
             0.4444444444444444,
             "#bd3786"
            ],
            [
             0.5555555555555556,
             "#d8576b"
            ],
            [
             0.6666666666666666,
             "#ed7953"
            ],
            [
             0.7777777777777778,
             "#fb9f3a"
            ],
            [
             0.8888888888888888,
             "#fdca26"
            ],
            [
             1,
             "#f0f921"
            ]
           ],
           "sequentialminus": [
            [
             0,
             "#0d0887"
            ],
            [
             0.1111111111111111,
             "#46039f"
            ],
            [
             0.2222222222222222,
             "#7201a8"
            ],
            [
             0.3333333333333333,
             "#9c179e"
            ],
            [
             0.4444444444444444,
             "#bd3786"
            ],
            [
             0.5555555555555556,
             "#d8576b"
            ],
            [
             0.6666666666666666,
             "#ed7953"
            ],
            [
             0.7777777777777778,
             "#fb9f3a"
            ],
            [
             0.8888888888888888,
             "#fdca26"
            ],
            [
             1,
             "#f0f921"
            ]
           ]
          },
          "colorway": [
           "#636efa",
           "#EF553B",
           "#00cc96",
           "#ab63fa",
           "#FFA15A",
           "#19d3f3",
           "#FF6692",
           "#B6E880",
           "#FF97FF",
           "#FECB52"
          ],
          "font": {
           "color": "#2a3f5f"
          },
          "geo": {
           "bgcolor": "white",
           "lakecolor": "white",
           "landcolor": "white",
           "showlakes": true,
           "showland": true,
           "subunitcolor": "#C8D4E3"
          },
          "hoverlabel": {
           "align": "left"
          },
          "hovermode": "closest",
          "mapbox": {
           "style": "light"
          },
          "paper_bgcolor": "white",
          "plot_bgcolor": "white",
          "polar": {
           "angularaxis": {
            "gridcolor": "#EBF0F8",
            "linecolor": "#EBF0F8",
            "ticks": ""
           },
           "bgcolor": "white",
           "radialaxis": {
            "gridcolor": "#EBF0F8",
            "linecolor": "#EBF0F8",
            "ticks": ""
           }
          },
          "scene": {
           "xaxis": {
            "backgroundcolor": "white",
            "gridcolor": "#DFE8F3",
            "gridwidth": 2,
            "linecolor": "#EBF0F8",
            "showbackground": true,
            "ticks": "",
            "zerolinecolor": "#EBF0F8"
           },
           "yaxis": {
            "backgroundcolor": "white",
            "gridcolor": "#DFE8F3",
            "gridwidth": 2,
            "linecolor": "#EBF0F8",
            "showbackground": true,
            "ticks": "",
            "zerolinecolor": "#EBF0F8"
           },
           "zaxis": {
            "backgroundcolor": "white",
            "gridcolor": "#DFE8F3",
            "gridwidth": 2,
            "linecolor": "#EBF0F8",
            "showbackground": true,
            "ticks": "",
            "zerolinecolor": "#EBF0F8"
           }
          },
          "shapedefaults": {
           "line": {
            "color": "#2a3f5f"
           }
          },
          "ternary": {
           "aaxis": {
            "gridcolor": "#DFE8F3",
            "linecolor": "#A2B1C6",
            "ticks": ""
           },
           "baxis": {
            "gridcolor": "#DFE8F3",
            "linecolor": "#A2B1C6",
            "ticks": ""
           },
           "bgcolor": "white",
           "caxis": {
            "gridcolor": "#DFE8F3",
            "linecolor": "#A2B1C6",
            "ticks": ""
           }
          },
          "title": {
           "x": 0.05
          },
          "xaxis": {
           "automargin": true,
           "gridcolor": "#EBF0F8",
           "linecolor": "#EBF0F8",
           "ticks": "",
           "title": {
            "standoff": 15
           },
           "zerolinecolor": "#EBF0F8",
           "zerolinewidth": 2
          },
          "yaxis": {
           "automargin": true,
           "gridcolor": "#EBF0F8",
           "linecolor": "#EBF0F8",
           "ticks": "",
           "title": {
            "standoff": 15
           },
           "zerolinecolor": "#EBF0F8",
           "zerolinewidth": 2
          }
         }
        },
        "title": {
         "text": "2020년 지역별 일사량과 설비이용률 비교 분석"
        },
        "width": 1440,
        "xaxis": {
         "anchor": "y",
         "domain": [
          0,
          1
         ],
         "range": [
          406.8666666666667,
          477.6333333333333
         ],
         "title": {
          "text": "합계 일사량 (MJ/m²)"
         }
        },
        "yaxis": {
         "anchor": "x",
         "domain": [
          0,
          1
         ],
         "range": [
          10.343813318513401,
          13.620854481690447
         ],
         "title": {
          "text": "설비이용률 (%)"
         }
        }
       }
      }
     },
     "metadata": {},
     "output_type": "display_data"
    }
   ],
   "source": [
    "# 이용률 / 일사량 버블 차트 시각화\n",
    "\n",
    "df = pd.read_excel(\"dataset/최종일사량합친데이터.xlsx\")\n",
    "df_2024 = df[df[\"연도\"] == 2020].copy()\n",
    "\n",
    "# 버블 크기 (설비용량 기반, 최소값 보정)\n",
    "df_2024[\"설비용량\"] = df_2024[\"설비용량(MW)\"].apply(lambda v: max(50, float(v)))\n",
    "\n",
    "# 숫자형 변환\n",
    "x = pd.to_numeric(df_2024[\"일사량(MJ/m2)\"], errors=\"coerce\")\n",
    "y = pd.to_numeric(df_2024[\"설비이용률(%)\"], errors=\"coerce\")\n",
    "\n",
    "xmin, xmax = float(x.min()), float(x.max())\n",
    "ymin, ymax = float(y.min()), float(y.max())\n",
    "padx = (xmax - xmin) * 0.05\n",
    "pady = (ymax - ymin) * 0.05\n",
    "\n",
    "mean_x = x.mean()\n",
    "mean_y = y.mean()\n",
    "\n",
    "# color map 설정\n",
    "color_map = {\n",
    "    \"서울\": \"#E74C3C\",\n",
    "    \"부산\": \"#3498DB\",\n",
    "    \"대구\": \"#2ECC71\",\n",
    "    \"인천\": \"#F39C12\",\n",
    "    \"광주\": \"#9B59B6\",\n",
    "    \"대전\": \"#1ABC9C\",\n",
    "    \"울산\": \"#E67E22\",\n",
    "    \"경기\": \"#34495E\",\n",
    "    \"강원\": \"#F1C40F\",\n",
    "    \"경북\": \"#E91E63\",\n",
    "    \"경남\": \"#00BCD4\",\n",
    "    \"전북\": \"#FF9800\",\n",
    "    \"전남\": \"#795548\",\n",
    "    \"충북\": \"#607D8B\",\n",
    "    \"충남\": \"#4CAF50\",\n",
    "    \"제주\": \"#673AB7\"\n",
    "}\n",
    "\n",
    "# 산점도\n",
    "fig = px.scatter(\n",
    "    df_2024,\n",
    "    x=\"일사량(MJ/m2)\",\n",
    "    y=\"설비이용률(%)\",\n",
    "    size=\"설비용량\",\n",
    "    color=\"지역\",\n",
    "    hover_name=\"지역\",\n",
    "    text=\"지역\",\n",
    "    size_max=60,\n",
    "    title=\"2020년 지역별 일사량과 설비이용률 비교 분석\",\n",
    "    color_discrete_map=color_map\n",
    ")\n",
    "\n",
    "# 기본 텍스트 제거 (조건부로 다시 추가)\n",
    "fig.update_traces(text=None)\n",
    "\n",
    "# 큰/작은 버블 라벨 처리\n",
    "THRESH = 500  # 작은 버블 기준 (MW)\n",
    "\n",
    "for _, row in df_2024.iterrows():\n",
    "    if row[\"설비용량\"] >= THRESH:\n",
    "        # 큰 버블 → 중앙에 흰 글자(굵게 보이게 HTML 태그 사용)\n",
    "        fig.add_annotation(\n",
    "            x=row[\"일사량(MJ/m2)\"],\n",
    "            y=row[\"설비이용률(%)\"],\n",
    "            text=f\"<b>{row['지역']}</b>\",\n",
    "            showarrow=False,\n",
    "            font=dict(color=\"white\", size=11)\n",
    "        )\n",
    "    else:\n",
    "        # 작은 버블 → 바깥쪽 라벨 + 화살표\n",
    "        fig.add_annotation(\n",
    "            x=row[\"일사량(MJ/m2)\"],\n",
    "            y=row[\"설비이용률(%)\"],\n",
    "            text=row[\"지역\"],\n",
    "            showarrow=True, arrowhead=2,\n",
    "            ax=15, ay=-15,\n",
    "            font=dict(color=\"black\", size=11),\n",
    "            bgcolor=\"rgba(255,255,255,0.6)\"\n",
    "        )\n",
    "\n",
    "# 크기 설정\n",
    "fig.update_layout(width=1440,height=1080, font=dict(size=20))\n",
    "\n",
    "# 평균선\n",
    "fig.add_shape(type=\"line\", x0=mean_x, y0=ymin, x1=mean_x, y1=ymax,\n",
    "                line=dict(color=\"red\", dash=\"dash\", width=2))\n",
    "fig.add_shape(type=\"line\", x0=xmin, y0=mean_y, x1=xmax, y1=mean_y,\n",
    "                line=dict(color=\"red\", dash=\"dash\", width=2))\n",
    "\n",
    "# 사분면 라벨\n",
    "fig.add_annotation(x=xmax, y=ymax, text=\"성과 우수 (자원↑, 효율↑)\",\n",
    "                    showarrow=False, font=dict(color=\"green\"), xanchor=\"right\", yanchor=\"bottom\")\n",
    "fig.add_annotation(x=xmin, y=ymax, text=\"효율 우수 (자원↓, 효율↑)\",\n",
    "                    showarrow=False, font=dict(color=\"blue\"), xanchor=\"left\", yanchor=\"bottom\")\n",
    "fig.add_annotation(x=xmax, y=ymin, text=\"잠재력 有 (자원↑, 효율↓)\",\n",
    "                    showarrow=False, font=dict(color=\"orange\"), xanchor=\"right\", yanchor=\"top\")\n",
    "fig.add_annotation(x=xmin, y=ymin, text=\"저효율 (자원↓, 효율↓)\",\n",
    "                    showarrow=False, font=dict(color=\"grey\"), xanchor=\"left\", yanchor=\"top\")\n",
    "\n",
    "# 축 범위\n",
    "fig.update_xaxes(range=[xmin - padx, xmax + padx], title=\"합계 일사량 (MJ/m²)\")\n",
    "fig.update_yaxes(range=[ymin - pady, ymax + pady + 0.2], title=\"설비이용률 (%)\")\n",
    "fig.update_layout(template=\"plotly_white\")\n",
    "\n",
    "fig.show()"
   ]
  }
 ],
 "metadata": {
  "kernelspec": {
   "display_name": "data_analysis",
   "language": "python",
   "name": "python3"
  },
  "language_info": {
   "codemirror_mode": {
    "name": "ipython",
    "version": 3
   },
   "file_extension": ".py",
   "mimetype": "text/x-python",
   "name": "python",
   "nbconvert_exporter": "python",
   "pygments_lexer": "ipython3",
   "version": "3.13.5"
  }
 },
 "nbformat": 4,
 "nbformat_minor": 5
}
